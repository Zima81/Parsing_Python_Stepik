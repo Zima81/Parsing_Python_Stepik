{
 "cells": [
  {
   "metadata": {},
   "cell_type": "markdown",
   "source": [
    "Рассчитывайте общую стоимость всех товаров\n",
    "\n",
    "Цель: Необходимо написать код, который будет обрабатывать HTML-структуру с карточками товаров (в данном случае — книг). Код должен вычислять общую сумму, которую можно получить при продаже всех книг на складе."
   ],
   "id": "fa45d516de19c8fa"
  },
  {
   "metadata": {},
   "cell_type": "code",
   "outputs": [],
   "execution_count": 50,
   "source": [
    "import requests\n",
    "from bs4 import BeautifulSoup\n",
    "import re"
   ],
   "id": "initial_id"
  },
  {
   "metadata": {
    "ExecuteTime": {
     "end_time": "2024-10-15T13:02:28.573114Z",
     "start_time": "2024-10-15T13:02:28.570081Z"
    }
   },
   "cell_type": "code",
   "source": "url = 'https://parsinger.ru/4.3/5/index.html'",
   "id": "b071020600af7056",
   "outputs": [],
   "execution_count": 51
  },
  {
   "metadata": {
    "ExecuteTime": {
     "end_time": "2024-10-15T13:02:29.129587Z",
     "start_time": "2024-10-15T13:02:28.907808Z"
    }
   },
   "cell_type": "code",
   "source": [
    "r = requests.get(url)\n",
    "if r.status_code != 200:\n",
    "    print(r.status_code, '\\n\\n', r.text)"
   ],
   "id": "b380797c10a9abbb",
   "outputs": [],
   "execution_count": 52
  },
  {
   "metadata": {
    "ExecuteTime": {
     "end_time": "2024-10-15T13:02:30.151455Z",
     "start_time": "2024-10-15T13:02:30.147967Z"
    }
   },
   "cell_type": "code",
   "source": "r.encoding = 'utf-8'",
   "id": "a14f15aa2412ab65",
   "outputs": [],
   "execution_count": 53
  },
  {
   "metadata": {
    "ExecuteTime": {
     "end_time": "2024-10-15T13:09:38.383264Z",
     "start_time": "2024-10-15T13:09:38.380980Z"
    }
   },
   "cell_type": "code",
   "source": "html = r.text",
   "id": "879e8801289ed929",
   "outputs": [],
   "execution_count": 61
  },
  {
   "metadata": {
    "ExecuteTime": {
     "end_time": "2024-10-15T13:02:30.605149Z",
     "start_time": "2024-10-15T13:02:30.598847Z"
    }
   },
   "cell_type": "code",
   "source": "soup = BeautifulSoup(r.text, 'html.parser')",
   "id": "a64b8e5d669c51a2",
   "outputs": [],
   "execution_count": 54
  },
  {
   "metadata": {
    "ExecuteTime": {
     "end_time": "2024-10-15T13:02:30.937352Z",
     "start_time": "2024-10-15T13:02:30.933748Z"
    }
   },
   "cell_type": "code",
   "source": "div_tegs = soup.select('div')",
   "id": "9c4df8356204c43f",
   "outputs": [],
   "execution_count": 55
  },
  {
   "metadata": {
    "ExecuteTime": {
     "end_time": "2024-10-15T13:02:57.423985Z",
     "start_time": "2024-10-15T13:02:57.420025Z"
    }
   },
   "cell_type": "code",
   "source": [
    "total_sum = 0\n",
    "price_tegs = list()\n",
    "stock_tegs = list()\n",
    "for div_teg in div_tegs:  # проход по каждому тэгу    \n",
    "    for p_teg in div_tegs[0].find_all('p'):  # проход по каждому тэгу 'p'\n",
    "        if 'Цена: ' in p_teg.text:\n",
    "            price_tegs.append(p_teg)\n",
    "        elif 'Количество на складе: ' in p_teg.text:\n",
    "            stock_tegs.append(p_teg)\n",
    "        \n",
    "        \n",
    "        \n",
    "    price_text = div_teg.find('p', {'class': 'count price'}).get_text()\n",
    "    stock_text = div_teg.find('p', {'class': 'count stock'}).get_text()\n",
    "    \n",
    "    price = float(re.findall(r'\\d+.\\d{2}', price_text)[0])\n",
    "    stock = float(re.findall(r'\\d+', stock_text)[0])\n",
    "    \n",
    "    sum = price * stock\n",
    "    total_sum += sum"
   ],
   "id": "6c1669a6c5d8fa22",
   "outputs": [],
   "execution_count": 57
  },
  {
   "metadata": {
    "ExecuteTime": {
     "end_time": "2024-10-15T13:52:15.455728Z",
     "start_time": "2024-10-15T13:52:15.450297Z"
    }
   },
   "cell_type": "code",
   "source": "print(f'{total_sum:.2f}')",
   "id": "b96b3bb3a0b0818",
   "outputs": [
    {
     "name": "stdout",
     "output_type": "stream",
     "text": [
      "10704.00\n"
     ]
    }
   ],
   "execution_count": 90
  },
  {
   "metadata": {},
   "cell_type": "code",
   "outputs": [],
   "execution_count": null,
   "source": "",
   "id": "9ce5c7b00a6346f4"
  },
  {
   "metadata": {},
   "cell_type": "markdown",
   "source": [
    "4.5 Step 9 <br>\n",
    "    <li>Открываем сайт (http://parsinger.ru/html/index1_page_1.html)</li>\n",
    "    <li>Извлекаем при помощи bs4 данные о стоимости часов (всего 8 шт)</li>\n",
    "    <li>Складываем все полученные числа</li>\n",
    "    <li>Вставляем результат в поле ответа</li>"
   ],
   "id": "b5bfb336436c4e06"
  },
  {
   "metadata": {
    "ExecuteTime": {
     "end_time": "2024-10-15T14:35:33.465553Z",
     "start_time": "2024-10-15T14:35:33.461848Z"
    }
   },
   "cell_type": "code",
   "source": "url = 'http://parsinger.ru/html/index1_page_1.html'",
   "id": "29abdbd6f6adade2",
   "outputs": [],
   "execution_count": 95
  },
  {
   "metadata": {
    "ExecuteTime": {
     "end_time": "2024-10-15T14:36:14.142743Z",
     "start_time": "2024-10-15T14:36:13.762406Z"
    }
   },
   "cell_type": "code",
   "source": [
    "r = requests.get(url)\n",
    "if r.status_code != 200:\n",
    "    print(r.status_code, '\\n\\n', r.text)"
   ],
   "id": "15ef5c38b864bfef",
   "outputs": [],
   "execution_count": 96
  },
  {
   "metadata": {
    "ExecuteTime": {
     "end_time": "2024-10-15T14:36:21.765703Z",
     "start_time": "2024-10-15T14:36:21.761257Z"
    }
   },
   "cell_type": "code",
   "source": "r.encoding = 'utf-8'",
   "id": "a22f43cd6d798c5d",
   "outputs": [],
   "execution_count": 97
  },
  {
   "metadata": {
    "ExecuteTime": {
     "end_time": "2024-10-15T14:37:42.847761Z",
     "start_time": "2024-10-15T14:37:42.841699Z"
    }
   },
   "cell_type": "code",
   "source": "soup = BeautifulSoup(r.text, 'html.parser')",
   "id": "2cd7ee0a2316a302",
   "outputs": [],
   "execution_count": 98
  },
  {
   "metadata": {
    "ExecuteTime": {
     "end_time": "2024-10-15T14:45:09.406846Z",
     "start_time": "2024-10-15T14:45:09.402593Z"
    }
   },
   "cell_type": "code",
   "source": [
    "total = 0\n",
    "for i in soup.find_all('p', {'class': 'price'}):\n",
    "    str = i.text\n",
    "    total += int(str.split(' ')[0])"
   ],
   "id": "80c64db26e38a003",
   "outputs": [],
   "execution_count": 119
  },
  {
   "metadata": {
    "ExecuteTime": {
     "end_time": "2024-10-15T14:45:12.664515Z",
     "start_time": "2024-10-15T14:45:12.660516Z"
    }
   },
   "cell_type": "code",
   "source": "total",
   "id": "486f9f0bc0233611",
   "outputs": [
    {
     "data": {
      "text/plain": [
       "163780"
      ]
     },
     "execution_count": 120,
     "metadata": {},
     "output_type": "execute_result"
    }
   ],
   "execution_count": 120
  },
  {
   "metadata": {},
   "cell_type": "code",
   "outputs": [],
   "execution_count": null,
   "source": "",
   "id": "48777ca672c8941d"
  }
 ],
 "metadata": {
  "kernelspec": {
   "display_name": "Python 3",
   "language": "python",
   "name": "python3"
  },
  "language_info": {
   "codemirror_mode": {
    "name": "ipython",
    "version": 2
   },
   "file_extension": ".py",
   "mimetype": "text/x-python",
   "name": "python",
   "nbconvert_exporter": "python",
   "pygments_lexer": "ipython2",
   "version": "2.7.6"
  }
 },
 "nbformat": 4,
 "nbformat_minor": 5
}
