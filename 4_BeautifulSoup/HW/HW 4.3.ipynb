{
 "cells": [
  {
   "metadata": {},
   "cell_type": "markdown",
   "source": "#### HW 1 (3) Получите HTML разметку из файла index.html ",
   "id": "2b36186e526c92a2"
  },
  {
   "metadata": {},
   "cell_type": "code",
   "outputs": [],
   "execution_count": 12,
   "source": [
    "from bs4 import BeautifulSoup\n",
    "import sys"
   ],
   "id": "initial_id"
  },
  {
   "metadata": {
    "ExecuteTime": {
     "end_time": "2024-09-27T13:00:15.828391Z",
     "start_time": "2024-09-27T13:00:15.822068Z"
    }
   },
   "cell_type": "code",
   "source": [
    "file = 'index.html'\n",
    "with open(file, encoding='utf-8') as f:\n",
    "    soup = BeautifulSoup(f, 'lxml')"
   ],
   "id": "985685a75fd970f9",
   "outputs": [],
   "execution_count": 14
  },
  {
   "metadata": {
    "ExecuteTime": {
     "end_time": "2024-09-27T13:00:42.954005Z",
     "start_time": "2024-09-27T13:00:42.942509Z"
    }
   },
   "cell_type": "code",
   "source": "soup",
   "id": "f45d8cae1a44a04d",
   "outputs": [
    {
     "data": {
      "text/plain": [
       "<!DOCTYPE html>\n",
       "<html lang=\"en\">\n",
       "<head>\n",
       "<link href=\"../style/style.css\" rel=\"stylesheet\"/>\n",
       "<meta charset=\"utf-8\"/>\n",
       "<meta content=\"width=device-width, initial-scale=1.0\" name=\"viewport\"/>\n",
       "<title>Учимся парсить</title>\n",
       "</head>\n",
       "<body>\n",
       "<div class=\"headers\">\n",
       "<div class=\"p_headers\">vazon</div>\n",
       "</div>\n",
       "<div class=\"pagen\">\n",
       "<a href=\"index1_page_1.html\">1</a>\n",
       "<a href=\"index1_page_2.html\">2</a>\n",
       "<a href=\"index1_page_3.html\">3</a>\n",
       "<a href=\"index1_page_4.html\">4</a>\n",
       "</div>\n",
       "<div class=\"main\">\n",
       "<div class=\"nav_menu\">\n",
       "<a href=\"index1_page_1.html\"><div id=\"watch\">ЧАСЫ</div></a>\n",
       "<a href=\"index2_page_1.html\"><div id=\"mobile\">ТЕЛЕФОНЫ</div></a>\n",
       "<a href=\"index3_page_1.html\"><div id=\"mouse\">МЫШИ</div></a>\n",
       "<a href=\"index4_page_1.html\"><div id=\"hdd\">HDD</div></a>\n",
       "<a href=\"index5_page_1.html\"><div id=\"headphones\">НАУШНИКИ</div></a>\n",
       "</div>\n",
       "<div class=\"item_card\">\n",
       "<div class=\"item\">\n",
       "<div class=\"img_box\">\n",
       "<a href=\"watch/1/1_1.html\" name=\"1_1\"><img alt=\"\" src=\"http://parsinger.ru/img/1/1.jpg\"/></a>\n",
       "<a class=\"name_item\" href=\"watch/1/1_1.html\" name=\"1_1\">Jet Kid Start blue Умные детские часы</a>\n",
       "<div class=\"description\">\n",
       "<li>Бренд: Jet</li>\n",
       "<li>Тип: умные часы</li>\n",
       "<li>Материал корпуса: пластик</li>\n",
       "<li>Технология экрана: Монохромный</li>\n",
       "</div>\n",
       "<div class=\"container\">\n",
       "<div class=\"price_box\"><p class=\"price\">2310 руб</p></div>\n",
       "<div class=\"sale_button\"><a href=\"watch/1/1_1.html\"><p>Подробнее</p></a></div>\n",
       "</div>\n",
       "</div></div>\n",
       "<div class=\"item\">\n",
       "<div class=\"img_box\">\n",
       "<a href=\"watch/1/1_2.html\" name=\"1_2\"><img alt=\"\" src=\"http://parsinger.ru/img/1/2.jpg\"/></a>\n",
       "<a class=\"name_item\" href=\"watch/1/1_2.html\" name=\"1_2\">BAND 6 FOREST GREEN FARA-B19 HUAWEI</a>\n",
       "<div class=\"description\">\n",
       "<li>Бренд: Huawei</li>\n",
       "<li>Тип: фитнес браслет</li>\n",
       "<li>Материал корпуса: полимер</li>\n",
       "<li>Технология экрана: AMOLED</li>\n",
       "</div>\n",
       "<div class=\"container\">\n",
       "<div class=\"price_box\"><p class=\"price\">5480 руб</p></div>\n",
       "<div class=\"sale_button\"><a href=\"watch/1/1_2.html\"><p>Подробнее</p></a></div>\n",
       "</div>\n",
       "</div></div>\n",
       "<div class=\"item\">\n",
       "<div class=\"img_box\">\n",
       "<a href=\"watch/1/1_3.html\" name=\"1_3\"><img alt=\"\" src=\"http://parsinger.ru/img/1/3.jpg\"/></a>\n",
       "<a class=\"name_item\" href=\"watch/1/1_3.html\" name=\"1_3\">Умные часы GT 3 MIL-B19S BLACK HUAWEI</a>\n",
       "<div class=\"description\">\n",
       "<li>Бренд: Huawei</li>\n",
       "<li>Тип: умные часы</li>\n",
       "<li>Материал корпуса: пластик</li>\n",
       "<li>Технология экрана: Монохромный</li>\n",
       "</div>\n",
       "<div class=\"container\">\n",
       "<div class=\"price_box\"><p class=\"price\">21810 руб</p></div>\n",
       "<div class=\"sale_button\"><a href=\"watch/1/1_3.html\"><p>Подробнее</p></a></div>\n",
       "</div>\n",
       "</div></div>\n",
       "<div class=\"item\">\n",
       "<div class=\"img_box\">\n",
       "<a href=\"watch/1/1_4.html\" name=\"1_4\"><img alt=\"\" src=\"http://parsinger.ru/img/1/4.jpg\"/></a>\n",
       "<a class=\"name_item\" href=\"watch/1/1_4.html\" name=\"1_4\">Умные часы GT 3 MIL-B19V BROWN HUAWEI</a>\n",
       "<div class=\"description\">\n",
       "<li>Бренд: Huawei</li>\n",
       "<li>Тип: умные часы</li>\n",
       "<li>Материал корпуса: нержавеющая сталь</li>\n",
       "<li>Технология экрана: AMOLED</li>\n",
       "</div>\n",
       "<div class=\"container\">\n",
       "<div class=\"price_box\"><p class=\"price\">21810 руб</p></div>\n",
       "<div class=\"sale_button\"><a href=\"watch/1/1_4.html\"><p>Подробнее</p></a></div>\n",
       "</div>\n",
       "</div></div>\n",
       "<div class=\"item\">\n",
       "<div class=\"img_box\">\n",
       "<a href=\"watch/1/1_5.html\" name=\"1_5\"><img alt=\"\" src=\"http://parsinger.ru/img/1/5.jpg\"/></a>\n",
       "<a class=\"name_item\" href=\"watch/1/1_5.html\" name=\"1_5\">GT RUNNER-B19S BLACK HUAWEI</a>\n",
       "<div class=\"description\">\n",
       "<li>Бренд: Huawei</li>\n",
       "<li>Тип: умные часы</li>\n",
       "<li>Материал корпуса: пластик</li>\n",
       "<li>Технология экрана: AMOLED</li>\n",
       "</div>\n",
       "<div class=\"container\">\n",
       "<div class=\"price_box\"><p class=\"price\">27770 руб</p></div>\n",
       "<div class=\"sale_button\"><a href=\"watch/1/1_5.html\"><p>Подробнее</p></a></div>\n",
       "</div>\n",
       "</div></div>\n",
       "<div class=\"item\">\n",
       "<div class=\"img_box\">\n",
       "<a href=\"watch/1/1_6.html\" name=\"1_6\"><img alt=\"\" src=\"http://parsinger.ru/img/1/6.jpg\"/></a>\n",
       "<a class=\"name_item\" href=\"watch/1/1_6.html\" name=\"1_6\">GT RUNNER-B19A GREY HUAWEI</a>\n",
       "<div class=\"description\">\n",
       "<li>Бренд: Huawei</li>\n",
       "<li>Тип: умные часы</li>\n",
       "<li>Материал корпуса: пластик</li>\n",
       "<li>Технология экрана: AMOLED</li>\n",
       "</div>\n",
       "<div class=\"container\">\n",
       "<div class=\"price_box\"><p class=\"price\">27770 руб</p></div>\n",
       "<div class=\"sale_button\"><a href=\"watch/1/1_6.html\"><p>Подробнее</p></a></div>\n",
       "</div>\n",
       "</div></div>\n",
       "<div class=\"item\">\n",
       "<div class=\"img_box\">\n",
       "<a href=\"watch/1/1_7.html\" name=\"1_7\"><img alt=\"\" src=\"http://parsinger.ru/img/1/7.jpg\"/></a>\n",
       "<a class=\"name_item\" href=\"watch/1/1_7.html\" name=\"1_7\">Умные часы GT 3 MIL-B19 GOLD HUAWEI</a>\n",
       "<div class=\"description\">\n",
       "<li>Бренд: Huawei</li>\n",
       "<li>Тип: умные часы</li>\n",
       "<li>Материал корпуса: нержавеющая сталь, пластик</li>\n",
       "<li>Технология экрана: AMOLED</li>\n",
       "</div>\n",
       "<div class=\"container\">\n",
       "<div class=\"price_box\"><p class=\"price\">24230 руб</p></div>\n",
       "<div class=\"sale_button\"><a href=\"watch/1/1_7.html\"><p>Подробнее</p></a></div>\n",
       "</div>\n",
       "</div></div>\n",
       "<div class=\"item\">\n",
       "<div class=\"img_box\">\n",
       "<a href=\"watch/1/1_8.html\" name=\"1_8\"><img alt=\"\" src=\"http://parsinger.ru/img/1/8.jpg\"/></a>\n",
       "<a class=\"name_item\" href=\"watch/1/1_8.html\" name=\"1_8\">Умные часы WATCH 3 GALILEO-L11 STEEL</a>\n",
       "<div class=\"description\">\n",
       "<li>Бренд:  Huawei</li>\n",
       "<li>Тип: умные часы</li>\n",
       "<li>Материал корпуса: металл, керамика</li>\n",
       "<li>Технология экрана:  AMOLED</li>\n",
       "</div>\n",
       "<div class=\"container\">\n",
       "<div class=\"price_box\"><p class=\"price\">32600 руб</p></div>\n",
       "<div class=\"sale_button\"><a href=\"watch/1/1_8.html\"><p>Подробнее</p></a></div>\n",
       "</div>\n",
       "</div></div>\n",
       "</div>\n",
       "</div>\n",
       "<div class=\"pagen\">\n",
       "<a href=\"index1_page_1.html\">1</a>\n",
       "<a href=\"index1_page_2.html\">2</a>\n",
       "<a href=\"index1_page_3.html\">3</a>\n",
       "<a href=\"index1_page_4.html\">4</a>\n",
       "</div>\n",
       "<div class=\"bottom\"></div>\n",
       "</body>\n",
       "</html>"
      ]
     },
     "execution_count": 16,
     "metadata": {},
     "output_type": "execute_result"
    }
   ],
   "execution_count": 16
  },
  {
   "metadata": {},
   "cell_type": "markdown",
   "source": "#### HW 2 (4) Извлеките текст из тега",
   "id": "34f471f17802270e"
  },
  {
   "metadata": {
    "ExecuteTime": {
     "end_time": "2024-09-27T13:10:00.267763Z",
     "start_time": "2024-09-27T13:10:00.263966Z"
    }
   },
   "cell_type": "code",
   "source": [
    "html_doc = \"\"\"\n",
    "<!DOCTYPE html>\n",
    "<html lang=\"ru\">\n",
    "<head>\n",
    "    <meta charset=\"UTF-8\">\n",
    "    <title>Пример карточки товара</title>\n",
    "</head>\n",
    "<body>\n",
    "    <div class=\"card\">\n",
    "        <img src=\"image.jpg\" alt=\"Пример изображения товара\">\n",
    "        <h2 class=\"card-title\"> iPhone 15 </h2>\n",
    "        <p class=\"card-description\">Аппаратной основой Apple iPhone 15 Pro Max стал 3-нанометровый чипсет A17 Pro с 6-ядерным GPU и поддержкой трассировки лучей.</p>\n",
    "        <p class=\"card-price\">999 999 руб.</p>\n",
    "        <a href=\"https://example.com/product-link\" class=\"card-link\">Подробнее</a>\n",
    "    </div>\n",
    "</body>\n",
    "</html>\n",
    "\"\"\""
   ],
   "id": "47ce3d15843d6f8",
   "outputs": [],
   "execution_count": 17
  },
  {
   "metadata": {
    "ExecuteTime": {
     "end_time": "2024-09-27T13:12:05.045960Z",
     "start_time": "2024-09-27T13:12:05.042341Z"
    }
   },
   "cell_type": "code",
   "source": "soup = BeautifulSoup(html_doc, 'lxml')",
   "id": "d3438ff2bf6e39df",
   "outputs": [],
   "execution_count": 18
  },
  {
   "metadata": {
    "ExecuteTime": {
     "end_time": "2024-09-27T13:12:36.836159Z",
     "start_time": "2024-09-27T13:12:36.832520Z"
    }
   },
   "cell_type": "code",
   "source": "tag = soup.p",
   "id": "396857d60bbbca3a",
   "outputs": [],
   "execution_count": 20
  },
  {
   "metadata": {
    "ExecuteTime": {
     "end_time": "2024-09-27T13:12:38.911935Z",
     "start_time": "2024-09-27T13:12:38.907879Z"
    }
   },
   "cell_type": "code",
   "source": "tag",
   "id": "8577a1015bfe6032",
   "outputs": [
    {
     "data": {
      "text/plain": [
       "<p class=\"card-description\">Аппаратной основой Apple iPhone 15 Pro Max стал 3-нанометровый чипсет A17 Pro с 6-ядерным GPU и поддержкой трассировки лучей.</p>"
      ]
     },
     "execution_count": 21,
     "metadata": {},
     "output_type": "execute_result"
    }
   ],
   "execution_count": 21
  },
  {
   "metadata": {
    "ExecuteTime": {
     "end_time": "2024-09-27T13:14:59.615984Z",
     "start_time": "2024-09-27T13:14:59.612975Z"
    }
   },
   "cell_type": "code",
   "source": [
    "print(type(tag))   \n",
    "print(tag.name)    \n",
    "print(tag.attrs)   \n",
    "print(tag.string)"
   ],
   "id": "4f94a4a417182c44",
   "outputs": [
    {
     "name": "stdout",
     "output_type": "stream",
     "text": [
      "<class 'bs4.element.Tag'>\n",
      "p\n",
      "{'class': ['card-description']}\n",
      "Аппаратной основой Apple iPhone 15 Pro Max стал 3-нанометровый чипсет A17 Pro с 6-ядерным GPU и поддержкой трассировки лучей.\n"
     ]
    }
   ],
   "execution_count": 22
  },
  {
   "metadata": {
    "ExecuteTime": {
     "end_time": "2024-09-27T13:20:17.558094Z",
     "start_time": "2024-09-27T13:20:17.553427Z"
    }
   },
   "cell_type": "code",
   "source": [
    "tag2 = soup.find('p', {'class': ['card-description']})\n",
    "tag2.text"
   ],
   "id": "7ed266eeac0d5684",
   "outputs": [
    {
     "data": {
      "text/plain": [
       "'Аппаратной основой Apple iPhone 15 Pro Max стал 3-нанометровый чипсет A17 Pro с 6-ядерным GPU и поддержкой трассировки лучей.'"
      ]
     },
     "execution_count": 24,
     "metadata": {},
     "output_type": "execute_result"
    }
   ],
   "execution_count": 24
  },
  {
   "metadata": {
    "ExecuteTime": {
     "end_time": "2024-09-27T13:24:02.913583Z",
     "start_time": "2024-09-27T13:24:02.908581Z"
    }
   },
   "cell_type": "code",
   "source": [
    "def main ():\n",
    "    soup = BeautifulSoup(html_doc, 'lxml')\n",
    "    p_description = soup.find('p', {'class': ['card-description']})\n",
    "    print(p_description.text)\n",
    "\n",
    "main()"
   ],
   "id": "a81cd16df3c3b236",
   "outputs": [
    {
     "name": "stdout",
     "output_type": "stream",
     "text": [
      "Аппаратной основой Apple iPhone 15 Pro Max стал 3-нанометровый чипсет A17 Pro с 6-ядерным GPU и поддержкой трассировки лучей.\n"
     ]
    }
   ],
   "execution_count": 25
  },
  {
   "metadata": {},
   "cell_type": "markdown",
   "source": "#### HW 3 (step 5) Суммируйте значение всех артикулов",
   "id": "2806d0fe5f54cba6"
  },
  {
   "metadata": {
    "ExecuteTime": {
     "end_time": "2024-09-27T14:01:22.803055Z",
     "start_time": "2024-09-27T14:01:22.799499Z"
    }
   },
   "cell_type": "code",
   "source": [
    "html_doc = \"\"\"\n",
    "<!DOCTYPE html>\n",
    "<html lang=\"ru\">\n",
    "<head>\n",
    "    <meta charset=\"UTF-8\">\n",
    "</head>\n",
    "<body>\n",
    "    <div class=\"cards\">\n",
    "        <!-- Карточка товара 1 -->\n",
    "        <div class=\"card\">\n",
    "            <img src=\"parsing.png\" alt=\"WEB Парсинг на Python\">\n",
    "            <h2 class=\"card-title\">WEB Парсинг на Python</h2>\n",
    "            <p class=\"card-articul\">Артикул: 104774</p>\n",
    "            <p class=\"card-stock\">Наличие: 5 шт.</p>\n",
    "            <p class=\"card-price\">3500 руб.</p>\n",
    "            <a href=\"https://stepik.org/a/104774\" class=\"card-button\">Купить</a>\n",
    "        </div>\n",
    "        <!-- Карточка товара 2 -->\n",
    "        <div class=\"card\">\n",
    "            <img src=\"async.png\" alt=\"Асинхронный Python\">\n",
    "            <h2 class=\"card-title\">Асинхронный Python</h2>\n",
    "            <p class=\"card-articul\">Артикул: 170777</p>\n",
    "            <p class=\"card-stock\">Наличие: 10 шт.</p>\n",
    "            <p class=\"card-price\">3500 руб.</p>\n",
    "            <a href=\"https://stepik.org/a/170777\" class=\"card-button\">Купить</a>\n",
    "        </div>\n",
    "        <!-- Карточка товара 3 -->\n",
    "        <div class=\"card\">\n",
    "            <img src=\"selenium.PNG\" alt=\"Selenium Python\">\n",
    "            <h2 class=\"card-title\">Selenium Python</h2>\n",
    "            <p class=\"card-articul\">Артикул: 119495</p>\n",
    "            <p class=\"card-stock\">Наличие: 5 шт.</p>\n",
    "            <p class=\"card-price\">1250 руб.</p>\n",
    "            <a href=\"https://stepik.org/a/119495\" class=\"card-button\">Купить</a>\n",
    "        </div>\n",
    "    </div>\n",
    "</body>\n",
    "</html>\n",
    "\"\"\""
   ],
   "id": "abf703e984914d6",
   "outputs": [],
   "execution_count": 62
  },
  {
   "metadata": {
    "ExecuteTime": {
     "end_time": "2024-09-27T14:01:23.197937Z",
     "start_time": "2024-09-27T14:01:23.194858Z"
    }
   },
   "cell_type": "code",
   "source": "soup = BeautifulSoup(html_doc, 'html.parser')",
   "id": "b44516ee75fd16d1",
   "outputs": [],
   "execution_count": 63
  },
  {
   "metadata": {
    "ExecuteTime": {
     "end_time": "2024-09-27T14:01:23.543850Z",
     "start_time": "2024-09-27T14:01:23.539994Z"
    }
   },
   "cell_type": "code",
   "source": [
    "articuls = soup.findAll('p', {'class': 'card-articul'})\n",
    "articuls"
   ],
   "id": "c802de71c9dbeb22",
   "outputs": [
    {
     "data": {
      "text/plain": [
       "[<p class=\"card-articul\">Артикул: 104774</p>,\n",
       " <p class=\"card-articul\">Артикул: 170777</p>,\n",
       " <p class=\"card-articul\">Артикул: 119495</p>]"
      ]
     },
     "execution_count": 64,
     "metadata": {},
     "output_type": "execute_result"
    }
   ],
   "execution_count": 64
  },
  {
   "metadata": {
    "ExecuteTime": {
     "end_time": "2024-09-27T14:03:25.713774Z",
     "start_time": "2024-09-27T14:03:25.708906Z"
    }
   },
   "cell_type": "code",
   "source": [
    "full = []\n",
    "for i in articuls:\n",
    "    full.append(int(articuls[0].text.split(' ')[1]))"
   ],
   "id": "4744ab3a32601f33",
   "outputs": [
    {
     "data": {
      "text/plain": [
       "[104774, 104774, 104774]"
      ]
     },
     "execution_count": 77,
     "metadata": {},
     "output_type": "execute_result"
    }
   ],
   "execution_count": 77
  },
  {
   "metadata": {
    "ExecuteTime": {
     "end_time": "2024-09-27T14:08:28.093611Z",
     "start_time": "2024-09-27T14:08:28.088918Z"
    }
   },
   "cell_type": "code",
   "source": "sum([int(x.text.split(' ')[1]) for x in articuls])",
   "id": "803092fcb6d202c1",
   "outputs": [
    {
     "data": {
      "text/plain": [
       "395046"
      ]
     },
     "execution_count": 90,
     "metadata": {},
     "output_type": "execute_result"
    }
   ],
   "execution_count": 90
  },
  {
   "metadata": {},
   "cell_type": "markdown",
   "source": "#### HW 4 (step 6) Суммируйте значения alt всех img на странице",
   "id": "fa47b70ff5e7ebe9"
  },
  {
   "metadata": {
    "ExecuteTime": {
     "end_time": "2024-09-27T14:22:09.740681Z",
     "start_time": "2024-09-27T14:22:09.736743Z"
    }
   },
   "cell_type": "code",
   "source": [
    "html_doc = \"\"\"\n",
    "<!DOCTYPE html>\n",
    "<html lang=\"ru\">\n",
    "<head>\n",
    "    <meta charset=\"UTF-8\">\n",
    "</head>\n",
    "<body>\n",
    "\n",
    "<div class=\"card\">\n",
    "    <h2>Товар 1</h2>\n",
    "    <img src=\"parsing.png\" alt=\"779966\">\n",
    "    <p>Цена: 1000 руб.</p>\n",
    "    <p>Описание: Отличный товар, изготовлен из качественных материалов.</p>\n",
    "    <p>Технические характеристики: Размеры: 10x10x10 см, Вес: 1 кг.</p>\n",
    "    <p>Доступные размеры: S, M, L</p>\n",
    "    <p>Отзывы: 5 звезд</p>\n",
    "    <p>Наличие на складе: В наличии</p>\n",
    "    <p>Информация о доставке: Бесплатно при заказе от 3000 руб.</p>\n",
    "    <a href=\"https://stepik.org/a/104774\" class=\"btn\">Купить</a>\n",
    "</div>\n",
    "\n",
    "<div class=\"card\">\n",
    "    <h2>Товар 2</h2>\n",
    "    <img src=\"async.png\" alt=\"331155\">\n",
    "    <p>Цена: 1500 руб.</p>\n",
    "    <p>Описание: Превосходный товар, подходит для повседневного использования.</p>\n",
    "    <p>Технические характеристики: Размеры: 15x15x15 см, Вес: 1.5 кг.</p>\n",
    "    <p>Доступные размеры: M, L, XL</p>\n",
    "    <p>Отзывы: 4.5 звезд</p>\n",
    "    <p>Наличие на складе: В наличии</p>\n",
    "    <p>Информация о доставке: Бесплатно при заказе от 5000 руб.</p>\n",
    "    <a href=\"https://stepik.org/a/170777\" class=\"btn\">Купить</a>\n",
    "</div>\n",
    "\n",
    "<div class=\"card\">\n",
    "    <h2>Товар 3</h2>\n",
    "    <img src=\"parsing.png\" alt=\"558877\">\n",
    "    <p>Цена: 2000 руб.</p>\n",
    "    <p>Описание: Удобный товар для дома и офиса.</p>\n",
    "    <p>Технические характеристики: Размеры: 12x12x12 см, Вес: 1.2 кг.</p>\n",
    "    <p>Доступные размеры: S, M</p>\n",
    "    <p>Отзывы: 4.7 звезд</p>\n",
    "    <p>Наличие на складе: В наличии</p>\n",
    "    <p>Информация о доставке: Бесплатно при заказе от 3500 руб.</p>\n",
    "    <a href=\"https://stepik.org/a/104774\" class=\"btn\">Купить</a>\n",
    "</div>\n",
    "\n",
    "<div class=\"card\">\n",
    "    <h2>Товар 4</h2>\n",
    "    <img src=\"async.png\" alt=\"449933\">\n",
    "    <p>Цена: 2500 руб.</p>\n",
    "    <p>Описание: Стильный и практичный товар.</p>\n",
    "    <p>Технические характеристики: Размеры: 14x14x14 см, Вес: 1.4 кг.</p>\n",
    "    <p>Доступные размеры: L, XL</p>\n",
    "    <p>Отзывы: 4.8 звезд</p>\n",
    "    <p>Наличие на складе: В наличии</p>\n",
    "    <p>Информация о доставке: Бесплатно при заказе от 4000 руб.</p>\n",
    "    <a href=\"https://stepik.org/a/170777\" class=\"btn\">Купить</a>\n",
    "</div>\n",
    "\n",
    "<div class=\"card\">\n",
    "    <h2>Товар 5</h2>\n",
    "    <img src=\"parsing.png\" alt=\"667711\">\n",
    "    <p>Цена: 2700 руб.</p>\n",
    "    <p>Описание: Идеальный товар для повседневного использования.</p>\n",
    "    <p>Технические характеристики: Размеры: 13x13x13 см, Вес: 1.3 кг.</p>\n",
    "    <p>Доступные размеры: M, L, XL</p>\n",
    "    <p>Отзывы: 4.9 звезд</p>\n",
    "    <p>Наличие на складе: В наличии</p>\n",
    "    <p>Информация о доставке: Бесплатно при заказе от 4500 руб.</p>\n",
    "    <a href=\"https://stepik.org/a/104774\" class=\"btn\">Купить</a>\n",
    "</div>\n",
    "\n",
    "<div class=\"card\">\n",
    "    <h2>Товар 6</h2>\n",
    "    <img src=\"async.png\" alt=\"334455\">\n",
    "    <p>Цена: 3000 руб.</p>\n",
    "    <p>Описание: Прочный и надежный товар.</p>\n",
    "    <p>Технические характеристики: Размеры: 16x16x16 см, Вес: 1.6 кг.</p>\n",
    "    <p>Доступные размеры: S, M</p>\n",
    "    <p>Отзывы: 5 звезд</p>\n",
    "    <p>Наличие на складе: В наличии</p>\n",
    "    <p>Информация о доставке: Бесплатно при заказе от 5000 руб.</p>\n",
    "    <a href=\"https://stepik.org/a/170777\" class=\"btn\">Купить</a>\n",
    "</div>\n",
    "\n",
    "\n",
    "</body>\n",
    "</html>\n",
    "\"\"\""
   ],
   "id": "d1521dc85eacbf79",
   "outputs": [],
   "execution_count": 91
  },
  {
   "metadata": {},
   "cell_type": "code",
   "outputs": [],
   "execution_count": null,
   "source": "",
   "id": "7709761344b02e51"
  }
 ],
 "metadata": {
  "kernelspec": {
   "display_name": "Python 3",
   "language": "python",
   "name": "python3"
  },
  "language_info": {
   "codemirror_mode": {
    "name": "ipython",
    "version": 2
   },
   "file_extension": ".py",
   "mimetype": "text/x-python",
   "name": "python",
   "nbconvert_exporter": "python",
   "pygments_lexer": "ipython2",
   "version": "2.7.6"
  }
 },
 "nbformat": 4,
 "nbformat_minor": 5
}
