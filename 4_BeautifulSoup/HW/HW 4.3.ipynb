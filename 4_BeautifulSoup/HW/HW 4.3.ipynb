{
 "cells": [
  {
   "metadata": {},
   "cell_type": "markdown",
   "source": "#### HW 1 (3) Получите HTML разметку из файла index.html ",
   "id": "2b36186e526c92a2"
  },
  {
   "metadata": {
    "ExecuteTime": {
     "end_time": "2024-09-29T16:30:20.656470Z",
     "start_time": "2024-09-29T16:30:20.513156Z"
    }
   },
   "cell_type": "code",
   "source": [
    "import sys\n",
    "import requests\n",
    "from bs4 import BeautifulSoup"
   ],
   "id": "initial_id",
   "outputs": [],
   "execution_count": 1
  },
  {
   "metadata": {
    "ExecuteTime": {
     "end_time": "2024-09-27T13:00:15.828391Z",
     "start_time": "2024-09-27T13:00:15.822068Z"
    }
   },
   "cell_type": "code",
   "source": [
    "file = 'index.html'\n",
    "with open(file, encoding='utf-8') as f:\n",
    "    soup = BeautifulSoup(f, 'lxml')"
   ],
   "id": "985685a75fd970f9",
   "outputs": [],
   "execution_count": 14
  },
  {
   "metadata": {
    "ExecuteTime": {
     "end_time": "2024-09-27T13:00:42.954005Z",
     "start_time": "2024-09-27T13:00:42.942509Z"
    }
   },
   "cell_type": "code",
   "source": "soup",
   "id": "f45d8cae1a44a04d",
   "outputs": [
    {
     "data": {
      "text/plain": [
       "<!DOCTYPE html>\n",
       "<html lang=\"en\">\n",
       "<head>\n",
       "<link href=\"../style/style.css\" rel=\"stylesheet\"/>\n",
       "<meta charset=\"utf-8\"/>\n",
       "<meta content=\"width=device-width, initial-scale=1.0\" name=\"viewport\"/>\n",
       "<title>Учимся парсить</title>\n",
       "</head>\n",
       "<body>\n",
       "<div class=\"headers\">\n",
       "<div class=\"p_headers\">vazon</div>\n",
       "</div>\n",
       "<div class=\"pagen\">\n",
       "<a href=\"index1_page_1.html\">1</a>\n",
       "<a href=\"index1_page_2.html\">2</a>\n",
       "<a href=\"index1_page_3.html\">3</a>\n",
       "<a href=\"index1_page_4.html\">4</a>\n",
       "</div>\n",
       "<div class=\"main\">\n",
       "<div class=\"nav_menu\">\n",
       "<a href=\"index1_page_1.html\"><div id=\"watch\">ЧАСЫ</div></a>\n",
       "<a href=\"index2_page_1.html\"><div id=\"mobile\">ТЕЛЕФОНЫ</div></a>\n",
       "<a href=\"index3_page_1.html\"><div id=\"mouse\">МЫШИ</div></a>\n",
       "<a href=\"index4_page_1.html\"><div id=\"hdd\">HDD</div></a>\n",
       "<a href=\"index5_page_1.html\"><div id=\"headphones\">НАУШНИКИ</div></a>\n",
       "</div>\n",
       "<div class=\"item_card\">\n",
       "<div class=\"item\">\n",
       "<div class=\"img_box\">\n",
       "<a href=\"watch/1/1_1.html\" name=\"1_1\"><img alt=\"\" src=\"http://parsinger.ru/img/1/1.jpg\"/></a>\n",
       "<a class=\"name_item\" href=\"watch/1/1_1.html\" name=\"1_1\">Jet Kid Start blue Умные детские часы</a>\n",
       "<div class=\"description\">\n",
       "<li>Бренд: Jet</li>\n",
       "<li>Тип: умные часы</li>\n",
       "<li>Материал корпуса: пластик</li>\n",
       "<li>Технология экрана: Монохромный</li>\n",
       "</div>\n",
       "<div class=\"container\">\n",
       "<div class=\"price_box\"><p class=\"price\">2310 руб</p></div>\n",
       "<div class=\"sale_button\"><a href=\"watch/1/1_1.html\"><p>Подробнее</p></a></div>\n",
       "</div>\n",
       "</div></div>\n",
       "<div class=\"item\">\n",
       "<div class=\"img_box\">\n",
       "<a href=\"watch/1/1_2.html\" name=\"1_2\"><img alt=\"\" src=\"http://parsinger.ru/img/1/2.jpg\"/></a>\n",
       "<a class=\"name_item\" href=\"watch/1/1_2.html\" name=\"1_2\">BAND 6 FOREST GREEN FARA-B19 HUAWEI</a>\n",
       "<div class=\"description\">\n",
       "<li>Бренд: Huawei</li>\n",
       "<li>Тип: фитнес браслет</li>\n",
       "<li>Материал корпуса: полимер</li>\n",
       "<li>Технология экрана: AMOLED</li>\n",
       "</div>\n",
       "<div class=\"container\">\n",
       "<div class=\"price_box\"><p class=\"price\">5480 руб</p></div>\n",
       "<div class=\"sale_button\"><a href=\"watch/1/1_2.html\"><p>Подробнее</p></a></div>\n",
       "</div>\n",
       "</div></div>\n",
       "<div class=\"item\">\n",
       "<div class=\"img_box\">\n",
       "<a href=\"watch/1/1_3.html\" name=\"1_3\"><img alt=\"\" src=\"http://parsinger.ru/img/1/3.jpg\"/></a>\n",
       "<a class=\"name_item\" href=\"watch/1/1_3.html\" name=\"1_3\">Умные часы GT 3 MIL-B19S BLACK HUAWEI</a>\n",
       "<div class=\"description\">\n",
       "<li>Бренд: Huawei</li>\n",
       "<li>Тип: умные часы</li>\n",
       "<li>Материал корпуса: пластик</li>\n",
       "<li>Технология экрана: Монохромный</li>\n",
       "</div>\n",
       "<div class=\"container\">\n",
       "<div class=\"price_box\"><p class=\"price\">21810 руб</p></div>\n",
       "<div class=\"sale_button\"><a href=\"watch/1/1_3.html\"><p>Подробнее</p></a></div>\n",
       "</div>\n",
       "</div></div>\n",
       "<div class=\"item\">\n",
       "<div class=\"img_box\">\n",
       "<a href=\"watch/1/1_4.html\" name=\"1_4\"><img alt=\"\" src=\"http://parsinger.ru/img/1/4.jpg\"/></a>\n",
       "<a class=\"name_item\" href=\"watch/1/1_4.html\" name=\"1_4\">Умные часы GT 3 MIL-B19V BROWN HUAWEI</a>\n",
       "<div class=\"description\">\n",
       "<li>Бренд: Huawei</li>\n",
       "<li>Тип: умные часы</li>\n",
       "<li>Материал корпуса: нержавеющая сталь</li>\n",
       "<li>Технология экрана: AMOLED</li>\n",
       "</div>\n",
       "<div class=\"container\">\n",
       "<div class=\"price_box\"><p class=\"price\">21810 руб</p></div>\n",
       "<div class=\"sale_button\"><a href=\"watch/1/1_4.html\"><p>Подробнее</p></a></div>\n",
       "</div>\n",
       "</div></div>\n",
       "<div class=\"item\">\n",
       "<div class=\"img_box\">\n",
       "<a href=\"watch/1/1_5.html\" name=\"1_5\"><img alt=\"\" src=\"http://parsinger.ru/img/1/5.jpg\"/></a>\n",
       "<a class=\"name_item\" href=\"watch/1/1_5.html\" name=\"1_5\">GT RUNNER-B19S BLACK HUAWEI</a>\n",
       "<div class=\"description\">\n",
       "<li>Бренд: Huawei</li>\n",
       "<li>Тип: умные часы</li>\n",
       "<li>Материал корпуса: пластик</li>\n",
       "<li>Технология экрана: AMOLED</li>\n",
       "</div>\n",
       "<div class=\"container\">\n",
       "<div class=\"price_box\"><p class=\"price\">27770 руб</p></div>\n",
       "<div class=\"sale_button\"><a href=\"watch/1/1_5.html\"><p>Подробнее</p></a></div>\n",
       "</div>\n",
       "</div></div>\n",
       "<div class=\"item\">\n",
       "<div class=\"img_box\">\n",
       "<a href=\"watch/1/1_6.html\" name=\"1_6\"><img alt=\"\" src=\"http://parsinger.ru/img/1/6.jpg\"/></a>\n",
       "<a class=\"name_item\" href=\"watch/1/1_6.html\" name=\"1_6\">GT RUNNER-B19A GREY HUAWEI</a>\n",
       "<div class=\"description\">\n",
       "<li>Бренд: Huawei</li>\n",
       "<li>Тип: умные часы</li>\n",
       "<li>Материал корпуса: пластик</li>\n",
       "<li>Технология экрана: AMOLED</li>\n",
       "</div>\n",
       "<div class=\"container\">\n",
       "<div class=\"price_box\"><p class=\"price\">27770 руб</p></div>\n",
       "<div class=\"sale_button\"><a href=\"watch/1/1_6.html\"><p>Подробнее</p></a></div>\n",
       "</div>\n",
       "</div></div>\n",
       "<div class=\"item\">\n",
       "<div class=\"img_box\">\n",
       "<a href=\"watch/1/1_7.html\" name=\"1_7\"><img alt=\"\" src=\"http://parsinger.ru/img/1/7.jpg\"/></a>\n",
       "<a class=\"name_item\" href=\"watch/1/1_7.html\" name=\"1_7\">Умные часы GT 3 MIL-B19 GOLD HUAWEI</a>\n",
       "<div class=\"description\">\n",
       "<li>Бренд: Huawei</li>\n",
       "<li>Тип: умные часы</li>\n",
       "<li>Материал корпуса: нержавеющая сталь, пластик</li>\n",
       "<li>Технология экрана: AMOLED</li>\n",
       "</div>\n",
       "<div class=\"container\">\n",
       "<div class=\"price_box\"><p class=\"price\">24230 руб</p></div>\n",
       "<div class=\"sale_button\"><a href=\"watch/1/1_7.html\"><p>Подробнее</p></a></div>\n",
       "</div>\n",
       "</div></div>\n",
       "<div class=\"item\">\n",
       "<div class=\"img_box\">\n",
       "<a href=\"watch/1/1_8.html\" name=\"1_8\"><img alt=\"\" src=\"http://parsinger.ru/img/1/8.jpg\"/></a>\n",
       "<a class=\"name_item\" href=\"watch/1/1_8.html\" name=\"1_8\">Умные часы WATCH 3 GALILEO-L11 STEEL</a>\n",
       "<div class=\"description\">\n",
       "<li>Бренд:  Huawei</li>\n",
       "<li>Тип: умные часы</li>\n",
       "<li>Материал корпуса: металл, керамика</li>\n",
       "<li>Технология экрана:  AMOLED</li>\n",
       "</div>\n",
       "<div class=\"container\">\n",
       "<div class=\"price_box\"><p class=\"price\">32600 руб</p></div>\n",
       "<div class=\"sale_button\"><a href=\"watch/1/1_8.html\"><p>Подробнее</p></a></div>\n",
       "</div>\n",
       "</div></div>\n",
       "</div>\n",
       "</div>\n",
       "<div class=\"pagen\">\n",
       "<a href=\"index1_page_1.html\">1</a>\n",
       "<a href=\"index1_page_2.html\">2</a>\n",
       "<a href=\"index1_page_3.html\">3</a>\n",
       "<a href=\"index1_page_4.html\">4</a>\n",
       "</div>\n",
       "<div class=\"bottom\"></div>\n",
       "</body>\n",
       "</html>"
      ]
     },
     "execution_count": 16,
     "metadata": {},
     "output_type": "execute_result"
    }
   ],
   "execution_count": 16
  },
  {
   "metadata": {},
   "cell_type": "markdown",
   "source": "#### HW 2 (4) Извлеките текст из тега",
   "id": "34f471f17802270e"
  },
  {
   "metadata": {
    "ExecuteTime": {
     "end_time": "2024-09-27T13:10:00.267763Z",
     "start_time": "2024-09-27T13:10:00.263966Z"
    }
   },
   "cell_type": "code",
   "source": [
    "html_doc = \"\"\"\n",
    "<!DOCTYPE html>\n",
    "<html lang=\"ru\">\n",
    "<head>\n",
    "    <meta charset=\"UTF-8\">\n",
    "    <title>Пример карточки товара</title>\n",
    "</head>\n",
    "<body>\n",
    "    <div class=\"card\">\n",
    "        <img src=\"image.jpg\" alt=\"Пример изображения товара\">\n",
    "        <h2 class=\"card-title\"> iPhone 15 </h2>\n",
    "        <p class=\"card-description\">Аппаратной основой Apple iPhone 15 Pro Max стал 3-нанометровый чипсет A17 Pro с 6-ядерным GPU и поддержкой трассировки лучей.</p>\n",
    "        <p class=\"card-price\">999 999 руб.</p>\n",
    "        <a href=\"https://example.com/product-link\" class=\"card-link\">Подробнее</a>\n",
    "    </div>\n",
    "</body>\n",
    "</html>\n",
    "\"\"\""
   ],
   "id": "47ce3d15843d6f8",
   "outputs": [],
   "execution_count": 17
  },
  {
   "metadata": {
    "ExecuteTime": {
     "end_time": "2024-09-27T13:12:05.045960Z",
     "start_time": "2024-09-27T13:12:05.042341Z"
    }
   },
   "cell_type": "code",
   "source": "soup = BeautifulSoup(html_doc, 'lxml')",
   "id": "d3438ff2bf6e39df",
   "outputs": [],
   "execution_count": 18
  },
  {
   "metadata": {
    "ExecuteTime": {
     "end_time": "2024-09-27T13:12:36.836159Z",
     "start_time": "2024-09-27T13:12:36.832520Z"
    }
   },
   "cell_type": "code",
   "source": "tag = soup.p",
   "id": "396857d60bbbca3a",
   "outputs": [],
   "execution_count": 20
  },
  {
   "metadata": {
    "ExecuteTime": {
     "end_time": "2024-09-27T13:12:38.911935Z",
     "start_time": "2024-09-27T13:12:38.907879Z"
    }
   },
   "cell_type": "code",
   "source": "tag",
   "id": "8577a1015bfe6032",
   "outputs": [
    {
     "data": {
      "text/plain": [
       "<p class=\"card-description\">Аппаратной основой Apple iPhone 15 Pro Max стал 3-нанометровый чипсет A17 Pro с 6-ядерным GPU и поддержкой трассировки лучей.</p>"
      ]
     },
     "execution_count": 21,
     "metadata": {},
     "output_type": "execute_result"
    }
   ],
   "execution_count": 21
  },
  {
   "metadata": {
    "ExecuteTime": {
     "end_time": "2024-09-27T13:14:59.615984Z",
     "start_time": "2024-09-27T13:14:59.612975Z"
    }
   },
   "cell_type": "code",
   "source": [
    "print(type(tag))   \n",
    "print(tag.name)    \n",
    "print(tag.attrs)   \n",
    "print(tag.string)"
   ],
   "id": "4f94a4a417182c44",
   "outputs": [
    {
     "name": "stdout",
     "output_type": "stream",
     "text": [
      "<class 'bs4.element.Tag'>\n",
      "p\n",
      "{'class': ['card-description']}\n",
      "Аппаратной основой Apple iPhone 15 Pro Max стал 3-нанометровый чипсет A17 Pro с 6-ядерным GPU и поддержкой трассировки лучей.\n"
     ]
    }
   ],
   "execution_count": 22
  },
  {
   "metadata": {
    "ExecuteTime": {
     "end_time": "2024-09-27T13:20:17.558094Z",
     "start_time": "2024-09-27T13:20:17.553427Z"
    }
   },
   "cell_type": "code",
   "source": [
    "tag2 = soup.find('p', {'class': ['card-description']})\n",
    "tag2.text"
   ],
   "id": "7ed266eeac0d5684",
   "outputs": [
    {
     "data": {
      "text/plain": [
       "'Аппаратной основой Apple iPhone 15 Pro Max стал 3-нанометровый чипсет A17 Pro с 6-ядерным GPU и поддержкой трассировки лучей.'"
      ]
     },
     "execution_count": 24,
     "metadata": {},
     "output_type": "execute_result"
    }
   ],
   "execution_count": 24
  },
  {
   "metadata": {
    "ExecuteTime": {
     "end_time": "2024-09-27T13:24:02.913583Z",
     "start_time": "2024-09-27T13:24:02.908581Z"
    }
   },
   "cell_type": "code",
   "source": [
    "def main ():\n",
    "    soup = BeautifulSoup(html_doc, 'lxml')\n",
    "    p_description = soup.find('p', {'class': ['card-description']})\n",
    "    print(p_description.text)\n",
    "\n",
    "main()"
   ],
   "id": "a81cd16df3c3b236",
   "outputs": [
    {
     "name": "stdout",
     "output_type": "stream",
     "text": [
      "Аппаратной основой Apple iPhone 15 Pro Max стал 3-нанометровый чипсет A17 Pro с 6-ядерным GPU и поддержкой трассировки лучей.\n"
     ]
    }
   ],
   "execution_count": 25
  },
  {
   "metadata": {},
   "cell_type": "markdown",
   "source": "#### HW 3 (step 5) Суммируйте значение всех артикулов",
   "id": "2806d0fe5f54cba6"
  },
  {
   "metadata": {
    "ExecuteTime": {
     "end_time": "2024-09-27T14:01:22.803055Z",
     "start_time": "2024-09-27T14:01:22.799499Z"
    }
   },
   "cell_type": "code",
   "source": [
    "html_doc = \"\"\"\n",
    "<!DOCTYPE html>\n",
    "<html lang=\"ru\">\n",
    "<head>\n",
    "    <meta charset=\"UTF-8\">\n",
    "</head>\n",
    "<body>\n",
    "    <div class=\"cards\">\n",
    "        <!-- Карточка товара 1 -->\n",
    "        <div class=\"card\">\n",
    "            <img src=\"parsing.png\" alt=\"WEB Парсинг на Python\">\n",
    "            <h2 class=\"card-title\">WEB Парсинг на Python</h2>\n",
    "            <p class=\"card-articul\">Артикул: 104774</p>\n",
    "            <p class=\"card-stock\">Наличие: 5 шт.</p>\n",
    "            <p class=\"card-price\">3500 руб.</p>\n",
    "            <a href=\"https://stepik.org/a/104774\" class=\"card-button\">Купить</a>\n",
    "        </div>\n",
    "        <!-- Карточка товара 2 -->\n",
    "        <div class=\"card\">\n",
    "            <img src=\"async.png\" alt=\"Асинхронный Python\">\n",
    "            <h2 class=\"card-title\">Асинхронный Python</h2>\n",
    "            <p class=\"card-articul\">Артикул: 170777</p>\n",
    "            <p class=\"card-stock\">Наличие: 10 шт.</p>\n",
    "            <p class=\"card-price\">3500 руб.</p>\n",
    "            <a href=\"https://stepik.org/a/170777\" class=\"card-button\">Купить</a>\n",
    "        </div>\n",
    "        <!-- Карточка товара 3 -->\n",
    "        <div class=\"card\">\n",
    "            <img src=\"selenium.PNG\" alt=\"Selenium Python\">\n",
    "            <h2 class=\"card-title\">Selenium Python</h2>\n",
    "            <p class=\"card-articul\">Артикул: 119495</p>\n",
    "            <p class=\"card-stock\">Наличие: 5 шт.</p>\n",
    "            <p class=\"card-price\">1250 руб.</p>\n",
    "            <a href=\"https://stepik.org/a/119495\" class=\"card-button\">Купить</a>\n",
    "        </div>\n",
    "    </div>\n",
    "</body>\n",
    "</html>\n",
    "\"\"\""
   ],
   "id": "abf703e984914d6",
   "outputs": [],
   "execution_count": 62
  },
  {
   "metadata": {
    "ExecuteTime": {
     "end_time": "2024-09-27T14:01:23.197937Z",
     "start_time": "2024-09-27T14:01:23.194858Z"
    }
   },
   "cell_type": "code",
   "source": "soup = BeautifulSoup(html_doc, 'html.parser')",
   "id": "b44516ee75fd16d1",
   "outputs": [],
   "execution_count": 63
  },
  {
   "metadata": {
    "ExecuteTime": {
     "end_time": "2024-09-27T14:01:23.543850Z",
     "start_time": "2024-09-27T14:01:23.539994Z"
    }
   },
   "cell_type": "code",
   "source": [
    "articuls = soup.findAll('p', {'class': 'card-articul'})\n",
    "articuls"
   ],
   "id": "c802de71c9dbeb22",
   "outputs": [
    {
     "data": {
      "text/plain": [
       "[<p class=\"card-articul\">Артикул: 104774</p>,\n",
       " <p class=\"card-articul\">Артикул: 170777</p>,\n",
       " <p class=\"card-articul\">Артикул: 119495</p>]"
      ]
     },
     "execution_count": 64,
     "metadata": {},
     "output_type": "execute_result"
    }
   ],
   "execution_count": 64
  },
  {
   "metadata": {
    "ExecuteTime": {
     "end_time": "2024-09-27T14:03:25.713774Z",
     "start_time": "2024-09-27T14:03:25.708906Z"
    }
   },
   "cell_type": "code",
   "source": [
    "full = []\n",
    "for i in articuls:\n",
    "    full.append(int(articuls[0].text.split(' ')[1]))"
   ],
   "id": "4744ab3a32601f33",
   "outputs": [
    {
     "data": {
      "text/plain": [
       "[104774, 104774, 104774]"
      ]
     },
     "execution_count": 77,
     "metadata": {},
     "output_type": "execute_result"
    }
   ],
   "execution_count": 77
  },
  {
   "metadata": {
    "ExecuteTime": {
     "end_time": "2024-09-27T14:08:28.093611Z",
     "start_time": "2024-09-27T14:08:28.088918Z"
    }
   },
   "cell_type": "code",
   "source": "sum([int(x.text.split(' ')[1]) for x in articuls])",
   "id": "803092fcb6d202c1",
   "outputs": [
    {
     "data": {
      "text/plain": [
       "395046"
      ]
     },
     "execution_count": 90,
     "metadata": {},
     "output_type": "execute_result"
    }
   ],
   "execution_count": 90
  },
  {
   "metadata": {},
   "cell_type": "markdown",
   "source": "#### HW 4 (step 6) Суммируйте значения alt всех img на странице",
   "id": "fa47b70ff5e7ebe9"
  },
  {
   "metadata": {
    "ExecuteTime": {
     "end_time": "2024-09-29T18:38:07.548519Z",
     "start_time": "2024-09-29T18:38:07.538619Z"
    }
   },
   "cell_type": "code",
   "source": [
    "html_doc = \"\"\"\n",
    "<!DOCTYPE html>\n",
    "<html lang=\"ru\">\n",
    "<head>\n",
    "    <meta charset=\"UTF-8\">\n",
    "</head>\n",
    "<body>\n",
    "\n",
    "<div class=\"card\">\n",
    "    <h2>Товар 1</h2>\n",
    "    <img src=\"parsing.png\" alt=\"779966\">\n",
    "    <p>Цена: 1000 руб.</p>\n",
    "    <p>Описание: Отличный товар, изготовлен из качественных материалов.</p>\n",
    "    <p>Технические характеристики: Размеры: 10x10x10 см, Вес: 1 кг.</p>\n",
    "    <p>Доступные размеры: S, M, L</p>\n",
    "    <p>Отзывы: 5 звезд</p>\n",
    "    <p>Наличие на складе: В наличии</p>\n",
    "    <p>Информация о доставке: Бесплатно при заказе от 3000 руб.</p>\n",
    "    <a href=\"https://stepik.org/a/104774\" class=\"btn\">Купить</a>\n",
    "</div>\n",
    "\n",
    "<div class=\"card\">\n",
    "    <h2>Товар 2</h2>\n",
    "    <img src=\"async.png\" alt=\"331155\">\n",
    "    <p>Цена: 1500 руб.</p>\n",
    "    <p>Описание: Превосходный товар, подходит для повседневного использования.</p>\n",
    "    <p>Технические характеристики: Размеры: 15x15x15 см, Вес: 1.5 кг.</p>\n",
    "    <p>Доступные размеры: M, L, XL</p>\n",
    "    <p>Отзывы: 4.5 звезд</p>\n",
    "    <p>Наличие на складе: В наличии</p>\n",
    "    <p>Информация о доставке: Бесплатно при заказе от 5000 руб.</p>\n",
    "    <a href=\"https://stepik.org/a/170777\" class=\"btn\">Купить</a>\n",
    "</div>\n",
    "\n",
    "<div class=\"card\">\n",
    "    <h2>Товар 3</h2>\n",
    "    <img src=\"parsing.png\" alt=\"558877\">\n",
    "    <p>Цена: 2000 руб.</p>\n",
    "    <p>Описание: Удобный товар для дома и офиса.</p>\n",
    "    <p>Технические характеристики: Размеры: 12x12x12 см, Вес: 1.2 кг.</p>\n",
    "    <p>Доступные размеры: S, M</p>\n",
    "    <p>Отзывы: 4.7 звезд</p>\n",
    "    <p>Наличие на складе: В наличии</p>\n",
    "    <p>Информация о доставке: Бесплатно при заказе от 3500 руб.</p>\n",
    "    <a href=\"https://stepik.org/a/104774\" class=\"btn\">Купить</a>\n",
    "</div>\n",
    "\n",
    "<div class=\"card\">\n",
    "    <h2>Товар 4</h2>\n",
    "    <img src=\"async.png\" alt=\"449933\">\n",
    "    <p>Цена: 2500 руб.</p>\n",
    "    <p>Описание: Стильный и практичный товар.</p>\n",
    "    <p>Технические характеристики: Размеры: 14x14x14 см, Вес: 1.4 кг.</p>\n",
    "    <p>Доступные размеры: L, XL</p>\n",
    "    <p>Отзывы: 4.8 звезд</p>\n",
    "    <p>Наличие на складе: В наличии</p>\n",
    "    <p>Информация о доставке: Бесплатно при заказе от 4000 руб.</p>\n",
    "    <a href=\"https://stepik.org/a/170777\" class=\"btn\">Купить</a>\n",
    "</div>\n",
    "\n",
    "<div class=\"card\">\n",
    "    <h2>Товар 5</h2>\n",
    "    <img src=\"parsing.png\" alt=\"667711\">\n",
    "    <p>Цена: 2700 руб.</p>\n",
    "    <p>Описание: Идеальный товар для повседневного использования.</p>\n",
    "    <p>Технические характеристики: Размеры: 13x13x13 см, Вес: 1.3 кг.</p>\n",
    "    <p>Доступные размеры: M, L, XL</p>\n",
    "    <p>Отзывы: 4.9 звезд</p>\n",
    "    <p>Наличие на складе: В наличии</p>\n",
    "    <p>Информация о доставке: Бесплатно при заказе от 4500 руб.</p>\n",
    "    <a href=\"https://stepik.org/a/104774\" class=\"btn\">Купить</a>\n",
    "</div>\n",
    "\n",
    "<div class=\"card\">\n",
    "    <h2>Товар 6</h2>\n",
    "    <img src=\"async.png\" alt=\"334455\">\n",
    "    <p>Цена: 3000 руб.</p>\n",
    "    <p>Описание: Прочный и надежный товар.</p>\n",
    "    <p>Технические характеристики: Размеры: 16x16x16 см, Вес: 1.6 кг.</p>\n",
    "    <p>Доступные размеры: S, M</p>\n",
    "    <p>Отзывы: 5 звезд</p>\n",
    "    <p>Наличие на складе: В наличии</p>\n",
    "    <p>Информация о доставке: Бесплатно при заказе от 5000 руб.</p>\n",
    "    <a href=\"https://stepik.org/a/170777\" class=\"btn\">Купить</a>\n",
    "</div>\n",
    "\n",
    "\n",
    "</body>\n",
    "</html>\n",
    "\"\"\""
   ],
   "id": "d1521dc85eacbf79",
   "outputs": [],
   "execution_count": 135
  },
  {
   "metadata": {
    "ExecuteTime": {
     "end_time": "2024-09-29T10:15:25.465191Z",
     "start_time": "2024-09-29T10:15:25.453708Z"
    }
   },
   "cell_type": "code",
   "source": "soup = BeautifulSoup(html_doc, 'html.parser')",
   "id": "7709761344b02e51",
   "outputs": [],
   "execution_count": 76
  },
  {
   "metadata": {
    "ExecuteTime": {
     "end_time": "2024-09-29T10:15:25.795566Z",
     "start_time": "2024-09-29T10:15:25.787757Z"
    }
   },
   "cell_type": "code",
   "source": [
    "img = soup.find_all('img')\n",
    "img"
   ],
   "id": "300a35576dc206c5",
   "outputs": [
    {
     "data": {
      "text/plain": [
       "[<img alt=\"779966\" src=\"parsing.png\"/>,\n",
       " <img alt=\"331155\" src=\"async.png\"/>,\n",
       " <img alt=\"558877\" src=\"parsing.png\"/>,\n",
       " <img alt=\"449933\" src=\"async.png\"/>,\n",
       " <img alt=\"667711\" src=\"parsing.png\"/>,\n",
       " <img alt=\"334455\" src=\"async.png\"/>]"
      ]
     },
     "execution_count": 77,
     "metadata": {},
     "output_type": "execute_result"
    }
   ],
   "execution_count": 77
  },
  {
   "metadata": {
    "ExecuteTime": {
     "end_time": "2024-09-29T10:16:32.639584Z",
     "start_time": "2024-09-29T10:16:32.634909Z"
    }
   },
   "cell_type": "code",
   "source": "img[0].attrs",
   "id": "ceb3a703eaf8a97b",
   "outputs": [
    {
     "data": {
      "text/plain": [
       "{'src': 'parsing.png', 'alt': '779966'}"
      ]
     },
     "execution_count": 79,
     "metadata": {},
     "output_type": "execute_result"
    }
   ],
   "execution_count": 79
  },
  {
   "metadata": {
    "ExecuteTime": {
     "end_time": "2024-09-29T10:00:13.700310Z",
     "start_time": "2024-09-29T10:00:13.692826Z"
    }
   },
   "cell_type": "code",
   "source": "soup.select('img[alt]')",
   "id": "38f6263a15c1193e",
   "outputs": [
    {
     "data": {
      "text/plain": [
       "[<img alt=\"779966\" src=\"parsing.png\"/>,\n",
       " <img alt=\"331155\" src=\"async.png\"/>,\n",
       " <img alt=\"558877\" src=\"parsing.png\"/>,\n",
       " <img alt=\"449933\" src=\"async.png\"/>,\n",
       " <img alt=\"667711\" src=\"parsing.png\"/>,\n",
       " <img alt=\"334455\" src=\"async.png\"/>]"
      ]
     },
     "execution_count": 52,
     "metadata": {},
     "output_type": "execute_result"
    }
   ],
   "execution_count": 52
  },
  {
   "metadata": {
    "ExecuteTime": {
     "end_time": "2024-09-29T09:41:57.907874Z",
     "start_time": "2024-09-29T09:41:57.900540Z"
    }
   },
   "cell_type": "code",
   "source": "sum([int(i.attrs['alt']) for i in img])",
   "id": "4d1c9fe1c082c263",
   "outputs": [
    {
     "data": {
      "text/plain": [
       "3122097"
      ]
     },
     "execution_count": 45,
     "metadata": {},
     "output_type": "execute_result"
    }
   ],
   "execution_count": 45
  },
  {
   "metadata": {},
   "cell_type": "markdown",
   "source": "#### HW 5 (step 7) Суммируйте атрибуты только у тегов \\<p> четной длины",
   "id": "d9b879c16e86212c"
  },
  {
   "metadata": {
    "ExecuteTime": {
     "end_time": "2024-09-29T10:06:40.826447Z",
     "start_time": "2024-09-29T10:06:40.251893Z"
    }
   },
   "cell_type": "code",
   "source": [
    "url = 'https://parsinger.ru/4.3/4/index.html'\n",
    "r = requests.get(url)\n",
    "if r.status_code != 200:\n",
    "    print(r.status_code, '\\n', r.text)"
   ],
   "id": "2165bf9120eb369d",
   "outputs": [],
   "execution_count": 60
  },
  {
   "metadata": {
    "ExecuteTime": {
     "end_time": "2024-09-29T10:13:14.401500Z",
     "start_time": "2024-09-29T10:13:14.398195Z"
    }
   },
   "cell_type": "code",
   "source": "r.encoding = 'utf-8'",
   "id": "b88e3cf5eaeafa15",
   "outputs": [],
   "execution_count": 69
  },
  {
   "metadata": {
    "ExecuteTime": {
     "end_time": "2024-09-29T10:13:43.344631Z",
     "start_time": "2024-09-29T10:13:43.326165Z"
    }
   },
   "cell_type": "code",
   "source": "soup = BeautifulSoup(r.text, 'html.parser')",
   "id": "8d8374dd8ce02b9c",
   "outputs": [],
   "execution_count": 72
  },
  {
   "metadata": {
    "ExecuteTime": {
     "end_time": "2024-09-29T10:38:46.705643Z",
     "start_time": "2024-09-29T10:38:46.697205Z"
    }
   },
   "cell_type": "code",
   "source": "soup",
   "id": "41b2750600552439",
   "outputs": [
    {
     "data": {
      "text/plain": [
       "\n",
       "<!DOCTYPE html>\n",
       "\n",
       "<html lang=\"ru\">\n",
       "<head>\n",
       "<meta charset=\"utf-8\"/>\n",
       "</head>\n",
       "<body>\n",
       "<div class=\"card\">\n",
       "<h2>Товар 1</h2>\n",
       "<img alt=\"779966\" src=\"parsing.png\"/>\n",
       "<p>Цена: 1000 руб.</p>\n",
       "<p>Описание: Отличный товар, изготовлен из качественных материалов.</p>\n",
       "<p>Технические характеристики: Размеры: 10x10x10 см, Вес: 1 кг.</p>\n",
       "<p>Доступные размеры: S, M, L</p>\n",
       "<p>Отзывы: 5 звезд</p>\n",
       "<p>Наличие на складе: В наличии</p>\n",
       "<p>Информация о доставке: Бесплатно при заказе от 3000 руб.</p>\n",
       "<a class=\"btn\" href=\"https://stepik.org/a/104774\">Купить</a>\n",
       "</div>\n",
       "<div class=\"card\">\n",
       "<h2>Товар 2</h2>\n",
       "<img alt=\"331155\" src=\"async.png\"/>\n",
       "<p>Цена: 1500 руб.</p>\n",
       "<p>Описание: Превосходный товар, подходит для повседневного использования.</p>\n",
       "<p>Технические характеристики: Размеры: 15x15x15 см, Вес: 1.5 кг.</p>\n",
       "<p>Доступные размеры: M, L, XL</p>\n",
       "<p>Отзывы: 4.5 звезд</p>\n",
       "<p>Наличие на складе: В наличии</p>\n",
       "<p>Информация о доставке: Бесплатно при заказе от 5000 руб.</p>\n",
       "<a class=\"btn\" href=\"https://stepik.org/a/170777\">Купить</a>\n",
       "</div>\n",
       "<div class=\"card\">\n",
       "<h2>Товар 3</h2>\n",
       "<img alt=\"558877\" src=\"parsing.png\"/>\n",
       "<p>Цена: 2000 руб.</p>\n",
       "<p>Описание: Удобный товар для дома и офиса.</p>\n",
       "<p>Технические характеристики: Размеры: 12x12x12 см, Вес: 1.2 кг.</p>\n",
       "<p>Доступные размеры: S, M</p>\n",
       "<p>Отзывы: 4.7 звезд</p>\n",
       "<p>Наличие на складе: В наличии</p>\n",
       "<p>Информация о доставке: Бесплатно при заказе от 3500 руб.</p>\n",
       "<a class=\"btn\" href=\"https://stepik.org/a/104774\">Купить</a>\n",
       "</div>\n",
       "<div class=\"card\">\n",
       "<h2>Товар 4</h2>\n",
       "<img alt=\"449933\" src=\"async.png\"/>\n",
       "<p>Цена: 2500 руб.</p>\n",
       "<p>Описание: Стильный и практичный товар.</p>\n",
       "<p>Технические характеристики: Размеры: 14x14x14 см, Вес: 1.4 кг.</p>\n",
       "<p>Доступные размеры: L, XL</p>\n",
       "<p>Отзывы: 4.8 звезд</p>\n",
       "<p>Наличие на складе: В наличии</p>\n",
       "<p>Информация о доставке: Бесплатно при заказе от 4000 руб.</p>\n",
       "<a class=\"btn\" href=\"https://stepik.org/a/170777\">Купить</a>\n",
       "</div>\n",
       "<div class=\"card\">\n",
       "<h2>Товар 5</h2>\n",
       "<img alt=\"667711\" src=\"parsing.png\"/>\n",
       "<p>Цена: 2700 руб.</p>\n",
       "<p>Описание: Идеальный товар для повседневного использования.</p>\n",
       "<p>Технические характеристики: Размеры: 13x13x13 см, Вес: 1.3 кг.</p>\n",
       "<p>Доступные размеры: M, L, XL</p>\n",
       "<p>Отзывы: 4.9 звезд</p>\n",
       "<p>Наличие на складе: В наличии</p>\n",
       "<p>Информация о доставке: Бесплатно при заказе от 4500 руб.</p>\n",
       "<a class=\"btn\" href=\"https://stepik.org/a/104774\">Купить</a>\n",
       "</div>\n",
       "<div class=\"card\">\n",
       "<h2>Товар 6</h2>\n",
       "<img alt=\"334455\" src=\"async.png\"/>\n",
       "<p>Цена: 3000 руб.</p>\n",
       "<p>Описание: Прочный и надежный товар.</p>\n",
       "<p>Технические характеристики: Размеры: 16x16x16 см, Вес: 1.6 кг.</p>\n",
       "<p>Доступные размеры: S, M</p>\n",
       "<p>Отзывы: 5 звезд</p>\n",
       "<p>Наличие на складе: В наличии</p>\n",
       "<p>Информация о доставке: Бесплатно при заказе от 5000 руб.</p>\n",
       "<a class=\"btn\" href=\"https://stepik.org/a/170777\">Купить</a>\n",
       "</div>\n",
       "</body>\n",
       "</html>"
      ]
     },
     "execution_count": 84,
     "metadata": {},
     "output_type": "execute_result"
    }
   ],
   "execution_count": 84
  },
  {
   "metadata": {},
   "cell_type": "code",
   "outputs": [],
   "execution_count": 137,
   "source": [
    "html =''''<!DOCTYPE html>\n",
    "<html lang=\"ru\">\n",
    "<head>\n",
    "    <meta charset=\"UTF-8\">\n",
    "    <title>Тестовая страница для веб-парсинга</title>\n",
    "</head>\n",
    "<body>\n",
    "    <p id=\"435456\" class=\"123984\">Веб-парсинг – это мощный инструмент для анализа данных в интернете.</p>\n",
    "    <p id=\"284359\" class=\"493572\">Python предоставляет отличные библиотеки для парсинга веб-страниц.</p>\n",
    "    <p id=\"789234\" class=\"293487\">Для начинающих веб-парсеров важно изучить основы HTML и CSS.</p>\n",
    "    <p id=\"239048\" class=\"392874\">Библиотека BeautifulSoup позволяет легко извлекать данные с веб-страниц.</p>\n",
    "    <p id=\"923874\" class=\"120948\">Scrapy – другой популярный фреймворк для веб-парсинга на Python.</p>\n",
    "    <p id=\"982374\" class=\"302984\">Веб-парсинг может помочь аналитикам и маркетологам собирать ценную информацию.</p>\n",
    "    <p id=\"238940\" class=\"238492\">Соблюдение законов и правил при парсинге веб-сайтов – это ключевой момент.</p>\n",
    "    <p id=\"923485\" class=\"283947\">Ограничения robots.txt могут влиять на возможность парсинга некоторых сайтов.</p>\n",
    "    <p id=\"293847\" class=\"394872\">Динамические веб-сайты могут требовать использование Selenium для парсинга.</p>\n",
    "    <p id=\"239487\" class=\"238492\">Регулярные выражения могут быть полезными при извлечении специфических данных.</p>\n",
    "    <p id=\"203984\" class=\"394872\">При веб-парсинге важно учитывать нагрузку на целевой веб-сайт.</p>\n",
    "    <p id=\"394872\" class=\"203984\">Кэширование данных может ускорить процесс парсинга и снизить нагрузку на сервер.</p>\n",
    "    <p id=\"238492\" class=\"394872\">Прокси-сервера могут помочь обойти ограничения, связанные с IP-адресом.</p>\n",
    "    <p id=\"239847\" class=\"238947\">Парсинг может быть автоматизирован с помощью планировщика задач.</p>\n",
    "    <p id=\"394872\" class=\"238492\">Обработка ошибок – важный этап в разработке парсера.</p>\n",
    "    <p id=\"238492\" class=\"394872\">Сохранение данных в базу данных позволяет легко анализировать и обрабатывать информацию.</p>\n",
    "    <p id=\"293847\" class=\"203984\">Многопоточность может значительно ускорить процесс парсинга веб-сайтов.</p>\n",
    "    <p id=\"394872\" class=\"203984\">Веб-парсинг – это не только технический процесс, но и аналитический навык.</p>\n",
    "    <p id=\"293847\" class=\"394872\">Изучение веб-парсинга открывает новые возможности для исследования интернета.</p>\n",
    "    <p id=\"238947\" class=\"238492\">Качественный парсер требует тщательной проработки и тестирования.</p>\n",
    "    <p id=\"384756\" class=\"293487\">Парсинг веб-страниц – это процесс извлечения данных с онлайн-ресурсов.</p>\n",
    "    <p id=\"238947\" class=\"293487\">Python стал популярным языком для веб-парсинга благодаря своей простоте и богатой экосистеме.</p>\n",
    "    <p id=\"384756\" class=\"238492\">Знание структуры HTML и CSS сделает вас более эффективным веб-парсером.</p>\n",
    "    <p id=\"238947\" class=\"238492\">BeautifulSoup предоставляет удобные методы для поиска и извлечения данных из HTML-документов.</p>\n",
    "    <p id=\"384756\" class=\"293487\">Scrapy облегчает парсинг множества страниц и управление запросами.</p>\n",
    "    <p id=\"238947\" class=\"293487\">Веб-парсинг помогает в анализе конкурентов и рынка для бизнеса.</p>\n",
    "    <p id=\"384756\" class=\"238492\">Соблюдение этичных и юридических норм важно при веб-парсинге.</p>\n",
    "    <p id=\"238947\" class=\"238492\">Файл robots.txt указывает правила доступа для веб-краулеров и парсеров.</p>\n",
    "    <p id=\"384756\" class=\"293487\">Selenium полезен для парсинга динамических веб-сайтов с JavaScript.</p>\n",
    "    <p id=\"238947\" class=\"293487\">Регулярные выражения могут быть мощным инструментом для извлечения данных из текста.</p>\n",
    "    <p id=\"384756\" class=\"238492\">Оптимизация запросов и паузы важны для избежания блокировки при парсинге.</p>\n",
    "    <p id=\"238947\" class=\"238492\">Кэширование данных улучшает производительность парсера и снижает нагрузку.</p>\n",
    "    <p id=\"384756\" class=\"293487\">Использование прокси-серверов помогает в обходе ограничений по IP-адресу.</p>\n",
    "    <p id=\"238947\" class=\"293487\">Автоматизация парсинга с помощью планировщика может сэкономить время.</p>\n",
    "    <p id=\"384756\" class=\"238492\">Обработка и логирование ошибок важны для стабильной работы парсера.</p>\n",
    "    <p id=\"238947\" class=\"238492\">Сохранение данных в базу данных обеспечивает их долгосрочное хранение и анализ.</p>\n",
    "    <p id=\"384756\" class=\"293487\">Многопоточность увеличивает скорость парсинга и снижает время выполнения задач.</p>\n",
    "    <p id=\"238947\" class=\"293487\">Веб-парсинг требует аналитического мышления и понимания данных.</p>\n",
    "    <p id=\"384756\" class=\"238492\">Изучение веб-парсинга расширяет возможности для исследования интернета и данных.</p>\n",
    "    <p id=\"238947\" class=\"238492\">Разработка качественного парсера – это процесс, требующий тщательной проработки и тестирования.</p>\n",
    "    <p id=\"384756\" class=\"293487\">Извлечение данных из веб-страницы – ключевой этап в анализе интернет-контента.</p>\n",
    "    <p id=\"238947\" class=\"293487\">Python предоставляет множество возможностей для работы с текстом и данными.</p>\n",
    "    <p id=\"384756\" class=\"238492\">Оптимизация запросов и управление скоростью парсинга – залог успешного сбора данных.</p>\n",
    "    <p id=\"238947\" class=\"238492\">Использование кэширования может значительно снизить нагрузку на серверы и ускорить работу парсера.</p>\n",
    "    <p id=\"384756\" class=\"293487\">Прокси-сервера – надежный способ обойти ограничения по IP и повысить анонимность.</p>\n",
    "    <p id=\"238947\" class=\"293487\">Автоматизация задач с помощью планировщика обеспечивает регулярное обновление данных.</p>\n",
    "    <p id=\"384756\" class=\"238492\">Обработка ошибок и их логирование помогают выявить проблемы и улучшить стабильность парсера.</p>\n",
    "    <p id=\"238947\" class=\"238492\">Сохранение данных в базе обеспечивает их сохранность и возможность дальнейшего анализа.</p>\n",
    "    <p id=\"384756\" class=\"293487\">Использование многопоточности позволяет параллельно обрабатывать множество страниц.</p>\n",
    "    <p id=\"238947\" class=\"293487\">Веб-парсинг – это искусство анализа и извлечения информации из виртуального мира.</p>\n",
    "    <p id=\"384756\" class=\"238492\">Изучение веб-парсинга даёт возможность исследовать интернет в поисках ценных данных.</p>\n",
    "    <p id=\"238947\" class=\"238492\">Разработка парсера – это непрерывный процесс улучшения и оптимизации.</p>\n",
    "    <p id=\"384756\" class=\"293487\">API предоставляют более удобный способ доступа к данным, чем парсинг страниц.</p>\n",
    "    <p id=\"238947\" class=\"293487\">XPath – мощный инструмент для навигации и извлечения данных из XML и HTML.</p>\n",
    "    <p id=\"384756\" class=\"238492\">Парсинг данных из JSON позволяет эффективно работать с данными в этом формате.</p>\n",
    "    <p id=\"238947\" class=\"238492\">Анализ времени выполнения запросов помогает оптимизировать парсинг и снизить нагрузку.</p>\n",
    "    <p id=\"384756\" class=\"293487\">Эффективный веб-парсинг требует понимания принципов работы HTTP-протокола.</p>\n",
    "    <p id=\"238947\" class=\"293487\">Системы управления версиями помогают отслеживать изменения в коде парсера.</p>\n",
    "    <p id=\"384756\" class=\"238492\">Интеграция с облачными хранилищами данных облегчает анализ собранных данных.</p>\n",
    "    <p id=\"238947\" class=\"238492\">Аналитика и визуализация данных помогают получить ценные инсайты из собранных информационных ресурсов.</p>\n",
    "    <p id=\"384756\" class=\"293487\">Понимание DOM-структуры помогает эффективно навигировать по веб-страницам.</p>\n",
    "    <p id=\"238947\" class=\"293487\">Python имеет богатую экосистему для анализа данных, что делает его отличным выбором для парсинга.</p>\n",
    "    <p id=\"384756\" class=\"238492\">Контроль частоты запросов позволяет избегать блокировок со стороны серверов.</p>\n",
    "    <p id=\"238947\" class=\"238492\">Использование регулярных выражений требует навыков и практики, но может быть мощным инструментом.</p>\n",
    "    <p id=\"384756\" class=\"293487\">Прокси-сервера могут быть необходимы для работы с сайтами, блокирующими IP-адреса.</p>\n",
    "    <p id=\"238947\" class=\"293487\">Планировщики задач помогают автоматизировать процесс парсинга по расписанию.</p>\n",
    "    <p id=\"384756\" class=\"238492\">Обработка ошибок включает в себя исключения и стратегии восстановления парсера.</p>\n",
    "    <p id=\"238947\" class=\"238492\">Сохранение данных в базе обеспечивает надежное хранение и возможность долгосрочного анализа.</p>\n",
    "    <p id=\"384756\" class=\"293487\">Использование многопоточности может значительно ускорить процесс сбора данных.</p>\n",
    "    <p id=\"238947\" class=\"293487\">Веб-парсинг помогает исследователям извлекать информацию из различных источников.</p>\n",
    "    <p id=\"384756\" class=\"238492\">Разработка парсера требует тщательного планирования и тестирования функциональности.</p>\n",
    "    <p id=\"238947\" class=\"238492\">Интеграция с RESTful API облегчает получение данных с веб-серверов.</p>\n",
    "    <p id=\"384756\" class=\"293487\">XPath позволяет точно находить и извлекать элементы на веб-странице.</p>\n",
    "    <p id=\"238947\" class=\"293487\">JSON является удобным форматом для передачи и хранения данных при парсинге.</p>\n",
    "    <p id=\"384756\" class=\"238492\">Мониторинг и управление ресурсами помогают избежать перегрузки серверов.</p>\n",
    "    <p id=\"238947\" class=\"293487\">Знание структуры URL важно для формирования правильных запросов.</p>\n",
    "    <p id=\"384756\" class=\"293487\">Веб-парсинг может использоваться для сравнения цен на товары и услуги.</p>\n",
    "    <p id=\"238947\" class=\"238492\">Эффективный парсер должен быть адаптирован к особенностям целевых веб-сайтов.</p>\n",
    "    <p id=\"384756\" class=\"293487\">Интеграция с базами данных позволяет хранить и анализировать большие объемы данных.</p>\n",
    "    <p id=\"238947\" class=\"238492\">Аналитика данных позволяет выявить тенденции и паттерны в собранных информационных ресурсах.</p>\n",
    "</body>\n",
    "</html>\n",
    "'''"
   ],
   "id": "f2372ea35c42e28e"
  },
  {
   "metadata": {
    "ExecuteTime": {
     "end_time": "2024-09-29T18:28:12.124624Z",
     "start_time": "2024-09-29T18:28:12.108259Z"
    }
   },
   "cell_type": "code",
   "source": "soup = BeautifulSoup(html, 'html.parser')",
   "id": "f9decb8bb19af35e",
   "outputs": [],
   "execution_count": 127
  },
  {
   "metadata": {
    "ExecuteTime": {
     "end_time": "2024-09-29T18:28:13.562001Z",
     "start_time": "2024-09-29T18:28:13.556521Z"
    }
   },
   "cell_type": "code",
   "source": "all_p = soup.find_all('p')",
   "id": "844f59baae9eb74c",
   "outputs": [],
   "execution_count": 128
  },
  {
   "metadata": {
    "ExecuteTime": {
     "end_time": "2024-09-29T18:12:05.328683Z",
     "start_time": "2024-09-29T18:12:05.321714Z"
    }
   },
   "cell_type": "code",
   "source": "all_p[0].attrs",
   "id": "a47660498b0ebb71",
   "outputs": [
    {
     "data": {
      "text/plain": [
       "{'id': '10', 'class': ['20', '24']}"
      ]
     },
     "execution_count": 95,
     "metadata": {},
     "output_type": "execute_result"
    }
   ],
   "execution_count": 95
  },
  {
   "metadata": {
    "ExecuteTime": {
     "end_time": "2024-09-29T18:15:16.280195Z",
     "start_time": "2024-09-29T18:15:16.272366Z"
    }
   },
   "cell_type": "code",
   "source": "sum([int(v) for v in all_p[0].attrs['class']])",
   "id": "9cf9e4917a760596",
   "outputs": [
    {
     "data": {
      "text/plain": [
       "20"
      ]
     },
     "execution_count": 102,
     "metadata": {},
     "output_type": "execute_result"
    }
   ],
   "execution_count": 102
  },
  {
   "metadata": {
    "ExecuteTime": {
     "end_time": "2024-09-29T18:46:21.558391Z",
     "start_time": "2024-09-29T18:46:21.550030Z"
    }
   },
   "cell_type": "code",
   "source": "sum([int(v) for v in all_p[0].attrs['class']])",
   "id": "2ac7d5a0bcf32b30",
   "outputs": [
    {
     "data": {
      "text/plain": [
       "123984"
      ]
     },
     "execution_count": 148,
     "metadata": {},
     "output_type": "execute_result"
    }
   ],
   "execution_count": 148
  },
  {
   "metadata": {
    "ExecuteTime": {
     "end_time": "2024-09-29T18:22:56.450320Z",
     "start_time": "2024-09-29T18:22:56.446385Z"
    }
   },
   "cell_type": "code",
   "source": [
    "id_sum = 0\n",
    "class_sum = 0\n",
    "for i in all_p:\n",
    "    if len(i.text.replace(' ', '')) % 2 == 0:\n",
    "        id_sum += int(i.attrs['id'])\n",
    "        class_sum += sum([int(v) for v in all_p.attrs['class']])        "
   ],
   "id": "14e23ba6398a2b9",
   "outputs": [],
   "execution_count": 119
  },
  {
   "metadata": {
    "ExecuteTime": {
     "end_time": "2024-09-29T18:17:04.021344Z",
     "start_time": "2024-09-29T18:17:04.017238Z"
    }
   },
   "cell_type": "code",
   "source": "class_sum",
   "id": "9d73166caa4d2b0",
   "outputs": [
    {
     "data": {
      "text/plain": [
       "5207328"
      ]
     },
     "execution_count": 108,
     "metadata": {},
     "output_type": "execute_result"
    }
   ],
   "execution_count": 108
  },
  {
   "metadata": {
    "ExecuteTime": {
     "end_time": "2024-09-29T18:08:10.108760Z",
     "start_time": "2024-09-29T18:08:10.105963Z"
    }
   },
   "cell_type": "code",
   "source": "t = ['20', '24']",
   "id": "6ae2c581eaeefdb1",
   "outputs": [],
   "execution_count": 80
  },
  {
   "metadata": {
    "ExecuteTime": {
     "end_time": "2024-09-29T18:09:18.161405Z",
     "start_time": "2024-09-29T18:09:18.153192Z"
    }
   },
   "cell_type": "code",
   "source": "sum([int(v) for v in t])",
   "id": "551d610db944d6b7",
   "outputs": [
    {
     "data": {
      "text/plain": [
       "44"
      ]
     },
     "execution_count": 83,
     "metadata": {},
     "output_type": "execute_result"
    }
   ],
   "execution_count": 83
  },
  {
   "metadata": {
    "ExecuteTime": {
     "end_time": "2024-09-29T18:12:57.414222Z",
     "start_time": "2024-09-29T18:12:57.410411Z"
    }
   },
   "cell_type": "code",
   "source": "sum(map(int, t))",
   "id": "44fd358c31396e69",
   "outputs": [
    {
     "data": {
      "text/plain": [
       "44"
      ]
     },
     "execution_count": 98,
     "metadata": {},
     "output_type": "execute_result"
    }
   ],
   "execution_count": 98
  },
  {
   "metadata": {
    "ExecuteTime": {
     "end_time": "2024-09-29T18:46:54.694273Z",
     "start_time": "2024-09-29T18:46:54.682342Z"
    }
   },
   "cell_type": "code",
   "source": [
    "def sum_even_length_ids(html):\n",
    "    soup = BeautifulSoup(html, 'html.parser')\n",
    "    all_p = soup.find_all('p')\n",
    "    total_id_sum = 0\n",
    "    total_class_sum = 0\n",
    "    for i in all_p:\n",
    "        if len(i.text.replace(' ', '')) % 2 == 0:\n",
    "            total_id_sum += int(i.attrs['id'])\n",
    "            total_class_sum += sum([int(v) for v in i.attrs['class']])\n",
    "        else:\n",
    "            pass\n",
    "    \n",
    "\n",
    "    print(f\"Сумма ID и CLASS тегов <p> с чётной длиной текста без пробелов: {total_id_sum + total_class_sum}\")\n",
    "\n",
    "\n",
    "sum_even_length_ids(html)"
   ],
   "id": "62ad72bc23928693",
   "outputs": [
    {
     "name": "stdout",
     "output_type": "stream",
     "text": [
      "Сумма ID и CLASS тегов <p> с чётной длиной текста без пробелов: 24294792\n"
     ]
    }
   ],
   "execution_count": 150
  }
 ],
 "metadata": {
  "kernelspec": {
   "display_name": "Python 3",
   "language": "python",
   "name": "python3"
  },
  "language_info": {
   "codemirror_mode": {
    "name": "ipython",
    "version": 2
   },
   "file_extension": ".py",
   "mimetype": "text/x-python",
   "name": "python",
   "nbconvert_exporter": "python",
   "pygments_lexer": "ipython2",
   "version": "2.7.6"
  }
 },
 "nbformat": 4,
 "nbformat_minor": 5
}
