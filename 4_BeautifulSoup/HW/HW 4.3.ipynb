{
 "cells": [
  {
   "metadata": {},
   "cell_type": "markdown",
   "source": "#### HW 1 (3) Получите HTML разметку из файла index.html ",
   "id": "2b36186e526c92a2"
  },
  {
   "metadata": {},
   "cell_type": "code",
   "outputs": [],
   "execution_count": null,
   "source": [
    "from bs4 import BeautifulSoup\n",
    "import sys"
   ],
   "id": "9457e2b16b7ce3c0"
  },
  {
   "metadata": {},
   "cell_type": "code",
   "outputs": [],
   "execution_count": null,
   "source": [
    "file = 'index.html'\n",
    "with open(file, encoding='utf-8') as f:\n",
    "    soup = BeautifulSoup(f, 'lxml')"
   ],
   "id": "a520e88593e4ea73"
  },
  {
   "metadata": {},
   "cell_type": "code",
   "outputs": [],
   "execution_count": null,
   "source": "soup",
   "id": "a21a8eccc39dd462"
  },
  {
   "metadata": {},
   "cell_type": "markdown",
   "source": "#### HW 2 (4) Извлеките текст из тега",
   "id": "c9174400d53f9c7"
  },
  {
   "metadata": {},
   "cell_type": "code",
   "outputs": [],
   "execution_count": null,
   "source": [
    "html_doc = \"\"\"\n",
    "<!DOCTYPE html>\n",
    "<html lang=\"ru\">\n",
    "<head>\n",
    "    <meta charset=\"UTF-8\">\n",
    "    <title>Пример карточки товара</title>\n",
    "</head>\n",
    "<body>\n",
    "    <div class=\"card\">\n",
    "        <img src=\"image.jpg\" alt=\"Пример изображения товара\">\n",
    "        <h2 class=\"card-title\"> iPhone 15 </h2>\n",
    "        <p class=\"card-description\">Аппаратной основой Apple iPhone 15 Pro Max стал 3-нанометровый чипсет A17 Pro с 6-ядерным GPU и поддержкой трассировки лучей.</p>\n",
    "        <p class=\"card-price\">999 999 руб.</p>\n",
    "        <a href=\"https://example.com/product-link\" class=\"card-link\">Подробнее</a>\n",
    "    </div>\n",
    "</body>\n",
    "</html>\n",
    "\"\"\""
   ],
   "id": "807cf04a39a41238"
  },
  {
   "metadata": {},
   "cell_type": "code",
   "outputs": [],
   "execution_count": null,
   "source": "soup = BeautifulSoup(html_doc, 'lxml')",
   "id": "600234049905bf10"
  },
  {
   "metadata": {},
   "cell_type": "code",
   "outputs": [],
   "execution_count": null,
   "source": "tag = soup.p",
   "id": "f8f08a2e41bc0900"
  },
  {
   "metadata": {},
   "cell_type": "code",
   "outputs": [],
   "execution_count": null,
   "source": "tag",
   "id": "199bb72297af3a98"
  },
  {
   "metadata": {},
   "cell_type": "code",
   "outputs": [],
   "execution_count": null,
   "source": [
    "print(type(tag))   \n",
    "print(tag.name)    \n",
    "print(tag.attrs)   \n",
    "print(tag.string)"
   ],
   "id": "79fd5fbc98f9e581"
  },
  {
   "metadata": {},
   "cell_type": "code",
   "outputs": [],
   "execution_count": null,
   "source": [
    "tag2 = soup.find('p', {'class': ['card-description']})\n",
    "tag2.text"
   ],
   "id": "6ba40374027c430a"
  },
  {
   "metadata": {},
   "cell_type": "code",
   "outputs": [],
   "execution_count": null,
   "source": [
    "def main ():\n",
    "    soup = BeautifulSoup(html_doc, 'lxml')\n",
    "    p_description = soup.find('p', {'class': ['card-description']})\n",
    "    print(p_description.text)\n",
    "\n",
    "main()"
   ],
   "id": "8f0e45a1344d2f22"
  },
  {
   "metadata": {},
   "cell_type": "markdown",
   "source": "#### HW 3 (step 5) Суммируйте значение всех артикулов",
   "id": "753f0204cf5d8770"
  },
  {
   "metadata": {},
   "cell_type": "code",
   "outputs": [],
   "execution_count": null,
   "source": [
    "html_doc = \"\"\"\n",
    "<!DOCTYPE html>\n",
    "<html lang=\"ru\">\n",
    "<head>\n",
    "    <meta charset=\"UTF-8\">\n",
    "</head>\n",
    "<body>\n",
    "    <div class=\"cards\">\n",
    "        <!-- Карточка товара 1 -->\n",
    "        <div class=\"card\">\n",
    "            <img src=\"parsing.png\" alt=\"WEB Парсинг на Python\">\n",
    "            <h2 class=\"card-title\">WEB Парсинг на Python</h2>\n",
    "            <p class=\"card-articul\">Артикул: 104774</p>\n",
    "            <p class=\"card-stock\">Наличие: 5 шт.</p>\n",
    "            <p class=\"card-price\">3500 руб.</p>\n",
    "            <a href=\"https://stepik.org/a/104774\" class=\"card-button\">Купить</a>\n",
    "        </div>\n",
    "        <!-- Карточка товара 2 -->\n",
    "        <div class=\"card\">\n",
    "            <img src=\"async.png\" alt=\"Асинхронный Python\">\n",
    "            <h2 class=\"card-title\">Асинхронный Python</h2>\n",
    "            <p class=\"card-articul\">Артикул: 170777</p>\n",
    "            <p class=\"card-stock\">Наличие: 10 шт.</p>\n",
    "            <p class=\"card-price\">3500 руб.</p>\n",
    "            <a href=\"https://stepik.org/a/170777\" class=\"card-button\">Купить</a>\n",
    "        </div>\n",
    "        <!-- Карточка товара 3 -->\n",
    "        <div class=\"card\">\n",
    "            <img src=\"selenium.PNG\" alt=\"Selenium Python\">\n",
    "            <h2 class=\"card-title\">Selenium Python</h2>\n",
    "            <p class=\"card-articul\">Артикул: 119495</p>\n",
    "            <p class=\"card-stock\">Наличие: 5 шт.</p>\n",
    "            <p class=\"card-price\">1250 руб.</p>\n",
    "            <a href=\"https://stepik.org/a/119495\" class=\"card-button\">Купить</a>\n",
    "        </div>\n",
    "    </div>\n",
    "</body>\n",
    "</html>\n",
    "\"\"\""
   ],
   "id": "ebd071ef22606410"
  },
  {
   "metadata": {},
   "cell_type": "code",
   "outputs": [],
   "execution_count": null,
   "source": "soup = BeautifulSoup(html_doc, 'html.parser')",
   "id": "406e1085d6339396"
  },
  {
   "metadata": {},
   "cell_type": "code",
   "outputs": [],
   "execution_count": null,
   "source": [
    "articuls = soup.find_all('p', {'class': 'card-articul'})\n",
    "articuls"
   ],
   "id": "4c46fe71f9024aad"
  },
  {
   "metadata": {},
   "cell_type": "code",
   "outputs": [],
   "execution_count": null,
   "source": [
    "full = []\n",
    "for i in articuls:\n",
    "    full.append(int(articuls[0].text.split(' ')[1]))"
   ],
   "id": "f8cb5d6b54aa3d05"
  },
  {
   "metadata": {},
   "cell_type": "code",
   "outputs": [],
   "execution_count": null,
   "source": "sum([int(x.text.split(' ')[1]) for x in articuls])",
   "id": "b61e1b297bbcffc6"
  },
  {
   "metadata": {},
   "cell_type": "markdown",
   "source": "#### HW 4 (step 6) Суммируйте значения alt всех img на странице",
   "id": "60cde22f09f42fa3"
  },
  {
   "metadata": {
    "ExecuteTime": {
     "end_time": "2024-10-02T14:22:02.487774Z",
     "start_time": "2024-10-02T14:22:02.482763Z"
    }
   },
   "cell_type": "code",
   "source": [
    "html_doc = \"\"\"\n",
    "<!DOCTYPE html>\n",
    "<html lang=\"ru\">\n",
    "<head>\n",
    "    <meta charset=\"UTF-8\">\n",
    "</head>\n",
    "<body>\n",
    "\n",
    "<div class=\"card\">\n",
    "    <h2>Товар 1</h2>\n",
    "    <img src=\"parsing.png\" alt=\"779966\">\n",
    "    <p>Цена: 1000 руб.</p>\n",
    "    <p>Описание: Отличный товар, изготовлен из качественных материалов.</p>\n",
    "    <p>Технические характеристики: Размеры: 10x10x10 см, Вес: 1 кг.</p>\n",
    "    <p>Доступные размеры: S, M, L</p>\n",
    "    <p>Отзывы: 5 звезд</p>\n",
    "    <p>Наличие на складе: В наличии</p>\n",
    "    <p>Информация о доставке: Бесплатно при заказе от 3000 руб.</p>\n",
    "    <a href=\"https://stepik.org/a/104774\" class=\"btn\">Купить</a>\n",
    "</div>\n",
    "\n",
    "<div class=\"card\">\n",
    "    <h2>Товар 2</h2>\n",
    "    <img src=\"async.png\" alt=\"331155\">\n",
    "    <p>Цена: 1500 руб.</p>\n",
    "    <p>Описание: Превосходный товар, подходит для повседневного использования.</p>\n",
    "    <p>Технические характеристики: Размеры: 15x15x15 см, Вес: 1.5 кг.</p>\n",
    "    <p>Доступные размеры: M, L, XL</p>\n",
    "    <p>Отзывы: 4.5 звезд</p>\n",
    "    <p>Наличие на складе: В наличии</p>\n",
    "    <p>Информация о доставке: Бесплатно при заказе от 5000 руб.</p>\n",
    "    <a href=\"https://stepik.org/a/170777\" class=\"btn\">Купить</a>\n",
    "</div>\n",
    "\n",
    "<div class=\"card\">\n",
    "    <h2>Товар 3</h2>\n",
    "    <img src=\"parsing.png\" alt=\"558877\">\n",
    "    <p>Цена: 2000 руб.</p>\n",
    "    <p>Описание: Удобный товар для дома и офиса.</p>\n",
    "    <p>Технические характеристики: Размеры: 12x12x12 см, Вес: 1.2 кг.</p>\n",
    "    <p>Доступные размеры: S, M</p>\n",
    "    <p>Отзывы: 4.7 звезд</p>\n",
    "    <p>Наличие на складе: В наличии</p>\n",
    "    <p>Информация о доставке: Бесплатно при заказе от 3500 руб.</p>\n",
    "    <a href=\"https://stepik.org/a/104774\" class=\"btn\">Купить</a>\n",
    "</div>\n",
    "\n",
    "<div class=\"card\">\n",
    "    <h2>Товар 4</h2>\n",
    "    <img src=\"async.png\" alt=\"449933\">\n",
    "    <p>Цена: 2500 руб.</p>\n",
    "    <p>Описание: Стильный и практичный товар.</p>\n",
    "    <p>Технические характеристики: Размеры: 14x14x14 см, Вес: 1.4 кг.</p>\n",
    "    <p>Доступные размеры: L, XL</p>\n",
    "    <p>Отзывы: 4.8 звезд</p>\n",
    "    <p>Наличие на складе: В наличии</p>\n",
    "    <p>Информация о доставке: Бесплатно при заказе от 4000 руб.</p>\n",
    "    <a href=\"https://stepik.org/a/170777\" class=\"btn\">Купить</a>\n",
    "</div>\n",
    "\n",
    "<div class=\"card\">\n",
    "    <h2>Товар 5</h2>\n",
    "    <img src=\"parsing.png\" alt=\"667711\">\n",
    "    <p>Цена: 2700 руб.</p>\n",
    "    <p>Описание: Идеальный товар для повседневного использования.</p>\n",
    "    <p>Технические характеристики: Размеры: 13x13x13 см, Вес: 1.3 кг.</p>\n",
    "    <p>Доступные размеры: M, L, XL</p>\n",
    "    <p>Отзывы: 4.9 звезд</p>\n",
    "    <p>Наличие на складе: В наличии</p>\n",
    "    <p>Информация о доставке: Бесплатно при заказе от 4500 руб.</p>\n",
    "    <a href=\"https://stepik.org/a/104774\" class=\"btn\">Купить</a>\n",
    "</div>\n",
    "\n",
    "<div class=\"card\">\n",
    "    <h2>Товар 6</h2>\n",
    "    <img src=\"async.png\" alt=\"334455\">\n",
    "    <p>Цена: 3000 руб.</p>\n",
    "    <p>Описание: Прочный и надежный товар.</p>\n",
    "    <p>Технические характеристики: Размеры: 16x16x16 см, Вес: 1.6 кг.</p>\n",
    "    <p>Доступные размеры: S, M</p>\n",
    "    <p>Отзывы: 5 звезд</p>\n",
    "    <p>Наличие на складе: В наличии</p>\n",
    "    <p>Информация о доставке: Бесплатно при заказе от 5000 руб.</p>\n",
    "    <a href=\"https://stepik.org/a/170777\" class=\"btn\">Купить</a>\n",
    "</div>\n",
    "\n",
    "\n",
    "</body>\n",
    "</html>\n",
    "\"\"\""
   ],
   "id": "2f8d551cb36702e1",
   "outputs": [],
   "execution_count": 1
  },
  {
   "metadata": {
    "ExecuteTime": {
     "end_time": "2024-10-02T14:22:33.500872Z",
     "start_time": "2024-10-02T14:22:33.449817Z"
    }
   },
   "cell_type": "code",
   "source": [
    "from bs4 import BeautifulSoup\n",
    "soup = BeautifulSoup(html_doc, 'html.parser')"
   ],
   "id": "8ac09e2f2aa3779f",
   "outputs": [],
   "execution_count": 3
  },
  {
   "metadata": {},
   "cell_type": "code",
   "outputs": [],
   "execution_count": null,
   "source": "",
   "id": "9a3c06ad4bd4b776"
  }
 ],
 "metadata": {
  "kernelspec": {
   "display_name": "Python 3",
   "language": "python",
   "name": "python3"
  },
  "language_info": {
   "codemirror_mode": {
    "name": "ipython",
    "version": 2
   },
   "file_extension": ".py",
   "mimetype": "text/x-python",
   "name": "python",
   "nbconvert_exporter": "python",
   "pygments_lexer": "ipython2",
   "version": "2.7.6"
  }
 },
 "nbformat": 4,
 "nbformat_minor": 5
}
