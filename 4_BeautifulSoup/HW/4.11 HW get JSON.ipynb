{
 "cells": [
  {
   "cell_type": "code",
   "id": "initial_id",
   "metadata": {
    "collapsed": true,
    "ExecuteTime": {
     "end_time": "2024-11-10T19:19:09.634978Z",
     "start_time": "2024-11-10T19:19:09.630257Z"
    }
   },
   "source": [
    "import pandas as pd\n",
    "import requests\n",
    "import json\n",
    "from bs4 import BeautifulSoup"
   ],
   "outputs": [],
   "execution_count": 27
  },
  {
   "metadata": {},
   "cell_type": "markdown",
   "source": [
    "### Анализ количества товаров через JSON\n",
    "step 3"
   ],
   "id": "98252582503d770b"
  },
  {
   "metadata": {
    "ExecuteTime": {
     "end_time": "2024-11-10T19:19:09.914069Z",
     "start_time": "2024-11-10T19:19:09.909058Z"
    }
   },
   "cell_type": "code",
   "source": "url = 'http://parsinger.ru/downloads/get_json/res.json'",
   "id": "b80fe9cf8008923f",
   "outputs": [],
   "execution_count": 28
  },
  {
   "metadata": {
    "ExecuteTime": {
     "end_time": "2024-11-10T19:19:10.584502Z",
     "start_time": "2024-11-10T19:19:10.244977Z"
    }
   },
   "cell_type": "code",
   "source": "r = requests.get(url)",
   "id": "b54f5ede39f65a01",
   "outputs": [],
   "execution_count": 29
  },
  {
   "metadata": {
    "ExecuteTime": {
     "end_time": "2024-11-10T19:19:11.191800Z",
     "start_time": "2024-11-10T19:19:11.187414Z"
    }
   },
   "cell_type": "code",
   "source": "res_j = r.json()",
   "id": "80642e9bf1681fee",
   "outputs": [],
   "execution_count": 30
  },
  {
   "metadata": {
    "ExecuteTime": {
     "end_time": "2024-11-10T19:20:27.489666Z",
     "start_time": "2024-11-10T19:20:27.483524Z"
    }
   },
   "cell_type": "code",
   "source": [
    "ans = {}\n",
    "for val in res_j:\n",
    "    if val['categories'] in ans:\n",
    "        ans[val['categories']] += int(val['count'])\n",
    "    else:\n",
    "        ans[val['categories']] = int(val['count'])\n",
    "print(ans)"
   ],
   "id": "29b2819f7cd2c93d",
   "outputs": [
    {
     "name": "stdout",
     "output_type": "stream",
     "text": [
      "{'watch': 853, 'mobile': 820, 'mouse': 2692, 'hdd': 1273, 'headphones': 1006}\n"
     ]
    }
   ],
   "execution_count": 34
  },
  {
   "metadata": {
    "ExecuteTime": {
     "end_time": "2024-11-10T19:25:28.934265Z",
     "start_time": "2024-11-10T19:25:28.928687Z"
    }
   },
   "cell_type": "code",
   "source": "df = pd.DataFrame(r.json())",
   "id": "62ea37bf7df63200",
   "outputs": [],
   "execution_count": 46
  },
  {
   "metadata": {
    "ExecuteTime": {
     "end_time": "2024-11-10T19:25:36.381396Z",
     "start_time": "2024-11-10T19:25:36.377695Z"
    }
   },
   "cell_type": "code",
   "source": "df['count'] = df['count'].astype(int)",
   "id": "257df959bcef29be",
   "outputs": [],
   "execution_count": 47
  },
  {
   "metadata": {
    "ExecuteTime": {
     "end_time": "2024-11-10T19:26:45.393268Z",
     "start_time": "2024-11-10T19:26:45.385617Z"
    }
   },
   "cell_type": "code",
   "source": "df.groupby('categories')['count'].sum()",
   "id": "4031da86cd22f6e9",
   "outputs": [
    {
     "data": {
      "text/plain": [
       "categories\n",
       "hdd           1273\n",
       "headphones    1006\n",
       "mobile         820\n",
       "mouse         2692\n",
       "watch          853\n",
       "Name: count, dtype: int64"
      ]
     },
     "execution_count": 51,
     "metadata": {},
     "output_type": "execute_result"
    }
   ],
   "execution_count": 51
  },
  {
   "metadata": {},
   "cell_type": "markdown",
   "source": [
    "### Вычисление Стоимости Товаров в Каждой Категории\n",
    "step 4"
   ],
   "id": "ad438052e5b7fac8"
  },
  {
   "metadata": {
    "ExecuteTime": {
     "end_time": "2024-11-10T19:31:53.790601Z",
     "start_time": "2024-11-10T19:31:53.347180Z"
    }
   },
   "cell_type": "code",
   "source": [
    "url = 'http://parsinger.ru/downloads/get_json/res.json'\n",
    "r = requests.get(url)\n",
    "res_j = r.json()"
   ],
   "id": "4eaf7833cffb810a",
   "outputs": [],
   "execution_count": 54
  },
  {
   "metadata": {
    "ExecuteTime": {
     "end_time": "2024-11-10T19:39:55.848259Z",
     "start_time": "2024-11-10T19:39:55.842039Z"
    }
   },
   "cell_type": "code",
   "source": [
    "def tot_sum(val):\n",
    "    price = int(val['price'].split()[0])\n",
    "    count = int(val['count'])\n",
    "    total_sum = price * count\n",
    "    return total_sum\n",
    "    \n",
    "ans = {}\n",
    "for val in res_j:\n",
    "    if val['categories'] in ans:        \n",
    "        ans[val['categories']] += tot_sum(val)\n",
    "    else:        \n",
    "        ans[val['categories']] = tot_sum(val)"
   ],
   "id": "8a5ca3ec1bc71812",
   "outputs": [],
   "execution_count": 62
  },
  {
   "metadata": {
    "ExecuteTime": {
     "end_time": "2024-11-10T19:40:18.192922Z",
     "start_time": "2024-11-10T19:40:18.188207Z"
    }
   },
   "cell_type": "code",
   "source": "print(ans)",
   "id": "158b49cd9254d13a",
   "outputs": [
    {
     "name": "stdout",
     "output_type": "stream",
     "text": [
      "{'watch': 12143140, 'mobile': 2390480, 'mouse': 2713625, 'hdd': 25673970, 'headphones': 2145980}\n"
     ]
    }
   ],
   "execution_count": 64
  },
  {
   "metadata": {},
   "cell_type": "code",
   "outputs": [],
   "execution_count": null,
   "source": "",
   "id": "4d740c331f97afe9"
  }
 ],
 "metadata": {
  "kernelspec": {
   "display_name": "Python 3",
   "language": "python",
   "name": "python3"
  },
  "language_info": {
   "codemirror_mode": {
    "name": "ipython",
    "version": 2
   },
   "file_extension": ".py",
   "mimetype": "text/x-python",
   "name": "python",
   "nbconvert_exporter": "python",
   "pygments_lexer": "ipython2",
   "version": "2.7.6"
  }
 },
 "nbformat": 4,
 "nbformat_minor": 5
}
