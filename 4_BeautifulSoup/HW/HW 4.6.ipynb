{
 "cells": [
  {
   "cell_type": "code",
   "id": "initial_id",
   "metadata": {
    "collapsed": true,
    "ExecuteTime": {
     "end_time": "2024-10-22T07:00:13.679530Z",
     "start_time": "2024-10-22T07:00:13.594576Z"
    }
   },
   "source": [
    "import requests\n",
    "from bs4 import BeautifulSoup"
   ],
   "outputs": [],
   "execution_count": 4
  },
  {
   "metadata": {},
   "cell_type": "markdown",
   "source": [
    "### 4.6 Step 4\n",
    " Извлечение названий товаров с веб-сайта"
   ],
   "id": "2f79d2e54dc58af5"
  },
  {
   "metadata": {
    "ExecuteTime": {
     "end_time": "2024-10-21T09:15:23.802339Z",
     "start_time": "2024-10-21T09:15:23.799363Z"
    }
   },
   "cell_type": "code",
   "source": "url = 'http://parsinger.ru/html/index3_page_1.html'",
   "id": "e7dd48a5fa4d7791",
   "outputs": [],
   "execution_count": 62
  },
  {
   "metadata": {
    "ExecuteTime": {
     "end_time": "2024-10-21T09:15:24.463149Z",
     "start_time": "2024-10-21T09:15:24.169135Z"
    }
   },
   "cell_type": "code",
   "source": [
    "r = requests.get(url)\n",
    "if r.status_code != 200:\n",
    "    print(r.status_code, '\\n\\n', r.text)"
   ],
   "id": "300ac304a29d11d8",
   "outputs": [],
   "execution_count": 63
  },
  {
   "metadata": {
    "ExecuteTime": {
     "end_time": "2024-10-21T09:15:25.155129Z",
     "start_time": "2024-10-21T09:15:25.152137Z"
    }
   },
   "cell_type": "code",
   "source": "r.encoding = 'utf-8'",
   "id": "fe1da7909ed19e89",
   "outputs": [],
   "execution_count": 64
  },
  {
   "metadata": {
    "ExecuteTime": {
     "end_time": "2024-10-21T09:15:34.516180Z",
     "start_time": "2024-10-21T09:15:34.506267Z"
    }
   },
   "cell_type": "code",
   "source": "soup = BeautifulSoup(r.text, 'html.parser')",
   "id": "3c0bdbf898d38b28",
   "outputs": [],
   "execution_count": 65
  },
  {
   "metadata": {
    "ExecuteTime": {
     "end_time": "2024-10-21T09:17:18.127057Z",
     "start_time": "2024-10-21T09:17:18.124202Z"
    }
   },
   "cell_type": "code",
   "source": "last_page = int(soup.find('div', {'class': 'pagen'}).find_all('a')[-1].text)",
   "id": "2e3bb1889ddb77aa",
   "outputs": [],
   "execution_count": 72
  },
  {
   "metadata": {
    "ExecuteTime": {
     "end_time": "2024-10-21T09:20:33.712855Z",
     "start_time": "2024-10-21T09:20:32.698664Z"
    }
   },
   "cell_type": "code",
   "source": [
    "n = 1\n",
    "full_product = []\n",
    "for page in range(1, last_page+1):\n",
    "    url = f'http://parsinger.ru/html/index3_page_{n}.html'\n",
    "    r = requests.get(url)\n",
    "    if r.status_code != 200:\n",
    "        print(r.status_code, '\\n\\n', r.text)\n",
    "    r.encoding = 'utf-8'\n",
    "    soup = BeautifulSoup(r.text, 'html.parser')\n",
    "    page_product = list()\n",
    "    for div_teg in soup.find_all('div', {'class': 'img_box'}):\n",
    "        page_product.append(div_teg.find('a', {'class': 'name_item'}).text)\n",
    "    full_product.append(page_product)\n",
    "    n += 1"
   ],
   "id": "71813ebc32547d67",
   "outputs": [],
   "execution_count": 73
  },
  {
   "metadata": {
    "ExecuteTime": {
     "end_time": "2024-10-21T09:20:49.831342Z",
     "start_time": "2024-10-21T09:20:49.826764Z"
    }
   },
   "cell_type": "code",
   "source": "print(full_product)",
   "id": "d74de7cadaad1abc",
   "outputs": [
    {
     "name": "stdout",
     "output_type": "stream",
     "text": [
      "[[' Vampire RGB,9 кнопок ', 'Defender Halo Z GM-430L', ' Defender Shark 2 ', ' Defender sTarx GM-390L ', ' Defender Skull GM-180L ', ' Defender Killer GM-170L ', ' Defender Ghost GM-190L ', ' Defender Witcher GM-990 '], [' Logitech G305 LIGHTSPEED Wireless ', ' Logitech G102 LIGHTSYNC Gaming', ' Logitech G PRO HERO Black ', ' Logitech G402 Hyperion Fury ', ' STM 109CW ', ' Defender MB-986 ', ' Gembird MG-520 ', ' CBR CM 846 '], [' Гарнизон GM-720G ', ' Гарнизон GM-700G ', ' Гарнизон GM-760G ', ' Гарнизон GM-730G ', ' Гарнизон GM-620G ', ' A4TECH Bloody Q51 ', ' MGK-03U Dialog Gan-Kata ', ' Defender Flash MB-600L '], [' Gembird MG-550 ', ' Lenovo Legion M200 ', ' Sven RX-G750 ', ' Wired Gaming Mouse ', ' MSI Clutch GM08 ', '  Gembird MG-760 ', ' MGK-11U Dialog Gan-Kata ', ' Logitech G102 ']]\n"
     ]
    }
   ],
   "execution_count": 75
  },
  {
   "metadata": {},
   "cell_type": "code",
   "outputs": [],
   "execution_count": null,
   "source": "",
   "id": "1fc82cce8187ce3c"
  },
  {
   "metadata": {},
   "cell_type": "markdown",
   "source": [
    "### 4.6 Step 5\n",
    " Парсинг артикулов товаров с веб-сайта"
   ],
   "id": "df9cd4c44cdd3fa9"
  },
  {
   "metadata": {
    "ExecuteTime": {
     "end_time": "2024-10-21T11:40:09.901809Z",
     "start_time": "2024-10-21T11:40:09.898312Z"
    }
   },
   "cell_type": "code",
   "source": "url = 'http://parsinger.ru/html/index3_page_4.html'",
   "id": "599cb599c4a7549f",
   "outputs": [],
   "execution_count": 122
  },
  {
   "metadata": {
    "ExecuteTime": {
     "end_time": "2024-10-21T11:40:10.468973Z",
     "start_time": "2024-10-21T11:40:10.223845Z"
    }
   },
   "cell_type": "code",
   "source": [
    "r = requests.get(url)\n",
    "r.encoding = 'utf-8'"
   ],
   "id": "cc14a1171e73e66c",
   "outputs": [],
   "execution_count": 123
  },
  {
   "metadata": {
    "ExecuteTime": {
     "end_time": "2024-10-21T11:40:11.137294Z",
     "start_time": "2024-10-21T11:40:11.127721Z"
    }
   },
   "cell_type": "code",
   "source": "soup = BeautifulSoup(r.text, 'html.parser')",
   "id": "d246cbf0adc09e13",
   "outputs": [],
   "execution_count": 124
  },
  {
   "metadata": {
    "ExecuteTime": {
     "end_time": "2024-10-21T11:40:11.532644Z",
     "start_time": "2024-10-21T11:40:11.529718Z"
    }
   },
   "cell_type": "code",
   "source": [
    "last_page = int(soup.find('div', class_='pagen').find_all('a', {'href': True})[-1].text)\n",
    "last_page"
   ],
   "id": "877da1b483b53658",
   "outputs": [
    {
     "data": {
      "text/plain": [
       "4"
      ]
     },
     "execution_count": 125,
     "metadata": {},
     "output_type": "execute_result"
    }
   ],
   "execution_count": 125
  },
  {
   "metadata": {
    "ExecuteTime": {
     "end_time": "2024-10-21T11:56:06.038199Z",
     "start_time": "2024-10-21T11:55:58.438949Z"
    }
   },
   "cell_type": "code",
   "source": [
    "n = 1\n",
    "total_sum = 0\n",
    "for page in range(1, last_page+1): \n",
    "    url_product = f'https://parsinger.ru/html/index3_page_{n}.html'\n",
    "    r_page = requests.get(url_product)\n",
    "    r_page.encoding = 'utf-8'\n",
    "    soup_page = BeautifulSoup(r_page.text)\n",
    "    href_str = soup_page.find_all('a', {'class': 'name_item', 'href': True})\n",
    "    href_list = [string.get('href') for string in href_str]\n",
    "    url_ = 'https://parsinger.ru/html/'\n",
    "    for href in href_list:\n",
    "        url_product = url_+href\n",
    "        r_p = requests.get(url_product)\n",
    "        r_p.encoding = 'utf-8'\n",
    "        soup_product = BeautifulSoup(r_p.text)\n",
    "        total_sum += int(soup_product.find('p', {'class': 'article'}).text.split(' ')[1])\n",
    "    n += 1    "
   ],
   "id": "60d46e42e8fa6b5f",
   "outputs": [],
   "execution_count": 132
  },
  {
   "metadata": {
    "ExecuteTime": {
     "end_time": "2024-10-21T11:56:06.916007Z",
     "start_time": "2024-10-21T11:56:06.910716Z"
    }
   },
   "cell_type": "code",
   "source": "total_sum",
   "id": "2abc24f46cd0cfb8",
   "outputs": [
    {
     "data": {
      "text/plain": [
       "2505109532"
      ]
     },
     "execution_count": 133,
     "metadata": {},
     "output_type": "execute_result"
    }
   ],
   "execution_count": 133
  },
  {
   "metadata": {},
   "cell_type": "markdown",
   "source": [
    "### 4.6 Step 6\n",
    " Комплексное извлечение стоимости товаров"
   ],
   "id": "ef5a7b5c6e1777d4"
  },
  {
   "metadata": {
    "ExecuteTime": {
     "end_time": "2024-10-22T07:00:20.184Z",
     "start_time": "2024-10-22T07:00:20.178240Z"
    }
   },
   "cell_type": "code",
   "source": [
    "def soup_html(url):\n",
    "    r = requests.get(url)\n",
    "    r.encoding = 'urf-8'\n",
    "    return BeautifulSoup(r.text, 'html.parser')"
   ],
   "id": "c3351f396793f0cb",
   "outputs": [],
   "execution_count": 5
  },
  {
   "metadata": {
    "ExecuteTime": {
     "end_time": "2024-10-22T07:00:21.728665Z",
     "start_time": "2024-10-22T07:00:21.724796Z"
    }
   },
   "cell_type": "code",
   "source": "url = 'http://parsinger.ru/html/index1_page_1.html'",
   "id": "8ef317dd6bbe7b31",
   "outputs": [],
   "execution_count": 6
  },
  {
   "metadata": {
    "ExecuteTime": {
     "end_time": "2024-10-22T07:01:59.335280Z",
     "start_time": "2024-10-22T07:01:59.088048Z"
    }
   },
   "cell_type": "code",
   "source": [
    "soup_url_index = soup_html(url)\n",
    "col_indexs = len(soup_url_index.find('div', class_='nav_menu').find_all('a'))  # кол-во индексов (категорий)"
   ],
   "id": "a78656fe9b2ee4ce",
   "outputs": [],
   "execution_count": 10
  },
  {
   "metadata": {
    "ExecuteTime": {
     "end_time": "2024-10-22T07:24:37.801785Z",
     "start_time": "2024-10-22T07:23:49.866826Z"
    }
   },
   "cell_type": "code",
   "source": [
    "url_href = 'http://parsinger.ru/html/'\n",
    "index = 1\n",
    "page = 1\n",
    "col_price = 0\n",
    "total_sum = 0\n",
    "for index in range(1, col_indexs+1):    \n",
    "    \"\"\" Проход по категориям \"\"\"    \n",
    "    page_soup = soup_html(f'http://parsinger.ru/html/index{index}_page_{page}.html')\n",
    "    col_pages = len(page_soup.find('div', {'class': 'pagen'}).find_all('a'))  # кол. страниц (пагенаций)\n",
    "    for page in range(1, col_pages+1):\n",
    "        \"\"\"Проход по страницам\"\"\"\n",
    "        cart_soup = soup_html(f'http://parsinger.ru/html/index{index}_page_{page}.html')\n",
    "        href_strs = cart_soup.find_all('a', {'class': 'name_item', 'href': True, 'name': True})\n",
    "        href_list = [href.get('href') for href in href_strs]\n",
    "        for href in href_list:            \n",
    "            \"\"\"Проход по карточкам\"\"\"\n",
    "            url_cards = url_href + href            \n",
    "            soup_card = soup_html(url_cards)\n",
    "            card_price = int(soup_card.find('span', {'id': 'price'}).text.split(' ')[0])\n",
    "            card_col = int(soup_card.find('span', {'id': 'in_stock'}).text.split(' ')[-1])\n",
    "            col_price = card_price * card_col\n",
    "            total_sum += col_price            "
   ],
   "id": "dca49921a84c26ae",
   "outputs": [
    {
     "name": "stdout",
     "output_type": "stream",
     "text": [
      "index1\n",
      "page1\n",
      "url запроса http://parsinger.ru/html/index1_page_1.html\n",
      "url href http://parsinger.ru/html/watch/1/1_1.html\n",
      "card_price 2310, card_col 5, total_sum 11550\n",
      "url href http://parsinger.ru/html/watch/1/1_2.html\n",
      "card_price 5480, card_col 15, total_sum 93750\n",
      "url href http://parsinger.ru/html/watch/1/1_3.html\n",
      "card_price 21810, card_col 15, total_sum 420900\n",
      "url href http://parsinger.ru/html/watch/1/1_4.html\n",
      "card_price 21810, card_col 22, total_sum 900720\n",
      "url href http://parsinger.ru/html/watch/1/1_5.html\n",
      "card_price 27770, card_col 10, total_sum 1178420\n",
      "url href http://parsinger.ru/html/watch/1/1_6.html\n",
      "card_price 27770, card_col 7, total_sum 1372810\n",
      "url href http://parsinger.ru/html/watch/1/1_7.html\n",
      "card_price 24230, card_col 8, total_sum 1566650\n",
      "url href http://parsinger.ru/html/watch/1/1_8.html\n",
      "card_price 32600, card_col 18, total_sum 2153450\n",
      "page2\n",
      "url запроса http://parsinger.ru/html/index1_page_2.html\n",
      "url href http://parsinger.ru/html/watch/1/1_9.html\n",
      "card_price 24230, card_col 40, total_sum 3122650\n",
      "url href http://parsinger.ru/html/watch/1/1_10.html\n",
      "card_price 11460, card_col 32, total_sum 3489370\n",
      "url href http://parsinger.ru/html/watch/1/1_11.html\n",
      "card_price 15850, card_col 17, total_sum 3758820\n",
      "url href http://parsinger.ru/html/watch/1/1_12.html\n",
      "card_price 17070, card_col 24, total_sum 4168500\n",
      "url href http://parsinger.ru/html/watch/1/1_13.html\n",
      "card_price 27770, card_col 55, total_sum 5695850\n",
      "url href http://parsinger.ru/html/watch/1/1_14.html\n",
      "card_price 24230, card_col 37, total_sum 6592360\n",
      "url href http://parsinger.ru/html/watch/1/1_15.html\n",
      "card_price 11460, card_col 7, total_sum 6672580\n",
      "url href http://parsinger.ru/html/watch/1/1_16.html\n",
      "card_price 9040, card_col 21, total_sum 6862420\n",
      "page3\n",
      "url запроса http://parsinger.ru/html/index1_page_3.html\n",
      "url href http://parsinger.ru/html/watch/1/1_17.html\n",
      "card_price 15850, card_col 57, total_sum 7765870\n",
      "url href http://parsinger.ru/html/watch/1/1_18.html\n",
      "card_price 15850, card_col 58, total_sum 8685170\n",
      "url href http://parsinger.ru/html/watch/1/1_19.html\n",
      "card_price 15850, card_col 29, total_sum 9144820\n",
      "url href http://parsinger.ru/html/watch/1/1_20.html\n",
      "card_price 24230, card_col 42, total_sum 10162480\n",
      "url href http://parsinger.ru/html/watch/1/1_21.html\n",
      "card_price 9040, card_col 21, total_sum 10352320\n",
      "url href http://parsinger.ru/html/watch/1/1_22.html\n",
      "card_price 9040, card_col 20, total_sum 10533120\n",
      "url href http://parsinger.ru/html/watch/1/1_23.html\n",
      "card_price 4580, card_col 55, total_sum 10785020\n",
      "url href http://parsinger.ru/html/watch/1/1_24.html\n",
      "card_price 4840, card_col 20, total_sum 10881820\n",
      "page4\n",
      "url запроса http://parsinger.ru/html/index1_page_4.html\n",
      "url href http://parsinger.ru/html/watch/1/1_25.html\n",
      "card_price 3880, card_col 29, total_sum 10994340\n",
      "url href http://parsinger.ru/html/watch/1/1_26.html\n",
      "card_price 4510, card_col 60, total_sum 11264940\n",
      "url href http://parsinger.ru/html/watch/1/1_27.html\n",
      "card_price 11480, card_col 41, total_sum 11735620\n",
      "url href http://parsinger.ru/html/watch/1/1_28.html\n",
      "card_price 3790, card_col 26, total_sum 11834160\n",
      "url href http://parsinger.ru/html/watch/1/1_29.html\n",
      "card_price 4700, card_col 26, total_sum 11956360\n",
      "url href http://parsinger.ru/html/watch/1/1_30.html\n",
      "card_price 5140, card_col 7, total_sum 11992340\n",
      "url href http://parsinger.ru/html/watch/1/1_31.html\n",
      "card_price 4600, card_col 17, total_sum 12070540\n",
      "url href http://parsinger.ru/html/watch/1/1_32.html\n",
      "card_price 6050, card_col 12, total_sum 12143140\n",
      "index2\n",
      "page1\n",
      "url запроса http://parsinger.ru/html/index2_page_1.html\n",
      "url href http://parsinger.ru/html/mobile/2/2_1.html\n",
      "card_price 2490, card_col 31, total_sum 12220330\n",
      "url href http://parsinger.ru/html/mobile/2/2_2.html\n",
      "card_price 1070, card_col 20, total_sum 12241730\n",
      "url href http://parsinger.ru/html/mobile/2/2_3.html\n",
      "card_price 3130, card_col 17, total_sum 12294940\n",
      "url href http://parsinger.ru/html/mobile/2/2_4.html\n",
      "card_price 1920, card_col 7, total_sum 12308380\n",
      "url href http://parsinger.ru/html/mobile/2/2_5.html\n",
      "card_price 1550, card_col 37, total_sum 12365730\n",
      "url href http://parsinger.ru/html/mobile/2/2_6.html\n",
      "card_price 1830, card_col 5, total_sum 12374880\n",
      "url href http://parsinger.ru/html/mobile/2/2_7.html\n",
      "card_price 2020, card_col 15, total_sum 12405180\n",
      "url href http://parsinger.ru/html/mobile/2/2_8.html\n",
      "card_price 1160, card_col 60, total_sum 12474780\n",
      "page2\n",
      "url запроса http://parsinger.ru/html/index2_page_2.html\n",
      "url href http://parsinger.ru/html/mobile/2/2_9.html\n",
      "card_price 1550, card_col 30, total_sum 12521280\n",
      "url href http://parsinger.ru/html/mobile/2/2_10.html\n",
      "card_price 1460, card_col 30, total_sum 12565080\n",
      "url href http://parsinger.ru/html/mobile/2/2_11.html\n",
      "card_price 2740, card_col 13, total_sum 12600700\n",
      "url href http://parsinger.ru/html/mobile/2/2_12.html\n",
      "card_price 1740, card_col 3, total_sum 12605920\n",
      "url href http://parsinger.ru/html/mobile/2/2_13.html\n",
      "card_price 1840, card_col 7, total_sum 12618800\n",
      "url href http://parsinger.ru/html/mobile/2/2_14.html\n",
      "card_price 3350, card_col 77, total_sum 12876750\n",
      "url href http://parsinger.ru/html/mobile/2/2_15.html\n",
      "card_price 4910, card_col 55, total_sum 13146800\n",
      "url href http://parsinger.ru/html/mobile/2/2_16.html\n",
      "card_price 1130, card_col 77, total_sum 13233810\n",
      "page3\n",
      "url запроса http://parsinger.ru/html/index2_page_3.html\n",
      "url href http://parsinger.ru/html/mobile/2/2_17.html\n",
      "card_price 1720, card_col 27, total_sum 13280250\n",
      "url href http://parsinger.ru/html/mobile/2/2_18.html\n",
      "card_price 3630, card_col 10, total_sum 13316550\n",
      "url href http://parsinger.ru/html/mobile/2/2_19.html\n",
      "card_price 2690, card_col 11, total_sum 13346140\n",
      "url href http://parsinger.ru/html/mobile/2/2_20.html\n",
      "card_price 1460, card_col 8, total_sum 13357820\n",
      "url href http://parsinger.ru/html/mobile/2/2_21.html\n",
      "card_price 4320, card_col 38, total_sum 13521980\n",
      "url href http://parsinger.ru/html/mobile/2/2_22.html\n",
      "card_price 2620, card_col 25, total_sum 13587480\n",
      "url href http://parsinger.ru/html/mobile/2/2_23.html\n",
      "card_price 2700, card_col 5, total_sum 13600980\n",
      "url href http://parsinger.ru/html/mobile/2/2_24.html\n",
      "card_price 6600, card_col 35, total_sum 13831980\n",
      "page4\n",
      "url запроса http://parsinger.ru/html/index2_page_4.html\n",
      "url href http://parsinger.ru/html/mobile/2/2_25.html\n",
      "card_price 3480, card_col 19, total_sum 13898100\n",
      "url href http://parsinger.ru/html/mobile/2/2_26.html\n",
      "card_price 1930, card_col 12, total_sum 13921260\n",
      "url href http://parsinger.ru/html/mobile/2/2_27.html\n",
      "card_price 4660, card_col 32, total_sum 14070380\n",
      "url href http://parsinger.ru/html/mobile/2/2_28.html\n",
      "card_price 6600, card_col 32, total_sum 14281580\n",
      "url href http://parsinger.ru/html/mobile/2/2_29.html\n",
      "card_price 4100, card_col 42, total_sum 14453780\n",
      "url href http://parsinger.ru/html/mobile/2/2_30.html\n",
      "card_price 2030, card_col 14, total_sum 14482200\n",
      "url href http://parsinger.ru/html/mobile/2/2_31.html\n",
      "card_price 1600, card_col 24, total_sum 14520600\n",
      "url href http://parsinger.ru/html/mobile/2/2_32.html\n",
      "card_price 6510, card_col 2, total_sum 14533620\n",
      "index3\n",
      "page1\n",
      "url запроса http://parsinger.ru/html/index3_page_1.html\n",
      "url href http://parsinger.ru/html/mouse/3/3_1.html\n",
      "card_price 1610, card_col 140, total_sum 14759020\n",
      "url href http://parsinger.ru/html/mouse/3/3_2.html\n",
      "card_price 550, card_col 87, total_sum 14806870\n",
      "url href http://parsinger.ru/html/mouse/3/3_3.html\n",
      "card_price 1480, card_col 65, total_sum 14903070\n",
      "url href http://parsinger.ru/html/mouse/3/3_4.html\n",
      "card_price 730, card_col 55, total_sum 14943220\n",
      "url href http://parsinger.ru/html/mouse/3/3_5.html\n",
      "card_price 485, card_col 55, total_sum 14969895\n",
      "url href http://parsinger.ru/html/mouse/3/3_6.html\n",
      "card_price 550, card_col 15, total_sum 14978145\n",
      "url href http://parsinger.ru/html/mouse/3/3_7.html\n",
      "card_price 600, card_col 25, total_sum 14993145\n",
      "url href http://parsinger.ru/html/mouse/3/3_8.html\n",
      "card_price 730, card_col 25, total_sum 15011395\n",
      "page2\n",
      "url запроса http://parsinger.ru/html/index3_page_2.html\n",
      "url href http://parsinger.ru/html/mouse/3/3_9.html\n",
      "card_price 8920, card_col 25, total_sum 15234395\n",
      "url href http://parsinger.ru/html/mouse/3/3_10.html\n",
      "card_price 4350, card_col 25, total_sum 15343145\n",
      "url href http://parsinger.ru/html/mouse/3/3_11.html\n",
      "card_price 5100, card_col 55, total_sum 15623645\n",
      "url href http://parsinger.ru/html/mouse/3/3_12.html\n",
      "card_price 4400, card_col 27, total_sum 15742445\n",
      "url href http://parsinger.ru/html/mouse/3/3_13.html\n",
      "card_price 455, card_col 127, total_sum 15800230\n",
      "url href http://parsinger.ru/html/mouse/3/3_14.html\n",
      "card_price 270, card_col 550, total_sum 15948730\n",
      "url href http://parsinger.ru/html/mouse/3/3_15.html\n",
      "card_price 720, card_col 150, total_sum 16056730\n",
      "url href http://parsinger.ru/html/mouse/3/3_16.html\n",
      "card_price 790, card_col 99, total_sum 16134940\n",
      "page3\n",
      "url запроса http://parsinger.ru/html/index3_page_3.html\n",
      "url href http://parsinger.ru/html/mouse/3/3_17.html\n",
      "card_price 600, card_col 81, total_sum 16183540\n",
      "url href http://parsinger.ru/html/mouse/3/3_18.html\n",
      "card_price 425, card_col 21, total_sum 16192465\n",
      "url href http://parsinger.ru/html/mouse/3/3_19.html\n",
      "card_price 610, card_col 61, total_sum 16229675\n",
      "url href http://parsinger.ru/html/mouse/3/3_20.html\n",
      "card_price 580, card_col 41, total_sum 16253455\n",
      "url href http://parsinger.ru/html/mouse/3/3_21.html\n",
      "card_price 385, card_col 121, total_sum 16300040\n",
      "url href http://parsinger.ru/html/mouse/3/3_22.html\n",
      "card_price 1320, card_col 91, total_sum 16420160\n",
      "url href http://parsinger.ru/html/mouse/3/3_23.html\n",
      "card_price 260, card_col 50, total_sum 16433160\n",
      "url href http://parsinger.ru/html/mouse/3/3_24.html\n",
      "card_price 245, card_col 160, total_sum 16472360\n",
      "page4\n",
      "url запроса http://parsinger.ru/html/index3_page_4.html\n",
      "url href http://parsinger.ru/html/mouse/3/3_25.html\n",
      "card_price 830, card_col 60, total_sum 16522160\n",
      "url href http://parsinger.ru/html/mouse/3/3_26.html\n",
      "card_price 1460, card_col 36, total_sum 16574720\n",
      "url href http://parsinger.ru/html/mouse/3/3_27.html\n",
      "card_price 1590, card_col 86, total_sum 16711460\n",
      "url href http://parsinger.ru/html/mouse/3/3_28.html\n",
      "card_price 960, card_col 54, total_sum 16763300\n",
      "url href http://parsinger.ru/html/mouse/3/3_29.html\n",
      "card_price 1690, card_col 94, total_sum 16922160\n",
      "url href http://parsinger.ru/html/mouse/3/3_30.html\n",
      "card_price 640, card_col 57, total_sum 16958640\n",
      "url href http://parsinger.ru/html/mouse/3/3_31.html\n",
      "card_price 435, card_col 27, total_sum 16970385\n",
      "url href http://parsinger.ru/html/mouse/3/3_32.html\n",
      "card_price 2180, card_col 127, total_sum 17247245\n",
      "index4\n",
      "page1\n",
      "url запроса http://parsinger.ru/html/index4_page_1.html\n",
      "url href http://parsinger.ru/html/hdd/4/4_1.html\n",
      "card_price 12240, card_col 37, total_sum 17700125\n",
      "url href http://parsinger.ru/html/hdd/4/4_2.html\n",
      "card_price 6200, card_col 37, total_sum 17929525\n",
      "url href http://parsinger.ru/html/hdd/4/4_3.html\n",
      "card_price 14360, card_col 17, total_sum 18173645\n",
      "url href http://parsinger.ru/html/hdd/4/4_4.html\n",
      "card_price 18690, card_col 37, total_sum 18865175\n",
      "url href http://parsinger.ru/html/hdd/4/4_5.html\n",
      "card_price 25430, card_col 57, total_sum 20314685\n",
      "url href http://parsinger.ru/html/hdd/4/4_6.html\n",
      "card_price 7180, card_col 61, total_sum 20752665\n",
      "url href http://parsinger.ru/html/hdd/4/4_7.html\n",
      "card_price 10710, card_col 42, total_sum 21202485\n",
      "url href http://parsinger.ru/html/hdd/4/4_8.html\n",
      "card_price 11010, card_col 32, total_sum 21554805\n",
      "page2\n",
      "url запроса http://parsinger.ru/html/index4_page_2.html\n",
      "url href http://parsinger.ru/html/hdd/4/4_9.html\n",
      "card_price 11600, card_col 132, total_sum 23086005\n",
      "url href http://parsinger.ru/html/hdd/4/4_10.html\n",
      "card_price 20820, card_col 14, total_sum 23377485\n",
      "url href http://parsinger.ru/html/hdd/4/4_11.html\n",
      "card_price 20460, card_col 9, total_sum 23561625\n",
      "url href http://parsinger.ru/html/hdd/4/4_12.html\n",
      "card_price 21590, card_col 19, total_sum 23971835\n",
      "url href http://parsinger.ru/html/hdd/4/4_13.html\n",
      "card_price 13330, card_col 39, total_sum 24491705\n",
      "url href http://parsinger.ru/html/hdd/4/4_14.html\n",
      "card_price 20810, card_col 19, total_sum 24887095\n",
      "url href http://parsinger.ru/html/hdd/4/4_15.html\n",
      "card_price 13120, card_col 15, total_sum 25083895\n",
      "url href http://parsinger.ru/html/hdd/4/4_16.html\n",
      "card_price 16480, card_col 25, total_sum 25495895\n",
      "page3\n",
      "url запроса http://parsinger.ru/html/index4_page_3.html\n",
      "url href http://parsinger.ru/html/hdd/4/4_17.html\n",
      "card_price 70200, card_col 125, total_sum 34270895\n",
      "url href http://parsinger.ru/html/hdd/4/4_18.html\n",
      "card_price 8170, card_col 12, total_sum 34368935\n",
      "url href http://parsinger.ru/html/hdd/4/4_19.html\n",
      "card_price 21310, card_col 22, total_sum 34837755\n",
      "url href http://parsinger.ru/html/hdd/4/4_20.html\n",
      "card_price 9050, card_col 17, total_sum 34991605\n",
      "url href http://parsinger.ru/html/hdd/4/4_21.html\n",
      "card_price 16020, card_col 45, total_sum 35712505\n",
      "url href http://parsinger.ru/html/hdd/4/4_22.html\n",
      "card_price 25460, card_col 5, total_sum 35839805\n",
      "url href http://parsinger.ru/html/hdd/4/4_23.html\n",
      "card_price 14590, card_col 55, total_sum 36642255\n",
      "url href http://parsinger.ru/html/hdd/4/4_24.html\n",
      "card_price 16780, card_col 25, total_sum 37061755\n",
      "page4\n",
      "url запроса http://parsinger.ru/html/index4_page_4.html\n",
      "url href http://parsinger.ru/html/hdd/4/4_25.html\n",
      "card_price 6540, card_col 29, total_sum 37251415\n",
      "url href http://parsinger.ru/html/hdd/4/4_26.html\n",
      "card_price 7670, card_col 69, total_sum 37780645\n",
      "url href http://parsinger.ru/html/hdd/4/4_27.html\n",
      "card_price 7110, card_col 19, total_sum 37915735\n",
      "url href http://parsinger.ru/html/hdd/4/4_28.html\n",
      "card_price 19650, card_col 37, total_sum 38642785\n",
      "url href http://parsinger.ru/html/hdd/4/4_29.html\n",
      "card_price 7910, card_col 27, total_sum 38856355\n",
      "url href http://parsinger.ru/html/hdd/4/4_30.html\n",
      "card_price 8540, card_col 18, total_sum 39010075\n",
      "url href http://parsinger.ru/html/hdd/4/4_31.html\n",
      "card_price 11990, card_col 38, total_sum 39465695\n",
      "url href http://parsinger.ru/html/hdd/4/4_32.html\n",
      "card_price 25040, card_col 138, total_sum 42921215\n",
      "index5\n",
      "page1\n",
      "url запроса http://parsinger.ru/html/index5_page_1.html\n",
      "url href http://parsinger.ru/html/headphones/5/5_1.html\n",
      "card_price 620, card_col 17, total_sum 42931755\n",
      "url href http://parsinger.ru/html/headphones/5/5_2.html\n",
      "card_price 1310, card_col 97, total_sum 43058825\n",
      "url href http://parsinger.ru/html/headphones/5/5_3.html\n",
      "card_price 1500, card_col 21, total_sum 43090325\n",
      "url href http://parsinger.ru/html/headphones/5/5_4.html\n",
      "card_price 870, card_col 41, total_sum 43125995\n",
      "url href http://parsinger.ru/html/headphones/5/5_5.html\n",
      "card_price 1030, card_col 57, total_sum 43184705\n",
      "url href http://parsinger.ru/html/headphones/5/5_6.html\n",
      "card_price 670, card_col 11, total_sum 43192075\n",
      "url href http://parsinger.ru/html/headphones/5/5_7.html\n",
      "card_price 700, card_col 81, total_sum 43248775\n",
      "url href http://parsinger.ru/html/headphones/5/5_8.html\n",
      "card_price 590, card_col 33, total_sum 43268245\n",
      "page2\n",
      "url запроса http://parsinger.ru/html/index5_page_2.html\n",
      "url href http://parsinger.ru/html/headphones/5/5_9.html\n",
      "card_price 3770, card_col 43, total_sum 43430355\n",
      "url href http://parsinger.ru/html/headphones/5/5_10.html\n",
      "card_price 2440, card_col 47, total_sum 43545035\n",
      "url href http://parsinger.ru/html/headphones/5/5_11.html\n",
      "card_price 1410, card_col 16, total_sum 43567595\n",
      "url href http://parsinger.ru/html/headphones/5/5_12.html\n",
      "card_price 5150, card_col 26, total_sum 43701495\n",
      "url href http://parsinger.ru/html/headphones/5/5_13.html\n",
      "card_price 900, card_col 46, total_sum 43742895\n",
      "url href http://parsinger.ru/html/headphones/5/5_14.html\n",
      "card_price 1560, card_col 57, total_sum 43831815\n",
      "url href http://parsinger.ru/html/headphones/5/5_15.html\n",
      "card_price 1300, card_col 7, total_sum 43840915\n",
      "url href http://parsinger.ru/html/headphones/5/5_16.html\n",
      "card_price 2520, card_col 71, total_sum 44019835\n",
      "page3\n",
      "url запроса http://parsinger.ru/html/index5_page_3.html\n",
      "url href http://parsinger.ru/html/headphones/5/5_17.html\n",
      "card_price 750, card_col 11, total_sum 44028085\n",
      "url href http://parsinger.ru/html/headphones/5/5_18.html\n",
      "card_price 2210, card_col 1, total_sum 44030295\n",
      "url href http://parsinger.ru/html/headphones/5/5_19.html\n",
      "card_price 1120, card_col 15, total_sum 44047095\n",
      "url href http://parsinger.ru/html/headphones/5/5_20.html\n",
      "card_price 5330, card_col 11, total_sum 44105725\n",
      "url href http://parsinger.ru/html/headphones/5/5_21.html\n",
      "card_price 3360, card_col 31, total_sum 44209885\n",
      "url href http://parsinger.ru/html/headphones/5/5_22.html\n",
      "card_price 3110, card_col 28, total_sum 44296965\n",
      "url href http://parsinger.ru/html/headphones/5/5_23.html\n",
      "card_price 4740, card_col 38, total_sum 44477085\n",
      "url href http://parsinger.ru/html/headphones/5/5_24.html\n",
      "card_price 830, card_col 30, total_sum 44501985\n",
      "page4\n",
      "url запроса http://parsinger.ru/html/index5_page_4.html\n",
      "url href http://parsinger.ru/html/headphones/5/5_25.html\n",
      "card_price 2210, card_col 10, total_sum 44524085\n",
      "url href http://parsinger.ru/html/headphones/5/5_26.html\n",
      "card_price 4220, card_col 9, total_sum 44562065\n",
      "url href http://parsinger.ru/html/headphones/5/5_27.html\n",
      "card_price 5030, card_col 49, total_sum 44808535\n",
      "url href http://parsinger.ru/html/headphones/5/5_28.html\n",
      "card_price 1620, card_col 20, total_sum 44840935\n",
      "url href http://parsinger.ru/html/headphones/5/5_29.html\n",
      "card_price 1030, card_col 18, total_sum 44859475\n",
      "url href http://parsinger.ru/html/headphones/5/5_30.html\n",
      "card_price 1660, card_col 18, total_sum 44889355\n",
      "url href http://parsinger.ru/html/headphones/5/5_31.html\n",
      "card_price 950, card_col 8, total_sum 44896955\n",
      "url href http://parsinger.ru/html/headphones/5/5_32.html\n",
      "card_price 4480, card_col 38, total_sum 45067195\n"
     ]
    }
   ],
   "execution_count": 26
  },
  {
   "metadata": {
    "ExecuteTime": {
     "end_time": "2024-10-22T07:17:29.512046Z",
     "start_time": "2024-10-22T07:17:29.510467Z"
    }
   },
   "cell_type": "code",
   "source": "",
   "id": "10395c61d4bcdddb",
   "outputs": [],
   "execution_count": 25
  },
  {
   "metadata": {},
   "cell_type": "code",
   "outputs": [],
   "execution_count": null,
   "source": "",
   "id": "1e7047e31c1ea5e3"
  }
 ],
 "metadata": {
  "kernelspec": {
   "display_name": "Python 3",
   "language": "python",
   "name": "python3"
  },
  "language_info": {
   "codemirror_mode": {
    "name": "ipython",
    "version": 2
   },
   "file_extension": ".py",
   "mimetype": "text/x-python",
   "name": "python",
   "nbconvert_exporter": "python",
   "pygments_lexer": "ipython2",
   "version": "2.7.6"
  }
 },
 "nbformat": 4,
 "nbformat_minor": 5
}
