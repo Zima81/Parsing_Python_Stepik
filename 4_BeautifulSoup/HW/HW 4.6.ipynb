{
 "cells": [
  {
   "cell_type": "code",
   "id": "initial_id",
   "metadata": {
    "collapsed": true,
    "ExecuteTime": {
     "end_time": "2024-10-21T08:41:00.785241Z",
     "start_time": "2024-10-21T08:41:00.641700Z"
    }
   },
   "source": [
    "import requests\n",
    "from bs4 import BeautifulSoup"
   ],
   "outputs": [],
   "execution_count": 1
  },
  {
   "metadata": {},
   "cell_type": "markdown",
   "source": [
    "### 4.6 Step 4\n",
    " Извлечение названий товаров с веб-сайта"
   ],
   "id": "2f79d2e54dc58af5"
  },
  {
   "metadata": {
    "ExecuteTime": {
     "end_time": "2024-10-21T09:15:23.802339Z",
     "start_time": "2024-10-21T09:15:23.799363Z"
    }
   },
   "cell_type": "code",
   "source": "url = 'http://parsinger.ru/html/index3_page_1.html'",
   "id": "e7dd48a5fa4d7791",
   "outputs": [],
   "execution_count": 62
  },
  {
   "metadata": {
    "ExecuteTime": {
     "end_time": "2024-10-21T09:15:24.463149Z",
     "start_time": "2024-10-21T09:15:24.169135Z"
    }
   },
   "cell_type": "code",
   "source": [
    "r = requests.get(url)\n",
    "if r.status_code != 200:\n",
    "    print(r.status_code, '\\n\\n', r.text)"
   ],
   "id": "300ac304a29d11d8",
   "outputs": [],
   "execution_count": 63
  },
  {
   "metadata": {
    "ExecuteTime": {
     "end_time": "2024-10-21T09:15:25.155129Z",
     "start_time": "2024-10-21T09:15:25.152137Z"
    }
   },
   "cell_type": "code",
   "source": "r.encoding = 'utf-8'",
   "id": "fe1da7909ed19e89",
   "outputs": [],
   "execution_count": 64
  },
  {
   "metadata": {
    "ExecuteTime": {
     "end_time": "2024-10-21T09:15:34.516180Z",
     "start_time": "2024-10-21T09:15:34.506267Z"
    }
   },
   "cell_type": "code",
   "source": "soup = BeautifulSoup(r.text, 'html.parser')",
   "id": "3c0bdbf898d38b28",
   "outputs": [],
   "execution_count": 65
  },
  {
   "metadata": {
    "ExecuteTime": {
     "end_time": "2024-10-21T09:17:18.127057Z",
     "start_time": "2024-10-21T09:17:18.124202Z"
    }
   },
   "cell_type": "code",
   "source": "last_page = int(soup.find('div', {'class': 'pagen'}).find_all('a')[-1].text)",
   "id": "2e3bb1889ddb77aa",
   "outputs": [],
   "execution_count": 72
  },
  {
   "metadata": {
    "ExecuteTime": {
     "end_time": "2024-10-21T09:20:33.712855Z",
     "start_time": "2024-10-21T09:20:32.698664Z"
    }
   },
   "cell_type": "code",
   "source": [
    "n = 1\n",
    "full_product = []\n",
    "for page in range(1, last_page+1):\n",
    "    url = f'http://parsinger.ru/html/index3_page_{n}.html'\n",
    "    r = requests.get(url)\n",
    "    if r.status_code != 200:\n",
    "        print(r.status_code, '\\n\\n', r.text)\n",
    "    r.encoding = 'utf-8'\n",
    "    soup = BeautifulSoup(r.text, 'html.parser')\n",
    "    page_product = list()\n",
    "    for div_teg in soup.find_all('div', {'class': 'img_box'}):\n",
    "        page_product.append(div_teg.find('a', {'class': 'name_item'}).text)\n",
    "    full_product.append(page_product)\n",
    "    n += 1"
   ],
   "id": "71813ebc32547d67",
   "outputs": [],
   "execution_count": 73
  },
  {
   "metadata": {
    "ExecuteTime": {
     "end_time": "2024-10-21T09:20:49.831342Z",
     "start_time": "2024-10-21T09:20:49.826764Z"
    }
   },
   "cell_type": "code",
   "source": "print(full_product)",
   "id": "d74de7cadaad1abc",
   "outputs": [
    {
     "name": "stdout",
     "output_type": "stream",
     "text": [
      "[[' Vampire RGB,9 кнопок ', 'Defender Halo Z GM-430L', ' Defender Shark 2 ', ' Defender sTarx GM-390L ', ' Defender Skull GM-180L ', ' Defender Killer GM-170L ', ' Defender Ghost GM-190L ', ' Defender Witcher GM-990 '], [' Logitech G305 LIGHTSPEED Wireless ', ' Logitech G102 LIGHTSYNC Gaming', ' Logitech G PRO HERO Black ', ' Logitech G402 Hyperion Fury ', ' STM 109CW ', ' Defender MB-986 ', ' Gembird MG-520 ', ' CBR CM 846 '], [' Гарнизон GM-720G ', ' Гарнизон GM-700G ', ' Гарнизон GM-760G ', ' Гарнизон GM-730G ', ' Гарнизон GM-620G ', ' A4TECH Bloody Q51 ', ' MGK-03U Dialog Gan-Kata ', ' Defender Flash MB-600L '], [' Gembird MG-550 ', ' Lenovo Legion M200 ', ' Sven RX-G750 ', ' Wired Gaming Mouse ', ' MSI Clutch GM08 ', '  Gembird MG-760 ', ' MGK-11U Dialog Gan-Kata ', ' Logitech G102 ']]\n"
     ]
    }
   ],
   "execution_count": 75
  },
  {
   "metadata": {},
   "cell_type": "code",
   "outputs": [],
   "execution_count": null,
   "source": "",
   "id": "1fc82cce8187ce3c"
  },
  {
   "metadata": {},
   "cell_type": "markdown",
   "source": [
    "### 4.6 Step 5\n",
    " Парсинг артикулов товаров с веб-сайта"
   ],
   "id": "df9cd4c44cdd3fa9"
  },
  {
   "metadata": {
    "ExecuteTime": {
     "end_time": "2024-10-21T11:40:09.901809Z",
     "start_time": "2024-10-21T11:40:09.898312Z"
    }
   },
   "cell_type": "code",
   "source": "url = 'http://parsinger.ru/html/index3_page_4.html'",
   "id": "599cb599c4a7549f",
   "outputs": [],
   "execution_count": 122
  },
  {
   "metadata": {
    "ExecuteTime": {
     "end_time": "2024-10-21T11:40:10.468973Z",
     "start_time": "2024-10-21T11:40:10.223845Z"
    }
   },
   "cell_type": "code",
   "source": [
    "r = requests.get(url)\n",
    "r.encoding = 'utf-8'"
   ],
   "id": "cc14a1171e73e66c",
   "outputs": [],
   "execution_count": 123
  },
  {
   "metadata": {
    "ExecuteTime": {
     "end_time": "2024-10-21T11:40:11.137294Z",
     "start_time": "2024-10-21T11:40:11.127721Z"
    }
   },
   "cell_type": "code",
   "source": "soup = BeautifulSoup(r.text, 'html.parser')",
   "id": "d246cbf0adc09e13",
   "outputs": [],
   "execution_count": 124
  },
  {
   "metadata": {
    "ExecuteTime": {
     "end_time": "2024-10-21T11:40:11.532644Z",
     "start_time": "2024-10-21T11:40:11.529718Z"
    }
   },
   "cell_type": "code",
   "source": [
    "last_page = int(soup.find('div', class_='pagen').find_all('a', {'href': True})[-1].text)\n",
    "last_page"
   ],
   "id": "877da1b483b53658",
   "outputs": [
    {
     "data": {
      "text/plain": [
       "4"
      ]
     },
     "execution_count": 125,
     "metadata": {},
     "output_type": "execute_result"
    }
   ],
   "execution_count": 125
  },
  {
   "metadata": {
    "ExecuteTime": {
     "end_time": "2024-10-21T11:56:06.038199Z",
     "start_time": "2024-10-21T11:55:58.438949Z"
    }
   },
   "cell_type": "code",
   "source": [
    "n = 1\n",
    "total_sum = 0\n",
    "for page in range(1, last_page+1): \n",
    "    url_product = f'https://parsinger.ru/html/index3_page_{n}.html'\n",
    "    r_page = requests.get(url_product)\n",
    "    r_page.encoding = 'utf-8'\n",
    "    soup_page = BeautifulSoup(r_page.text)\n",
    "    href_str = soup_page.find_all('a', {'class': 'name_item', 'href': True})\n",
    "    href_list = [string.get('href') for string in href_str]\n",
    "    url_ = 'https://parsinger.ru/html/'\n",
    "    for href in href_list:\n",
    "        url_product = url_+href\n",
    "        r_p = requests.get(url_product)\n",
    "        r_p.encoding = 'utf-8'\n",
    "        soup_product = BeautifulSoup(r_p.text)\n",
    "        total_sum += int(soup_product.find('p', {'class': 'article'}).text.split(' ')[1])\n",
    "    n += 1    "
   ],
   "id": "60d46e42e8fa6b5f",
   "outputs": [],
   "execution_count": 132
  },
  {
   "metadata": {
    "ExecuteTime": {
     "end_time": "2024-10-21T11:56:06.916007Z",
     "start_time": "2024-10-21T11:56:06.910716Z"
    }
   },
   "cell_type": "code",
   "source": "total_sum",
   "id": "2abc24f46cd0cfb8",
   "outputs": [
    {
     "data": {
      "text/plain": [
       "2505109532"
      ]
     },
     "execution_count": 133,
     "metadata": {},
     "output_type": "execute_result"
    }
   ],
   "execution_count": 133
  },
  {
   "metadata": {},
   "cell_type": "markdown",
   "source": [
    "### 4.6 Step 6\n",
    " Комплексное извлечение стоимости товаров"
   ],
   "id": "ef5a7b5c6e1777d4"
  },
  {
   "metadata": {
    "ExecuteTime": {
     "end_time": "2024-10-21T14:35:05.278063Z",
     "start_time": "2024-10-21T14:35:05.275403Z"
    }
   },
   "cell_type": "code",
   "source": [
    "def soup_html(url):\n",
    "    r = requests.get(url)\n",
    "    r.encoding = 'urf-8'\n",
    "    return BeautifulSoup(r.text, 'html.parser')"
   ],
   "id": "c3351f396793f0cb",
   "outputs": [],
   "execution_count": 207
  },
  {
   "metadata": {
    "ExecuteTime": {
     "end_time": "2024-10-21T14:35:05.688753Z",
     "start_time": "2024-10-21T14:35:05.686352Z"
    }
   },
   "cell_type": "code",
   "source": [
    "\n",
    "url_href = 'http://parsinger.ru/html/'"
   ],
   "id": "8ef317dd6bbe7b31",
   "outputs": [],
   "execution_count": 208
  },
  {
   "metadata": {
    "ExecuteTime": {
     "end_time": "2024-10-21T14:35:06.306042Z",
     "start_time": "2024-10-21T14:35:06.032276Z"
    }
   },
   "cell_type": "code",
   "source": [
    "soup_url_index = soup_html(url)\n",
    "col_indexs = len(soup_url_index.find('div', class_='nav_menu').find_all('a'))  # кол-во индексов (категорий)"
   ],
   "id": "a78656fe9b2ee4ce",
   "outputs": [],
   "execution_count": 209
  },
  {
   "metadata": {},
   "cell_type": "code",
   "outputs": [],
   "execution_count": null,
   "source": "",
   "id": "9672af4cf03b2627"
  },
  {
   "metadata": {},
   "cell_type": "code",
   "outputs": [],
   "execution_count": null,
   "source": "",
   "id": "48dd0d0c8a580c19"
  },
  {
   "metadata": {},
   "cell_type": "code",
   "outputs": [],
   "execution_count": null,
   "source": "",
   "id": "42fbee09dd191abc"
  },
  {
   "metadata": {
    "ExecuteTime": {
     "end_time": "2024-10-21T14:36:04.682697Z",
     "start_time": "2024-10-21T14:35:16.881043Z"
    }
   },
   "cell_type": "code",
   "source": [
    "index = 1\n",
    "page = 1\n",
    "col_price = 0\n",
    "total_sum = 0\n",
    "url = f'http://parsinger.ru/html/index{index}_page_{page}.html'\n",
    "for index in range(1, col_indexs+1):\n",
    "    \"\"\" Проход по категориям \"\"\"    \n",
    "    page_soup = soup_html(url)\n",
    "    col_pages = len(page_soup.find('div', {'class': 'pagen'}).find_all('a'))  # кол. страниц (пагенаций)\n",
    "    for page in range(1, col_pages+1):\n",
    "        \"\"\"Проход по страницам\"\"\"\n",
    "        cart_soup = soup_html(url2)\n",
    "        href_strs = cart_soup.find_all('a', {'class': 'name_item', 'href': True, 'name': True})\n",
    "        href_list = [href.get('href') for href in href_strs]\n",
    "        for href in href_list:\n",
    "            \"\"\"Проход по карточкам\"\"\"\n",
    "            url_cards = url_href + href\n",
    "            soup_card = soup_html(url_cards)\n",
    "            card_price = int(soup_card.find('span', {'id': 'price'}).text.split(' ')[0])\n",
    "            card_col = int(soup_card.find('span', {'id': 'in_stock'}).text.split(' ')[-1])\n",
    "            col_price = card_price * card_col\n",
    "            total_sum += col_price"
   ],
   "id": "dca49921a84c26ae",
   "outputs": [],
   "execution_count": 211
  },
  {
   "metadata": {
    "ExecuteTime": {
     "end_time": "2024-10-21T14:36:04.686914Z",
     "start_time": "2024-10-21T14:36:04.682697Z"
    }
   },
   "cell_type": "code",
   "source": "total_sum",
   "id": "1b4e38c0b2bdbec1",
   "outputs": [
    {
     "data": {
      "text/plain": [
       "40218580"
      ]
     },
     "execution_count": 212,
     "metadata": {},
     "output_type": "execute_result"
    }
   ],
   "execution_count": 212
  },
  {
   "metadata": {},
   "cell_type": "code",
   "outputs": [],
   "execution_count": null,
   "source": "40218580",
   "id": "da44679cf15ac54a"
  }
 ],
 "metadata": {
  "kernelspec": {
   "display_name": "Python 3",
   "language": "python",
   "name": "python3"
  },
  "language_info": {
   "codemirror_mode": {
    "name": "ipython",
    "version": 2
   },
   "file_extension": ".py",
   "mimetype": "text/x-python",
   "name": "python",
   "nbconvert_exporter": "python",
   "pygments_lexer": "ipython2",
   "version": "2.7.6"
  }
 },
 "nbformat": 4,
 "nbformat_minor": 5
}
