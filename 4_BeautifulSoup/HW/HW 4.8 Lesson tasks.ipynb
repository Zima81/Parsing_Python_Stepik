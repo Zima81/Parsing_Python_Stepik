{
 "cells": [
  {
   "metadata": {
    "ExecuteTime": {
     "end_time": "2024-11-05T11:32:04.562889Z",
     "start_time": "2024-11-05T11:32:04.296454Z"
    }
   },
   "cell_type": "code",
   "source": [
    "import requests\n",
    "from bs4 import BeautifulSoup"
   ],
   "id": "10a178abbb89518e",
   "outputs": [],
   "execution_count": 1
  },
  {
   "metadata": {
    "ExecuteTime": {
     "end_time": "2024-11-05T11:34:17.483800Z",
     "start_time": "2024-11-05T11:34:17.479902Z"
    }
   },
   "cell_type": "code",
   "source": [
    "def cook_soup(ur):\n",
    "    ans = requests.get(ur)\n",
    "    ans.encoding = 'utf-8'\n",
    "    if ans.status_code != 200:\n",
    "        print(ans.status_code, '\\n\\n', ans.text)\n",
    "    return BeautifulSoup(ans.text, 'html.parser')"
   ],
   "id": "a02145afdb3f550e",
   "outputs": [],
   "execution_count": 4
  },
  {
   "metadata": {},
   "cell_type": "markdown",
   "source": [
    "### 4.8 Step 2\n",
    "Агрегация уникальных данных из таблицы"
   ],
   "id": "cded7ace67becd2e"
  },
  {
   "metadata": {
    "ExecuteTime": {
     "end_time": "2024-10-25T07:15:22.648553Z",
     "start_time": "2024-10-25T07:15:22.644857Z"
    }
   },
   "cell_type": "code",
   "source": "url = 'https://parsinger.ru/table/1/index.html'",
   "id": "b8b2052583999dc4",
   "outputs": [],
   "execution_count": 2
  },
  {
   "metadata": {
    "ExecuteTime": {
     "end_time": "2024-10-25T07:17:20.764956Z",
     "start_time": "2024-10-25T07:17:20.627513Z"
    }
   },
   "cell_type": "code",
   "source": [
    "r = requests.get(url)\n",
    "r.status_code"
   ],
   "id": "bd6e77457cfeed45",
   "outputs": [
    {
     "data": {
      "text/plain": [
       "200"
      ]
     },
     "execution_count": 6,
     "metadata": {},
     "output_type": "execute_result"
    }
   ],
   "execution_count": 6
  },
  {
   "metadata": {
    "ExecuteTime": {
     "end_time": "2024-10-25T07:17:49.803853Z",
     "start_time": "2024-10-25T07:17:49.796476Z"
    }
   },
   "cell_type": "code",
   "source": "soup = BeautifulSoup(r.text, 'html.parser')",
   "id": "3eda92eef85dafa3",
   "outputs": [],
   "execution_count": 7
  },
  {
   "metadata": {
    "ExecuteTime": {
     "end_time": "2024-10-25T07:25:01.302029Z",
     "start_time": "2024-10-25T07:25:01.297806Z"
    }
   },
   "cell_type": "code",
   "source": [
    "unic_list = []\n",
    "for row in soup.find_all('tr')[1:]:\n",
    "    for num in row.find_all('td'):         \n",
    "        if not float(num.text) in unic_list:\n",
    "            unic_list.append(float(num.text))"
   ],
   "id": "e620c07e4ce900fc",
   "outputs": [],
   "execution_count": 25
  },
  {
   "metadata": {
    "ExecuteTime": {
     "end_time": "2024-10-25T07:25:49.512917Z",
     "start_time": "2024-10-25T07:25:49.508876Z"
    }
   },
   "cell_type": "code",
   "source": "print(sum(unic_list))",
   "id": "cce6698c82eaf9a5",
   "outputs": [
    {
     "name": "stdout",
     "output_type": "stream",
     "text": [
      "1240.096\n"
     ]
    }
   ],
   "execution_count": 29
  },
  {
   "metadata": {},
   "cell_type": "code",
   "outputs": [],
   "execution_count": null,
   "source": "",
   "id": "1fb8af5085589798"
  },
  {
   "metadata": {},
   "cell_type": "markdown",
   "source": [
    "### 4.8 Step 3\n",
    "Суммирование чисел из первого столбца таблицы"
   ],
   "id": "6157358f44ffe47"
  },
  {
   "metadata": {
    "ExecuteTime": {
     "end_time": "2024-10-25T07:27:04.606070Z",
     "start_time": "2024-10-25T07:27:04.602890Z"
    }
   },
   "cell_type": "code",
   "source": "url = 'https://parsinger.ru/table/2/index.html'",
   "id": "b5a2bb915f5cb4de",
   "outputs": [],
   "execution_count": 30
  },
  {
   "metadata": {
    "ExecuteTime": {
     "end_time": "2024-10-25T07:31:25.280365Z",
     "start_time": "2024-10-25T07:31:25.223091Z"
    }
   },
   "cell_type": "code",
   "source": "soup = cook_soup(url)",
   "id": "b15aa9e48d1dafb9",
   "outputs": [],
   "execution_count": 32
  },
  {
   "metadata": {
    "ExecuteTime": {
     "end_time": "2024-10-25T07:36:15.890909Z",
     "start_time": "2024-10-25T07:36:15.885602Z"
    }
   },
   "cell_type": "code",
   "source": [
    "first_column = list()\n",
    "for data in soup.find_all('tr')[1:]:\n",
    "    first_column.append(float(data.find('td').text))"
   ],
   "id": "e3bc5233fa4e1d12",
   "outputs": [],
   "execution_count": 43
  },
  {
   "metadata": {
    "ExecuteTime": {
     "end_time": "2024-10-25T07:36:55.368320Z",
     "start_time": "2024-10-25T07:36:55.362543Z"
    }
   },
   "cell_type": "code",
   "source": "sum(first_column)",
   "id": "100b4bf3c50422dc",
   "outputs": [
    {
     "data": {
      "text/plain": [
       "80.726"
      ]
     },
     "execution_count": 47,
     "metadata": {},
     "output_type": "execute_result"
    }
   ],
   "execution_count": 47
  },
  {
   "metadata": {},
   "cell_type": "markdown",
   "source": [
    "### 4.8 Step 4\n",
    "Агрегация выделенных чисел из таблицы"
   ],
   "id": "6d7a8c1dab4ca969"
  },
  {
   "metadata": {
    "ExecuteTime": {
     "end_time": "2024-10-25T08:05:58.872022Z",
     "start_time": "2024-10-25T08:05:58.869582Z"
    }
   },
   "cell_type": "code",
   "source": "url = 'https://parsinger.ru/table/3/index.html'",
   "id": "fde3e9af1542515f",
   "outputs": [],
   "execution_count": 48
  },
  {
   "metadata": {
    "ExecuteTime": {
     "end_time": "2024-10-25T08:06:13.222310Z",
     "start_time": "2024-10-25T08:06:13.132040Z"
    }
   },
   "cell_type": "code",
   "source": "soup = cook_soup(url)",
   "id": "9ab802c8e2b251ed",
   "outputs": [],
   "execution_count": 49
  },
  {
   "metadata": {
    "ExecuteTime": {
     "end_time": "2024-10-25T08:13:46.915727Z",
     "start_time": "2024-10-25T08:13:46.906602Z"
    }
   },
   "cell_type": "code",
   "source": [
    "b_list = list()\n",
    "for row in soup.find_all('tr')[1:]:\n",
    "    for value in row.find_all('td'):\n",
    "        if value.find('b'):\n",
    "            b_list.append(float(value.find('b').text))"
   ],
   "id": "cf659b5a815b61dc",
   "outputs": [],
   "execution_count": 67
  },
  {
   "metadata": {
    "ExecuteTime": {
     "end_time": "2024-10-25T08:14:17.840074Z",
     "start_time": "2024-10-25T08:14:17.835719Z"
    }
   },
   "cell_type": "code",
   "source": "print(sum(b_list))",
   "id": "264e1c9f07dfb7dd",
   "outputs": [
    {
     "name": "stdout",
     "output_type": "stream",
     "text": [
      "373.329\n"
     ]
    }
   ],
   "execution_count": 70
  },
  {
   "metadata": {},
   "cell_type": "markdown",
   "source": [
    "### 4.8 Step 5\n",
    "Суммирование чисел из зелёных ячеек таблицы"
   ],
   "id": "534bafcb866fc553"
  },
  {
   "metadata": {
    "ExecuteTime": {
     "end_time": "2024-10-25T08:31:15.682787Z",
     "start_time": "2024-10-25T08:31:15.679100Z"
    }
   },
   "cell_type": "code",
   "source": "url = 'https://parsinger.ru/table/4/index.html'",
   "id": "7f2a41ac4ffba125",
   "outputs": [],
   "execution_count": 71
  },
  {
   "metadata": {
    "ExecuteTime": {
     "end_time": "2024-10-25T08:32:12.361995Z",
     "start_time": "2024-10-25T08:32:12.308514Z"
    }
   },
   "cell_type": "code",
   "source": "soup = cook_soup(url)",
   "id": "9dbae6ebc574ac3b",
   "outputs": [],
   "execution_count": 72
  },
  {
   "metadata": {
    "ExecuteTime": {
     "end_time": "2024-10-25T08:46:40.603367Z",
     "start_time": "2024-10-25T08:46:40.597145Z"
    }
   },
   "cell_type": "code",
   "source": [
    "b_list = list()\n",
    "for row in soup.find_all('tr')[1:]:\n",
    "    for values in row.find_all('td', {'class': 'green'}):        \n",
    "        b_list.append(float(values.text))"
   ],
   "id": "ade35cb99ad68f59",
   "outputs": [],
   "execution_count": 76
  },
  {
   "metadata": {
    "ExecuteTime": {
     "end_time": "2024-10-25T08:47:08.017135Z",
     "start_time": "2024-10-25T08:47:08.012746Z"
    }
   },
   "cell_type": "code",
   "source": "print(sum(b_list))",
   "id": "378dddcc7d6b9893",
   "outputs": [
    {
     "name": "stdout",
     "output_type": "stream",
     "text": [
      "425.766\n"
     ]
    }
   ],
   "execution_count": 78
  },
  {
   "metadata": {},
   "cell_type": "markdown",
   "source": [
    "### 4.8 Step 6\n",
    "Агрегация произведений чисел из оранжевых и голубых ячеек таблицы"
   ],
   "id": "171ce67f08e3c84e"
  },
  {
   "metadata": {
    "ExecuteTime": {
     "end_time": "2024-10-25T08:48:20.888936Z",
     "start_time": "2024-10-25T08:48:20.884909Z"
    }
   },
   "cell_type": "code",
   "source": "url = 'https://parsinger.ru/table/5/index.html'",
   "id": "564dfa98fa140fde",
   "outputs": [],
   "execution_count": 79
  },
  {
   "metadata": {
    "ExecuteTime": {
     "end_time": "2024-10-25T08:48:27.730523Z",
     "start_time": "2024-10-25T08:48:27.648628Z"
    }
   },
   "cell_type": "code",
   "source": "soup = cook_soup(url)",
   "id": "3e1f3436677ffb86",
   "outputs": [],
   "execution_count": 80
  },
  {
   "metadata": {
    "ExecuteTime": {
     "end_time": "2024-10-25T09:22:06.171803Z",
     "start_time": "2024-10-25T09:22:06.161967Z"
    }
   },
   "cell_type": "code",
   "source": [
    "ls_total = list()\n",
    "for row in soup.find_all('tr')[1:]:\n",
    "    num1 = float(row.find('td', {'class': 'orange'}).text)\n",
    "    num2 = float(row.find_all('td')[-1].text)    \n",
    "    ls_total.append(num1 * num2)"
   ],
   "id": "82568dc9b7bebefe",
   "outputs": [],
   "execution_count": 101
  },
  {
   "metadata": {
    "ExecuteTime": {
     "end_time": "2024-10-25T09:22:21.859521Z",
     "start_time": "2024-10-25T09:22:21.855122Z"
    }
   },
   "cell_type": "code",
   "source": "print(sum(ls_total))",
   "id": "4bf942f5d304a65d",
   "outputs": [
    {
     "name": "stdout",
     "output_type": "stream",
     "text": [
      "2521465.6859999998\n"
     ]
    }
   ],
   "execution_count": 102
  },
  {
   "metadata": {},
   "cell_type": "markdown",
   "source": [
    "### 4.8 Step 7\n",
    "Агрегация данных из столбцов таблицы в словарь"
   ],
   "id": "a7a93cc3aaaac4aa"
  },
  {
   "metadata": {
    "ExecuteTime": {
     "end_time": "2024-10-25T11:37:03.031921Z",
     "start_time": "2024-10-25T11:37:03.027847Z"
    }
   },
   "cell_type": "code",
   "source": "url = 'https://parsinger.ru/table/5/index.html'",
   "id": "ffcd892c7b6cf0bd",
   "outputs": [],
   "execution_count": 192
  },
  {
   "metadata": {
    "ExecuteTime": {
     "end_time": "2024-10-25T11:37:03.420010Z",
     "start_time": "2024-10-25T11:37:03.354834Z"
    }
   },
   "cell_type": "code",
   "source": "soup = cook_soup(url)",
   "id": "1d934648715beff2",
   "outputs": [],
   "execution_count": 193
  },
  {
   "metadata": {
    "ExecuteTime": {
     "end_time": "2024-10-25T11:37:03.676810Z",
     "start_time": "2024-10-25T11:37:03.670811Z"
    }
   },
   "cell_type": "code",
   "source": [
    "total_columns = None\n",
    "for name_column in soup.find('tr').find_all('th'):\n",
    "    total_columns = len(soup.find('tr').find_all('th'))"
   ],
   "id": "eba04c60c48b50ad",
   "outputs": [],
   "execution_count": 194
  },
  {
   "metadata": {
    "ExecuteTime": {
     "end_time": "2024-10-25T11:37:03.986147Z",
     "start_time": "2024-10-25T11:37:03.982081Z"
    }
   },
   "cell_type": "code",
   "source": "dic2 = {}",
   "id": "22b7a8b5a5b705e3",
   "outputs": [],
   "execution_count": 195
  },
  {
   "metadata": {
    "ExecuteTime": {
     "end_time": "2024-10-25T11:37:04.297143Z",
     "start_time": "2024-10-25T11:37:04.288321Z"
    }
   },
   "cell_type": "code",
   "source": [
    "for row in soup.find_all('tr')[1:]:\n",
    "    num = 1\n",
    "    for value in row.find_all('td'):        \n",
    "        if f'{num} column' in dic2.keys():\n",
    "            dic2[f'{num} column'].append(float(value.text))\n",
    "        else:\n",
    "            dic2[f'{num} column'] = list()\n",
    "            dic2[f'{num} column'].append(float(value.text))\n",
    "        if num < total_columns:\n",
    "            num += 1\n",
    "        else:\n",
    "            num = 1"
   ],
   "id": "eac60dc4665bda4f",
   "outputs": [],
   "execution_count": 196
  },
  {
   "metadata": {
    "ExecuteTime": {
     "end_time": "2024-10-25T11:37:04.621395Z",
     "start_time": "2024-10-25T11:37:04.618191Z"
    }
   },
   "cell_type": "code",
   "source": [
    "ans_dic = {}\n",
    "for key, value in dic2.items():\n",
    "    ans_dic[key] = round(sum(value), 3)"
   ],
   "id": "4aedadc4632c3b96",
   "outputs": [],
   "execution_count": 197
  },
  {
   "metadata": {
    "ExecuteTime": {
     "end_time": "2024-10-25T11:37:05.651299Z",
     "start_time": "2024-10-25T11:37:05.647266Z"
    }
   },
   "cell_type": "code",
   "source": "print(ans_dic)",
   "id": "a508f53f446433cb",
   "outputs": [
    {
     "name": "stdout",
     "output_type": "stream",
     "text": [
      "{'1 column': 505.206, '2 column': 369.211, '3 column': 371.566, '4 column': 659.462, '5 column': 431.64, '6 column': 426.693, '7 column': 488.112, '8 column': 487.152, '9 column': 511.983, '10 column': 403.137, '11 column': 420.792, '12 column': 468.252, '13 column': 416.635, '14 column': 443.035, '15 column': 397094.0}\n"
     ]
    }
   ],
   "execution_count": 198
  },
  {
   "metadata": {},
   "cell_type": "markdown",
   "source": [
    "### 4.8 Step 8\n",
    "Суммирование чисел, кратных трём, из шести таблиц"
   ],
   "id": "f1f8c90be9452a16"
  },
  {
   "metadata": {
    "ExecuteTime": {
     "end_time": "2024-10-25T12:13:53.985335Z",
     "start_time": "2024-10-25T12:13:53.981890Z"
    }
   },
   "cell_type": "code",
   "source": "url = 'https://parsinger.ru/4.8/7/index.html'",
   "id": "86f9a20f78589121",
   "outputs": [],
   "execution_count": 199
  },
  {
   "metadata": {
    "ExecuteTime": {
     "end_time": "2024-10-25T12:14:03.388705Z",
     "start_time": "2024-10-25T12:14:02.991089Z"
    }
   },
   "cell_type": "code",
   "source": "soup = cook_soup(url)",
   "id": "6d71f03449f3c5e8",
   "outputs": [],
   "execution_count": 200
  },
  {
   "metadata": {
    "ExecuteTime": {
     "end_time": "2024-10-25T12:21:57.795701Z",
     "start_time": "2024-10-25T12:21:57.791012Z"
    }
   },
   "cell_type": "code",
   "source": "ls = [int(value.text) for value in soup.find_all('td') if int(value.text) % 3 == 0]",
   "id": "d13cacb91cc704f0",
   "outputs": [],
   "execution_count": 213
  },
  {
   "metadata": {
    "ExecuteTime": {
     "end_time": "2024-10-25T12:21:58.152430Z",
     "start_time": "2024-10-25T12:21:58.148602Z"
    }
   },
   "cell_type": "code",
   "source": "sum(ls)",
   "id": "dcc2129391c6e0a3",
   "outputs": [
    {
     "data": {
      "text/plain": [
       "114966"
      ]
     },
     "execution_count": 214,
     "metadata": {},
     "output_type": "execute_result"
    }
   ],
   "execution_count": 214
  },
  {
   "metadata": {
    "ExecuteTime": {
     "end_time": "2024-10-25T12:23:25.810870Z",
     "start_time": "2024-10-25T12:23:25.808462Z"
    }
   },
   "cell_type": "code",
   "source": "x2 = lambda x: x * 2",
   "id": "29ed31d0d854c455",
   "outputs": [],
   "execution_count": 217
  },
  {
   "metadata": {
    "ExecuteTime": {
     "end_time": "2024-10-25T12:23:33.085261Z",
     "start_time": "2024-10-25T12:23:33.081794Z"
    }
   },
   "cell_type": "code",
   "source": "x2(5)",
   "id": "cd7acf237058fe5d",
   "outputs": [
    {
     "data": {
      "text/plain": [
       "10"
      ]
     },
     "execution_count": 218,
     "metadata": {},
     "output_type": "execute_result"
    }
   ],
   "execution_count": 218
  },
  {
   "metadata": {},
   "cell_type": "markdown",
   "source": [
    "### 4.8 Step 9\n",
    "Извлечение и суммирование данных из таблицы в объединённых ячейках"
   ],
   "id": "a9e3d9372d77656f"
  },
  {
   "metadata": {
    "ExecuteTime": {
     "end_time": "2024-10-25T13:06:42.813816Z",
     "start_time": "2024-10-25T13:06:42.810507Z"
    }
   },
   "cell_type": "code",
   "source": "url = 'https://parsinger.ru/4.8/8/index.html'",
   "id": "e894fa70f4fa2f1a",
   "outputs": [],
   "execution_count": 249
  },
  {
   "metadata": {
    "ExecuteTime": {
     "end_time": "2024-10-25T13:06:43.197595Z",
     "start_time": "2024-10-25T13:06:43.141525Z"
    }
   },
   "cell_type": "code",
   "source": "soup = cook_soup(url)",
   "id": "e3c222c8fd7b084c",
   "outputs": [],
   "execution_count": 250
  },
  {
   "metadata": {
    "ExecuteTime": {
     "end_time": "2024-10-25T12:52:10.904859Z",
     "start_time": "2024-10-25T12:52:10.899972Z"
    }
   },
   "cell_type": "code",
   "source": "soup.find_all('th', {'colspan': True})",
   "id": "5f832da4b2cbbeca",
   "outputs": [
    {
     "data": {
      "text/plain": [
       "[<th colspan=\"2\">144</th>, <th colspan=\"2\">375</th>]"
      ]
     },
     "execution_count": 230,
     "metadata": {},
     "output_type": "execute_result"
    }
   ],
   "execution_count": 230
  },
  {
   "metadata": {
    "ExecuteTime": {
     "end_time": "2024-10-25T13:11:11.625228Z",
     "start_time": "2024-10-25T13:11:11.621131Z"
    }
   },
   "cell_type": "code",
   "source": [
    "th_sum = 0\n",
    "for val in soup.find('td', {'colspan': \"3\"}).find_all('th', {'colspan': True}):\n",
    "    th_sum += int(val.text)"
   ],
   "id": "4de408aa975a671f",
   "outputs": [],
   "execution_count": 254
  },
  {
   "metadata": {
    "ExecuteTime": {
     "end_time": "2024-10-25T13:11:40.061214Z",
     "start_time": "2024-10-25T13:11:40.056739Z"
    }
   },
   "cell_type": "code",
   "source": [
    "td_sum = 0\n",
    "for val in soup.find('td', {'colspan': \"3\"}).find_all('td', {'colspan': True}):\n",
    "    td_sum += int(val.text)"
   ],
   "id": "87806c7734f88c52",
   "outputs": [],
   "execution_count": 255
  },
  {
   "metadata": {
    "ExecuteTime": {
     "end_time": "2024-10-25T13:12:10.095381Z",
     "start_time": "2024-10-25T13:12:10.091685Z"
    }
   },
   "cell_type": "code",
   "source": [
    "total_sum = th_sum + td_sum\n",
    "print(total_sum)"
   ],
   "id": "1feb84c36bdc65d3",
   "outputs": [
    {
     "name": "stdout",
     "output_type": "stream",
     "text": [
      "7774\n"
     ]
    }
   ],
   "execution_count": 256
  },
  {
   "metadata": {},
   "cell_type": "markdown",
   "source": [
    "### 4.8 Step 10\n",
    "Поиск подходящих авто"
   ],
   "id": "f166393e2d43e268"
  },
  {
   "metadata": {
    "ExecuteTime": {
     "end_time": "2024-11-05T11:58:50.972050Z",
     "start_time": "2024-11-05T11:58:50.968993Z"
    }
   },
   "cell_type": "code",
   "source": "url = 'https://parsinger.ru/4.8/6/index.html'",
   "id": "a8f584b9e4c642a",
   "outputs": [],
   "execution_count": 34
  },
  {
   "metadata": {
    "ExecuteTime": {
     "end_time": "2024-11-05T11:58:51.271182Z",
     "start_time": "2024-11-05T11:58:51.214848Z"
    }
   },
   "cell_type": "code",
   "source": "soup = cook_soup(url) ",
   "id": "505b5a3a909c9053",
   "outputs": [],
   "execution_count": 35
  },
  {
   "metadata": {
    "ExecuteTime": {
     "end_time": "2024-11-05T11:58:51.486296Z",
     "start_time": "2024-11-05T11:58:51.480885Z"
    }
   },
   "cell_type": "code",
   "source": [
    "ans = []\n",
    "for st in soup.find('tbody').find_all('tr'):\n",
    "    st.find_all('td')\n",
    "    if (int(st.find_all('td')[7].text) <= 4000000 and int(st.find_all('td')[1].text) >= 2005 and st.find_all('td')[4]\n",
    "            .text == \n",
    "            \"Бензиновый\"): \n",
    "        ans_dic = {\"Марка Авто\": st.find_all('td')[0].text,\n",
    "                   \"Год выпуска\":  int(st.find_all('td')[1].text),\n",
    "                   \"Тип двигателя\":  st.find_all('td')[4].text,\n",
    "                   \"Стоимость авто\":  int(st.find_all('td')[7].text)}\n",
    "        ans.append(ans_dic)"
   ],
   "id": "a2e21e543a01b698",
   "outputs": [],
   "execution_count": 36
  },
  {
   "metadata": {
    "ExecuteTime": {
     "end_time": "2024-11-05T12:16:47.482668Z",
     "start_time": "2024-11-05T12:16:47.478781Z"
    }
   },
   "cell_type": "code",
   "source": [
    "import json\n",
    "sorted_cars = sorted(ans, key=lambda x: x['Стоимость авто'])\n",
    "rt = json.dumps(sorted_cars, indent=4, ensure_ascii=False)\n",
    "print(rt)"
   ],
   "id": "76b01622f1a128f8",
   "outputs": [
    {
     "name": "stdout",
     "output_type": "stream",
     "text": [
      "[\n",
      "    {\n",
      "        \"Марка Авто\": \"Nissan\",\n",
      "        \"Год выпуска\": 2009,\n",
      "        \"Тип двигателя\": \"Бензиновый\",\n",
      "        \"Стоимость авто\": 891048\n",
      "    },\n",
      "    {\n",
      "        \"Марка Авто\": \"Ford\",\n",
      "        \"Год выпуска\": 2007,\n",
      "        \"Тип двигателя\": \"Бензиновый\",\n",
      "        \"Стоимость авто\": 1890796\n",
      "    },\n",
      "    {\n",
      "        \"Марка Авто\": \"Audi\",\n",
      "        \"Год выпуска\": 2007,\n",
      "        \"Тип двигателя\": \"Бензиновый\",\n",
      "        \"Стоимость авто\": 2451684\n",
      "    },\n",
      "    {\n",
      "        \"Марка Авто\": \"BMW\",\n",
      "        \"Год выпуска\": 2010,\n",
      "        \"Тип двигателя\": \"Бензиновый\",\n",
      "        \"Стоимость авто\": 2906174\n",
      "    }\n",
      "]\n"
     ]
    }
   ],
   "execution_count": 61
  },
  {
   "metadata": {},
   "cell_type": "code",
   "outputs": [],
   "execution_count": null,
   "source": "",
   "id": "d93a567a97b65663"
  }
 ],
 "metadata": {
  "kernelspec": {
   "display_name": "Python 3",
   "language": "python",
   "name": "python3"
  },
  "language_info": {
   "codemirror_mode": {
    "name": "ipython",
    "version": 2
   },
   "file_extension": ".py",
   "mimetype": "text/x-python",
   "name": "python",
   "nbconvert_exporter": "python",
   "pygments_lexer": "ipython2",
   "version": "2.7.6"
  }
 },
 "nbformat": 4,
 "nbformat_minor": 5
}
