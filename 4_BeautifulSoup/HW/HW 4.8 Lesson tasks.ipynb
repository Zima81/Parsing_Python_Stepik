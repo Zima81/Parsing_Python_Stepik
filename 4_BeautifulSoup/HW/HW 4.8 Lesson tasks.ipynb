{
 "cells": [
  {
   "metadata": {
    "ExecuteTime": {
     "end_time": "2024-10-24T18:40:31.640161Z",
     "start_time": "2024-10-24T18:40:31.468783Z"
    }
   },
   "cell_type": "code",
   "source": [
    "import requests\n",
    "from bs4 import BeautifulSoup"
   ],
   "id": "10a178abbb89518e",
   "outputs": [],
   "execution_count": 1
  },
  {
   "metadata": {
    "ExecuteTime": {
     "end_time": "2024-10-24T18:43:14.674242Z",
     "start_time": "2024-10-24T18:43:14.671316Z"
    }
   },
   "cell_type": "code",
   "source": "url = 'https://parsinger.ru/4.8/1/index.html'",
   "id": "1164c22d3c01ca12",
   "outputs": [],
   "execution_count": 2
  },
  {
   "metadata": {},
   "cell_type": "raw",
   "source": [
    "answer:\n",
    "Имя: Алексей, Возраст: 25\n",
    "Имя: Мария, Возраст: 30"
   ],
   "id": "f9cfdbd001a5b072"
  },
  {
   "metadata": {
    "ExecuteTime": {
     "end_time": "2024-10-24T18:43:51.144462Z",
     "start_time": "2024-10-24T18:43:50.895915Z"
    }
   },
   "cell_type": "code",
   "source": [
    "r = requests.get(url)\n",
    "r.encoding = 'utf-8'"
   ],
   "id": "d382e10644dae5a1",
   "outputs": [],
   "execution_count": 4
  },
  {
   "metadata": {
    "ExecuteTime": {
     "end_time": "2024-10-24T18:44:51.290046Z",
     "start_time": "2024-10-24T18:44:51.282686Z"
    }
   },
   "cell_type": "code",
   "source": "soup = BeautifulSoup(r.text, 'html.parser')",
   "id": "a266c18329f0b934",
   "outputs": [],
   "execution_count": 7
  },
  {
   "metadata": {
    "ExecuteTime": {
     "end_time": "2024-10-24T18:48:59.385583Z",
     "start_time": "2024-10-24T18:48:59.379277Z"
    }
   },
   "cell_type": "code",
   "source": [
    "# Получаем имена колонок\n",
    "col_name = [col.text for col in soup.find_all('th')]\n",
    "col_name"
   ],
   "id": "f75c62f21217c24e",
   "outputs": [
    {
     "data": {
      "text/plain": [
       "['Имя', 'Возраст']"
      ]
     },
     "execution_count": 15,
     "metadata": {},
     "output_type": "execute_result"
    }
   ],
   "execution_count": 15
  },
  {
   "metadata": {
    "ExecuteTime": {
     "end_time": "2024-10-24T19:17:50.432896Z",
     "start_time": "2024-10-24T19:17:50.427959Z"
    }
   },
   "cell_type": "code",
   "source": "rows = soup.find_all('tr')",
   "id": "fa6d0dfb66baa836",
   "outputs": [],
   "execution_count": 41
  },
  {
   "metadata": {
    "ExecuteTime": {
     "end_time": "2024-10-24T19:26:14.124753Z",
     "start_time": "2024-10-24T19:26:14.120376Z"
    }
   },
   "cell_type": "code",
   "source": [
    "ans_list = []\n",
    "for row in rows[1:]:\n",
    "        ans_list.append(f\"Имя: {row.find_all('td')[0].text}, Возраст: {row.find_all('td')[1].text}\")"
   ],
   "id": "1de5fc806b438dce",
   "outputs": [],
   "execution_count": 60
  },
  {
   "metadata": {
    "ExecuteTime": {
     "end_time": "2024-10-24T19:26:14.568831Z",
     "start_time": "2024-10-24T19:26:14.564560Z"
    }
   },
   "cell_type": "code",
   "source": [
    "for data in ans_list:\n",
    "    print(data)"
   ],
   "id": "25216d9e2fd9c93e",
   "outputs": [
    {
     "name": "stdout",
     "output_type": "stream",
     "text": [
      "Имя: Алексей, Возраст: 25\n",
      "Имя: Мария, Возраст: 30\n"
     ]
    }
   ],
   "execution_count": 61
  },
  {
   "metadata": {},
   "cell_type": "code",
   "outputs": [],
   "execution_count": null,
   "source": "",
   "id": "83ad388187552a59"
  }
 ],
 "metadata": {
  "kernelspec": {
   "display_name": "Python 3",
   "language": "python",
   "name": "python3"
  },
  "language_info": {
   "codemirror_mode": {
    "name": "ipython",
    "version": 2
   },
   "file_extension": ".py",
   "mimetype": "text/x-python",
   "name": "python",
   "nbconvert_exporter": "python",
   "pygments_lexer": "ipython2",
   "version": "2.7.6"
  }
 },
 "nbformat": 4,
 "nbformat_minor": 5
}
