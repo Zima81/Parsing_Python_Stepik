{
 "cells": [
  {
   "cell_type": "code",
   "id": "10a178abbb89518e",
   "metadata": {
    "ExecuteTime": {
     "end_time": "2024-10-26T19:44:31.060931Z",
     "start_time": "2024-10-26T19:44:30.679653Z"
    }
   },
   "source": [
    "import requests\n",
    "from bs4 import BeautifulSoup"
   ],
   "outputs": [],
   "execution_count": 2
  },
  {
   "cell_type": "code",
   "id": "a02145afdb3f550e",
   "metadata": {
    "ExecuteTime": {
     "end_time": "2024-10-26T19:44:31.065534Z",
     "start_time": "2024-10-26T19:44:31.062131Z"
    }
   },
   "source": [
    "def cook_soup(ur):\n",
    "    ans = requests.get(ur)\n",
    "    ans.encoding = 'utf-8'\n",
    "    if ans.status_code != 200:\n",
    "        print(ans.status_code, '\\n\\n', ans.text)\n",
    "    return BeautifulSoup(ans.text, 'html.parser')"
   ],
   "outputs": [],
   "execution_count": 3
  },
  {
   "cell_type": "markdown",
   "id": "cded7ace67becd2e",
   "metadata": {},
   "source": [
    "### 4.8 Step 2\n",
    "Агрегация уникальных данных из таблицы"
   ]
  },
  {
   "cell_type": "code",
   "execution_count": 2,
   "id": "b8b2052583999dc4",
   "metadata": {
    "ExecuteTime": {
     "end_time": "2024-10-25T07:15:22.648553Z",
     "start_time": "2024-10-25T07:15:22.644857Z"
    }
   },
   "outputs": [],
   "source": [
    "url = 'https://parsinger.ru/table/1/index.html'"
   ]
  },
  {
   "cell_type": "code",
   "execution_count": 6,
   "id": "bd6e77457cfeed45",
   "metadata": {
    "ExecuteTime": {
     "end_time": "2024-10-25T07:17:20.764956Z",
     "start_time": "2024-10-25T07:17:20.627513Z"
    }
   },
   "outputs": [
    {
     "data": {
      "text/plain": [
       "200"
      ]
     },
     "execution_count": 6,
     "metadata": {},
     "output_type": "execute_result"
    }
   ],
   "source": [
    "r = requests.get(url)\n",
    "r.status_code"
   ]
  },
  {
   "cell_type": "code",
   "execution_count": 7,
   "id": "3eda92eef85dafa3",
   "metadata": {
    "ExecuteTime": {
     "end_time": "2024-10-25T07:17:49.803853Z",
     "start_time": "2024-10-25T07:17:49.796476Z"
    }
   },
   "outputs": [],
   "source": [
    "soup = BeautifulSoup(r.text, 'html.parser')"
   ]
  },
  {
   "cell_type": "code",
   "execution_count": 25,
   "id": "e620c07e4ce900fc",
   "metadata": {
    "ExecuteTime": {
     "end_time": "2024-10-25T07:25:01.302029Z",
     "start_time": "2024-10-25T07:25:01.297806Z"
    }
   },
   "outputs": [],
   "source": [
    "unic_list = []\n",
    "for row in soup.find_all('tr')[1:]:\n",
    "    for num in row.find_all('td'):         \n",
    "        if not float(num.text) in unic_list:\n",
    "            unic_list.append(float(num.text))"
   ]
  },
  {
   "cell_type": "code",
   "execution_count": 29,
   "id": "cce6698c82eaf9a5",
   "metadata": {
    "ExecuteTime": {
     "end_time": "2024-10-25T07:25:49.512917Z",
     "start_time": "2024-10-25T07:25:49.508876Z"
    }
   },
   "outputs": [
    {
     "name": "stdout",
     "output_type": "stream",
     "text": [
      "1240.096\n"
     ]
    }
   ],
   "source": [
    "print(sum(unic_list))"
   ]
  },
  {
   "cell_type": "code",
   "execution_count": null,
   "id": "1fb8af5085589798",
   "metadata": {},
   "outputs": [],
   "source": []
  },
  {
   "cell_type": "markdown",
   "id": "6157358f44ffe47",
   "metadata": {},
   "source": [
    "### 4.8 Step 3\n",
    "Суммирование чисел из первого столбца таблицы"
   ]
  },
  {
   "cell_type": "code",
   "execution_count": 30,
   "id": "b5a2bb915f5cb4de",
   "metadata": {
    "ExecuteTime": {
     "end_time": "2024-10-25T07:27:04.606070Z",
     "start_time": "2024-10-25T07:27:04.602890Z"
    }
   },
   "outputs": [],
   "source": [
    "url = 'https://parsinger.ru/table/2/index.html'"
   ]
  },
  {
   "cell_type": "code",
   "execution_count": 32,
   "id": "b15aa9e48d1dafb9",
   "metadata": {
    "ExecuteTime": {
     "end_time": "2024-10-25T07:31:25.280365Z",
     "start_time": "2024-10-25T07:31:25.223091Z"
    }
   },
   "outputs": [],
   "source": [
    "soup = cook_soup(url)"
   ]
  },
  {
   "cell_type": "code",
   "execution_count": 43,
   "id": "e3bc5233fa4e1d12",
   "metadata": {
    "ExecuteTime": {
     "end_time": "2024-10-25T07:36:15.890909Z",
     "start_time": "2024-10-25T07:36:15.885602Z"
    }
   },
   "outputs": [],
   "source": [
    "first_column = list()\n",
    "for data in soup.find_all('tr')[1:]:\n",
    "    first_column.append(float(data.find('td').text))"
   ]
  },
  {
   "cell_type": "code",
   "execution_count": 47,
   "id": "100b4bf3c50422dc",
   "metadata": {
    "ExecuteTime": {
     "end_time": "2024-10-25T07:36:55.368320Z",
     "start_time": "2024-10-25T07:36:55.362543Z"
    }
   },
   "outputs": [
    {
     "data": {
      "text/plain": [
       "80.726"
      ]
     },
     "execution_count": 47,
     "metadata": {},
     "output_type": "execute_result"
    }
   ],
   "source": [
    "sum(first_column)"
   ]
  },
  {
   "cell_type": "markdown",
   "id": "6d7a8c1dab4ca969",
   "metadata": {},
   "source": [
    "### 4.8 Step 4\n",
    "Агрегация выделенных чисел из таблицы"
   ]
  },
  {
   "cell_type": "code",
   "execution_count": 48,
   "id": "fde3e9af1542515f",
   "metadata": {
    "ExecuteTime": {
     "end_time": "2024-10-25T08:05:58.872022Z",
     "start_time": "2024-10-25T08:05:58.869582Z"
    }
   },
   "outputs": [],
   "source": [
    "url = 'https://parsinger.ru/table/3/index.html'"
   ]
  },
  {
   "cell_type": "code",
   "execution_count": 49,
   "id": "9ab802c8e2b251ed",
   "metadata": {
    "ExecuteTime": {
     "end_time": "2024-10-25T08:06:13.222310Z",
     "start_time": "2024-10-25T08:06:13.132040Z"
    }
   },
   "outputs": [],
   "source": [
    "soup = cook_soup(url)"
   ]
  },
  {
   "cell_type": "code",
   "execution_count": 67,
   "id": "cf659b5a815b61dc",
   "metadata": {
    "ExecuteTime": {
     "end_time": "2024-10-25T08:13:46.915727Z",
     "start_time": "2024-10-25T08:13:46.906602Z"
    }
   },
   "outputs": [],
   "source": [
    "b_list = list()\n",
    "for row in soup.find_all('tr')[1:]:\n",
    "    for value in row.find_all('td'):\n",
    "        if value.find('b'):\n",
    "            b_list.append(float(value.find('b').text))"
   ]
  },
  {
   "cell_type": "code",
   "execution_count": 70,
   "id": "264e1c9f07dfb7dd",
   "metadata": {
    "ExecuteTime": {
     "end_time": "2024-10-25T08:14:17.840074Z",
     "start_time": "2024-10-25T08:14:17.835719Z"
    }
   },
   "outputs": [
    {
     "name": "stdout",
     "output_type": "stream",
     "text": [
      "373.329\n"
     ]
    }
   ],
   "source": [
    "print(sum(b_list))"
   ]
  },
  {
   "cell_type": "markdown",
   "id": "534bafcb866fc553",
   "metadata": {},
   "source": [
    "### 4.8 Step 5\n",
    "Суммирование чисел из зелёных ячеек таблицы"
   ]
  },
  {
   "cell_type": "code",
   "execution_count": 71,
   "id": "7f2a41ac4ffba125",
   "metadata": {
    "ExecuteTime": {
     "end_time": "2024-10-25T08:31:15.682787Z",
     "start_time": "2024-10-25T08:31:15.679100Z"
    }
   },
   "outputs": [],
   "source": [
    "url = 'https://parsinger.ru/table/4/index.html'"
   ]
  },
  {
   "cell_type": "code",
   "execution_count": 72,
   "id": "9dbae6ebc574ac3b",
   "metadata": {
    "ExecuteTime": {
     "end_time": "2024-10-25T08:32:12.361995Z",
     "start_time": "2024-10-25T08:32:12.308514Z"
    }
   },
   "outputs": [],
   "source": [
    "soup = cook_soup(url)"
   ]
  },
  {
   "cell_type": "code",
   "execution_count": 76,
   "id": "ade35cb99ad68f59",
   "metadata": {
    "ExecuteTime": {
     "end_time": "2024-10-25T08:46:40.603367Z",
     "start_time": "2024-10-25T08:46:40.597145Z"
    }
   },
   "outputs": [],
   "source": [
    "b_list = list()\n",
    "for row in soup.find_all('tr')[1:]:\n",
    "    for values in row.find_all('td', {'class': 'green'}):        \n",
    "        b_list.append(float(values.text))"
   ]
  },
  {
   "cell_type": "code",
   "execution_count": 78,
   "id": "378dddcc7d6b9893",
   "metadata": {
    "ExecuteTime": {
     "end_time": "2024-10-25T08:47:08.017135Z",
     "start_time": "2024-10-25T08:47:08.012746Z"
    }
   },
   "outputs": [
    {
     "name": "stdout",
     "output_type": "stream",
     "text": [
      "425.766\n"
     ]
    }
   ],
   "source": [
    "print(sum(b_list))"
   ]
  },
  {
   "cell_type": "markdown",
   "id": "171ce67f08e3c84e",
   "metadata": {},
   "source": [
    "### 4.8 Step 6\n",
    "Агрегация произведений чисел из оранжевых и голубых ячеек таблицы"
   ]
  },
  {
   "cell_type": "code",
   "execution_count": 79,
   "id": "564dfa98fa140fde",
   "metadata": {
    "ExecuteTime": {
     "end_time": "2024-10-25T08:48:20.888936Z",
     "start_time": "2024-10-25T08:48:20.884909Z"
    }
   },
   "outputs": [],
   "source": [
    "url = 'https://parsinger.ru/table/5/index.html'"
   ]
  },
  {
   "cell_type": "code",
   "execution_count": 80,
   "id": "3e1f3436677ffb86",
   "metadata": {
    "ExecuteTime": {
     "end_time": "2024-10-25T08:48:27.730523Z",
     "start_time": "2024-10-25T08:48:27.648628Z"
    }
   },
   "outputs": [],
   "source": [
    "soup = cook_soup(url)"
   ]
  },
  {
   "cell_type": "code",
   "execution_count": 101,
   "id": "82568dc9b7bebefe",
   "metadata": {
    "ExecuteTime": {
     "end_time": "2024-10-25T09:22:06.171803Z",
     "start_time": "2024-10-25T09:22:06.161967Z"
    }
   },
   "outputs": [],
   "source": [
    "ls_total = list()\n",
    "for row in soup.find_all('tr')[1:]:\n",
    "    num1 = float(row.find('td', {'class': 'orange'}).text)\n",
    "    num2 = float(row.find_all('td')[-1].text)    \n",
    "    ls_total.append(num1 * num2)"
   ]
  },
  {
   "cell_type": "code",
   "execution_count": 102,
   "id": "4bf942f5d304a65d",
   "metadata": {
    "ExecuteTime": {
     "end_time": "2024-10-25T09:22:21.859521Z",
     "start_time": "2024-10-25T09:22:21.855122Z"
    }
   },
   "outputs": [
    {
     "name": "stdout",
     "output_type": "stream",
     "text": [
      "2521465.6859999998\n"
     ]
    }
   ],
   "source": [
    "print(sum(ls_total))"
   ]
  },
  {
   "cell_type": "markdown",
   "id": "a7a93cc3aaaac4aa",
   "metadata": {},
   "source": [
    "### 4.8 Step 7\n",
    "Агрегация данных из столбцов таблицы в словарь"
   ]
  },
  {
   "cell_type": "code",
   "execution_count": 192,
   "id": "ffcd892c7b6cf0bd",
   "metadata": {
    "ExecuteTime": {
     "end_time": "2024-10-25T11:37:03.031921Z",
     "start_time": "2024-10-25T11:37:03.027847Z"
    }
   },
   "outputs": [],
   "source": [
    "url = 'https://parsinger.ru/table/5/index.html'"
   ]
  },
  {
   "cell_type": "code",
   "execution_count": 193,
   "id": "1d934648715beff2",
   "metadata": {
    "ExecuteTime": {
     "end_time": "2024-10-25T11:37:03.420010Z",
     "start_time": "2024-10-25T11:37:03.354834Z"
    }
   },
   "outputs": [],
   "source": [
    "soup = cook_soup(url)"
   ]
  },
  {
   "cell_type": "code",
   "execution_count": 194,
   "id": "eba04c60c48b50ad",
   "metadata": {
    "ExecuteTime": {
     "end_time": "2024-10-25T11:37:03.676810Z",
     "start_time": "2024-10-25T11:37:03.670811Z"
    }
   },
   "outputs": [],
   "source": [
    "total_columns = None\n",
    "for name_column in soup.find('tr').find_all('th'):\n",
    "    total_columns = len(soup.find('tr').find_all('th'))"
   ]
  },
  {
   "cell_type": "code",
   "execution_count": 195,
   "id": "22b7a8b5a5b705e3",
   "metadata": {
    "ExecuteTime": {
     "end_time": "2024-10-25T11:37:03.986147Z",
     "start_time": "2024-10-25T11:37:03.982081Z"
    }
   },
   "outputs": [],
   "source": [
    "dic2 = {}"
   ]
  },
  {
   "cell_type": "code",
   "execution_count": 196,
   "id": "eac60dc4665bda4f",
   "metadata": {
    "ExecuteTime": {
     "end_time": "2024-10-25T11:37:04.297143Z",
     "start_time": "2024-10-25T11:37:04.288321Z"
    }
   },
   "outputs": [],
   "source": [
    "for row in soup.find_all('tr')[1:]:\n",
    "    num = 1\n",
    "    for value in row.find_all('td'):        \n",
    "        if f'{num} column' in dic2.keys():\n",
    "            dic2[f'{num} column'].append(float(value.text))\n",
    "        else:\n",
    "            dic2[f'{num} column'] = list()\n",
    "            dic2[f'{num} column'].append(float(value.text))\n",
    "        if num < total_columns:\n",
    "            num += 1\n",
    "        else:\n",
    "            num = 1"
   ]
  },
  {
   "cell_type": "code",
   "execution_count": 197,
   "id": "4aedadc4632c3b96",
   "metadata": {
    "ExecuteTime": {
     "end_time": "2024-10-25T11:37:04.621395Z",
     "start_time": "2024-10-25T11:37:04.618191Z"
    }
   },
   "outputs": [],
   "source": [
    "ans_dic = {}\n",
    "for key, value in dic2.items():\n",
    "    ans_dic[key] = round(sum(value), 3)"
   ]
  },
  {
   "cell_type": "code",
   "execution_count": 198,
   "id": "a508f53f446433cb",
   "metadata": {
    "ExecuteTime": {
     "end_time": "2024-10-25T11:37:05.651299Z",
     "start_time": "2024-10-25T11:37:05.647266Z"
    }
   },
   "outputs": [
    {
     "name": "stdout",
     "output_type": "stream",
     "text": [
      "{'1 column': 505.206, '2 column': 369.211, '3 column': 371.566, '4 column': 659.462, '5 column': 431.64, '6 column': 426.693, '7 column': 488.112, '8 column': 487.152, '9 column': 511.983, '10 column': 403.137, '11 column': 420.792, '12 column': 468.252, '13 column': 416.635, '14 column': 443.035, '15 column': 397094.0}\n"
     ]
    }
   ],
   "source": [
    "print(ans_dic)"
   ]
  },
  {
   "cell_type": "markdown",
   "id": "f1f8c90be9452a16",
   "metadata": {},
   "source": [
    "### 4.8 Step 8\n",
    "Суммирование чисел, кратных трём, из шести таблиц"
   ]
  },
  {
   "cell_type": "code",
   "execution_count": 199,
   "id": "86f9a20f78589121",
   "metadata": {
    "ExecuteTime": {
     "end_time": "2024-10-25T12:13:53.985335Z",
     "start_time": "2024-10-25T12:13:53.981890Z"
    }
   },
   "outputs": [],
   "source": [
    "url = 'https://parsinger.ru/4.8/7/index.html'"
   ]
  },
  {
   "cell_type": "code",
   "execution_count": 200,
   "id": "6d71f03449f3c5e8",
   "metadata": {
    "ExecuteTime": {
     "end_time": "2024-10-25T12:14:03.388705Z",
     "start_time": "2024-10-25T12:14:02.991089Z"
    }
   },
   "outputs": [],
   "source": [
    "soup = cook_soup(url)"
   ]
  },
  {
   "cell_type": "code",
   "execution_count": 213,
   "id": "d13cacb91cc704f0",
   "metadata": {
    "ExecuteTime": {
     "end_time": "2024-10-25T12:21:57.795701Z",
     "start_time": "2024-10-25T12:21:57.791012Z"
    }
   },
   "outputs": [],
   "source": [
    "ls = [int(value.text) for value in soup.find_all('td') if int(value.text) % 3 == 0]"
   ]
  },
  {
   "cell_type": "code",
   "execution_count": 214,
   "id": "dcc2129391c6e0a3",
   "metadata": {
    "ExecuteTime": {
     "end_time": "2024-10-25T12:21:58.152430Z",
     "start_time": "2024-10-25T12:21:58.148602Z"
    }
   },
   "outputs": [
    {
     "data": {
      "text/plain": [
       "114966"
      ]
     },
     "execution_count": 214,
     "metadata": {},
     "output_type": "execute_result"
    }
   ],
   "source": [
    "sum(ls)"
   ]
  },
  {
   "cell_type": "code",
   "execution_count": 217,
   "id": "29ed31d0d854c455",
   "metadata": {
    "ExecuteTime": {
     "end_time": "2024-10-25T12:23:25.810870Z",
     "start_time": "2024-10-25T12:23:25.808462Z"
    }
   },
   "outputs": [],
   "source": [
    "x2 = lambda x: x * 2"
   ]
  },
  {
   "cell_type": "code",
   "execution_count": 218,
   "id": "cd7acf237058fe5d",
   "metadata": {
    "ExecuteTime": {
     "end_time": "2024-10-25T12:23:33.085261Z",
     "start_time": "2024-10-25T12:23:33.081794Z"
    }
   },
   "outputs": [
    {
     "data": {
      "text/plain": [
       "10"
      ]
     },
     "execution_count": 218,
     "metadata": {},
     "output_type": "execute_result"
    }
   ],
   "source": [
    "x2(5)"
   ]
  },
  {
   "cell_type": "markdown",
   "id": "a9e3d9372d77656f",
   "metadata": {},
   "source": [
    "### 4.8 Step 9\n",
    "Извлечение и суммирование данных из таблицы в объединённых ячейках"
   ]
  },
  {
   "cell_type": "code",
   "execution_count": 249,
   "id": "e894fa70f4fa2f1a",
   "metadata": {
    "ExecuteTime": {
     "end_time": "2024-10-25T13:06:42.813816Z",
     "start_time": "2024-10-25T13:06:42.810507Z"
    }
   },
   "outputs": [],
   "source": [
    "url = 'https://parsinger.ru/4.8/8/index.html'"
   ]
  },
  {
   "cell_type": "code",
   "execution_count": 250,
   "id": "e3c222c8fd7b084c",
   "metadata": {
    "ExecuteTime": {
     "end_time": "2024-10-25T13:06:43.197595Z",
     "start_time": "2024-10-25T13:06:43.141525Z"
    }
   },
   "outputs": [],
   "source": [
    "soup = cook_soup(url)"
   ]
  },
  {
   "cell_type": "code",
   "execution_count": 230,
   "id": "5f832da4b2cbbeca",
   "metadata": {
    "ExecuteTime": {
     "end_time": "2024-10-25T12:52:10.904859Z",
     "start_time": "2024-10-25T12:52:10.899972Z"
    }
   },
   "outputs": [
    {
     "data": {
      "text/plain": [
       "[<th colspan=\"2\">144</th>, <th colspan=\"2\">375</th>]"
      ]
     },
     "execution_count": 230,
     "metadata": {},
     "output_type": "execute_result"
    }
   ],
   "source": [
    "soup.find_all('th', {'colspan': True})"
   ]
  },
  {
   "cell_type": "code",
   "execution_count": 254,
   "id": "4de408aa975a671f",
   "metadata": {
    "ExecuteTime": {
     "end_time": "2024-10-25T13:11:11.625228Z",
     "start_time": "2024-10-25T13:11:11.621131Z"
    }
   },
   "outputs": [],
   "source": [
    "th_sum = 0\n",
    "for val in soup.find('td', {'colspan': \"3\"}).find_all('th', {'colspan': True}):\n",
    "    th_sum += int(val.text)"
   ]
  },
  {
   "cell_type": "code",
   "execution_count": 255,
   "id": "87806c7734f88c52",
   "metadata": {
    "ExecuteTime": {
     "end_time": "2024-10-25T13:11:40.061214Z",
     "start_time": "2024-10-25T13:11:40.056739Z"
    }
   },
   "outputs": [],
   "source": [
    "td_sum = 0\n",
    "for val in soup.find('td', {'colspan': \"3\"}).find_all('td', {'colspan': True}):\n",
    "    td_sum += int(val.text)"
   ]
  },
  {
   "cell_type": "code",
   "execution_count": 256,
   "id": "1feb84c36bdc65d3",
   "metadata": {
    "ExecuteTime": {
     "end_time": "2024-10-25T13:12:10.095381Z",
     "start_time": "2024-10-25T13:12:10.091685Z"
    }
   },
   "outputs": [
    {
     "name": "stdout",
     "output_type": "stream",
     "text": [
      "7774\n"
     ]
    }
   ],
   "source": [
    "total_sum = th_sum + td_sum\n",
    "print(total_sum)"
   ]
  },
  {
   "cell_type": "markdown",
   "id": "f166393e2d43e268",
   "metadata": {},
   "source": [
    "### 4.8 Step 10\n",
    "Поиск подходящих авто"
   ]
  },
  {
   "cell_type": "code",
   "id": "a8f584b9e4c642a",
   "metadata": {
    "ExecuteTime": {
     "end_time": "2024-10-26T19:46:34.814979Z",
     "start_time": "2024-10-26T19:46:34.810356Z"
    }
   },
   "source": [
    "url = 'https://parsinger.ru/4.8/6/index.html'"
   ],
   "outputs": [],
   "execution_count": 4
  },
  {
   "metadata": {
    "ExecuteTime": {
     "end_time": "2024-10-26T19:46:45.141276Z",
     "start_time": "2024-10-26T19:46:44.982071Z"
    }
   },
   "cell_type": "code",
   "source": "soup = cook_soup(url)",
   "id": "e05a2c28734529f",
   "outputs": [],
   "execution_count": 5
  },
  {
   "metadata": {
    "ExecuteTime": {
     "end_time": "2024-10-26T19:47:32.719192Z",
     "start_time": "2024-10-26T19:47:32.714360Z"
    }
   },
   "cell_type": "code",
   "source": "rows = soup.find_all('tr')",
   "id": "c46e0a47f6d7b7a2",
   "outputs": [],
   "execution_count": 7
  },
  {
   "metadata": {},
   "cell_type": "code",
   "outputs": [],
   "execution_count": null,
   "source": [
    "# Стоимость авто не выше 4 000 000\n",
    "for "
   ],
   "id": "2f10ad057bb417a0"
  }
 ],
 "metadata": {
  "kernelspec": {
   "display_name": "Python 3 (ipykernel)",
   "language": "python",
   "name": "python3"
  },
  "language_info": {
   "codemirror_mode": {
    "name": "ipython",
    "version": 2
   },
   "file_extension": ".py",
   "mimetype": "text/x-python",
   "name": "python",
   "nbconvert_exporter": "python",
   "pygments_lexer": "ipython2",
   "version": "2.7.6"
  }
 },
 "nbformat": 4,
 "nbformat_minor": 5
}
