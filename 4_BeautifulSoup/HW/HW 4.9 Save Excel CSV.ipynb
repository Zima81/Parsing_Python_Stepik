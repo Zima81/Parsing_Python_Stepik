{
 "cells": [
  {
   "cell_type": "code",
   "id": "initial_id",
   "metadata": {
    "collapsed": true,
    "ExecuteTime": {
     "end_time": "2024-11-09T08:55:50.073347Z",
     "start_time": "2024-11-09T08:55:50.067726Z"
    }
   },
   "source": [
    "import requests\n",
    "from bs4 import BeautifulSoup\n",
    "import csv\n",
    "\n",
    "def cook_soup(url):\n",
    "    ans = requests.get(url)\n",
    "    ans.encoding = 'utf-8'\n",
    "    if ans.status_code != 200:\n",
    "        print(ans.status_code, '\\n\\n', ans.text)\n",
    "    return BeautifulSoup(ans.text, 'html.parser')"
   ],
   "outputs": [],
   "execution_count": 2
  },
  {
   "metadata": {},
   "cell_type": "markdown",
   "source": [
    "### Сбор данных о HDD\n",
    " (step 4)"
   ],
   "id": "20ffaa8cfb6a57c9"
  },
  {
   "metadata": {
    "ExecuteTime": {
     "end_time": "2024-11-08T16:07:20.938102Z",
     "start_time": "2024-11-08T16:07:20.933217Z"
    }
   },
   "cell_type": "code",
   "source": "head = ['Наименование','Бренд','Форм-фактор','Ёмкость','Объем буферной памяти','Цена']",
   "id": "c9e0eeb7bad28a0c",
   "outputs": [],
   "execution_count": 85
  },
  {
   "metadata": {
    "ExecuteTime": {
     "end_time": "2024-11-08T16:07:21.236019Z",
     "start_time": "2024-11-08T16:07:21.229183Z"
    }
   },
   "cell_type": "code",
   "source": [
    "with open('data_hdd.csv', 'w', newline='', encoding='utf-8-sig') as f:\n",
    "    writer = csv.writer(f, delimiter=';')\n",
    "    writer.writerow(head)"
   ],
   "id": "f3f6184acf3c9d10",
   "outputs": [],
   "execution_count": 86
  },
  {
   "metadata": {
    "ExecuteTime": {
     "end_time": "2024-11-08T16:07:21.541631Z",
     "start_time": "2024-11-08T16:07:21.536563Z"
    }
   },
   "cell_type": "code",
   "source": [
    "list_urls = [f'https://parsinger.ru/html/index4_page_{n+1}.html' for n in range(4)] \n",
    "list_urls"
   ],
   "id": "387085c61a6c6a56",
   "outputs": [
    {
     "data": {
      "text/plain": [
       "['https://parsinger.ru/html/index4_page_1.html',\n",
       " 'https://parsinger.ru/html/index4_page_2.html',\n",
       " 'https://parsinger.ru/html/index4_page_3.html',\n",
       " 'https://parsinger.ru/html/index4_page_4.html']"
      ]
     },
     "execution_count": 87,
     "metadata": {},
     "output_type": "execute_result"
    }
   ],
   "execution_count": 87
  },
  {
   "metadata": {
    "ExecuteTime": {
     "end_time": "2024-11-08T16:07:22.824179Z",
     "start_time": "2024-11-08T16:07:21.912764Z"
    }
   },
   "cell_type": "code",
   "source": [
    "for url in list_urls:    \n",
    "    soup = cook_soup(url)\n",
    "    for box in soup.find_all('div', {'class': 'img_box'}):\n",
    "        row = []\n",
    "        row.append(box.find('a', {'class': 'name_item'}).text.strip())\n",
    "        for li in box.find_all('li'):\n",
    "            row.append(li.text.split(':')[1].strip())\n",
    "        row.append(box.find('p', {'class': 'price'}).text)\n",
    "        with open('data_hdd.csv', 'a', newline='', encoding='utf-8-sig') as f:\n",
    "            writer = csv.writer(f, delimiter=';')\n",
    "            writer.writerow(row)"
   ],
   "id": "d6cbfc37c25b067a",
   "outputs": [],
   "execution_count": 88
  },
  {
   "metadata": {
    "ExecuteTime": {
     "end_time": "2024-11-08T16:07:22.835173Z",
     "start_time": "2024-11-08T16:07:22.827284Z"
    }
   },
   "cell_type": "code",
   "source": [
    "import pandas as pd\n",
    "df = pd.read_csv('data_hdd.csv', sep=';')"
   ],
   "id": "f47590f604237d1e",
   "outputs": [],
   "execution_count": 89
  },
  {
   "metadata": {
    "ExecuteTime": {
     "end_time": "2024-11-08T16:07:22.856235Z",
     "start_time": "2024-11-08T16:07:22.837486Z"
    }
   },
   "cell_type": "code",
   "source": "df",
   "id": "71718ccd49f89c32",
   "outputs": [
    {
     "data": {
      "text/plain": [
       "                              Наименование            Бренд  Форм-фактор  \\\n",
       "0      Seagate ST2000VX008 SATA III 6 Gb/s          Seagate          3.5   \n",
       "1                     Toshiba HDWD105UZSVA          Toshiba          3.5   \n",
       "2                          SATAIII QK554AA               HP          3.5   \n",
       "3                     Seagate ST2000NM000A          Seagate          3.5   \n",
       "4                       HGST Ultrastar 7K2             HGST          3.5   \n",
       "5                      Seagate ST1000DM010          Seagate          3.5   \n",
       "6                Toshiba S300 Surveillance          Toshiba          3.5   \n",
       "7                      Toshiba MG04SCA20EE          Toshiba          3.5   \n",
       "8                     Toshiba HDWD130UZSVA          Toshiba          3.5   \n",
       "9                         HDD Toshiba X300          Toshiba          3.5   \n",
       "10                      MbMb cache Seagate          Seagate          3.5   \n",
       "11             Seagate Skyhawk ST6000VX001          Seagate          3.5   \n",
       "12           Seagate Barracuda ST4000DM004          Seagate          3.5   \n",
       "13                    Toshiba HDWR160UZSVA          Toshiba          3.5   \n",
       "14            Seagate IronWolf ST2000VN004          Seagate          3.5   \n",
       "15                    Toshiba HDWT860UZSVA          Toshiba          3.5   \n",
       "16                   Seagate ST16000NM001G          Seagate          3.5   \n",
       "17                    Toshiba HDWD220UZSVA          Toshiba          3.5   \n",
       "18               Toshiba X300 HDWR160EZSTA          Toshiba          3.5   \n",
       "19           Seagate Barracuda ST3000DM007          Seagate          3.5   \n",
       "20                    Toshiba HDWE160UZSVA          Toshiba          3.5   \n",
       "21                    Toshiba HDWR480EZSTA          Toshiba          3.5   \n",
       "22                Western Digital WD20EFAX  Western Digital          3.5   \n",
       "23  Toshiba Surveillance S300 HDWT360UZSVA          Toshiba          3.5   \n",
       "24                 MbMb Seagate ST500DM009          Seagate          3.5   \n",
       "25                Western Digital WD20EZBX  Western Digital          3.5   \n",
       "26      MbMb Seagate Barracuda ST2000DM008          Seagate          3.5   \n",
       "27                     Toshiba MG06ACA600E          Toshiba          3.5   \n",
       "28              Western Digital WD5003AZEX  Western Digital          3.5   \n",
       "29     Western Digital Caviar Red WD10EFRX  Western Digital          3.5   \n",
       "30                    Toshiba HDWD240EZSTA          Toshiba          3.5   \n",
       "31              Western Digital WD2003FZEX  Western Digital          3.5   \n",
       "\n",
       "   Ёмкость Объем буферной памяти       Цена  \n",
       "0     2 Tb                 64 Mb  12240 руб  \n",
       "1   500 Gb                 64 Mb   6200 руб  \n",
       "2    500Gb                 64 Mb  14360 руб  \n",
       "3     2 Tb                 64 Mb  18690 руб  \n",
       "4     2 Tb                128 Mb  25430 руб  \n",
       "5     1 Tb                 64 Mb   7180 руб  \n",
       "6     4 Tb                128 Mb  10710 руб  \n",
       "7     2 Tb                128 Mb  11010 руб  \n",
       "8     3 Tb                 64 Mb  11600 руб  \n",
       "9      6Tb                128 Mb  20820 руб  \n",
       "10    4 Tb                256 Mb  20460 руб  \n",
       "11    6 Tb                256 Mb  21590 руб  \n",
       "12    4 Tb                256 Mb  13330 руб  \n",
       "13    6 Tb                256 Mb  20810 руб  \n",
       "14    2 Tb                 64 Mb  13120 руб  \n",
       "15     6tb                256 Mb  16480 руб  \n",
       "16   16 Tb                256 Mb  70200 руб  \n",
       "17    2 Tb                 64 Mb   8170 руб  \n",
       "18    6 Tb                128 Mb  21310 руб  \n",
       "19    3 Tb                256 Mb   9050 руб  \n",
       "20    6 Tb                128 Mb  16020 руб  \n",
       "21    8 Tb                256 Mb  25460 руб  \n",
       "22    2 Tb                256 Mb  14590 руб  \n",
       "23    6 Tb                256 Mb  16780 руб  \n",
       "24  500 Gb                 32 Mb   6540 руб  \n",
       "25    2 Tb                256 Mb   7670 руб  \n",
       "26    2 Tb                256 Mb   7110 руб  \n",
       "27    6 Tb                256 Mb  19650 руб  \n",
       "28  500 Gb                 64 Mb   7910 руб  \n",
       "29    1 Tb                 64 Mb   8540 руб  \n",
       "30    4 Tb                128 Mb  11990 руб  \n",
       "31    2 Tb                 64 Mb  25040 руб  "
      ],
      "text/html": [
       "<div>\n",
       "<style scoped>\n",
       "    .dataframe tbody tr th:only-of-type {\n",
       "        vertical-align: middle;\n",
       "    }\n",
       "\n",
       "    .dataframe tbody tr th {\n",
       "        vertical-align: top;\n",
       "    }\n",
       "\n",
       "    .dataframe thead th {\n",
       "        text-align: right;\n",
       "    }\n",
       "</style>\n",
       "<table border=\"1\" class=\"dataframe\">\n",
       "  <thead>\n",
       "    <tr style=\"text-align: right;\">\n",
       "      <th></th>\n",
       "      <th>Наименование</th>\n",
       "      <th>Бренд</th>\n",
       "      <th>Форм-фактор</th>\n",
       "      <th>Ёмкость</th>\n",
       "      <th>Объем буферной памяти</th>\n",
       "      <th>Цена</th>\n",
       "    </tr>\n",
       "  </thead>\n",
       "  <tbody>\n",
       "    <tr>\n",
       "      <th>0</th>\n",
       "      <td>Seagate ST2000VX008 SATA III 6 Gb/s</td>\n",
       "      <td>Seagate</td>\n",
       "      <td>3.5</td>\n",
       "      <td>2 Tb</td>\n",
       "      <td>64 Mb</td>\n",
       "      <td>12240 руб</td>\n",
       "    </tr>\n",
       "    <tr>\n",
       "      <th>1</th>\n",
       "      <td>Toshiba HDWD105UZSVA</td>\n",
       "      <td>Toshiba</td>\n",
       "      <td>3.5</td>\n",
       "      <td>500 Gb</td>\n",
       "      <td>64 Mb</td>\n",
       "      <td>6200 руб</td>\n",
       "    </tr>\n",
       "    <tr>\n",
       "      <th>2</th>\n",
       "      <td>SATAIII QK554AA</td>\n",
       "      <td>HP</td>\n",
       "      <td>3.5</td>\n",
       "      <td>500Gb</td>\n",
       "      <td>64 Mb</td>\n",
       "      <td>14360 руб</td>\n",
       "    </tr>\n",
       "    <tr>\n",
       "      <th>3</th>\n",
       "      <td>Seagate ST2000NM000A</td>\n",
       "      <td>Seagate</td>\n",
       "      <td>3.5</td>\n",
       "      <td>2 Tb</td>\n",
       "      <td>64 Mb</td>\n",
       "      <td>18690 руб</td>\n",
       "    </tr>\n",
       "    <tr>\n",
       "      <th>4</th>\n",
       "      <td>HGST Ultrastar 7K2</td>\n",
       "      <td>HGST</td>\n",
       "      <td>3.5</td>\n",
       "      <td>2 Tb</td>\n",
       "      <td>128 Mb</td>\n",
       "      <td>25430 руб</td>\n",
       "    </tr>\n",
       "    <tr>\n",
       "      <th>5</th>\n",
       "      <td>Seagate ST1000DM010</td>\n",
       "      <td>Seagate</td>\n",
       "      <td>3.5</td>\n",
       "      <td>1 Tb</td>\n",
       "      <td>64 Mb</td>\n",
       "      <td>7180 руб</td>\n",
       "    </tr>\n",
       "    <tr>\n",
       "      <th>6</th>\n",
       "      <td>Toshiba S300 Surveillance</td>\n",
       "      <td>Toshiba</td>\n",
       "      <td>3.5</td>\n",
       "      <td>4 Tb</td>\n",
       "      <td>128 Mb</td>\n",
       "      <td>10710 руб</td>\n",
       "    </tr>\n",
       "    <tr>\n",
       "      <th>7</th>\n",
       "      <td>Toshiba MG04SCA20EE</td>\n",
       "      <td>Toshiba</td>\n",
       "      <td>3.5</td>\n",
       "      <td>2 Tb</td>\n",
       "      <td>128 Mb</td>\n",
       "      <td>11010 руб</td>\n",
       "    </tr>\n",
       "    <tr>\n",
       "      <th>8</th>\n",
       "      <td>Toshiba HDWD130UZSVA</td>\n",
       "      <td>Toshiba</td>\n",
       "      <td>3.5</td>\n",
       "      <td>3 Tb</td>\n",
       "      <td>64 Mb</td>\n",
       "      <td>11600 руб</td>\n",
       "    </tr>\n",
       "    <tr>\n",
       "      <th>9</th>\n",
       "      <td>HDD Toshiba X300</td>\n",
       "      <td>Toshiba</td>\n",
       "      <td>3.5</td>\n",
       "      <td>6Tb</td>\n",
       "      <td>128 Mb</td>\n",
       "      <td>20820 руб</td>\n",
       "    </tr>\n",
       "    <tr>\n",
       "      <th>10</th>\n",
       "      <td>MbMb cache Seagate</td>\n",
       "      <td>Seagate</td>\n",
       "      <td>3.5</td>\n",
       "      <td>4 Tb</td>\n",
       "      <td>256 Mb</td>\n",
       "      <td>20460 руб</td>\n",
       "    </tr>\n",
       "    <tr>\n",
       "      <th>11</th>\n",
       "      <td>Seagate Skyhawk ST6000VX001</td>\n",
       "      <td>Seagate</td>\n",
       "      <td>3.5</td>\n",
       "      <td>6 Tb</td>\n",
       "      <td>256 Mb</td>\n",
       "      <td>21590 руб</td>\n",
       "    </tr>\n",
       "    <tr>\n",
       "      <th>12</th>\n",
       "      <td>Seagate Barracuda ST4000DM004</td>\n",
       "      <td>Seagate</td>\n",
       "      <td>3.5</td>\n",
       "      <td>4 Tb</td>\n",
       "      <td>256 Mb</td>\n",
       "      <td>13330 руб</td>\n",
       "    </tr>\n",
       "    <tr>\n",
       "      <th>13</th>\n",
       "      <td>Toshiba HDWR160UZSVA</td>\n",
       "      <td>Toshiba</td>\n",
       "      <td>3.5</td>\n",
       "      <td>6 Tb</td>\n",
       "      <td>256 Mb</td>\n",
       "      <td>20810 руб</td>\n",
       "    </tr>\n",
       "    <tr>\n",
       "      <th>14</th>\n",
       "      <td>Seagate IronWolf ST2000VN004</td>\n",
       "      <td>Seagate</td>\n",
       "      <td>3.5</td>\n",
       "      <td>2 Tb</td>\n",
       "      <td>64 Mb</td>\n",
       "      <td>13120 руб</td>\n",
       "    </tr>\n",
       "    <tr>\n",
       "      <th>15</th>\n",
       "      <td>Toshiba HDWT860UZSVA</td>\n",
       "      <td>Toshiba</td>\n",
       "      <td>3.5</td>\n",
       "      <td>6tb</td>\n",
       "      <td>256 Mb</td>\n",
       "      <td>16480 руб</td>\n",
       "    </tr>\n",
       "    <tr>\n",
       "      <th>16</th>\n",
       "      <td>Seagate ST16000NM001G</td>\n",
       "      <td>Seagate</td>\n",
       "      <td>3.5</td>\n",
       "      <td>16 Tb</td>\n",
       "      <td>256 Mb</td>\n",
       "      <td>70200 руб</td>\n",
       "    </tr>\n",
       "    <tr>\n",
       "      <th>17</th>\n",
       "      <td>Toshiba HDWD220UZSVA</td>\n",
       "      <td>Toshiba</td>\n",
       "      <td>3.5</td>\n",
       "      <td>2 Tb</td>\n",
       "      <td>64 Mb</td>\n",
       "      <td>8170 руб</td>\n",
       "    </tr>\n",
       "    <tr>\n",
       "      <th>18</th>\n",
       "      <td>Toshiba X300 HDWR160EZSTA</td>\n",
       "      <td>Toshiba</td>\n",
       "      <td>3.5</td>\n",
       "      <td>6 Tb</td>\n",
       "      <td>128 Mb</td>\n",
       "      <td>21310 руб</td>\n",
       "    </tr>\n",
       "    <tr>\n",
       "      <th>19</th>\n",
       "      <td>Seagate Barracuda ST3000DM007</td>\n",
       "      <td>Seagate</td>\n",
       "      <td>3.5</td>\n",
       "      <td>3 Tb</td>\n",
       "      <td>256 Mb</td>\n",
       "      <td>9050 руб</td>\n",
       "    </tr>\n",
       "    <tr>\n",
       "      <th>20</th>\n",
       "      <td>Toshiba HDWE160UZSVA</td>\n",
       "      <td>Toshiba</td>\n",
       "      <td>3.5</td>\n",
       "      <td>6 Tb</td>\n",
       "      <td>128 Mb</td>\n",
       "      <td>16020 руб</td>\n",
       "    </tr>\n",
       "    <tr>\n",
       "      <th>21</th>\n",
       "      <td>Toshiba HDWR480EZSTA</td>\n",
       "      <td>Toshiba</td>\n",
       "      <td>3.5</td>\n",
       "      <td>8 Tb</td>\n",
       "      <td>256 Mb</td>\n",
       "      <td>25460 руб</td>\n",
       "    </tr>\n",
       "    <tr>\n",
       "      <th>22</th>\n",
       "      <td>Western Digital WD20EFAX</td>\n",
       "      <td>Western Digital</td>\n",
       "      <td>3.5</td>\n",
       "      <td>2 Tb</td>\n",
       "      <td>256 Mb</td>\n",
       "      <td>14590 руб</td>\n",
       "    </tr>\n",
       "    <tr>\n",
       "      <th>23</th>\n",
       "      <td>Toshiba Surveillance S300 HDWT360UZSVA</td>\n",
       "      <td>Toshiba</td>\n",
       "      <td>3.5</td>\n",
       "      <td>6 Tb</td>\n",
       "      <td>256 Mb</td>\n",
       "      <td>16780 руб</td>\n",
       "    </tr>\n",
       "    <tr>\n",
       "      <th>24</th>\n",
       "      <td>MbMb Seagate ST500DM009</td>\n",
       "      <td>Seagate</td>\n",
       "      <td>3.5</td>\n",
       "      <td>500 Gb</td>\n",
       "      <td>32 Mb</td>\n",
       "      <td>6540 руб</td>\n",
       "    </tr>\n",
       "    <tr>\n",
       "      <th>25</th>\n",
       "      <td>Western Digital WD20EZBX</td>\n",
       "      <td>Western Digital</td>\n",
       "      <td>3.5</td>\n",
       "      <td>2 Tb</td>\n",
       "      <td>256 Mb</td>\n",
       "      <td>7670 руб</td>\n",
       "    </tr>\n",
       "    <tr>\n",
       "      <th>26</th>\n",
       "      <td>MbMb Seagate Barracuda ST2000DM008</td>\n",
       "      <td>Seagate</td>\n",
       "      <td>3.5</td>\n",
       "      <td>2 Tb</td>\n",
       "      <td>256 Mb</td>\n",
       "      <td>7110 руб</td>\n",
       "    </tr>\n",
       "    <tr>\n",
       "      <th>27</th>\n",
       "      <td>Toshiba MG06ACA600E</td>\n",
       "      <td>Toshiba</td>\n",
       "      <td>3.5</td>\n",
       "      <td>6 Tb</td>\n",
       "      <td>256 Mb</td>\n",
       "      <td>19650 руб</td>\n",
       "    </tr>\n",
       "    <tr>\n",
       "      <th>28</th>\n",
       "      <td>Western Digital WD5003AZEX</td>\n",
       "      <td>Western Digital</td>\n",
       "      <td>3.5</td>\n",
       "      <td>500 Gb</td>\n",
       "      <td>64 Mb</td>\n",
       "      <td>7910 руб</td>\n",
       "    </tr>\n",
       "    <tr>\n",
       "      <th>29</th>\n",
       "      <td>Western Digital Caviar Red WD10EFRX</td>\n",
       "      <td>Western Digital</td>\n",
       "      <td>3.5</td>\n",
       "      <td>1 Tb</td>\n",
       "      <td>64 Mb</td>\n",
       "      <td>8540 руб</td>\n",
       "    </tr>\n",
       "    <tr>\n",
       "      <th>30</th>\n",
       "      <td>Toshiba HDWD240EZSTA</td>\n",
       "      <td>Toshiba</td>\n",
       "      <td>3.5</td>\n",
       "      <td>4 Tb</td>\n",
       "      <td>128 Mb</td>\n",
       "      <td>11990 руб</td>\n",
       "    </tr>\n",
       "    <tr>\n",
       "      <th>31</th>\n",
       "      <td>Western Digital WD2003FZEX</td>\n",
       "      <td>Western Digital</td>\n",
       "      <td>3.5</td>\n",
       "      <td>2 Tb</td>\n",
       "      <td>64 Mb</td>\n",
       "      <td>25040 руб</td>\n",
       "    </tr>\n",
       "  </tbody>\n",
       "</table>\n",
       "</div>"
      ]
     },
     "execution_count": 90,
     "metadata": {},
     "output_type": "execute_result"
    }
   ],
   "execution_count": 90
  },
  {
   "metadata": {},
   "cell_type": "markdown",
   "source": [
    "### Сбор данных о часах с карточек товара\n",
    "step 5"
   ],
   "id": "dad64dac0d5bca19"
  },
  {
   "metadata": {
    "ExecuteTime": {
     "end_time": "2024-11-08T16:07:23.357431Z",
     "start_time": "2024-11-08T16:07:23.352874Z"
    }
   },
   "cell_type": "code",
   "source": "head = ['Наименование', 'Артикул', 'Бренд', 'Модель', 'Тип', 'Технология экрана', 'Материал корпуса', 'Материал браслета', 'Размер', 'Сайт производителя', 'Наличие', 'Цена', 'Старая цена', 'Ссылка на карточку с товаром']",
   "id": "a2e7534d8532cced",
   "outputs": [],
   "execution_count": 91
  },
  {
   "metadata": {
    "ExecuteTime": {
     "end_time": "2024-11-08T16:07:23.659437Z",
     "start_time": "2024-11-08T16:07:23.653873Z"
    }
   },
   "cell_type": "code",
   "source": [
    "with open('data_watch_page.csv', 'w', newline='', encoding='utf-8-sig') as f:\n",
    "    writer = csv.writer(f, delimiter=';')\n",
    "    writer.writerow(head)"
   ],
   "id": "a52b31267d800fa9",
   "outputs": [],
   "execution_count": 92
  },
  {
   "metadata": {
    "ExecuteTime": {
     "end_time": "2024-11-08T16:07:24.093128Z",
     "start_time": "2024-11-08T16:07:24.088448Z"
    }
   },
   "cell_type": "code",
   "source": [
    "main_url = 'https://parsinger.ru/html/'\n",
    "list_urls = [f'https://parsinger.ru/html/index1_page_{n+1}.html' for n in range(4)] \n",
    "list_urls"
   ],
   "id": "927f3973bdcec85c",
   "outputs": [
    {
     "data": {
      "text/plain": [
       "['https://parsinger.ru/html/index1_page_1.html',\n",
       " 'https://parsinger.ru/html/index1_page_2.html',\n",
       " 'https://parsinger.ru/html/index1_page_3.html',\n",
       " 'https://parsinger.ru/html/index1_page_4.html']"
      ]
     },
     "execution_count": 93,
     "metadata": {},
     "output_type": "execute_result"
    }
   ],
   "execution_count": 93
  },
  {
   "metadata": {
    "ExecuteTime": {
     "end_time": "2024-11-08T16:07:30.305768Z",
     "start_time": "2024-11-08T16:07:24.449698Z"
    }
   },
   "cell_type": "code",
   "source": [
    "for url in list_urls:\n",
    "    soup = cook_soup(url)\n",
    "    for el in soup.find_all('div', {'class': 'item'}):\n",
    "        ans = []\n",
    "        href_val = el.find('a', {'class': 'name_item', 'href': True}).get('href')\n",
    "        page_soup = cook_soup(main_url+href_val)\n",
    "        ans.append(page_soup.find('p', {'id': 'p_header'}).text.strip())\n",
    "        ans.append(page_soup.find('p', {'class': 'article'}).text.split(':')[1].strip())\n",
    "        for li in page_soup.find_all('li'):\n",
    "            ans.append(li.text.split(':')[1].strip())\n",
    "        ans.append(page_soup.find('span', {'id': 'in_stock'}).text.split(':')[1].strip())\n",
    "        ans.append(page_soup.find('span', {'id': 'price'}).text.strip())\n",
    "        ans.append(page_soup.find('span', {'id': 'old_price'}).text.strip())\n",
    "        ans.append(main_url+href_val)\n",
    "        with open('data_watch_page.csv', 'a', newline='', encoding='utf-8-sig') as f:\n",
    "            writer = csv.writer(f, delimiter=';')\n",
    "            writer.writerow(ans)"
   ],
   "id": "ea3483a2ff916f24",
   "outputs": [],
   "execution_count": 94
  },
  {
   "metadata": {},
   "cell_type": "markdown",
   "source": [
    "### Сбор данных со всех карточек(160шт)\n",
    "step 6"
   ],
   "id": "b98e823f3f1f5856"
  },
  {
   "metadata": {
    "ExecuteTime": {
     "end_time": "2024-11-09T10:48:26.148464Z",
     "start_time": "2024-11-09T10:48:25.994826Z"
    }
   },
   "cell_type": "code",
   "source": [
    "url = 'https://parsinger.ru/html/index1_page_1.html'\n",
    "soup_index = cook_soup(url)\n",
    "index = 1\n",
    "page = 1"
   ],
   "id": "156f631653041218",
   "outputs": [],
   "execution_count": 65
  },
  {
   "metadata": {
    "ExecuteTime": {
     "end_time": "2024-11-09T10:48:32.774820Z",
     "start_time": "2024-11-09T10:48:28.588450Z"
    }
   },
   "cell_type": "code",
   "source": [
    "for _ in range(5):\n",
    "    # Проход по индексам    \n",
    "    for _ in range(4):\n",
    "        # Проход по страницам\n",
    "        url_ = f'https://parsinger.ru/html/index{index}_page_{page}.html'\n",
    "        soup_ = cook_soup(url_)\n",
    "        for product in soup_.find_all('div', class_='item'):\n",
    "            # Проход по карточке товара\n",
    "            row = list()\n",
    "            row.append(product.find('a', class_='name_item').text.strip())\n",
    "            for li in product.find('div', class_='description').find_all('li'):\n",
    "                # Проход по тэгам li\n",
    "                row.append(li.text.split(':')[1].strip())\n",
    "            row.append(product.find('p', class_=\"price\").text.strip())\n",
    "            # Запись в файл\n",
    "            with open('data_all_cards.csv', 'a+', newline='', encoding='utf-8-sig') as f:\n",
    "                writer = csv.writer(f, delimiter=';')\n",
    "                writer.writerow(row)\n",
    "        page += 1\n",
    "    page = 1   \n",
    "    index += 1  "
   ],
   "id": "2f7f55cc84f80c7",
   "outputs": [],
   "execution_count": 66
  },
  {
   "metadata": {},
   "cell_type": "code",
   "outputs": [],
   "execution_count": null,
   "source": "",
   "id": "85aa2745de5d4ab7"
  },
  {
   "metadata": {},
   "cell_type": "code",
   "outputs": [],
   "execution_count": null,
   "source": "",
   "id": "9bc84ad5ae2ae8de"
  },
  {
   "metadata": {},
   "cell_type": "code",
   "outputs": [],
   "execution_count": null,
   "source": "",
   "id": "c8651fcc1d215370"
  },
  {
   "metadata": {},
   "cell_type": "code",
   "outputs": [],
   "execution_count": null,
   "source": "",
   "id": "8c5167ba9dbdc1fe"
  },
  {
   "metadata": {},
   "cell_type": "code",
   "outputs": [],
   "execution_count": null,
   "source": "",
   "id": "334e1e815765a5b3"
  }
 ],
 "metadata": {
  "kernelspec": {
   "display_name": "Python 3",
   "language": "python",
   "name": "python3"
  },
  "language_info": {
   "codemirror_mode": {
    "name": "ipython",
    "version": 2
   },
   "file_extension": ".py",
   "mimetype": "text/x-python",
   "name": "python",
   "nbconvert_exporter": "python",
   "pygments_lexer": "ipython2",
   "version": "2.7.6"
  }
 },
 "nbformat": 4,
 "nbformat_minor": 5
}
