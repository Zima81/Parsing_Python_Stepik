{
 "cells": [
  {
   "cell_type": "code",
   "id": "initial_id",
   "metadata": {
    "collapsed": true,
    "ExecuteTime": {
     "end_time": "2024-11-07T18:49:32.491904Z",
     "start_time": "2024-11-07T18:49:32.107052Z"
    }
   },
   "source": [
    "import requests\n",
    "from bs4 import BeautifulSoup\n",
    "\n",
    "def cook_soup(url):\n",
    "    ans = requests.get(url)\n",
    "    ans.encoding = 'utf-8'\n",
    "    if ans.status_code != 200:\n",
    "        print(ans.status_code, '\\n\\n', ans.text)\n",
    "    return BeautifulSoup(ans.text, 'html.parser')"
   ],
   "outputs": [],
   "execution_count": 1
  },
  {
   "metadata": {},
   "cell_type": "markdown",
   "source": [
    "### Сбор данных о HDD\n",
    " HW1 (step 4)"
   ],
   "id": "20ffaa8cfb6a57c9"
  },
  {
   "metadata": {
    "ExecuteTime": {
     "end_time": "2024-11-07T19:51:07.522341Z",
     "start_time": "2024-11-07T19:51:07.517721Z"
    }
   },
   "cell_type": "code",
   "source": "import csv",
   "id": "eaf7f99505e5def2",
   "outputs": [],
   "execution_count": 73
  },
  {
   "metadata": {
    "ExecuteTime": {
     "end_time": "2024-11-07T19:51:08.178069Z",
     "start_time": "2024-11-07T19:51:08.173648Z"
    }
   },
   "cell_type": "code",
   "source": "head = ['Наименование','Бренд','Форм-фактор','Ёмкость','Объем буферной памяти','Цена']",
   "id": "c9e0eeb7bad28a0c",
   "outputs": [],
   "execution_count": 74
  },
  {
   "metadata": {
    "ExecuteTime": {
     "end_time": "2024-11-07T19:51:09.156653Z",
     "start_time": "2024-11-07T19:51:09.152943Z"
    }
   },
   "cell_type": "code",
   "source": [
    "with open('ans.csv', 'w', newline='', encoding='utf-8-sig') as f:\n",
    "    writer = csv.writer(f, delimiter=';')\n",
    "    writer.writerow(head)"
   ],
   "id": "f3f6184acf3c9d10",
   "outputs": [],
   "execution_count": 75
  },
  {
   "metadata": {
    "ExecuteTime": {
     "end_time": "2024-11-07T19:51:23.732922Z",
     "start_time": "2024-11-07T19:51:23.727405Z"
    }
   },
   "cell_type": "code",
   "source": [
    "list_urls = [f'https://parsinger.ru/html/index4_page_{n+1}.html' for n in range(4)] \n",
    "list_urls"
   ],
   "id": "387085c61a6c6a56",
   "outputs": [
    {
     "data": {
      "text/plain": [
       "['https://parsinger.ru/html/index4_page_1.html',\n",
       " 'https://parsinger.ru/html/index4_page_2.html',\n",
       " 'https://parsinger.ru/html/index4_page_3.html',\n",
       " 'https://parsinger.ru/html/index4_page_4.html']"
      ]
     },
     "execution_count": 76,
     "metadata": {},
     "output_type": "execute_result"
    }
   ],
   "execution_count": 76
  },
  {
   "metadata": {
    "ExecuteTime": {
     "end_time": "2024-11-07T19:51:26.511631Z",
     "start_time": "2024-11-07T19:51:25.725918Z"
    }
   },
   "cell_type": "code",
   "source": [
    "for url in list_urls:\n",
    "    row = []\n",
    "    soup = cook_soup(url)\n",
    "    for box in soup.find_all('div', {'class': 'img_box'}):\n",
    "        row.append(box.find('a', {'class': 'name_item'}).text.strip())\n",
    "        for li in box.find_all('li'):\n",
    "            row.append(li.text.split(':')[1].strip())\n",
    "        row.append(box.find('p', {'class': 'price'}).text)\n",
    "        with open('ans.csv', 'a', newline='', encoding='utf-8-sig') as f:\n",
    "            writer = csv.writer(f, delimiter=';')\n",
    "            writer.writerow(row)"
   ],
   "id": "d6cbfc37c25b067a",
   "outputs": [],
   "execution_count": 77
  },
  {
   "metadata": {},
   "cell_type": "code",
   "outputs": [],
   "execution_count": null,
   "source": "",
   "id": "f47590f604237d1e"
  }
 ],
 "metadata": {
  "kernelspec": {
   "display_name": "Python 3",
   "language": "python",
   "name": "python3"
  },
  "language_info": {
   "codemirror_mode": {
    "name": "ipython",
    "version": 2
   },
   "file_extension": ".py",
   "mimetype": "text/x-python",
   "name": "python",
   "nbconvert_exporter": "python",
   "pygments_lexer": "ipython2",
   "version": "2.7.6"
  }
 },
 "nbformat": 4,
 "nbformat_minor": 5
}
