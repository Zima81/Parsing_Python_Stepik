{
 "cells": [
  {
   "metadata": {
    "ExecuteTime": {
     "end_time": "2024-10-02T18:15:00.399854Z",
     "start_time": "2024-10-02T18:15:00.236345Z"
    }
   },
   "cell_type": "code",
   "source": [
    "from bs4 import BeautifulSoup\n",
    "import requests"
   ],
   "id": "8e142c210a09ea18",
   "outputs": [],
   "execution_count": 2
  },
  {
   "metadata": {},
   "cell_type": "markdown",
   "source": [
    "##### Задача\n",
    " найти тег который имеет имя и значение атрибута data-gpu=\"nVidia GeForce RTX 4060\""
   ],
   "id": "94ab84459b66e394"
  },
  {
   "metadata": {
    "ExecuteTime": {
     "end_time": "2024-10-02T14:12:42.209613Z",
     "start_time": "2024-10-02T14:12:42.205350Z"
    }
   },
   "cell_type": "code",
   "source": "html_str = '<div name_attr=\"value attr\">Информация в теге</div>'",
   "id": "initial_id",
   "outputs": [],
   "execution_count": 3
  },
  {
   "metadata": {
    "ExecuteTime": {
     "end_time": "2024-10-02T14:12:58.960133Z",
     "start_time": "2024-10-02T14:12:58.957657Z"
    }
   },
   "cell_type": "code",
   "source": "soup = BeautifulSoup(html_str, 'html.parser')",
   "id": "12ea6db129d4026f",
   "outputs": [],
   "execution_count": 4
  },
  {
   "metadata": {
    "ExecuteTime": {
     "end_time": "2024-10-02T14:14:05.191095Z",
     "start_time": "2024-10-02T14:14:05.185625Z"
    }
   },
   "cell_type": "code",
   "source": "soup.find(attrs={'name_attr': 'value attr'})",
   "id": "1e8d988bc79d59b2",
   "outputs": [
    {
     "data": {
      "text/plain": [
       "<div name_attr=\"value attr\">Информация в теге</div>"
      ]
     },
     "execution_count": 5,
     "metadata": {},
     "output_type": "execute_result"
    }
   ],
   "execution_count": 5
  },
  {
   "metadata": {
    "ExecuteTime": {
     "end_time": "2024-10-02T14:19:12.356785Z",
     "start_time": "2024-10-02T14:19:12.353042Z"
    }
   },
   "cell_type": "code",
   "source": "soup.find(attrs={\"data-gpu\": \"nVidia GeForce RTX 4060\"})",
   "id": "9a5fb794d5020793",
   "outputs": [],
   "execution_count": 6
  },
  {
   "metadata": {},
   "cell_type": "markdown",
   "source": "Найдите тег \\<li> который имеет имя атрибута data-key и значение атрибута cooling_system",
   "id": "ac05ab9192ad7c5a"
  },
  {
   "metadata": {
    "ExecuteTime": {
     "end_time": "2024-10-02T14:25:04.583011Z",
     "start_time": "2024-10-02T14:25:04.579166Z"
    }
   },
   "cell_type": "code",
   "source": "li_tag = soup.find('li', {'data-key': 'cooling_system'})",
   "id": "ce7c9a33f9ff5f90",
   "outputs": [],
   "execution_count": 7
  },
  {
   "metadata": {},
   "cell_type": "markdown",
   "source": [
    "##### Задача\n",
    "Ваша задача, проанализировать страницу и понять как извлечь тег \\<img> целиком.\n",
    "https://parsinger.ru/4.1/1/index.html"
   ],
   "id": "20c00e8bb92c4ba2"
  },
  {
   "metadata": {
    "ExecuteTime": {
     "end_time": "2024-10-02T14:26:01.037333Z",
     "start_time": "2024-10-02T14:26:01.035035Z"
    }
   },
   "cell_type": "code",
   "source": "url = 'https://parsinger.ru/4.1/1/index.html'",
   "id": "450a0f8a33d4cfc4",
   "outputs": [],
   "execution_count": 8
  },
  {
   "metadata": {
    "ExecuteTime": {
     "end_time": "2024-10-02T14:26:55.113781Z",
     "start_time": "2024-10-02T14:26:54.905639Z"
    }
   },
   "cell_type": "code",
   "source": [
    "r = requests.get(url)\n",
    "if r.status_code != 200:\n",
    "    print(r.status_code, '\\n\\n', r.text)"
   ],
   "id": "830ff4856e7a0864",
   "outputs": [],
   "execution_count": 11
  },
  {
   "metadata": {
    "ExecuteTime": {
     "end_time": "2024-10-02T14:27:43.568002Z",
     "start_time": "2024-10-02T14:27:43.563758Z"
    }
   },
   "cell_type": "code",
   "source": "r.encoding = 'utf-8'",
   "id": "8e14bdc77bb4ba9a",
   "outputs": [],
   "execution_count": 14
  },
  {
   "metadata": {
    "ExecuteTime": {
     "end_time": "2024-10-02T14:27:43.970083Z",
     "start_time": "2024-10-02T14:27:43.966556Z"
    }
   },
   "cell_type": "code",
   "source": "soup = BeautifulSoup(r.text, 'html.parser')",
   "id": "626bba44ad7d796",
   "outputs": [],
   "execution_count": 15
  },
  {
   "metadata": {
    "ExecuteTime": {
     "end_time": "2024-10-02T14:37:24.686942Z",
     "start_time": "2024-10-02T14:37:24.684165Z"
    }
   },
   "cell_type": "code",
   "source": [
    "img = soup.find('img', attrs={'src': 'images/Видеокарта MSI Radeon RX 6650 XT MECH 2X OC PCI-E 8192Mb GDDR6 128 Bit '\n",
    "                                   'Retail.jpg'})"
   ],
   "id": "f35f7195365f7e82",
   "outputs": [],
   "execution_count": 18
  },
  {
   "metadata": {
    "ExecuteTime": {
     "end_time": "2024-10-02T14:37:29.683927Z",
     "start_time": "2024-10-02T14:37:29.680723Z"
    }
   },
   "cell_type": "code",
   "source": "print(img)    ",
   "id": "4a31454d9cb52c30",
   "outputs": [
    {
     "name": "stdout",
     "output_type": "stream",
     "text": [
      "<img alt=\"Видеокарта MSI Radeon RX 6650 XT MECH 2X OC PCI-E 8192Mb GDDR6 128 Bit Retail\" src=\"images/Видеокарта MSI Radeon RX 6650 XT MECH 2X OC PCI-E 8192Mb GDDR6 128 Bit Retail.jpg\"/>\n"
     ]
    }
   ],
   "execution_count": 19
  },
  {
   "metadata": {},
   "cell_type": "markdown",
   "source": [
    "##### Задача \n",
    "Получение тега с двойным классом\n",
    "https://parsinger.ru/4.1/1/index.html"
   ],
   "id": "191d0d522483c96"
  },
  {
   "metadata": {
    "ExecuteTime": {
     "end_time": "2024-10-02T18:14:58.182138Z",
     "start_time": "2024-10-02T18:14:58.172070Z"
    }
   },
   "cell_type": "code",
   "source": "url = 'https://parsinger.ru/4.1/1/index.html'",
   "id": "b48c0f48cbdeb622",
   "outputs": [],
   "execution_count": 1
  },
  {
   "metadata": {
    "ExecuteTime": {
     "end_time": "2024-10-02T18:15:35.172196Z",
     "start_time": "2024-10-02T18:15:34.309503Z"
    }
   },
   "cell_type": "code",
   "source": [
    "r = requests.get(url)\n",
    "if r.status_code != 200:\n",
    "    print(r.status_code, '\\n\\n', r.text)"
   ],
   "id": "896368633ec243b3",
   "outputs": [],
   "execution_count": 3
  },
  {
   "metadata": {
    "ExecuteTime": {
     "end_time": "2024-10-02T18:23:25.758021Z",
     "start_time": "2024-10-02T18:23:25.753223Z"
    }
   },
   "cell_type": "code",
   "source": "r.encoding = 'utf-8'",
   "id": "57abf8d33726800f",
   "outputs": [],
   "execution_count": 10
  },
  {
   "metadata": {
    "ExecuteTime": {
     "end_time": "2024-10-02T18:23:26.298384Z",
     "start_time": "2024-10-02T18:23:26.286495Z"
    }
   },
   "cell_type": "code",
   "source": "soup = BeautifulSoup(r.text, 'html.parser')",
   "id": "d7f2cea339bfaa82",
   "outputs": [],
   "execution_count": 11
  },
  {
   "metadata": {
    "ExecuteTime": {
     "end_time": "2024-10-02T18:23:34.740981Z",
     "start_time": "2024-10-02T18:23:34.735580Z"
    }
   },
   "cell_type": "code",
   "source": "double_class = soup.find(attrs={'class': 'description detailz'})",
   "id": "dbfdf575fe97f429",
   "outputs": [],
   "execution_count": 12
  },
  {
   "metadata": {
    "ExecuteTime": {
     "end_time": "2024-10-02T18:23:35.246613Z",
     "start_time": "2024-10-02T18:23:35.242335Z"
    }
   },
   "cell_type": "code",
   "source": "double_class.text",
   "id": "afe036c1ac2dceb6",
   "outputs": [
    {
     "data": {
      "text/plain": [
       "'Графический процессор: Radeon RX 6650 XT'"
      ]
     },
     "execution_count": 13,
     "metadata": {},
     "output_type": "execute_result"
    }
   ],
   "execution_count": 13
  },
  {
   "metadata": {},
   "cell_type": "markdown",
   "source": [
    "##### Задача\n",
    "Сложный поиск по всем атрибутам и значениям <br> https://parsinger.ru/4.1/1/index2.html"
   ],
   "id": "21d7d2853a07751e"
  },
  {
   "metadata": {
    "ExecuteTime": {
     "end_time": "2024-10-02T18:46:12.038311Z",
     "start_time": "2024-10-02T18:46:12.035214Z"
    }
   },
   "cell_type": "code",
   "source": "url = 'https://parsinger.ru/4.1/1/index2.html'",
   "id": "2c140fd3891db59d",
   "outputs": [],
   "execution_count": 14
  },
  {
   "metadata": {
    "ExecuteTime": {
     "end_time": "2024-10-02T18:46:23.073841Z",
     "start_time": "2024-10-02T18:46:22.507040Z"
    }
   },
   "cell_type": "code",
   "source": [
    "r = requests.get(url)\n",
    "if r.status_code != 200:\n",
    "    print(r.status_code, '\\n\\n', r.text)"
   ],
   "id": "d111b28a92ea794a",
   "outputs": [],
   "execution_count": 15
  },
  {
   "metadata": {
    "ExecuteTime": {
     "end_time": "2024-10-02T18:48:46.619131Z",
     "start_time": "2024-10-02T18:48:46.612080Z"
    }
   },
   "cell_type": "code",
   "source": "r.encoding = 'utf-8'",
   "id": "36f39b53d6970bd6",
   "outputs": [],
   "execution_count": 18
  },
  {
   "metadata": {
    "ExecuteTime": {
     "end_time": "2024-10-02T18:48:54.018720Z",
     "start_time": "2024-10-02T18:48:54.010898Z"
    }
   },
   "cell_type": "code",
   "source": "soup = BeautifulSoup(r.text, 'html.parser')",
   "id": "39f1b7bd8a4df470",
   "outputs": [],
   "execution_count": 19
  },
  {
   "metadata": {},
   "cell_type": "code",
   "outputs": [],
   "execution_count": null,
   "source": "",
   "id": "97f2f02c5672f449"
  },
  {
   "metadata": {
    "ExecuteTime": {
     "end_time": "2024-10-02T18:50:49.828756Z",
     "start_time": "2024-10-02T18:50:49.822983Z"
    }
   },
   "cell_type": "code",
   "source": [
    "tag = soup.find(attrs={'class': 'description_detail class1 class2 class3',\n",
    "                 'data-fdg45': 'value13',\n",
    "                 'data-54dfg60': 'value14',\n",
    "                 'data-d6f50hg': 'value15'\n",
    "})"
   ],
   "id": "7238c47ca1226265",
   "outputs": [],
   "execution_count": 21
  },
  {
   "metadata": {
    "ExecuteTime": {
     "end_time": "2024-10-02T18:50:53.053368Z",
     "start_time": "2024-10-02T18:50:53.047492Z"
    }
   },
   "cell_type": "code",
   "source": "tag.text",
   "id": "517279f720c05d18",
   "outputs": [
    {
     "data": {
      "text/plain": [
       "'Объем видеопамяти: 8192Mb'"
      ]
     },
     "execution_count": 22,
     "metadata": {},
     "output_type": "execute_result"
    }
   ],
   "execution_count": 22
  },
  {
   "metadata": {},
   "cell_type": "code",
   "outputs": [],
   "execution_count": null,
   "source": "",
   "id": "d74d1c659bcfe13b"
  }
 ],
 "metadata": {
  "kernelspec": {
   "display_name": "Python 3",
   "language": "python",
   "name": "python3"
  },
  "language_info": {
   "codemirror_mode": {
    "name": "ipython",
    "version": 2
   },
   "file_extension": ".py",
   "mimetype": "text/x-python",
   "name": "python",
   "nbconvert_exporter": "python",
   "pygments_lexer": "ipython2",
   "version": "2.7.6"
  }
 },
 "nbformat": 4,
 "nbformat_minor": 5
}
