{
 "cells": [
  {
   "metadata": {},
   "cell_type": "markdown",
   "source": "### 4.2 Установка и импорт",
   "id": "3ad2b8446230c574"
  },
  {
   "metadata": {},
   "cell_type": "markdown",
   "source": "##### Step 1",
   "id": "6479dd3d7dbe0256"
  },
  {
   "metadata": {},
   "cell_type": "markdown",
   "source": [
    "###### Синтаксис\n",
    "soup = BeautifulSoup(HTML-строка с сайта, 'parser')\n",
    "* HTML-строка с сайта - текстовое представление веб страницы (html code) (r.text)\n",
    "* 'parser' - (str) строковое представление парсера ('xml', 'lxml', 'html.parser', 'html5lib')"
   ],
   "id": "9a24d7e35478300d"
  },
  {
   "metadata": {},
   "cell_type": "raw",
   "source": [
    "Ряды: \t             Внешняя зависимость \tОчень быстрый \tМягкий \tОчень медленно\n",
    "Парсер html.parser \t                                           *                     \t\t\t\n",
    "Парсер lxml \t\t\t\t  *                    *           *                               \n",
    "Парсер xml \t\t\t\t      *                    *                          \n",
    "Парсер html5lib \t\t\t  *\t                               *          *\n",
    "\n",
    "*Мягкий парсер не проверяет соответствие открывающих и закрывающих тегов. Другими словами, мягкие парсеры будут собирать разметку с сайта, даже если она некорректна или сломана."
   ],
   "id": "311ef83433ca0f10"
  },
  {
   "metadata": {},
   "cell_type": "markdown",
   "source": [
    "### 4.3 Приготовление супа\n",
    "###### Step 1"
   ],
   "id": "8bae92aacf425f42"
  },
  {
   "metadata": {
    "ExecuteTime": {
     "end_time": "2024-11-09T14:55:06.251494Z",
     "start_time": "2024-11-09T14:55:05.834799Z"
    }
   },
   "cell_type": "code",
   "source": [
    "from bs4 import BeautifulSoup\n",
    "import requests\n",
    "import lxml\n",
    "def cook_soup(ur):\n",
    "    ans = requests.get(ur)\n",
    "    ans.encoding = 'utf-8'\n",
    "    if ans.status_code != 200:\n",
    "        print(ans.status_code, '\\n\\n', ans.text)\n",
    "    return BeautifulSoup(ans.text, 'html.parser')"
   ],
   "id": "9c65a37e18a9d885",
   "outputs": [],
   "execution_count": 1
  },
  {
   "metadata": {
    "ExecuteTime": {
     "end_time": "2024-09-27T09:18:58.209937Z",
     "start_time": "2024-09-27T09:18:58.203094Z"
    }
   },
   "cell_type": "code",
   "source": [
    "# Пример 1. Передача файла HTML напрямую без использования менеджера контекста\n",
    "file = open('index.html', encoding='utf-8')\n",
    "soup = BeautifulSoup(file, 'lxml')\n",
    "file.close()\n",
    "print(\"Анализ файла без использования менеджера контекста:\\n\", soup)"
   ],
   "id": "e3d0218f24f98a35",
   "outputs": [
    {
     "name": "stdout",
     "output_type": "stream",
     "text": [
      "Анализ файла без использования менеджера контекста:\n",
      " <!DOCTYPE html>\n",
      "<html lang=\"en\">\n",
      "<head>\n",
      "<link href=\"../style/style.css\" rel=\"stylesheet\"/>\n",
      "<meta charset=\"utf-8\"/>\n",
      "<meta content=\"width=device-width, initial-scale=1.0\" name=\"viewport\"/>\n",
      "<title>Учимся парсить</title>\n",
      "</head>\n",
      "<body>\n",
      "<div class=\"headers\">\n",
      "<div class=\"p_headers\">vazon</div>\n",
      "</div>\n",
      "<div class=\"pagen\">\n",
      "<a href=\"index1_page_1.html\">1</a>\n",
      "<a href=\"index1_page_2.html\">2</a>\n",
      "<a href=\"index1_page_3.html\">3</a>\n",
      "<a href=\"index1_page_4.html\">4</a>\n",
      "</div>\n",
      "<div class=\"main\">\n",
      "<div class=\"nav_menu\">\n",
      "<a href=\"index1_page_1.html\"><div id=\"watch\">ЧАСЫ</div></a>\n",
      "<a href=\"index2_page_1.html\"><div id=\"mobile\">ТЕЛЕФОНЫ</div></a>\n",
      "<a href=\"index3_page_1.html\"><div id=\"mouse\">МЫШИ</div></a>\n",
      "<a href=\"index4_page_1.html\"><div id=\"hdd\">HDD</div></a>\n",
      "<a href=\"index5_page_1.html\"><div id=\"headphones\">НАУШНИКИ</div></a>\n",
      "</div>\n",
      "<div class=\"item_card\">\n",
      "<div class=\"item\">\n",
      "<div class=\"img_box\">\n",
      "<a href=\"watch/1/1_1.html\" name=\"1_1\"><img alt=\"\" src=\"http://parsinger.ru/img/1/1.jpg\"/></a>\n",
      "<a class=\"name_item\" href=\"watch/1/1_1.html\" name=\"1_1\">Jet Kid Start blue Умные детские часы</a>\n",
      "<div class=\"description\">\n",
      "<li>Бренд: Jet</li>\n",
      "<li>Тип: умные часы</li>\n",
      "<li>Материал корпуса: пластик</li>\n",
      "<li>Технология экрана: Монохромный</li>\n",
      "</div>\n",
      "<div class=\"container\">\n",
      "<div class=\"price_box\"><p class=\"price\">2310 руб</p></div>\n",
      "<div class=\"sale_button\"><a href=\"watch/1/1_1.html\"><p>Подробнее</p></a></div>\n",
      "</div>\n",
      "</div></div>\n",
      "<div class=\"item\">\n",
      "<div class=\"img_box\">\n",
      "<a href=\"watch/1/1_2.html\" name=\"1_2\"><img alt=\"\" src=\"http://parsinger.ru/img/1/2.jpg\"/></a>\n",
      "<a class=\"name_item\" href=\"watch/1/1_2.html\" name=\"1_2\">BAND 6 FOREST GREEN FARA-B19 HUAWEI</a>\n",
      "<div class=\"description\">\n",
      "<li>Бренд: Huawei</li>\n",
      "<li>Тип: фитнес браслет</li>\n",
      "<li>Материал корпуса: полимер</li>\n",
      "<li>Технология экрана: AMOLED</li>\n",
      "</div>\n",
      "<div class=\"container\">\n",
      "<div class=\"price_box\"><p class=\"price\">5480 руб</p></div>\n",
      "<div class=\"sale_button\"><a href=\"watch/1/1_2.html\"><p>Подробнее</p></a></div>\n",
      "</div>\n",
      "</div></div>\n",
      "<div class=\"item\">\n",
      "<div class=\"img_box\">\n",
      "<a href=\"watch/1/1_3.html\" name=\"1_3\"><img alt=\"\" src=\"http://parsinger.ru/img/1/3.jpg\"/></a>\n",
      "<a class=\"name_item\" href=\"watch/1/1_3.html\" name=\"1_3\">Умные часы GT 3 MIL-B19S BLACK HUAWEI</a>\n",
      "<div class=\"description\">\n",
      "<li>Бренд: Huawei</li>\n",
      "<li>Тип: умные часы</li>\n",
      "<li>Материал корпуса: пластик</li>\n",
      "<li>Технология экрана: Монохромный</li>\n",
      "</div>\n",
      "<div class=\"container\">\n",
      "<div class=\"price_box\"><p class=\"price\">21810 руб</p></div>\n",
      "<div class=\"sale_button\"><a href=\"watch/1/1_3.html\"><p>Подробнее</p></a></div>\n",
      "</div>\n",
      "</div></div>\n",
      "<div class=\"item\">\n",
      "<div class=\"img_box\">\n",
      "<a href=\"watch/1/1_4.html\" name=\"1_4\"><img alt=\"\" src=\"http://parsinger.ru/img/1/4.jpg\"/></a>\n",
      "<a class=\"name_item\" href=\"watch/1/1_4.html\" name=\"1_4\">Умные часы GT 3 MIL-B19V BROWN HUAWEI</a>\n",
      "<div class=\"description\">\n",
      "<li>Бренд: Huawei</li>\n",
      "<li>Тип: умные часы</li>\n",
      "<li>Материал корпуса: нержавеющая сталь</li>\n",
      "<li>Технология экрана: AMOLED</li>\n",
      "</div>\n",
      "<div class=\"container\">\n",
      "<div class=\"price_box\"><p class=\"price\">21810 руб</p></div>\n",
      "<div class=\"sale_button\"><a href=\"watch/1/1_4.html\"><p>Подробнее</p></a></div>\n",
      "</div>\n",
      "</div></div>\n",
      "<div class=\"item\">\n",
      "<div class=\"img_box\">\n",
      "<a href=\"watch/1/1_5.html\" name=\"1_5\"><img alt=\"\" src=\"http://parsinger.ru/img/1/5.jpg\"/></a>\n",
      "<a class=\"name_item\" href=\"watch/1/1_5.html\" name=\"1_5\">GT RUNNER-B19S BLACK HUAWEI</a>\n",
      "<div class=\"description\">\n",
      "<li>Бренд: Huawei</li>\n",
      "<li>Тип: умные часы</li>\n",
      "<li>Материал корпуса: пластик</li>\n",
      "<li>Технология экрана: AMOLED</li>\n",
      "</div>\n",
      "<div class=\"container\">\n",
      "<div class=\"price_box\"><p class=\"price\">27770 руб</p></div>\n",
      "<div class=\"sale_button\"><a href=\"watch/1/1_5.html\"><p>Подробнее</p></a></div>\n",
      "</div>\n",
      "</div></div>\n",
      "<div class=\"item\">\n",
      "<div class=\"img_box\">\n",
      "<a href=\"watch/1/1_6.html\" name=\"1_6\"><img alt=\"\" src=\"http://parsinger.ru/img/1/6.jpg\"/></a>\n",
      "<a class=\"name_item\" href=\"watch/1/1_6.html\" name=\"1_6\">GT RUNNER-B19A GREY HUAWEI</a>\n",
      "<div class=\"description\">\n",
      "<li>Бренд: Huawei</li>\n",
      "<li>Тип: умные часы</li>\n",
      "<li>Материал корпуса: пластик</li>\n",
      "<li>Технология экрана: AMOLED</li>\n",
      "</div>\n",
      "<div class=\"container\">\n",
      "<div class=\"price_box\"><p class=\"price\">27770 руб</p></div>\n",
      "<div class=\"sale_button\"><a href=\"watch/1/1_6.html\"><p>Подробнее</p></a></div>\n",
      "</div>\n",
      "</div></div>\n",
      "<div class=\"item\">\n",
      "<div class=\"img_box\">\n",
      "<a href=\"watch/1/1_7.html\" name=\"1_7\"><img alt=\"\" src=\"http://parsinger.ru/img/1/7.jpg\"/></a>\n",
      "<a class=\"name_item\" href=\"watch/1/1_7.html\" name=\"1_7\">Умные часы GT 3 MIL-B19 GOLD HUAWEI</a>\n",
      "<div class=\"description\">\n",
      "<li>Бренд: Huawei</li>\n",
      "<li>Тип: умные часы</li>\n",
      "<li>Материал корпуса: нержавеющая сталь, пластик</li>\n",
      "<li>Технология экрана: AMOLED</li>\n",
      "</div>\n",
      "<div class=\"container\">\n",
      "<div class=\"price_box\"><p class=\"price\">24230 руб</p></div>\n",
      "<div class=\"sale_button\"><a href=\"watch/1/1_7.html\"><p>Подробнее</p></a></div>\n",
      "</div>\n",
      "</div></div>\n",
      "<div class=\"item\">\n",
      "<div class=\"img_box\">\n",
      "<a href=\"watch/1/1_8.html\" name=\"1_8\"><img alt=\"\" src=\"http://parsinger.ru/img/1/8.jpg\"/></a>\n",
      "<a class=\"name_item\" href=\"watch/1/1_8.html\" name=\"1_8\">Умные часы WATCH 3 GALILEO-L11 STEEL</a>\n",
      "<div class=\"description\">\n",
      "<li>Бренд:  Huawei</li>\n",
      "<li>Тип: умные часы</li>\n",
      "<li>Материал корпуса: металл, керамика</li>\n",
      "<li>Технология экрана:  AMOLED</li>\n",
      "</div>\n",
      "<div class=\"container\">\n",
      "<div class=\"price_box\"><p class=\"price\">32600 руб</p></div>\n",
      "<div class=\"sale_button\"><a href=\"watch/1/1_8.html\"><p>Подробнее</p></a></div>\n",
      "</div>\n",
      "</div></div>\n",
      "</div>\n",
      "</div>\n",
      "<div class=\"pagen\">\n",
      "<a href=\"index1_page_1.html\">1</a>\n",
      "<a href=\"index1_page_2.html\">2</a>\n",
      "<a href=\"index1_page_3.html\">3</a>\n",
      "<a href=\"index1_page_4.html\">4</a>\n",
      "</div>\n",
      "<div class=\"bottom\"></div>\n",
      "</body>\n",
      "</html>\n"
     ]
    }
   ],
   "execution_count": 4
  },
  {
   "metadata": {
    "ExecuteTime": {
     "end_time": "2024-09-27T09:19:18.895451Z",
     "start_time": "2024-09-27T09:19:18.884095Z"
    }
   },
   "cell_type": "code",
   "source": [
    "# Пример 2. Передача файла HTML с использованием менеджера контекста\n",
    "with open('index.html', encoding='utf-8') as file:\n",
    "    soup2 = BeautifulSoup(file, 'lxml')\n",
    "    print(\"Анализ файла с использованием менеджера контекста:\\n\", soup2)"
   ],
   "id": "7e2a15a1182d24ac",
   "outputs": [
    {
     "name": "stdout",
     "output_type": "stream",
     "text": [
      "Анализ файла с использованием менеджера контекста:\n",
      " <!DOCTYPE html>\n",
      "<html lang=\"en\">\n",
      "<head>\n",
      "<link href=\"../style/style.css\" rel=\"stylesheet\"/>\n",
      "<meta charset=\"utf-8\"/>\n",
      "<meta content=\"width=device-width, initial-scale=1.0\" name=\"viewport\"/>\n",
      "<title>Учимся парсить</title>\n",
      "</head>\n",
      "<body>\n",
      "<div class=\"headers\">\n",
      "<div class=\"p_headers\">vazon</div>\n",
      "</div>\n",
      "<div class=\"pagen\">\n",
      "<a href=\"index1_page_1.html\">1</a>\n",
      "<a href=\"index1_page_2.html\">2</a>\n",
      "<a href=\"index1_page_3.html\">3</a>\n",
      "<a href=\"index1_page_4.html\">4</a>\n",
      "</div>\n",
      "<div class=\"main\">\n",
      "<div class=\"nav_menu\">\n",
      "<a href=\"index1_page_1.html\"><div id=\"watch\">ЧАСЫ</div></a>\n",
      "<a href=\"index2_page_1.html\"><div id=\"mobile\">ТЕЛЕФОНЫ</div></a>\n",
      "<a href=\"index3_page_1.html\"><div id=\"mouse\">МЫШИ</div></a>\n",
      "<a href=\"index4_page_1.html\"><div id=\"hdd\">HDD</div></a>\n",
      "<a href=\"index5_page_1.html\"><div id=\"headphones\">НАУШНИКИ</div></a>\n",
      "</div>\n",
      "<div class=\"item_card\">\n",
      "<div class=\"item\">\n",
      "<div class=\"img_box\">\n",
      "<a href=\"watch/1/1_1.html\" name=\"1_1\"><img alt=\"\" src=\"http://parsinger.ru/img/1/1.jpg\"/></a>\n",
      "<a class=\"name_item\" href=\"watch/1/1_1.html\" name=\"1_1\">Jet Kid Start blue Умные детские часы</a>\n",
      "<div class=\"description\">\n",
      "<li>Бренд: Jet</li>\n",
      "<li>Тип: умные часы</li>\n",
      "<li>Материал корпуса: пластик</li>\n",
      "<li>Технология экрана: Монохромный</li>\n",
      "</div>\n",
      "<div class=\"container\">\n",
      "<div class=\"price_box\"><p class=\"price\">2310 руб</p></div>\n",
      "<div class=\"sale_button\"><a href=\"watch/1/1_1.html\"><p>Подробнее</p></a></div>\n",
      "</div>\n",
      "</div></div>\n",
      "<div class=\"item\">\n",
      "<div class=\"img_box\">\n",
      "<a href=\"watch/1/1_2.html\" name=\"1_2\"><img alt=\"\" src=\"http://parsinger.ru/img/1/2.jpg\"/></a>\n",
      "<a class=\"name_item\" href=\"watch/1/1_2.html\" name=\"1_2\">BAND 6 FOREST GREEN FARA-B19 HUAWEI</a>\n",
      "<div class=\"description\">\n",
      "<li>Бренд: Huawei</li>\n",
      "<li>Тип: фитнес браслет</li>\n",
      "<li>Материал корпуса: полимер</li>\n",
      "<li>Технология экрана: AMOLED</li>\n",
      "</div>\n",
      "<div class=\"container\">\n",
      "<div class=\"price_box\"><p class=\"price\">5480 руб</p></div>\n",
      "<div class=\"sale_button\"><a href=\"watch/1/1_2.html\"><p>Подробнее</p></a></div>\n",
      "</div>\n",
      "</div></div>\n",
      "<div class=\"item\">\n",
      "<div class=\"img_box\">\n",
      "<a href=\"watch/1/1_3.html\" name=\"1_3\"><img alt=\"\" src=\"http://parsinger.ru/img/1/3.jpg\"/></a>\n",
      "<a class=\"name_item\" href=\"watch/1/1_3.html\" name=\"1_3\">Умные часы GT 3 MIL-B19S BLACK HUAWEI</a>\n",
      "<div class=\"description\">\n",
      "<li>Бренд: Huawei</li>\n",
      "<li>Тип: умные часы</li>\n",
      "<li>Материал корпуса: пластик</li>\n",
      "<li>Технология экрана: Монохромный</li>\n",
      "</div>\n",
      "<div class=\"container\">\n",
      "<div class=\"price_box\"><p class=\"price\">21810 руб</p></div>\n",
      "<div class=\"sale_button\"><a href=\"watch/1/1_3.html\"><p>Подробнее</p></a></div>\n",
      "</div>\n",
      "</div></div>\n",
      "<div class=\"item\">\n",
      "<div class=\"img_box\">\n",
      "<a href=\"watch/1/1_4.html\" name=\"1_4\"><img alt=\"\" src=\"http://parsinger.ru/img/1/4.jpg\"/></a>\n",
      "<a class=\"name_item\" href=\"watch/1/1_4.html\" name=\"1_4\">Умные часы GT 3 MIL-B19V BROWN HUAWEI</a>\n",
      "<div class=\"description\">\n",
      "<li>Бренд: Huawei</li>\n",
      "<li>Тип: умные часы</li>\n",
      "<li>Материал корпуса: нержавеющая сталь</li>\n",
      "<li>Технология экрана: AMOLED</li>\n",
      "</div>\n",
      "<div class=\"container\">\n",
      "<div class=\"price_box\"><p class=\"price\">21810 руб</p></div>\n",
      "<div class=\"sale_button\"><a href=\"watch/1/1_4.html\"><p>Подробнее</p></a></div>\n",
      "</div>\n",
      "</div></div>\n",
      "<div class=\"item\">\n",
      "<div class=\"img_box\">\n",
      "<a href=\"watch/1/1_5.html\" name=\"1_5\"><img alt=\"\" src=\"http://parsinger.ru/img/1/5.jpg\"/></a>\n",
      "<a class=\"name_item\" href=\"watch/1/1_5.html\" name=\"1_5\">GT RUNNER-B19S BLACK HUAWEI</a>\n",
      "<div class=\"description\">\n",
      "<li>Бренд: Huawei</li>\n",
      "<li>Тип: умные часы</li>\n",
      "<li>Материал корпуса: пластик</li>\n",
      "<li>Технология экрана: AMOLED</li>\n",
      "</div>\n",
      "<div class=\"container\">\n",
      "<div class=\"price_box\"><p class=\"price\">27770 руб</p></div>\n",
      "<div class=\"sale_button\"><a href=\"watch/1/1_5.html\"><p>Подробнее</p></a></div>\n",
      "</div>\n",
      "</div></div>\n",
      "<div class=\"item\">\n",
      "<div class=\"img_box\">\n",
      "<a href=\"watch/1/1_6.html\" name=\"1_6\"><img alt=\"\" src=\"http://parsinger.ru/img/1/6.jpg\"/></a>\n",
      "<a class=\"name_item\" href=\"watch/1/1_6.html\" name=\"1_6\">GT RUNNER-B19A GREY HUAWEI</a>\n",
      "<div class=\"description\">\n",
      "<li>Бренд: Huawei</li>\n",
      "<li>Тип: умные часы</li>\n",
      "<li>Материал корпуса: пластик</li>\n",
      "<li>Технология экрана: AMOLED</li>\n",
      "</div>\n",
      "<div class=\"container\">\n",
      "<div class=\"price_box\"><p class=\"price\">27770 руб</p></div>\n",
      "<div class=\"sale_button\"><a href=\"watch/1/1_6.html\"><p>Подробнее</p></a></div>\n",
      "</div>\n",
      "</div></div>\n",
      "<div class=\"item\">\n",
      "<div class=\"img_box\">\n",
      "<a href=\"watch/1/1_7.html\" name=\"1_7\"><img alt=\"\" src=\"http://parsinger.ru/img/1/7.jpg\"/></a>\n",
      "<a class=\"name_item\" href=\"watch/1/1_7.html\" name=\"1_7\">Умные часы GT 3 MIL-B19 GOLD HUAWEI</a>\n",
      "<div class=\"description\">\n",
      "<li>Бренд: Huawei</li>\n",
      "<li>Тип: умные часы</li>\n",
      "<li>Материал корпуса: нержавеющая сталь, пластик</li>\n",
      "<li>Технология экрана: AMOLED</li>\n",
      "</div>\n",
      "<div class=\"container\">\n",
      "<div class=\"price_box\"><p class=\"price\">24230 руб</p></div>\n",
      "<div class=\"sale_button\"><a href=\"watch/1/1_7.html\"><p>Подробнее</p></a></div>\n",
      "</div>\n",
      "</div></div>\n",
      "<div class=\"item\">\n",
      "<div class=\"img_box\">\n",
      "<a href=\"watch/1/1_8.html\" name=\"1_8\"><img alt=\"\" src=\"http://parsinger.ru/img/1/8.jpg\"/></a>\n",
      "<a class=\"name_item\" href=\"watch/1/1_8.html\" name=\"1_8\">Умные часы WATCH 3 GALILEO-L11 STEEL</a>\n",
      "<div class=\"description\">\n",
      "<li>Бренд:  Huawei</li>\n",
      "<li>Тип: умные часы</li>\n",
      "<li>Материал корпуса: металл, керамика</li>\n",
      "<li>Технология экрана:  AMOLED</li>\n",
      "</div>\n",
      "<div class=\"container\">\n",
      "<div class=\"price_box\"><p class=\"price\">32600 руб</p></div>\n",
      "<div class=\"sale_button\"><a href=\"watch/1/1_8.html\"><p>Подробнее</p></a></div>\n",
      "</div>\n",
      "</div></div>\n",
      "</div>\n",
      "</div>\n",
      "<div class=\"pagen\">\n",
      "<a href=\"index1_page_1.html\">1</a>\n",
      "<a href=\"index1_page_2.html\">2</a>\n",
      "<a href=\"index1_page_3.html\">3</a>\n",
      "<a href=\"index1_page_4.html\">4</a>\n",
      "</div>\n",
      "<div class=\"bottom\"></div>\n",
      "</body>\n",
      "</html>\n"
     ]
    }
   ],
   "execution_count": 6
  },
  {
   "metadata": {},
   "cell_type": "markdown",
   "source": "Для веб-парсинга в реальном времени, когда вы хотите извлечь данные прямо из веб-сайта, используется следующий подход:",
   "id": "2451f826fd1d1521"
  },
  {
   "metadata": {
    "ExecuteTime": {
     "end_time": "2024-09-27T11:54:03.158776Z",
     "start_time": "2024-09-27T11:54:02.863961Z"
    }
   },
   "cell_type": "code",
   "source": [
    "from bs4 import BeautifulSoup\n",
    "import requests\n",
    "import lxml\n",
    "\n",
    "# Пример 3. Передача объекта response прямо из запроса\n",
    "response = requests.get(url='http://parsinger.ru/html/watch/1/1_1.html')\n",
    "'''\n",
    "Если у вас во время запроса к данной странице возникли проблемы с кодировкой,  и вы видите нечто подобное <title>Ð£ÑÐ¸Ð¼ÑÑ Ð¿Ð°ÑÑÐ¸ÑÑ</title> , необходимо применить кодировку к response.\n",
    "'''\n",
    "response.encoding = 'utf-8'\n",
    "soup = BeautifulSoup(response.text, 'lxml')\n",
    "\n",
    "print(soup)"
   ],
   "id": "643dc825347538b8",
   "outputs": [
    {
     "name": "stdout",
     "output_type": "stream",
     "text": [
      "<!DOCTYPE html>\n",
      "<html lang=\"ru\">\n",
      "<head>\n",
      "<meta charset=\"utf-8\"/>\n",
      "<link href=\"https://parsinger.ru/style/style_page.css\" rel=\"stylesheet\"/>\n",
      "<meta content=\"width=device-width, initial-scale=1\" name=\"viewport\"/>\n",
      "<title>WEB Парсинг на Python</title>\n",
      "</head>\n",
      "<body>\n",
      "<div class=\"headers\">\n",
      "<div class=\"p_headers\"><a href=\"https://stepik.org/z/104774/?utm_source=html\">WEB Парсинг на Python</a></div>\n",
      "</div>\n",
      "<a href=\"https://parsinger.ru/html/index1_page_1.html#1_1\" id=\"a_back\"><div class=\"back\">На главную</div></a>\n",
      "<div class=\"main\">\n",
      "<div class=\"item_card\">\n",
      "<div class=\"image_box\">\n",
      "<img alt=\"\" class=\"img_size\" src=\"https://parsinger.ru/img/1/1/1_1.jpg\"/>\n",
      "</div>\n",
      "<div class=\"description\">\n",
      "<p id=\"p_header\">Jet Kid Start blue Умные детские часы</p>\n",
      "<p class=\"article\">Артикул: 80235265</p>\n",
      "<ul id=\"description\">\n",
      "<li id=\"brand\">Бренд: Jet</li>\n",
      "<li id=\"model\">Модель: Excidium</li>\n",
      "<li id=\"type\">Тип подключения: умные часы</li>\n",
      "<li id=\"display\">Технология экрана: Монохромный</li>\n",
      "<li id=\"material_frame\">Материал корпуса: пластик</li>\n",
      "<li id=\"material_bracer\">Материал браслета: силикон</li>\n",
      "<li id=\"size\">Размеры: 54х34х12 мм</li>\n",
      "<li id=\"site\">Сайт производителя: www.jetdevice.com</li>\n",
      "</ul>\n",
      "<span id=\"in_stock\">В наличии: 5</span>\n",
      "<div class=\"sale\">\n",
      "<span id=\"price\">2310 руб</span>\n",
      "<span id=\"old_price\">3550 руб</span>\n",
      "<button id=\"sale_button\" onclick=\"alert('Клик!')\">Купить</button>\n",
      "</div>\n",
      "</div>\n",
      "</div>\n",
      "</div>\n",
      "<div class=\"bottom\"></div>\n",
      "</body>\n",
      "</html>\n"
     ]
    }
   ],
   "execution_count": 10
  },
  {
   "metadata": {},
   "cell_type": "markdown",
   "source": "###### Step 2",
   "id": "8a507df4f3d26a6f"
  },
  {
   "metadata": {},
   "cell_type": "markdown",
   "source": [
    "1. Объекты Tag: В BeautifulSoup элементы HTML и XML представлены объектами типа Tag. Эти объекты соответствуют XML или \n",
    "HTML тегам в исходном документе.\n",
    "\n",
    "2.    Атрибуты Tag: У объектов Tag есть множество атрибутов и методов для доступа к данным исходного документа:\n",
    "        * name: Получает или задает имя тега.\n",
    "        * attrs: Словарь, содержащий атрибуты тега.\n",
    "        * Методы навигации, такие как .find(), .find_all() и др., для поиска других тегов внутри или вокруг данного \n",
    "        тега.\n",
    "\n",
    "3.    Манипуляции с Tag: Объекты Tag являются изменяемыми, что означает, что вы можете изменять их имя, их атрибуты и \n",
    "их содержимое, как вам захочется.\n"
   ],
   "id": "3e7ab9011333f9ea"
  },
  {
   "metadata": {
    "ExecuteTime": {
     "end_time": "2024-09-27T12:24:12.196153Z",
     "start_time": "2024-09-27T12:24:12.192244Z"
    }
   },
   "cell_type": "code",
   "source": [
    "from bs4 import BeautifulSoup\n",
    "\n",
    "html = \"<div class='myclass'>Hello, world!</div>\"\n",
    "soup = BeautifulSoup(html, 'html.parser')\n",
    "\n",
    "tag = soup.div\n",
    "# div - имя тэга <div class...>...</div>\n",
    "\n",
    "# soup = BeautifulSoup('<b class=\"boldest\">Extremely bold</b>')\n",
    "# tag = soup.b\n",
    "\n",
    "print(type(tag))   # <class 'bs4.element.Tag'>\n",
    "print(tag.name)    # div\n",
    "print(tag.attrs)   # {'class': ['myclass']}\n",
    "print(tag.string)  # Hello, world!"
   ],
   "id": "7c4943da65ff1a01",
   "outputs": [
    {
     "name": "stdout",
     "output_type": "stream",
     "text": [
      "<class 'bs4.element.Tag'>\n",
      "div\n",
      "{'class': ['myclass']}\n",
      "Hello, world!\n"
     ]
    }
   ],
   "execution_count": 11
  },
  {
   "metadata": {},
   "cell_type": "raw",
   "source": "стоит отметить, что использование soup.div или аналогичных выражений (soup.a, soup.p и т.д.) дает доступ только к первому найденному элементу соответствующего типа. Если вам нужно работать с несколькими элементами, следует использовать методы find_all() или select(), которые возвращают список всех элементов, соответствующих заданному критерию. Эти методы будут рассмотрены в курсе далее.",
   "id": "a54d241304d3e8e9"
  },
  {
   "metadata": {},
   "cell_type": "markdown",
   "source": [
    "### 4.4  Основные методы BeautifulSoup\n",
    "##### Step 1 .text и .get_text()"
   ],
   "id": "6c567a566833dc3f"
  },
  {
   "metadata": {},
   "cell_type": "raw",
   "source": " .text — это свойство в BeautifulSoup, которое позволяет получить весь текст внутри данного элемента, включая его дочерние элементы. Оно возвращает весь текст как одну непрерывную строку. Это свойство просто в использовании, вы можете получить текст элемента просто написав element.text.",
   "id": "f0d10d2171091506"
  },
  {
   "metadata": {
    "ExecuteTime": {
     "end_time": "2024-10-02T08:29:33.147618Z",
     "start_time": "2024-10-02T08:29:32.994040Z"
    }
   },
   "cell_type": "code",
   "source": [
    "from bs4 import BeautifulSoup\n",
    "\n",
    "# Пример HTML-строки\n",
    "html_string = \"\"\"\n",
    "<div>\n",
    "    <p>Первый абзац.</p>\n",
    "    <p>Второй абзац <span>со вложенным</span> текстом.</p>\n",
    "</div>\n",
    "\"\"\"\n",
    "\n",
    "# Создание объекта BeautifulSoup\n",
    "soup = BeautifulSoup(html_string, 'html.parser')\n",
    "\n",
    "# Использование .text для извлечения всего текста из div\n",
    "div_text = soup.find('div').text\n",
    "\n",
    "print(div_text)"
   ],
   "id": "1c0070b7cbae0794",
   "outputs": [
    {
     "name": "stdout",
     "output_type": "stream",
     "text": [
      "\n",
      "Первый абзац.\n",
      "Второй абзац со вложенным текстом.\n",
      "\n"
     ]
    }
   ],
   "execution_count": 1
  },
  {
   "metadata": {},
   "cell_type": "raw",
   "source": [
    ".get_text() — это метод, который также возвращает весь текст внутри элемента, но он предоставляет больше опций для настройки того, как текст извлекается и объединяется.\n",
    "Синтаксис:\n",
    ".get_text(separator=\" \", strip=False, types=default)"
   ],
   "id": "539eb61676d13fef"
  },
  {
   "metadata": {
    "ExecuteTime": {
     "end_time": "2024-10-02T08:47:57.826130Z",
     "start_time": "2024-10-02T08:47:57.822380Z"
    }
   },
   "cell_type": "code",
   "source": [
    "# separator=\" \"  определяет строку, которая будет использоваться для разделения текста из разных тегов\n",
    "sep_get_text = soup.find('div').get_text(separator='|')\n",
    "print(sep_get_text)"
   ],
   "id": "abeafaef439487dc",
   "outputs": [
    {
     "name": "stdout",
     "output_type": "stream",
     "text": [
      "\n",
      "|Первый абзац|\n",
      "|Второй абзац|\n",
      "\n"
     ]
    }
   ],
   "execution_count": 8
  },
  {
   "metadata": {
    "ExecuteTime": {
     "end_time": "2024-10-02T09:03:11.131101Z",
     "start_time": "2024-10-02T09:03:11.126682Z"
    }
   },
   "cell_type": "code",
   "source": [
    "# strip= True/False - будет удалять все начальные и конечные пробелы в каждом блоке текста перед их объединением.\n",
    "sep_get_text = soup.find('div').get_text(strip=True)\n",
    "print(sep_get_text)"
   ],
   "id": "f09787453d623e1d",
   "outputs": [
    {
     "name": "stdout",
     "output_type": "stream",
     "text": [
      "Первый абзацВторой абзац\n"
     ]
    }
   ],
   "execution_count": 9
  },
  {
   "metadata": {
    "ExecuteTime": {
     "end_time": "2024-10-02T09:04:30.163084Z",
     "start_time": "2024-10-02T09:04:30.158239Z"
    }
   },
   "cell_type": "code",
   "source": [
    "# Комбинация методов (separator и strip)\n",
    "sep_get_text = soup.find('div').get_text(separator=' | ', strip=True)\n",
    "print(sep_get_text)"
   ],
   "id": "55e2afdc06cbbe08",
   "outputs": [
    {
     "name": "stdout",
     "output_type": "stream",
     "text": [
      "Первый абзац | Второй абзац\n"
     ]
    }
   ],
   "execution_count": 10
  },
  {
   "metadata": {
    "ExecuteTime": {
     "end_time": "2024-10-02T09:05:00.124196Z",
     "start_time": "2024-10-02T09:05:00.120061Z"
    }
   },
   "cell_type": "code",
   "source": [
    "# types=default - этот параметр позволяет ограничить типы объектов, из которых извлекается текст. Обычно он \n",
    "# используется редко и в особых случаях, когда нужно извлекать текст только из определенных типов тегов."
   ],
   "id": "1247170de3f7adfc",
   "outputs": [],
   "execution_count": 11
  },
  {
   "metadata": {},
   "cell_type": "markdown",
   "source": "##### Step 2 soup.find()",
   "id": "75f15da72acc103"
  },
  {
   "metadata": {},
   "cell_type": "raw",
   "source": ".find() - Это метод, который ищет первый элемент, удовлетворяющий заданным критериям, в дереве элементов HTML DOM. Если такой элемент не найден, возвращается None",
   "id": "f16a76b10fa12383"
  },
  {
   "metadata": {
    "ExecuteTime": {
     "end_time": "2024-10-02T10:00:35.679177Z",
     "start_time": "2024-10-02T10:00:35.675992Z"
    }
   },
   "cell_type": "code",
   "source": [
    "html_sting = \"\"\"\n",
    "<div>\n",
    "    <tag id='your_id'>Testing</tag>\n",
    "    <tag class='class1 class2'>Testing2</tag>\n",
    "    <tag data-attribute='your_id'>Testing3</tag>\n",
    "</div>\n",
    "\"\"\""
   ],
   "id": "17dea530636f8d2e",
   "outputs": [],
   "execution_count": 58
  },
  {
   "metadata": {
    "ExecuteTime": {
     "end_time": "2024-10-02T10:00:38.006232Z",
     "start_time": "2024-10-02T10:00:38.001995Z"
    }
   },
   "cell_type": "code",
   "source": "soup = BeautifulSoup(html_sting, 'html.parser')",
   "id": "4e6d919277748098",
   "outputs": [],
   "execution_count": 59
  },
  {
   "metadata": {
    "ExecuteTime": {
     "end_time": "2024-10-02T13:40:37.829988Z",
     "start_time": "2024-10-02T13:40:37.826690Z"
    }
   },
   "cell_type": "code",
   "source": "soup.find('tag', id='your_id')",
   "id": "9365f7354d804f1e",
   "outputs": [
    {
     "data": {
      "text/plain": [
       "<tag id=\"your_id\">Testing</tag>"
      ]
     },
     "execution_count": 66,
     "metadata": {},
     "output_type": "execute_result"
    }
   ],
   "execution_count": 66
  },
  {
   "metadata": {
    "ExecuteTime": {
     "end_time": "2024-10-02T13:40:50.996464Z",
     "start_time": "2024-10-02T13:40:50.992729Z"
    }
   },
   "cell_type": "code",
   "source": "soup.find('tag', {'id': 'your_id'})",
   "id": "82eb18aece09df97",
   "outputs": [
    {
     "data": {
      "text/plain": [
       "<tag id=\"your_id\">Testing</tag>"
      ]
     },
     "execution_count": 67,
     "metadata": {},
     "output_type": "execute_result"
    }
   ],
   "execution_count": 67
  },
  {
   "metadata": {
    "ExecuteTime": {
     "end_time": "2024-10-02T13:39:08.557192Z",
     "start_time": "2024-10-02T13:39:08.551657Z"
    }
   },
   "cell_type": "code",
   "source": "soup.find('tag', class_='class1')",
   "id": "a728845bb3a7f80f",
   "outputs": [
    {
     "data": {
      "text/plain": [
       "<tag class=\"class1 class2\" id=\"your_id\">Testing2</tag>"
      ]
     },
     "execution_count": 65,
     "metadata": {},
     "output_type": "execute_result"
    }
   ],
   "execution_count": 65
  },
  {
   "metadata": {
    "ExecuteTime": {
     "end_time": "2024-10-02T14:14:55.347663Z",
     "start_time": "2024-10-02T14:14:55.344079Z"
    }
   },
   "cell_type": "code",
   "source": "soup.find('tag', {'class': 'class1 class2'})",
   "id": "eb5d1984b84dae1e",
   "outputs": [
    {
     "data": {
      "text/plain": [
       "<tag class=\"class1 class2\" id=\"your_id\">Testing2</tag>"
      ]
     },
     "execution_count": 79,
     "metadata": {},
     "output_type": "execute_result"
    }
   ],
   "execution_count": 79
  },
  {
   "metadata": {
    "ExecuteTime": {
     "end_time": "2024-10-02T13:52:00.882842Z",
     "start_time": "2024-10-02T13:52:00.877581Z"
    }
   },
   "cell_type": "code",
   "source": "soup.find('tag', {'class': ['class2']})",
   "id": "40baeb1c33d47f6f",
   "outputs": [
    {
     "data": {
      "text/plain": [
       "<tag class=\"class1 class2\" id=\"your_id\">Testing2</tag>"
      ]
     },
     "execution_count": 74,
     "metadata": {},
     "output_type": "execute_result"
    }
   ],
   "execution_count": 74
  },
  {
   "metadata": {
    "ExecuteTime": {
     "end_time": "2024-10-02T13:41:58.535076Z",
     "start_time": "2024-10-02T13:41:58.529532Z"
    }
   },
   "cell_type": "code",
   "source": "soup.find('tag', {'class': ['class1', 'class2']})",
   "id": "3285686a44c9c50c",
   "outputs": [
    {
     "data": {
      "text/plain": [
       "<tag class=\"class1 class2\" id=\"your_id\">Testing2</tag>"
      ]
     },
     "execution_count": 70,
     "metadata": {},
     "output_type": "execute_result"
    }
   ],
   "execution_count": 70
  },
  {
   "metadata": {
    "ExecuteTime": {
     "end_time": "2024-10-02T14:18:25.251348Z",
     "start_time": "2024-10-02T14:18:25.247471Z"
    }
   },
   "cell_type": "code",
   "source": "soup.find(attrs={'data-attribute': 'your_id'})",
   "id": "3c93cc1398723418",
   "outputs": [
    {
     "data": {
      "text/plain": [
       "<tag data-attribute=\"your_id\">Testing3</tag>"
      ]
     },
     "execution_count": 80,
     "metadata": {},
     "output_type": "execute_result"
    }
   ],
   "execution_count": 80
  },
  {
   "metadata": {
    "ExecuteTime": {
     "end_time": "2024-10-02T14:11:14.046245Z",
     "start_time": "2024-10-02T14:11:14.043118Z"
    }
   },
   "cell_type": "code",
   "source": "soup.find({'data-attribute': 'your_id'})",
   "id": "c330b916c551ea9b",
   "outputs": [],
   "execution_count": 76
  },
  {
   "metadata": {},
   "cell_type": "markdown",
   "source": "##### 4.4 Step 13 .select_one()",
   "id": "ef3573497447187d"
  },
  {
   "metadata": {},
   "cell_type": "raw",
   "source": [
    ".select_one() - это метод, который позволяет выбрать один элемент на основе CSS-селектора. Он возвращает первый найденный элемент, удовлетворяющий условию, или None, если ничего не было найдено. Этот метод полезен, когда вы знаете, что только один элемент должен удовлетворять условию.\n",
    "\n",
    ".select_one() принимает тот же аргумент, что и .select(), т.е. CSS-селекторы."
   ],
   "id": "5db4a6cbc1696e5b"
  },
  {
   "metadata": {
    "ExecuteTime": {
     "end_time": "2024-10-07T13:19:19.802618Z",
     "start_time": "2024-10-07T13:19:19.710432Z"
    }
   },
   "cell_type": "code",
   "source": [
    "from bs4 import BeautifulSoup\n",
    "\n",
    "html_doc = \"\"\"\n",
    "<html>\n",
    "    <head>\n",
    "        <title>Page Title</title>\n",
    "    </head>\n",
    "    <body>\n",
    "        <div class=\"container\">\n",
    "            <p>This is a paragraph.</p>\n",
    "            <p>This is another paragraph.</p>\n",
    "        </div>\n",
    "        <div class=\"container\">\n",
    "            <p class=\"highlight\">This is a highlighted paragraph.</p>\n",
    "            <p>This is a fourth paragraph.</p>\n",
    "        </div>\n",
    "    </body>\n",
    "</html>\n",
    "\"\"\"\n",
    "\n",
    "soup = BeautifulSoup(html_doc, 'html.parser')"
   ],
   "id": "fe9fca407cb635a9",
   "outputs": [],
   "execution_count": 1
  },
  {
   "metadata": {
    "ExecuteTime": {
     "end_time": "2024-10-07T13:20:40.094992Z",
     "start_time": "2024-10-07T13:20:40.088264Z"
    }
   },
   "cell_type": "code",
   "source": [
    "# Выберем первый элемент p с классом «highlight», \n",
    "# расположенный внутри элемента с классом «container».\n",
    "soup.select_one('.container p.highlight')"
   ],
   "id": "df586db24c3f4fcb",
   "outputs": [
    {
     "data": {
      "text/plain": [
       "<p class=\"highlight\">This is a highlighted paragraph.</p>"
      ]
     },
     "execution_count": 2,
     "metadata": {},
     "output_type": "execute_result"
    }
   ],
   "execution_count": 2
  },
  {
   "metadata": {
    "ExecuteTime": {
     "end_time": "2024-10-07T13:25:18.509763Z",
     "start_time": "2024-10-07T13:25:18.504180Z"
    }
   },
   "cell_type": "code",
   "source": "soup.select_one('[class=container] > p[class=highlight]')",
   "id": "b5dacb6d55562ddf",
   "outputs": [
    {
     "data": {
      "text/plain": [
       "<p class=\"highlight\">This is a highlighted paragraph.</p>"
      ]
     },
     "execution_count": 10,
     "metadata": {},
     "output_type": "execute_result"
    }
   ],
   "execution_count": 10
  },
  {
   "metadata": {},
   "cell_type": "markdown",
   "source": "##### 4.4 Step 15 .previous_sibling  и  .next_sibling",
   "id": "a1e3535e367aeff1"
  },
  {
   "metadata": {},
   "cell_type": "raw",
   "source": "Возвращает элемент, который расположен непосредственно перед/после текущего элемента",
   "id": "ff919b50c903d93f"
  },
  {
   "metadata": {
    "ExecuteTime": {
     "end_time": "2024-10-07T14:08:28.176489Z",
     "start_time": "2024-10-07T14:08:28.174033Z"
    }
   },
   "cell_type": "code",
   "source": [
    "html = \"\"\"\n",
    "<div class=\"section-content\">Текст ПЕРЕД разделом 1<p class=\"section-text\">Текст раздела 1</p>Текст ПОСЛЕ раздела1</div>\n",
    "\"\"\""
   ],
   "id": "2ffde7e395e75002",
   "outputs": [],
   "execution_count": 42
  },
  {
   "metadata": {
    "ExecuteTime": {
     "end_time": "2024-10-07T14:08:28.597008Z",
     "start_time": "2024-10-07T14:08:28.594398Z"
    }
   },
   "cell_type": "code",
   "source": "soup = BeautifulSoup(html, 'html.parser')",
   "id": "cabbffcc3b7399ac",
   "outputs": [],
   "execution_count": 43
  },
  {
   "metadata": {
    "ExecuteTime": {
     "end_time": "2024-10-07T14:08:28.934463Z",
     "start_time": "2024-10-07T14:08:28.927816Z"
    }
   },
   "cell_type": "code",
   "source": [
    "sibling = soup.find('p', {'class': 'section-text'})\n",
    "sibling"
   ],
   "id": "6c70c5d34ddc3ab4",
   "outputs": [
    {
     "data": {
      "text/plain": [
       "<p class=\"section-text\">Текст раздела 1</p>"
      ]
     },
     "execution_count": 44,
     "metadata": {},
     "output_type": "execute_result"
    }
   ],
   "execution_count": 44
  },
  {
   "metadata": {
    "ExecuteTime": {
     "end_time": "2024-10-07T14:08:30.170949Z",
     "start_time": "2024-10-07T14:08:30.166293Z"
    }
   },
   "cell_type": "code",
   "source": [
    "sibling = soup.find('p', {'class': 'section-text'}).next_sibling\n",
    "sibling"
   ],
   "id": "2f4440ef9f21d09b",
   "outputs": [
    {
     "data": {
      "text/plain": [
       "'Текст ПОСЛЕ раздела1'"
      ]
     },
     "execution_count": 45,
     "metadata": {},
     "output_type": "execute_result"
    }
   ],
   "execution_count": 45
  },
  {
   "metadata": {
    "ExecuteTime": {
     "end_time": "2024-10-07T14:08:32.885837Z",
     "start_time": "2024-10-07T14:08:32.880623Z"
    }
   },
   "cell_type": "code",
   "source": [
    "sibling = soup.find('p', {'class': 'section-text'}).previous_sibling\n",
    "sibling"
   ],
   "id": "b8c5ab937c8fc60a",
   "outputs": [
    {
     "data": {
      "text/plain": [
       "'Текст ПЕРЕД разделом 1'"
      ]
     },
     "execution_count": 46,
     "metadata": {},
     "output_type": "execute_result"
    }
   ],
   "execution_count": 46
  },
  {
   "metadata": {},
   "cell_type": "markdown",
   "source": "### 4.5 Поиск узлов и элементов",
   "id": "d9c2e5d9f7489aa0"
  },
  {
   "metadata": {},
   "cell_type": "markdown",
   "source": [
    "###### Step 1\n",
    "Навигация по структуре HTML"
   ],
   "id": "9dd579c8826213c9"
  },
  {
   "metadata": {
    "ExecuteTime": {
     "end_time": "2024-10-19T08:54:52.856817Z",
     "start_time": "2024-10-19T08:54:52.549273Z"
    }
   },
   "cell_type": "code",
   "source": [
    "from bs4 import BeautifulSoup\n",
    "url = 'http://parsinger.ru/html/headphones/5/5_32.html'\n",
    "response = requests.get(url=url)\n",
    "response.encoding = 'utf-8'\n",
    "soup = BeautifulSoup(response.text, 'lxml')"
   ],
   "id": "40d748dc471334a9",
   "outputs": [],
   "execution_count": 20
  },
  {
   "metadata": {
    "ExecuteTime": {
     "end_time": "2024-10-19T08:50:18.926370Z",
     "start_time": "2024-10-19T08:50:18.919689Z"
    }
   },
   "cell_type": "code",
   "source": [
    "soup.find()\n",
    "soup.find_all()  # Возвращает список\n",
    "# Ищем на странице первый элемент <div> с классом 'item' и извлекаем из него все вложенные элементы <li>\n",
    "div = [x.text for x in soup.find('div', 'item').find_all('li')]\n",
    "div2 = [x.text for x in soup.find('div', {'class': 'item'}).find_all('li')]"
   ],
   "id": "48a5db7c1f8f4c2e",
   "outputs": [],
   "execution_count": 6
  },
  {
   "metadata": {},
   "cell_type": "markdown",
   "source": [
    "###### Step 2\n",
    "Поиск по class, id, поиск по атрибутам"
   ],
   "id": "befc39494dbc4d23"
  },
  {
   "metadata": {},
   "cell_type": "code",
   "outputs": [],
   "execution_count": null,
   "source": "# поиск по class",
   "id": "34018f328b21f411"
  },
  {
   "metadata": {
    "ExecuteTime": {
     "end_time": "2024-10-19T08:55:34.065358Z",
     "start_time": "2024-10-19T08:55:34.056347Z"
    }
   },
   "cell_type": "code",
   "source": [
    "# Ищем на странице тег <p> с классом 'article' и извлекаем из него текстовое содержимое\n",
    "div = soup.find('p', class_='article').get_text()  # >>> 'Артикул: 80387567'\n",
    "div3 = soup.find('p', {'class': 'article'}).get_text()  # >>> 'Артикул: 80387567'\n",
    "div3"
   ],
   "id": "a41f7e40cdd7b42e",
   "outputs": [
    {
     "data": {
      "text/plain": [
       "'Артикул: 80387567'"
      ]
     },
     "execution_count": 25,
     "metadata": {},
     "output_type": "execute_result"
    }
   ],
   "execution_count": 25
  },
  {
   "metadata": {
    "ExecuteTime": {
     "end_time": "2024-10-19T08:56:34.800135Z",
     "start_time": "2024-10-19T08:56:34.795761Z"
    }
   },
   "cell_type": "code",
   "source": "# поиск по id",
   "id": "1d32e1490933a677",
   "outputs": [],
   "execution_count": 27
  },
  {
   "metadata": {
    "ExecuteTime": {
     "end_time": "2024-10-19T08:56:19.661041Z",
     "start_time": "2024-10-19T08:56:19.653282Z"
    }
   },
   "cell_type": "code",
   "source": [
    "# Ищем на странице тег <p> с идентификатором 'p_header' и извлекаем из него текстовое содержимое\n",
    "div = soup.find('p', id='p_header').get_text()\n",
    "div = soup.find('p', {'id': 'p_header'}).get_text()\n",
    "div"
   ],
   "id": "99760509f8f2d3e7",
   "outputs": [
    {
     "data": {
      "text/plain": [
       "'Наушники HP Pavilion Gaming 600'"
      ]
     },
     "execution_count": 26,
     "metadata": {},
     "output_type": "execute_result"
    }
   ],
   "execution_count": 26
  },
  {
   "metadata": {},
   "cell_type": "markdown",
   "source": [
    "###### Step 3\n",
    "Обработка двойных классов с помощью BeautifulSoup"
   ],
   "id": "f2e616bc21895278"
  },
  {
   "metadata": {
    "ExecuteTime": {
     "end_time": "2024-10-19T09:02:21.022311Z",
     "start_time": "2024-10-19T09:02:21.013675Z"
    }
   },
   "cell_type": "code",
   "source": [
    "elements = soup.find_all('div', class_='class1 class2')\n",
    "elements = soup.find_all('div', {'class': ['class1 class2']})\n",
    "\n",
    "elements = soup.select('div.class2.class1')\n",
    "elements = soup.select('div[class=\"class2\"][class=\"class1\"]')"
   ],
   "id": "bf14e150303a61cb",
   "outputs": [],
   "execution_count": 28
  },
  {
   "metadata": {},
   "cell_type": "markdown",
   "source": [
    "###### Step 4\n",
    "Получение значения атрибута у HTML-тега с помощью метода .get()"
   ],
   "id": "5ec39f39de7a5666"
  },
  {
   "metadata": {
    "ExecuteTime": {
     "end_time": "2024-10-19T09:10:25.483934Z",
     "start_time": "2024-10-19T09:10:25.474420Z"
    }
   },
   "cell_type": "code",
   "source": "soup",
   "id": "4fe117beb4afab4b",
   "outputs": [
    {
     "data": {
      "text/plain": [
       "<!DOCTYPE html>\n",
       "<html lang=\"en\">\n",
       "<head>\n",
       "<link href=\"https://parsinger.ru/style/style_page.css\" rel=\"stylesheet\"/>\n",
       "<meta charset=\"utf-8\"/>\n",
       "<meta content=\"width=device-width, initial-scale=1.0\" name=\"viewport\"/>\n",
       "<title>&gt;WEB Парсинг на Python</title>\n",
       "</head>\n",
       "<body>\n",
       "<div class=\"headers\">\n",
       "<div class=\"p_headers\"><a href=\"https://stepik.org/z/104774/?utm_source=html\">WEB Парсинг на Python</a></div>\n",
       "</div>\n",
       "<a href=\"https://parsinger.ru/html/index5_page_4.html#5_32\" id=\"a_back\"><div class=\"back\">На главную</div></a>\n",
       "<div class=\"main\">\n",
       "<div class=\"item_card\">\n",
       "<div class=\"image_box\">\n",
       "<img alt=\"\" class=\"img_size\" src=\"https://parsinger.ru/img/5/5/5_32.jpg\"/>\n",
       "</div>\n",
       "<div class=\"description\">\n",
       "<p id=\"p_header\">Наушники HP Pavilion Gaming 600</p>\n",
       "<p class=\"article\">Артикул: 80387567</p>\n",
       "<ul id=\"description\">\n",
       "<li id=\"brand\">Бренд: HP</li>\n",
       "<li id=\"model\">Модель: Pavilion Gaming 600</li>\n",
       "<li id=\"type\">Тип наушников: Накладные</li>\n",
       "<li id=\"frequency\">Диапазон частот: 20–20000 Гц</li>\n",
       "<li id=\"microphone\">Микрофон: Есть</li>\n",
       "<li id=\"wire_length\">Длина провода: 1.9 м</li>\n",
       "<li id=\"connect\">Подключение: 2х миниджек 3.5 мм </li>\n",
       "<li id=\"unique\">Особенность: С регулятором громкости</li>\n",
       "</ul>\n",
       "<span id=\"in_stock\" name=\"count\">В наличии: 38</span>\n",
       "<div class=\"sale\">\n",
       "<span id=\"price\">4480 руб</span>\n",
       "<span id=\"old_price\">5910 руб</span>\n",
       "<button id=\"sale_button\">Купить</button>\n",
       "</div>\n",
       "</div>\n",
       "</div>\n",
       "</div>\n",
       "<div class=\"bottom\"></div></body></html>"
      ]
     },
     "execution_count": 29,
     "metadata": {},
     "output_type": "execute_result"
    }
   ],
   "execution_count": 29
  },
  {
   "metadata": {
    "ExecuteTime": {
     "end_time": "2024-10-19T09:13:30.118827Z",
     "start_time": "2024-10-19T09:13:30.111024Z"
    }
   },
   "cell_type": "code",
   "source": [
    "href_tag = soup.find('link')\n",
    "# href_tag = soup.find('link', {'href'} == True)\n",
    "href_value = href_tag.get('href')\n",
    "href_value"
   ],
   "id": "c6c789707f752229",
   "outputs": [
    {
     "data": {
      "text/plain": [
       "'https://parsinger.ru/style/style_page.css'"
      ]
     },
     "execution_count": 40,
     "metadata": {},
     "output_type": "execute_result"
    }
   ],
   "execution_count": 40
  },
  {
   "metadata": {},
   "cell_type": "markdown",
   "source": "### 4.6 Пагинация",
   "id": "dac6cca5d29a196a"
  },
  {
   "metadata": {},
   "cell_type": "markdown",
   "source": "Step 1",
   "id": "87da8f783c99c9a4"
  },
  {
   "metadata": {
    "ExecuteTime": {
     "end_time": "2024-10-20T09:37:26.441476Z",
     "start_time": "2024-10-20T09:37:26.437169Z"
    }
   },
   "cell_type": "code",
   "source": [
    "url = 'https://ya.ru/search/'\n",
    "header = {'text': 'python'}"
   ],
   "id": "485ad679fb832212",
   "outputs": [],
   "execution_count": 12
  },
  {
   "metadata": {
    "ExecuteTime": {
     "end_time": "2024-10-20T09:37:27.180467Z",
     "start_time": "2024-10-20T09:37:26.996947Z"
    }
   },
   "cell_type": "code",
   "source": [
    "r = requests.get(url, headers=header)\n",
    "r.status_code"
   ],
   "id": "ee010b409707e405",
   "outputs": [
    {
     "data": {
      "text/plain": [
       "200"
      ]
     },
     "execution_count": 13,
     "metadata": {},
     "output_type": "execute_result"
    }
   ],
   "execution_count": 13
  },
  {
   "metadata": {
    "ExecuteTime": {
     "end_time": "2024-10-20T09:42:27.040705Z",
     "start_time": "2024-10-20T09:42:27.036195Z"
    }
   },
   "cell_type": "code",
   "source": [
    "n = 1\n",
    "url_t = 'https://ya.ru/search='"
   ],
   "id": "9092a82f9d000cec",
   "outputs": [],
   "execution_count": 15
  },
  {
   "metadata": {
    "ExecuteTime": {
     "end_time": "2024-10-20T09:43:24.234665Z",
     "start_time": "2024-10-20T09:43:24.227377Z"
    }
   },
   "cell_type": "code",
   "source": [
    "link = url_t + str(n)\n",
    "link"
   ],
   "id": "b4450fe8b220a3b1",
   "outputs": [
    {
     "data": {
      "text/plain": [
       "'https://ya.ru/search=1'"
      ]
     },
     "execution_count": 20,
     "metadata": {},
     "output_type": "execute_result"
    }
   ],
   "execution_count": 20
  },
  {
   "metadata": {},
   "cell_type": "code",
   "outputs": [],
   "execution_count": null,
   "source": [
    "from bs4 import BeautifulSoup\n",
    "import requests\n",
    "\n",
    "url = 'http://parsinger.ru/html/index1_page_3.html'\n",
    "response = requests.get(url=url)\n",
    "response.encoding = 'utf-8'\n",
    "soup = BeautifulSoup(response.text, 'lxml')\n",
    "schema = 'http://parsinger.ru/html/'\n",
    "pagen = [link.text for link in soup.find('div', class_='pagen').find_all('a')][-1]\n",
    "\n",
    "print(pagen)"
   ],
   "id": "66223fddb89235e3"
  },
  {
   "metadata": {},
   "cell_type": "markdown",
   "source": [
    "### 4.7 Парсинг AJAX\n",
    "AJAX (Asynchronous Javascript and XML) - позволяет обновлять данные на сайте без перезагрузки страницы."
   ],
   "id": "9f8ea8698afe4c20"
  },
  {
   "metadata": {},
   "cell_type": "raw",
   "source": [
    "Step 1 + Step 2 (использование params= в requests запросе)\n",
    "Получить JSON с сайта с AJAX"
   ],
   "id": "8c74ba8cab01a10d"
  },
  {
   "metadata": {
    "ExecuteTime": {
     "end_time": "2024-10-24T14:37:28.241642Z",
     "start_time": "2024-10-24T14:37:28.237448Z"
    }
   },
   "cell_type": "code",
   "source": [
    "import requests\n",
    "import random\n",
    "from fake_useragent import UserAgent"
   ],
   "id": "6432179f3874d498",
   "outputs": [],
   "execution_count": 27
  },
  {
   "metadata": {
    "ExecuteTime": {
     "end_time": "2024-10-24T14:37:28.496403Z",
     "start_time": "2024-10-24T14:37:28.492935Z"
    }
   },
   "cell_type": "code",
   "source": [
    "#url = \"https://bitality.cc/Home/GetSum?GiveName=Sberbank&GetName=Bitcoin&Sum=200000&Direction=0\"\n",
    "url = \"https://bitality.cc/Home/GetSum\"  # при использовании params "
   ],
   "id": "e40ab7a3a05c44ac",
   "outputs": [],
   "execution_count": 28
  },
  {
   "metadata": {
    "ExecuteTime": {
     "end_time": "2024-10-24T14:37:28.763452Z",
     "start_time": "2024-10-24T14:37:28.758507Z"
    }
   },
   "cell_type": "code",
   "source": [
    "# Давайте попробуем получить json файл. И кстати в этом курсе не было практики по библиотеке fake_useragent, поэтому используем её для создания headers. В этом примере свойство .random будет возвращать только те User-Agent, которые имеют минимальный процент популярности 25% или выше.\n",
    "ua = UserAgent(min_percentage=25)\n",
    "fake_headers = {'user_agent': ua.random}"
   ],
   "id": "8c9bb30c244e20be",
   "outputs": [],
   "execution_count": 29
  },
  {
   "metadata": {
    "ExecuteTime": {
     "end_time": "2024-10-24T14:37:29.063766Z",
     "start_time": "2024-10-24T14:37:29.061388Z"
    }
   },
   "cell_type": "code",
   "source": [
    "#Для того чтобы requests точно знала, что сайт использует технологию AJAX добавим в fake_headers ключ \n",
    "# 'requested-with': 'XMLHttpRequest'\n",
    "#fake_headers.update({'x-requested-with': 'XMLHttpRequest'})  # вариант записи\n",
    "fake_headers['x-requested-with'] = 'XMLHttpRequest'"
   ],
   "id": "cd2622a9526c7eb4",
   "outputs": [],
   "execution_count": 30
  },
  {
   "metadata": {
    "ExecuteTime": {
     "end_time": "2024-10-24T14:37:29.397900Z",
     "start_time": "2024-10-24T14:37:29.395057Z"
    }
   },
   "cell_type": "code",
   "source": [
    "param = {\n",
    "    \"GiveName\": 'Sberbank',\n",
    "    \"GetName\": 'Bitcoin',\n",
    "    \"Sum\": 200000,\n",
    "    \"Direction\": 0\n",
    "}"
   ],
   "id": "e51da04eaf507194",
   "outputs": [],
   "execution_count": 31
  },
  {
   "metadata": {
    "ExecuteTime": {
     "end_time": "2024-10-24T14:38:14.451209Z",
     "start_time": "2024-10-24T14:38:14.008529Z"
    }
   },
   "cell_type": "code",
   "source": [
    "r = requests.get(url, headers=fake_headers, params=param)\n",
    "r.status_code"
   ],
   "id": "e5de2016166caf89",
   "outputs": [
    {
     "data": {
      "text/plain": [
       "200"
      ]
     },
     "execution_count": 35,
     "metadata": {},
     "output_type": "execute_result"
    }
   ],
   "execution_count": 35
  },
  {
   "metadata": {
    "ExecuteTime": {
     "end_time": "2024-10-24T14:38:18.321528Z",
     "start_time": "2024-10-24T14:38:18.317591Z"
    }
   },
   "cell_type": "code",
   "source": "r.json()",
   "id": "3ddc187f3464a316",
   "outputs": [
    {
     "data": {
      "text/plain": [
       "{'giveSum': 200000.0, 'getSum': '0.02438328'}"
      ]
     },
     "execution_count": 36,
     "metadata": {},
     "output_type": "execute_result"
    }
   ],
   "execution_count": 36
  },
  {
   "metadata": {},
   "cell_type": "markdown",
   "source": "### 4.8 Парсинг табличных данных",
   "id": "5634c174319e2edf"
  },
  {
   "metadata": {},
   "cell_type": "markdown",
   "source": "",
   "id": "90ca00c9474e22c6"
  },
  {
   "metadata": {
    "ExecuteTime": {
     "end_time": "2024-10-24T14:50:06.925332Z",
     "start_time": "2024-10-24T14:50:06.691884Z"
    }
   },
   "cell_type": "code",
   "source": [
    "# Пример таблицы с простыми ячейками <td></td>\n",
    "import requests\n",
    "from bs4 import BeautifulSoup\n",
    "\n",
    "url = 'https://parsinger.ru/4.8/1/index.html'\n",
    "response = requests.get(url)\n",
    "response.encoding = 'utf-8'\n",
    "soup = BeautifulSoup(response.text, 'html.parser')\n",
    "\n",
    "# Ищем первую таблицу на странице\n",
    "table = soup.find('table')\n",
    "\n",
    "# Извлекаем все строки таблицы\n",
    "rows = table.find_all('tr')\n",
    "\n",
    "# Проходим по строкам таблицы, начиная со второй (индекс 1), так как первая строка - это заголовки\n",
    "for row in rows[1:]:\n",
    "    # Извлекаем ячейки текущей строки\n",
    "    columns = row.find_all('td')\n",
    "    # Первая ячейка содержит имя\n",
    "    name = columns[0].text\n",
    "    # Вторая ячейка содержит возраст\n",
    "    age = columns[1].text\n",
    "    # Выводим результат\n",
    "    print(f'Имя: {name}, Возраст: {age}')"
   ],
   "id": "d4b8d8adde51cfb5",
   "outputs": [
    {
     "name": "stdout",
     "output_type": "stream",
     "text": [
      "Имя: Алексей, Возраст: 25\n",
      "Имя: Мария, Возраст: 30\n"
     ]
    }
   ],
   "execution_count": 37
  },
  {
   "metadata": {
    "ExecuteTime": {
     "end_time": "2024-10-24T14:51:01.740921Z",
     "start_time": "2024-10-24T14:51:01.689108Z"
    }
   },
   "cell_type": "code",
   "source": [
    "# Пример таблицы с заголовками <th></th>\n",
    "import requests\n",
    "from bs4 import BeautifulSoup\n",
    "\n",
    "url = 'https://parsinger.ru/4.8/2/index.html'\n",
    "response = requests.get(url)\n",
    "response.encoding = 'utf-8'\n",
    "soup = BeautifulSoup(response.text, 'html.parser')\n",
    "\n",
    "# Ищем первую таблицу на странице\n",
    "table = soup.find('table')\n",
    "\n",
    "# Извлекаем заголовки таблицы, пройдясь по всем элементам th в таблице и получив их текст\n",
    "headers = [header.text for header in table.find_all('th')]\n",
    "\n",
    "# Извлекаем строки таблицы, начиная со второй (индекс 1), так как первая строка - это заголовки\n",
    "rows = table.find_all('tr')[1:]\n",
    "\n",
    "# Создаём пустой список для данных\n",
    "data = []\n",
    "\n",
    "# Проходим по каждой строке в таблице\n",
    "for row in rows:\n",
    "    # Собираем данные строки в словарь, ключами которого являются заголовки, а значениями - данные ячеек\n",
    "    row_data = dict(zip(headers, (cell.text for cell in row.find_all('td'))))\n",
    "    # Добавляем словарь с данными строки в общий список\n",
    "    data.append(row_data)\n",
    "\n",
    "# Выводим все собранные данные\n",
    "for entry in data:\n",
    "    print(entry)"
   ],
   "id": "c6346bf5af337d0c",
   "outputs": [
    {
     "name": "stdout",
     "output_type": "stream",
     "text": [
      "{'Имя': 'Иван', 'Фамилия': 'Иванов', 'Возраст': '24'}\n",
      "{'Имя': 'Петр', 'Фамилия': 'Петров', 'Возраст': '30'}\n"
     ]
    }
   ],
   "execution_count": 38
  },
  {
   "metadata": {
    "ExecuteTime": {
     "end_time": "2024-10-24T14:52:02.692982Z",
     "start_time": "2024-10-24T14:52:02.626891Z"
    }
   },
   "cell_type": "code",
   "source": [
    "# Пример вложенной таблицы.\n",
    "import requests\n",
    "from bs4 import BeautifulSoup\n",
    "\n",
    "\n",
    "def scrape_table(url):\n",
    "    response = requests.get(url)\n",
    "    response.encoding = 'utf-8'\n",
    "    soup = BeautifulSoup(response.text, 'html.parser')\n",
    "    # Поиск первой таблицы на веб-странице с атрибутом 'border' равным '3'\n",
    "    table = soup.find('table', {'border': '3'})\n",
    "    # Поиск всех строк (tr) в таблице и сохранение их в переменной rows\n",
    "    rows = table.find_all('tr')\n",
    "    data = []\n",
    "    # Проход по всем строкам таблицы, начиная со второй\n",
    "    for row in rows[1:]:\n",
    "        cell_data = {}\n",
    "        # Поиск всех ячеек (td) в текущей строке\n",
    "        cells = row.find_all(['td'])\n",
    "        # Если в строке больше двух ячеек, извлекаем данные\n",
    "        if len(cells) > 2:\n",
    "            # Извлечение и сохранение данных в соответствующих ключах словаря\n",
    "            cell_data['Имя'] = cells[0].text\n",
    "            cell_data['Фамилия'] = cells[1].text\n",
    "            cell_data['Возраст'] = cells[2].text\n",
    "            # Инициализация словаря для хранения контактных данных\n",
    "            contacts = {}\n",
    "            # Извлечение контактных данных из ячейки\n",
    "            contact_rows = cells[3].find_all('tr')\n",
    "            for contact_row in contact_rows:\n",
    "                contact_cells = contact_row.find_all('td')\n",
    "                contacts[contact_cells[0].text] = contact_cells[1].text\n",
    "            # Добавление контактных данных в cell_data\n",
    "            cell_data['Контакты'] = contacts\n",
    "            # Извлечение данных о хобби, если они есть\n",
    "            hobby = soup.find('td', {'rowspan': '2'}).text\n",
    "            if hobby:\n",
    "                cell_data['Хобби'] = hobby\n",
    "            data.append(cell_data)\n",
    "    return data\n",
    "\n",
    "\n",
    "url = \"https://parsinger.ru/4.8/3/index.html\"\n",
    "scraped_data = scrape_table(url)\n",
    "print(scraped_data)"
   ],
   "id": "3a3ff8741bd6db2e",
   "outputs": [
    {
     "name": "stdout",
     "output_type": "stream",
     "text": [
      "[{'Имя': 'Иван', 'Фамилия': 'Иванов', 'Возраст': '24', 'Контакты': {'Email': 'ivanov@gmail.com', 'Телефон': '123-45-67'}, 'Хобби': 'Чтение'}, {'Имя': 'Петр', 'Фамилия': 'Петров', 'Возраст': '30', 'Контакты': {'Email': 'petrov@gmail.com', 'Телефон': '987-65-43'}, 'Хобби': 'Чтение'}]\n"
     ]
    }
   ],
   "execution_count": 40
  },
  {
   "metadata": {
    "ExecuteTime": {
     "end_time": "2024-10-24T14:52:34.518609Z",
     "start_time": "2024-10-24T14:52:34.462312Z"
    }
   },
   "cell_type": "code",
   "source": [
    "# Объединения ячеек по горизонтали.\n",
    "import requests\n",
    "from bs4 import BeautifulSoup\n",
    "\n",
    "url = 'https://parsinger.ru/4.8/4/index.html'\n",
    "\n",
    "response = requests.get(url)\n",
    "response.encoding = 'utf-8'\n",
    "soup = BeautifulSoup(response.text, 'html.parser')\n",
    "\n",
    "# Ищем первую таблицу на странице\n",
    "table = soup.find('table')\n",
    "\n",
    "# Задаём заголовки для таблицы\n",
    "headers = ['Имя', 'Фамилия', 'Возраст', 'Контакты', 'Хобби', 'Фото']\n",
    "\n",
    "# Получаем все строки таблицы, начиная со второй (индекс 1), так как первая строка - это заголовки\n",
    "rows = table.find_all('tr')[1:]\n",
    "\n",
    "# Создаём пустой список для данных\n",
    "data = []\n",
    "\n",
    "# Проходим по каждой строке в таблице\n",
    "for row in rows:\n",
    "    # Инициализируем словарь для данных одной строки\n",
    "    row_data = {}\n",
    "    # Проходим по каждой ячейке в строке и соответствующему заголовку\n",
    "    for header, cell in zip(headers, row.find_all('td')):\n",
    "        # Проверяем, есть ли в ячейке ссылка\n",
    "        if cell.find('a'):\n",
    "            links = cell.find_all('a')\n",
    "            # Проверяем, является ли первая ссылка email-ссылкой\n",
    "            if 'mailto' in links[0]['href']:\n",
    "                row_data['Email'] = links[0].text\n",
    "                row_data['Телефон'] = links[1].text\n",
    "            else:\n",
    "                row_data[header] = cell.text\n",
    "        # Проверяем, есть ли в ячейке изображение\n",
    "        elif cell.find('img'):\n",
    "            row_data['Фото'] = cell.find('img')['src']\n",
    "        # Если ячейка не содержит ни ссылки, ни изображения, сохраняем её текст\n",
    "        else:\n",
    "            row_data[header] = cell.text\n",
    "\n",
    "    # Добавляем данные строки в общий список\n",
    "    data.append(row_data)\n",
    "\n",
    "# Выводим все собранные данные\n",
    "for entry in data:\n",
    "    print(entry)"
   ],
   "id": "d57579f99b5aec80",
   "outputs": [
    {
     "name": "stdout",
     "output_type": "stream",
     "text": [
      "{'Имя': 'Иван', 'Фамилия': 'Иванов', 'Возраст': '24', 'Email': 'ivanov@gmail.com', 'Телефон': '123-45-67', 'Хобби': 'Чтение', 'Фото': 'path_to_image_1.jpg'}\n",
      "{'Имя': 'Петр', 'Фамилия': 'Петров', 'Возраст': '30', 'Email': 'petrov@gmail.com', 'Телефон': '987-65-43'}\n"
     ]
    }
   ],
   "execution_count": 41
  },
  {
   "metadata": {},
   "cell_type": "markdown",
   "source": [
    "### Lesson 4.10\n",
    "step 2"
   ],
   "id": "1f6d2a449d0cbc64"
  },
  {
   "metadata": {
    "ExecuteTime": {
     "end_time": "2024-11-09T15:09:41.888712Z",
     "start_time": "2024-11-09T15:09:41.602181Z"
    }
   },
   "cell_type": "code",
   "source": [
    "import requests\n",
    "from bs4 import BeautifulSoup\n",
    "import json\n",
    "\n",
    "# 1 ------------------------------------------------------\n",
    "url = 'http://parsinger.ru/html/index3_page_1.html'\n",
    "response = requests.get(url=url)\n",
    "response.encoding = 'utf-8'\n",
    "soup = BeautifulSoup(response.text, 'html.parser')\n",
    "# 1 ------------------------------------------------------\n",
    "\n",
    "# 2 ------------------------------------------------------\n",
    "name = [x.text.strip() for x in soup.find_all('a', class_='name_item')]\n",
    "description = [x.text.strip().split('\\n') for x in soup.find_all('div', class_='description')]\n",
    "price = [x.text for x in soup.find_all('p', class_='price')]"
   ],
   "id": "1ef0f86084485c0c",
   "outputs": [],
   "execution_count": 8
  },
  {
   "metadata": {
    "ExecuteTime": {
     "end_time": "2024-11-09T15:52:38.482897Z",
     "start_time": "2024-11-09T15:52:38.479927Z"
    }
   },
   "cell_type": "code",
   "source": [
    "for list_item, price_item, name in zip(description, price, name):\n",
    "    print(list_item)\n",
    "    print(price_item)\n",
    "    print(name)\n",
    "    print('========================================================')"
   ],
   "id": "48fde1bdaf873b85",
   "outputs": [
    {
     "name": "stdout",
     "output_type": "stream",
     "text": [
      "['Бренд: Defender ', 'Тип:  Мышь проводная ', 'Подключение к компьютеру: USB', 'Игровая: да']\n",
      "1610 руб\n",
      "Vampire RGB,9 кнопок\n",
      "========================================================\n",
      "['Бренд: Defender ', 'Тип: Мышь проводная ', 'Подключение к компьютеру: USB', 'Игровая: да']\n",
      "550 руб\n",
      "Defender Halo Z GM-430L\n",
      "========================================================\n",
      "['Бренд: Defender ', 'Тип:  Мышь беспроводная ', 'Подключение к компьютеру: USB', 'Игровая: да']\n",
      "1480 руб\n",
      "Defender Shark 2\n",
      "========================================================\n",
      "['Бренд: Defender ', 'Тип:  Мышь проводная ', 'Подключение к компьютеру: USB', 'Игровая: да']\n",
      "730 руб\n",
      "Defender sTarx GM-390L\n",
      "========================================================\n",
      "['Бренд: Defender ', 'Тип:  Мышь проводная ', 'Подключение к компьютеру: USB', 'Игровая: да']\n",
      "485 руб\n",
      "Defender Skull GM-180L\n",
      "========================================================\n",
      "['Бренд: Defender ', 'Тип:  Мышь проводная ', 'Подключение к компьютеру: USB', 'Игровая: да']\n",
      "550 руб\n",
      "Defender Killer GM-170L\n",
      "========================================================\n",
      "['Бренд: Defender ', 'Тип:  Мышь проводная ', 'Подключение к компьютеру: USB', 'Игровая: да']\n",
      "600 руб\n",
      "Defender Ghost GM-190L\n",
      "========================================================\n",
      "['Бренд: Defender ', 'Тип:  Мышь проводная ', 'Подключение к компьютеру: USB', 'Игровая: да']\n",
      "730 руб\n",
      "Defender Witcher GM-990\n",
      "========================================================\n"
     ]
    }
   ],
   "execution_count": 19
  },
  {
   "metadata": {},
   "cell_type": "code",
   "outputs": [],
   "execution_count": null,
   "source": [
    "result_json = []\n",
    "# 3 ------------------------------------------------------\n",
    "for list_item, price_item, name in zip(description, price, name):\n",
    "    result_json.append({\n",
    "        'name': name,\n",
    "        'brand': [x.split(':')[1] for x in list_item][0],\n",
    "        'type': [x.split(':')[1] for x in list_item][1],\n",
    "        'connect': [x.split(':')[1] for x in list_item][2],\n",
    "        'game': [x.split(':')[1] for x in list_item][3],\n",
    "        'price': price_item\n",
    "\n",
    "    })\n",
    "\n",
    "# 3 ------------------------------------------------------\n",
    "\n",
    "# 4 ------------------------------------------------------\n",
    "with open('res.json', 'w', encoding='utf-8') as file:\n",
    "    json.dump(result_json, file, indent=4, ensure_ascii=False)\n",
    "# 4 ------------------------------------------------------"
   ],
   "id": "47a4a633b83571ed"
  },
  {
   "metadata": {},
   "cell_type": "markdown",
   "source": [
    "### Lesson 4.10\n",
    "step 3"
   ],
   "id": "13470994ae5c7"
  },
  {
   "metadata": {
    "ExecuteTime": {
     "end_time": "2024-11-09T15:58:58.119561Z",
     "start_time": "2024-11-09T15:58:57.918970Z"
    }
   },
   "cell_type": "code",
   "source": [
    "import requests\n",
    "from bs4 import BeautifulSoup\n",
    "\n",
    "response = requests.get('http://parsinger.ru/html/watch/1/1_1.html')\n",
    "response.encoding = 'utf-8'\n",
    "soup = BeautifulSoup(response.text, 'html.parser')\n",
    "description = soup.find('ul', id='description').find_all('li')"
   ],
   "id": "5351b6e849b9893c",
   "outputs": [],
   "execution_count": 21
  },
  {
   "metadata": {
    "ExecuteTime": {
     "end_time": "2024-11-09T16:09:15.458486Z",
     "start_time": "2024-11-09T16:09:15.453221Z"
    }
   },
   "cell_type": "code",
   "source": [
    "print(f'тэг - {description[0]}')\n",
    "print(f'{description[0].get(\"id\")} - результат вызова через .get(\"id\")')\n",
    "print(f'{description[0][\"id\"]} - результат вызова через \"id\"')"
   ],
   "id": "469897d3a8e402e2",
   "outputs": [
    {
     "name": "stdout",
     "output_type": "stream",
     "text": [
      "тэг - <li id=\"brand\">Бренд: Jet</li>\n",
      "brand - результат вызова через .get(\"id\")\n",
      "brand - результат вызова через \"id\"\n"
     ]
    }
   ],
   "execution_count": 33
  },
  {
   "metadata": {
    "ExecuteTime": {
     "end_time": "2024-11-09T16:09:36.379711Z",
     "start_time": "2024-11-09T16:09:36.374524Z"
    }
   },
   "cell_type": "code",
   "source": [
    "for li in description:\n",
    "    print(li['id'])"
   ],
   "id": "f63f9740ac9c16dd",
   "outputs": [
    {
     "name": "stdout",
     "output_type": "stream",
     "text": [
      "brand\n",
      "model\n",
      "type\n",
      "display\n",
      "material_frame\n",
      "material_bracer\n",
      "size\n",
      "site\n"
     ]
    }
   ],
   "execution_count": 34
  },
  {
   "metadata": {
    "ExecuteTime": {
     "end_time": "2024-11-09T16:13:18.334446Z",
     "start_time": "2024-11-09T16:13:18.327660Z"
    }
   },
   "cell_type": "code",
   "source": "soup.find('div')['class']",
   "id": "822e80045069d0ab",
   "outputs": [
    {
     "data": {
      "text/plain": [
       "['headers']"
      ]
     },
     "execution_count": 38,
     "metadata": {},
     "output_type": "execute_result"
    }
   ],
   "execution_count": 38
  },
  {
   "metadata": {
    "ExecuteTime": {
     "end_time": "2024-11-09T16:13:35.323485Z",
     "start_time": "2024-11-09T16:13:35.318623Z"
    }
   },
   "cell_type": "code",
   "source": "soup.find('div').get('class')",
   "id": "7537d19fd3180253",
   "outputs": [
    {
     "data": {
      "text/plain": [
       "['headers']"
      ]
     },
     "execution_count": 40,
     "metadata": {},
     "output_type": "execute_result"
    }
   ],
   "execution_count": 40
  },
  {
   "metadata": {},
   "cell_type": "code",
   "outputs": [],
   "execution_count": null,
   "source": "",
   "id": "88caeb01bf8654d8"
  }
 ],
 "metadata": {
  "kernelspec": {
   "display_name": "Python 3",
   "language": "python",
   "name": "python3"
  },
  "language_info": {
   "codemirror_mode": {
    "name": "ipython",
    "version": 2
   },
   "file_extension": ".py",
   "mimetype": "text/x-python",
   "name": "python",
   "nbconvert_exporter": "python",
   "pygments_lexer": "ipython2",
   "version": "2.7.6"
  }
 },
 "nbformat": 4,
 "nbformat_minor": 5
}
