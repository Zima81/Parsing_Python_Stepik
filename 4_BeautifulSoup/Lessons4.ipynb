{
 "cells": [
  {
   "metadata": {},
   "cell_type": "markdown",
   "source": "### 4.2 Установка и импорт",
   "id": "3ad2b8446230c574"
  },
  {
   "metadata": {},
   "cell_type": "markdown",
   "source": "##### Step 1",
   "id": "6479dd3d7dbe0256"
  },
  {
   "metadata": {},
   "cell_type": "markdown",
   "source": [
    "###### Синтаксис\n",
    "soup = BeautifulSoup(HTML-строка с сайта, 'parser')\n",
    "* HTML-строка с сайта - текстовое представление веб страницы (html code) (r.text)\n",
    "* 'parser' - (str) строковое представление парсера ('xml', 'lxml', 'html.parser', 'html5lib')"
   ],
   "id": "9a24d7e35478300d"
  },
  {
   "metadata": {},
   "cell_type": "raw",
   "source": [
    "Ряды: \t             Внешняя зависимость \tОчень быстрый \tМягкий \tОчень медленно\n",
    "Парсер html.parser \t                                           *                     \t\t\t\n",
    "Парсер lxml \t\t\t\t  *                    *           *                               \n",
    "Парсер xml \t\t\t\t      *                    *                          \n",
    "Парсер html5lib \t\t\t  *\t                               *          *\n",
    "\n",
    "*Мягкий парсер не проверяет соответствие открывающих и закрывающих тегов. Другими словами, мягкие парсеры будут собирать разметку с сайта, даже если она некорректна или сломана."
   ],
   "id": "311ef83433ca0f10"
  },
  {
   "metadata": {},
   "cell_type": "markdown",
   "source": [
    "### 4.3 Приготовление супа\n",
    "###### Step 1"
   ],
   "id": "8bae92aacf425f42"
  },
  {
   "metadata": {
    "ExecuteTime": {
     "end_time": "2024-09-27T09:17:18.696138Z",
     "start_time": "2024-09-27T09:17:18.530712Z"
    }
   },
   "cell_type": "code",
   "source": [
    "from bs4 import BeautifulSoup\n",
    "import requests\n",
    "import lxml"
   ],
   "id": "9c65a37e18a9d885",
   "outputs": [],
   "execution_count": 1
  },
  {
   "metadata": {
    "ExecuteTime": {
     "end_time": "2024-09-27T09:18:58.209937Z",
     "start_time": "2024-09-27T09:18:58.203094Z"
    }
   },
   "cell_type": "code",
   "source": [
    "# Пример 1. Передача файла HTML напрямую без использования менеджера контекста\n",
    "file = open('index.html', encoding='utf-8')\n",
    "soup = BeautifulSoup(file, 'lxml')\n",
    "file.close()\n",
    "print(\"Анализ файла без использования менеджера контекста:\\n\", soup)"
   ],
   "id": "e3d0218f24f98a35",
   "outputs": [
    {
     "name": "stdout",
     "output_type": "stream",
     "text": [
      "Анализ файла без использования менеджера контекста:\n",
      " <!DOCTYPE html>\n",
      "<html lang=\"en\">\n",
      "<head>\n",
      "<link href=\"../style/style.css\" rel=\"stylesheet\"/>\n",
      "<meta charset=\"utf-8\"/>\n",
      "<meta content=\"width=device-width, initial-scale=1.0\" name=\"viewport\"/>\n",
      "<title>Учимся парсить</title>\n",
      "</head>\n",
      "<body>\n",
      "<div class=\"headers\">\n",
      "<div class=\"p_headers\">vazon</div>\n",
      "</div>\n",
      "<div class=\"pagen\">\n",
      "<a href=\"index1_page_1.html\">1</a>\n",
      "<a href=\"index1_page_2.html\">2</a>\n",
      "<a href=\"index1_page_3.html\">3</a>\n",
      "<a href=\"index1_page_4.html\">4</a>\n",
      "</div>\n",
      "<div class=\"main\">\n",
      "<div class=\"nav_menu\">\n",
      "<a href=\"index1_page_1.html\"><div id=\"watch\">ЧАСЫ</div></a>\n",
      "<a href=\"index2_page_1.html\"><div id=\"mobile\">ТЕЛЕФОНЫ</div></a>\n",
      "<a href=\"index3_page_1.html\"><div id=\"mouse\">МЫШИ</div></a>\n",
      "<a href=\"index4_page_1.html\"><div id=\"hdd\">HDD</div></a>\n",
      "<a href=\"index5_page_1.html\"><div id=\"headphones\">НАУШНИКИ</div></a>\n",
      "</div>\n",
      "<div class=\"item_card\">\n",
      "<div class=\"item\">\n",
      "<div class=\"img_box\">\n",
      "<a href=\"watch/1/1_1.html\" name=\"1_1\"><img alt=\"\" src=\"http://parsinger.ru/img/1/1.jpg\"/></a>\n",
      "<a class=\"name_item\" href=\"watch/1/1_1.html\" name=\"1_1\">Jet Kid Start blue Умные детские часы</a>\n",
      "<div class=\"description\">\n",
      "<li>Бренд: Jet</li>\n",
      "<li>Тип: умные часы</li>\n",
      "<li>Материал корпуса: пластик</li>\n",
      "<li>Технология экрана: Монохромный</li>\n",
      "</div>\n",
      "<div class=\"container\">\n",
      "<div class=\"price_box\"><p class=\"price\">2310 руб</p></div>\n",
      "<div class=\"sale_button\"><a href=\"watch/1/1_1.html\"><p>Подробнее</p></a></div>\n",
      "</div>\n",
      "</div></div>\n",
      "<div class=\"item\">\n",
      "<div class=\"img_box\">\n",
      "<a href=\"watch/1/1_2.html\" name=\"1_2\"><img alt=\"\" src=\"http://parsinger.ru/img/1/2.jpg\"/></a>\n",
      "<a class=\"name_item\" href=\"watch/1/1_2.html\" name=\"1_2\">BAND 6 FOREST GREEN FARA-B19 HUAWEI</a>\n",
      "<div class=\"description\">\n",
      "<li>Бренд: Huawei</li>\n",
      "<li>Тип: фитнес браслет</li>\n",
      "<li>Материал корпуса: полимер</li>\n",
      "<li>Технология экрана: AMOLED</li>\n",
      "</div>\n",
      "<div class=\"container\">\n",
      "<div class=\"price_box\"><p class=\"price\">5480 руб</p></div>\n",
      "<div class=\"sale_button\"><a href=\"watch/1/1_2.html\"><p>Подробнее</p></a></div>\n",
      "</div>\n",
      "</div></div>\n",
      "<div class=\"item\">\n",
      "<div class=\"img_box\">\n",
      "<a href=\"watch/1/1_3.html\" name=\"1_3\"><img alt=\"\" src=\"http://parsinger.ru/img/1/3.jpg\"/></a>\n",
      "<a class=\"name_item\" href=\"watch/1/1_3.html\" name=\"1_3\">Умные часы GT 3 MIL-B19S BLACK HUAWEI</a>\n",
      "<div class=\"description\">\n",
      "<li>Бренд: Huawei</li>\n",
      "<li>Тип: умные часы</li>\n",
      "<li>Материал корпуса: пластик</li>\n",
      "<li>Технология экрана: Монохромный</li>\n",
      "</div>\n",
      "<div class=\"container\">\n",
      "<div class=\"price_box\"><p class=\"price\">21810 руб</p></div>\n",
      "<div class=\"sale_button\"><a href=\"watch/1/1_3.html\"><p>Подробнее</p></a></div>\n",
      "</div>\n",
      "</div></div>\n",
      "<div class=\"item\">\n",
      "<div class=\"img_box\">\n",
      "<a href=\"watch/1/1_4.html\" name=\"1_4\"><img alt=\"\" src=\"http://parsinger.ru/img/1/4.jpg\"/></a>\n",
      "<a class=\"name_item\" href=\"watch/1/1_4.html\" name=\"1_4\">Умные часы GT 3 MIL-B19V BROWN HUAWEI</a>\n",
      "<div class=\"description\">\n",
      "<li>Бренд: Huawei</li>\n",
      "<li>Тип: умные часы</li>\n",
      "<li>Материал корпуса: нержавеющая сталь</li>\n",
      "<li>Технология экрана: AMOLED</li>\n",
      "</div>\n",
      "<div class=\"container\">\n",
      "<div class=\"price_box\"><p class=\"price\">21810 руб</p></div>\n",
      "<div class=\"sale_button\"><a href=\"watch/1/1_4.html\"><p>Подробнее</p></a></div>\n",
      "</div>\n",
      "</div></div>\n",
      "<div class=\"item\">\n",
      "<div class=\"img_box\">\n",
      "<a href=\"watch/1/1_5.html\" name=\"1_5\"><img alt=\"\" src=\"http://parsinger.ru/img/1/5.jpg\"/></a>\n",
      "<a class=\"name_item\" href=\"watch/1/1_5.html\" name=\"1_5\">GT RUNNER-B19S BLACK HUAWEI</a>\n",
      "<div class=\"description\">\n",
      "<li>Бренд: Huawei</li>\n",
      "<li>Тип: умные часы</li>\n",
      "<li>Материал корпуса: пластик</li>\n",
      "<li>Технология экрана: AMOLED</li>\n",
      "</div>\n",
      "<div class=\"container\">\n",
      "<div class=\"price_box\"><p class=\"price\">27770 руб</p></div>\n",
      "<div class=\"sale_button\"><a href=\"watch/1/1_5.html\"><p>Подробнее</p></a></div>\n",
      "</div>\n",
      "</div></div>\n",
      "<div class=\"item\">\n",
      "<div class=\"img_box\">\n",
      "<a href=\"watch/1/1_6.html\" name=\"1_6\"><img alt=\"\" src=\"http://parsinger.ru/img/1/6.jpg\"/></a>\n",
      "<a class=\"name_item\" href=\"watch/1/1_6.html\" name=\"1_6\">GT RUNNER-B19A GREY HUAWEI</a>\n",
      "<div class=\"description\">\n",
      "<li>Бренд: Huawei</li>\n",
      "<li>Тип: умные часы</li>\n",
      "<li>Материал корпуса: пластик</li>\n",
      "<li>Технология экрана: AMOLED</li>\n",
      "</div>\n",
      "<div class=\"container\">\n",
      "<div class=\"price_box\"><p class=\"price\">27770 руб</p></div>\n",
      "<div class=\"sale_button\"><a href=\"watch/1/1_6.html\"><p>Подробнее</p></a></div>\n",
      "</div>\n",
      "</div></div>\n",
      "<div class=\"item\">\n",
      "<div class=\"img_box\">\n",
      "<a href=\"watch/1/1_7.html\" name=\"1_7\"><img alt=\"\" src=\"http://parsinger.ru/img/1/7.jpg\"/></a>\n",
      "<a class=\"name_item\" href=\"watch/1/1_7.html\" name=\"1_7\">Умные часы GT 3 MIL-B19 GOLD HUAWEI</a>\n",
      "<div class=\"description\">\n",
      "<li>Бренд: Huawei</li>\n",
      "<li>Тип: умные часы</li>\n",
      "<li>Материал корпуса: нержавеющая сталь, пластик</li>\n",
      "<li>Технология экрана: AMOLED</li>\n",
      "</div>\n",
      "<div class=\"container\">\n",
      "<div class=\"price_box\"><p class=\"price\">24230 руб</p></div>\n",
      "<div class=\"sale_button\"><a href=\"watch/1/1_7.html\"><p>Подробнее</p></a></div>\n",
      "</div>\n",
      "</div></div>\n",
      "<div class=\"item\">\n",
      "<div class=\"img_box\">\n",
      "<a href=\"watch/1/1_8.html\" name=\"1_8\"><img alt=\"\" src=\"http://parsinger.ru/img/1/8.jpg\"/></a>\n",
      "<a class=\"name_item\" href=\"watch/1/1_8.html\" name=\"1_8\">Умные часы WATCH 3 GALILEO-L11 STEEL</a>\n",
      "<div class=\"description\">\n",
      "<li>Бренд:  Huawei</li>\n",
      "<li>Тип: умные часы</li>\n",
      "<li>Материал корпуса: металл, керамика</li>\n",
      "<li>Технология экрана:  AMOLED</li>\n",
      "</div>\n",
      "<div class=\"container\">\n",
      "<div class=\"price_box\"><p class=\"price\">32600 руб</p></div>\n",
      "<div class=\"sale_button\"><a href=\"watch/1/1_8.html\"><p>Подробнее</p></a></div>\n",
      "</div>\n",
      "</div></div>\n",
      "</div>\n",
      "</div>\n",
      "<div class=\"pagen\">\n",
      "<a href=\"index1_page_1.html\">1</a>\n",
      "<a href=\"index1_page_2.html\">2</a>\n",
      "<a href=\"index1_page_3.html\">3</a>\n",
      "<a href=\"index1_page_4.html\">4</a>\n",
      "</div>\n",
      "<div class=\"bottom\"></div>\n",
      "</body>\n",
      "</html>\n"
     ]
    }
   ],
   "execution_count": 4
  },
  {
   "metadata": {
    "ExecuteTime": {
     "end_time": "2024-09-27T09:19:18.895451Z",
     "start_time": "2024-09-27T09:19:18.884095Z"
    }
   },
   "cell_type": "code",
   "source": [
    "# Пример 2. Передача файла HTML с использованием менеджера контекста\n",
    "with open('index.html', encoding='utf-8') as file:\n",
    "    soup2 = BeautifulSoup(file, 'lxml')\n",
    "    print(\"Анализ файла с использованием менеджера контекста:\\n\", soup2)"
   ],
   "id": "7e2a15a1182d24ac",
   "outputs": [
    {
     "name": "stdout",
     "output_type": "stream",
     "text": [
      "Анализ файла с использованием менеджера контекста:\n",
      " <!DOCTYPE html>\n",
      "<html lang=\"en\">\n",
      "<head>\n",
      "<link href=\"../style/style.css\" rel=\"stylesheet\"/>\n",
      "<meta charset=\"utf-8\"/>\n",
      "<meta content=\"width=device-width, initial-scale=1.0\" name=\"viewport\"/>\n",
      "<title>Учимся парсить</title>\n",
      "</head>\n",
      "<body>\n",
      "<div class=\"headers\">\n",
      "<div class=\"p_headers\">vazon</div>\n",
      "</div>\n",
      "<div class=\"pagen\">\n",
      "<a href=\"index1_page_1.html\">1</a>\n",
      "<a href=\"index1_page_2.html\">2</a>\n",
      "<a href=\"index1_page_3.html\">3</a>\n",
      "<a href=\"index1_page_4.html\">4</a>\n",
      "</div>\n",
      "<div class=\"main\">\n",
      "<div class=\"nav_menu\">\n",
      "<a href=\"index1_page_1.html\"><div id=\"watch\">ЧАСЫ</div></a>\n",
      "<a href=\"index2_page_1.html\"><div id=\"mobile\">ТЕЛЕФОНЫ</div></a>\n",
      "<a href=\"index3_page_1.html\"><div id=\"mouse\">МЫШИ</div></a>\n",
      "<a href=\"index4_page_1.html\"><div id=\"hdd\">HDD</div></a>\n",
      "<a href=\"index5_page_1.html\"><div id=\"headphones\">НАУШНИКИ</div></a>\n",
      "</div>\n",
      "<div class=\"item_card\">\n",
      "<div class=\"item\">\n",
      "<div class=\"img_box\">\n",
      "<a href=\"watch/1/1_1.html\" name=\"1_1\"><img alt=\"\" src=\"http://parsinger.ru/img/1/1.jpg\"/></a>\n",
      "<a class=\"name_item\" href=\"watch/1/1_1.html\" name=\"1_1\">Jet Kid Start blue Умные детские часы</a>\n",
      "<div class=\"description\">\n",
      "<li>Бренд: Jet</li>\n",
      "<li>Тип: умные часы</li>\n",
      "<li>Материал корпуса: пластик</li>\n",
      "<li>Технология экрана: Монохромный</li>\n",
      "</div>\n",
      "<div class=\"container\">\n",
      "<div class=\"price_box\"><p class=\"price\">2310 руб</p></div>\n",
      "<div class=\"sale_button\"><a href=\"watch/1/1_1.html\"><p>Подробнее</p></a></div>\n",
      "</div>\n",
      "</div></div>\n",
      "<div class=\"item\">\n",
      "<div class=\"img_box\">\n",
      "<a href=\"watch/1/1_2.html\" name=\"1_2\"><img alt=\"\" src=\"http://parsinger.ru/img/1/2.jpg\"/></a>\n",
      "<a class=\"name_item\" href=\"watch/1/1_2.html\" name=\"1_2\">BAND 6 FOREST GREEN FARA-B19 HUAWEI</a>\n",
      "<div class=\"description\">\n",
      "<li>Бренд: Huawei</li>\n",
      "<li>Тип: фитнес браслет</li>\n",
      "<li>Материал корпуса: полимер</li>\n",
      "<li>Технология экрана: AMOLED</li>\n",
      "</div>\n",
      "<div class=\"container\">\n",
      "<div class=\"price_box\"><p class=\"price\">5480 руб</p></div>\n",
      "<div class=\"sale_button\"><a href=\"watch/1/1_2.html\"><p>Подробнее</p></a></div>\n",
      "</div>\n",
      "</div></div>\n",
      "<div class=\"item\">\n",
      "<div class=\"img_box\">\n",
      "<a href=\"watch/1/1_3.html\" name=\"1_3\"><img alt=\"\" src=\"http://parsinger.ru/img/1/3.jpg\"/></a>\n",
      "<a class=\"name_item\" href=\"watch/1/1_3.html\" name=\"1_3\">Умные часы GT 3 MIL-B19S BLACK HUAWEI</a>\n",
      "<div class=\"description\">\n",
      "<li>Бренд: Huawei</li>\n",
      "<li>Тип: умные часы</li>\n",
      "<li>Материал корпуса: пластик</li>\n",
      "<li>Технология экрана: Монохромный</li>\n",
      "</div>\n",
      "<div class=\"container\">\n",
      "<div class=\"price_box\"><p class=\"price\">21810 руб</p></div>\n",
      "<div class=\"sale_button\"><a href=\"watch/1/1_3.html\"><p>Подробнее</p></a></div>\n",
      "</div>\n",
      "</div></div>\n",
      "<div class=\"item\">\n",
      "<div class=\"img_box\">\n",
      "<a href=\"watch/1/1_4.html\" name=\"1_4\"><img alt=\"\" src=\"http://parsinger.ru/img/1/4.jpg\"/></a>\n",
      "<a class=\"name_item\" href=\"watch/1/1_4.html\" name=\"1_4\">Умные часы GT 3 MIL-B19V BROWN HUAWEI</a>\n",
      "<div class=\"description\">\n",
      "<li>Бренд: Huawei</li>\n",
      "<li>Тип: умные часы</li>\n",
      "<li>Материал корпуса: нержавеющая сталь</li>\n",
      "<li>Технология экрана: AMOLED</li>\n",
      "</div>\n",
      "<div class=\"container\">\n",
      "<div class=\"price_box\"><p class=\"price\">21810 руб</p></div>\n",
      "<div class=\"sale_button\"><a href=\"watch/1/1_4.html\"><p>Подробнее</p></a></div>\n",
      "</div>\n",
      "</div></div>\n",
      "<div class=\"item\">\n",
      "<div class=\"img_box\">\n",
      "<a href=\"watch/1/1_5.html\" name=\"1_5\"><img alt=\"\" src=\"http://parsinger.ru/img/1/5.jpg\"/></a>\n",
      "<a class=\"name_item\" href=\"watch/1/1_5.html\" name=\"1_5\">GT RUNNER-B19S BLACK HUAWEI</a>\n",
      "<div class=\"description\">\n",
      "<li>Бренд: Huawei</li>\n",
      "<li>Тип: умные часы</li>\n",
      "<li>Материал корпуса: пластик</li>\n",
      "<li>Технология экрана: AMOLED</li>\n",
      "</div>\n",
      "<div class=\"container\">\n",
      "<div class=\"price_box\"><p class=\"price\">27770 руб</p></div>\n",
      "<div class=\"sale_button\"><a href=\"watch/1/1_5.html\"><p>Подробнее</p></a></div>\n",
      "</div>\n",
      "</div></div>\n",
      "<div class=\"item\">\n",
      "<div class=\"img_box\">\n",
      "<a href=\"watch/1/1_6.html\" name=\"1_6\"><img alt=\"\" src=\"http://parsinger.ru/img/1/6.jpg\"/></a>\n",
      "<a class=\"name_item\" href=\"watch/1/1_6.html\" name=\"1_6\">GT RUNNER-B19A GREY HUAWEI</a>\n",
      "<div class=\"description\">\n",
      "<li>Бренд: Huawei</li>\n",
      "<li>Тип: умные часы</li>\n",
      "<li>Материал корпуса: пластик</li>\n",
      "<li>Технология экрана: AMOLED</li>\n",
      "</div>\n",
      "<div class=\"container\">\n",
      "<div class=\"price_box\"><p class=\"price\">27770 руб</p></div>\n",
      "<div class=\"sale_button\"><a href=\"watch/1/1_6.html\"><p>Подробнее</p></a></div>\n",
      "</div>\n",
      "</div></div>\n",
      "<div class=\"item\">\n",
      "<div class=\"img_box\">\n",
      "<a href=\"watch/1/1_7.html\" name=\"1_7\"><img alt=\"\" src=\"http://parsinger.ru/img/1/7.jpg\"/></a>\n",
      "<a class=\"name_item\" href=\"watch/1/1_7.html\" name=\"1_7\">Умные часы GT 3 MIL-B19 GOLD HUAWEI</a>\n",
      "<div class=\"description\">\n",
      "<li>Бренд: Huawei</li>\n",
      "<li>Тип: умные часы</li>\n",
      "<li>Материал корпуса: нержавеющая сталь, пластик</li>\n",
      "<li>Технология экрана: AMOLED</li>\n",
      "</div>\n",
      "<div class=\"container\">\n",
      "<div class=\"price_box\"><p class=\"price\">24230 руб</p></div>\n",
      "<div class=\"sale_button\"><a href=\"watch/1/1_7.html\"><p>Подробнее</p></a></div>\n",
      "</div>\n",
      "</div></div>\n",
      "<div class=\"item\">\n",
      "<div class=\"img_box\">\n",
      "<a href=\"watch/1/1_8.html\" name=\"1_8\"><img alt=\"\" src=\"http://parsinger.ru/img/1/8.jpg\"/></a>\n",
      "<a class=\"name_item\" href=\"watch/1/1_8.html\" name=\"1_8\">Умные часы WATCH 3 GALILEO-L11 STEEL</a>\n",
      "<div class=\"description\">\n",
      "<li>Бренд:  Huawei</li>\n",
      "<li>Тип: умные часы</li>\n",
      "<li>Материал корпуса: металл, керамика</li>\n",
      "<li>Технология экрана:  AMOLED</li>\n",
      "</div>\n",
      "<div class=\"container\">\n",
      "<div class=\"price_box\"><p class=\"price\">32600 руб</p></div>\n",
      "<div class=\"sale_button\"><a href=\"watch/1/1_8.html\"><p>Подробнее</p></a></div>\n",
      "</div>\n",
      "</div></div>\n",
      "</div>\n",
      "</div>\n",
      "<div class=\"pagen\">\n",
      "<a href=\"index1_page_1.html\">1</a>\n",
      "<a href=\"index1_page_2.html\">2</a>\n",
      "<a href=\"index1_page_3.html\">3</a>\n",
      "<a href=\"index1_page_4.html\">4</a>\n",
      "</div>\n",
      "<div class=\"bottom\"></div>\n",
      "</body>\n",
      "</html>\n"
     ]
    }
   ],
   "execution_count": 6
  },
  {
   "metadata": {},
   "cell_type": "markdown",
   "source": "Для веб-парсинга в реальном времени, когда вы хотите извлечь данные прямо из веб-сайта, используется следующий подход:",
   "id": "2451f826fd1d1521"
  },
  {
   "metadata": {
    "ExecuteTime": {
     "end_time": "2024-09-27T11:54:03.158776Z",
     "start_time": "2024-09-27T11:54:02.863961Z"
    }
   },
   "cell_type": "code",
   "source": [
    "from bs4 import BeautifulSoup\n",
    "import requests\n",
    "import lxml\n",
    "\n",
    "# Пример 3. Передача объекта response прямо из запроса\n",
    "response = requests.get(url='http://parsinger.ru/html/watch/1/1_1.html')\n",
    "'''\n",
    "Если у вас во время запроса к данной странице возникли проблемы с кодировкой,  и вы видите нечто подобное <title>Ð£ÑÐ¸Ð¼ÑÑ Ð¿Ð°ÑÑÐ¸ÑÑ</title> , необходимо применить кодировку к response.\n",
    "'''\n",
    "response.encoding = 'utf-8'\n",
    "soup = BeautifulSoup(response.text, 'lxml')\n",
    "\n",
    "print(soup)"
   ],
   "id": "643dc825347538b8",
   "outputs": [
    {
     "name": "stdout",
     "output_type": "stream",
     "text": [
      "<!DOCTYPE html>\n",
      "<html lang=\"ru\">\n",
      "<head>\n",
      "<meta charset=\"utf-8\"/>\n",
      "<link href=\"https://parsinger.ru/style/style_page.css\" rel=\"stylesheet\"/>\n",
      "<meta content=\"width=device-width, initial-scale=1\" name=\"viewport\"/>\n",
      "<title>WEB Парсинг на Python</title>\n",
      "</head>\n",
      "<body>\n",
      "<div class=\"headers\">\n",
      "<div class=\"p_headers\"><a href=\"https://stepik.org/z/104774/?utm_source=html\">WEB Парсинг на Python</a></div>\n",
      "</div>\n",
      "<a href=\"https://parsinger.ru/html/index1_page_1.html#1_1\" id=\"a_back\"><div class=\"back\">На главную</div></a>\n",
      "<div class=\"main\">\n",
      "<div class=\"item_card\">\n",
      "<div class=\"image_box\">\n",
      "<img alt=\"\" class=\"img_size\" src=\"https://parsinger.ru/img/1/1/1_1.jpg\"/>\n",
      "</div>\n",
      "<div class=\"description\">\n",
      "<p id=\"p_header\">Jet Kid Start blue Умные детские часы</p>\n",
      "<p class=\"article\">Артикул: 80235265</p>\n",
      "<ul id=\"description\">\n",
      "<li id=\"brand\">Бренд: Jet</li>\n",
      "<li id=\"model\">Модель: Excidium</li>\n",
      "<li id=\"type\">Тип подключения: умные часы</li>\n",
      "<li id=\"display\">Технология экрана: Монохромный</li>\n",
      "<li id=\"material_frame\">Материал корпуса: пластик</li>\n",
      "<li id=\"material_bracer\">Материал браслета: силикон</li>\n",
      "<li id=\"size\">Размеры: 54х34х12 мм</li>\n",
      "<li id=\"site\">Сайт производителя: www.jetdevice.com</li>\n",
      "</ul>\n",
      "<span id=\"in_stock\">В наличии: 5</span>\n",
      "<div class=\"sale\">\n",
      "<span id=\"price\">2310 руб</span>\n",
      "<span id=\"old_price\">3550 руб</span>\n",
      "<button id=\"sale_button\" onclick=\"alert('Клик!')\">Купить</button>\n",
      "</div>\n",
      "</div>\n",
      "</div>\n",
      "</div>\n",
      "<div class=\"bottom\"></div>\n",
      "</body>\n",
      "</html>\n"
     ]
    }
   ],
   "execution_count": 10
  },
  {
   "metadata": {},
   "cell_type": "markdown",
   "source": "###### Step 2",
   "id": "8a507df4f3d26a6f"
  },
  {
   "metadata": {},
   "cell_type": "markdown",
   "source": [
    "1. Объекты Tag: В BeautifulSoup элементы HTML и XML представлены объектами типа Tag. Эти объекты соответствуют XML или \n",
    "HTML тегам в исходном документе.\n",
    "\n",
    "2.    Атрибуты Tag: У объектов Tag есть множество атрибутов и методов для доступа к данным исходного документа:\n",
    "        * name: Получает или задает имя тега.\n",
    "        * attrs: Словарь, содержащий атрибуты тега.\n",
    "        * Методы навигации, такие как .find(), .find_all() и др., для поиска других тегов внутри или вокруг данного \n",
    "        тега.\n",
    "\n",
    "3.    Манипуляции с Tag: Объекты Tag являются изменяемыми, что означает, что вы можете изменять их имя, их атрибуты и \n",
    "их содержимое, как вам захочется.\n"
   ],
   "id": "3e7ab9011333f9ea"
  },
  {
   "metadata": {
    "ExecuteTime": {
     "end_time": "2024-09-27T12:24:12.196153Z",
     "start_time": "2024-09-27T12:24:12.192244Z"
    }
   },
   "cell_type": "code",
   "source": [
    "from bs4 import BeautifulSoup\n",
    "\n",
    "html = \"<div class='myclass'>Hello, world!</div>\"\n",
    "soup = BeautifulSoup(html, 'html.parser')\n",
    "\n",
    "tag = soup.div\n",
    "# div - имя тэга <div class...>...</div>\n",
    "\n",
    "# soup = BeautifulSoup('<b class=\"boldest\">Extremely bold</b>')\n",
    "# tag = soup.b\n",
    "\n",
    "print(type(tag))   # <class 'bs4.element.Tag'>\n",
    "print(tag.name)    # div\n",
    "print(tag.attrs)   # {'class': ['myclass']}\n",
    "print(tag.string)  # Hello, world!"
   ],
   "id": "7c4943da65ff1a01",
   "outputs": [
    {
     "name": "stdout",
     "output_type": "stream",
     "text": [
      "<class 'bs4.element.Tag'>\n",
      "div\n",
      "{'class': ['myclass']}\n",
      "Hello, world!\n"
     ]
    }
   ],
   "execution_count": 11
  },
  {
   "metadata": {},
   "cell_type": "raw",
   "source": "стоит отметить, что использование soup.div или аналогичных выражений (soup.a, soup.p и т.д.) дает доступ только к первому найденному элементу соответствующего типа. Если вам нужно работать с несколькими элементами, следует использовать методы find_all() или select(), которые возвращают список всех элементов, соответствующих заданному критерию. Эти методы будут рассмотрены в курсе далее.",
   "id": "a54d241304d3e8e9"
  },
  {
   "metadata": {},
   "cell_type": "markdown",
   "source": [
    "### 4.4  Основные методы BeautifulSoup\n",
    "##### Step 1 .text и .get_text()"
   ],
   "id": "6c567a566833dc3f"
  },
  {
   "metadata": {},
   "cell_type": "raw",
   "source": " .text — это свойство в BeautifulSoup, которое позволяет получить весь текст внутри данного элемента, включая его дочерние элементы. Оно возвращает весь текст как одну непрерывную строку. Это свойство просто в использовании, вы можете получить текст элемента просто написав element.text.",
   "id": "f0d10d2171091506"
  },
  {
   "metadata": {
    "ExecuteTime": {
     "end_time": "2024-10-02T08:29:33.147618Z",
     "start_time": "2024-10-02T08:29:32.994040Z"
    }
   },
   "cell_type": "code",
   "source": [
    "from bs4 import BeautifulSoup\n",
    "\n",
    "# Пример HTML-строки\n",
    "html_string = \"\"\"\n",
    "<div>\n",
    "    <p>Первый абзац.</p>\n",
    "    <p>Второй абзац <span>со вложенным</span> текстом.</p>\n",
    "</div>\n",
    "\"\"\"\n",
    "\n",
    "# Создание объекта BeautifulSoup\n",
    "soup = BeautifulSoup(html_string, 'html.parser')\n",
    "\n",
    "# Использование .text для извлечения всего текста из div\n",
    "div_text = soup.find('div').text\n",
    "\n",
    "print(div_text)"
   ],
   "id": "1c0070b7cbae0794",
   "outputs": [
    {
     "name": "stdout",
     "output_type": "stream",
     "text": [
      "\n",
      "Первый абзац.\n",
      "Второй абзац со вложенным текстом.\n",
      "\n"
     ]
    }
   ],
   "execution_count": 1
  },
  {
   "metadata": {},
   "cell_type": "raw",
   "source": [
    ".get_text() — это метод, который также возвращает весь текст внутри элемента, но он предоставляет больше опций для настройки того, как текст извлекается и объединяется.\n",
    "Синтаксис:\n",
    ".get_text(separator=\" \", strip=False, types=default)"
   ],
   "id": "539eb61676d13fef"
  },
  {
   "metadata": {
    "ExecuteTime": {
     "end_time": "2024-10-02T08:47:57.826130Z",
     "start_time": "2024-10-02T08:47:57.822380Z"
    }
   },
   "cell_type": "code",
   "source": [
    "# separator=\" \"  определяет строку, которая будет использоваться для разделения текста из разных тегов\n",
    "sep_get_text = soup.find('div').get_text(separator='|')\n",
    "print(sep_get_text)"
   ],
   "id": "abeafaef439487dc",
   "outputs": [
    {
     "name": "stdout",
     "output_type": "stream",
     "text": [
      "\n",
      "|Первый абзац|\n",
      "|Второй абзац|\n",
      "\n"
     ]
    }
   ],
   "execution_count": 8
  },
  {
   "metadata": {
    "ExecuteTime": {
     "end_time": "2024-10-02T09:03:11.131101Z",
     "start_time": "2024-10-02T09:03:11.126682Z"
    }
   },
   "cell_type": "code",
   "source": [
    "# strip= True/False - будет удалять все начальные и конечные пробелы в каждом блоке текста перед их объединением.\n",
    "sep_get_text = soup.find('div').get_text(strip=True)\n",
    "print(sep_get_text)"
   ],
   "id": "f09787453d623e1d",
   "outputs": [
    {
     "name": "stdout",
     "output_type": "stream",
     "text": [
      "Первый абзацВторой абзац\n"
     ]
    }
   ],
   "execution_count": 9
  },
  {
   "metadata": {
    "ExecuteTime": {
     "end_time": "2024-10-02T09:04:30.163084Z",
     "start_time": "2024-10-02T09:04:30.158239Z"
    }
   },
   "cell_type": "code",
   "source": [
    "# Комбинация методов (separator и strip)\n",
    "sep_get_text = soup.find('div').get_text(separator=' | ', strip=True)\n",
    "print(sep_get_text)"
   ],
   "id": "55e2afdc06cbbe08",
   "outputs": [
    {
     "name": "stdout",
     "output_type": "stream",
     "text": [
      "Первый абзац | Второй абзац\n"
     ]
    }
   ],
   "execution_count": 10
  },
  {
   "metadata": {
    "ExecuteTime": {
     "end_time": "2024-10-02T09:05:00.124196Z",
     "start_time": "2024-10-02T09:05:00.120061Z"
    }
   },
   "cell_type": "code",
   "source": [
    "# types=default - этот параметр позволяет ограничить типы объектов, из которых извлекается текст. Обычно он \n",
    "# используется редко и в особых случаях, когда нужно извлекать текст только из определенных типов тегов."
   ],
   "id": "1247170de3f7adfc",
   "outputs": [],
   "execution_count": 11
  },
  {
   "metadata": {},
   "cell_type": "markdown",
   "source": "##### Step 2 soup.find()",
   "id": "75f15da72acc103"
  },
  {
   "metadata": {},
   "cell_type": "raw",
   "source": ".find() - Это метод, который ищет первый элемент, удовлетворяющий заданным критериям, в дереве элементов HTML DOM. Если такой элемент не найден, возвращается None",
   "id": "f16a76b10fa12383"
  },
  {
   "metadata": {
    "ExecuteTime": {
     "end_time": "2024-10-02T10:00:35.679177Z",
     "start_time": "2024-10-02T10:00:35.675992Z"
    }
   },
   "cell_type": "code",
   "source": [
    "html_sting = \"\"\"\n",
    "<div>\n",
    "    <tag id='your_id'>Testing</tag>\n",
    "    <tag class='class1 class2'>Testing2</tag>\n",
    "    <tag data-attribute='your_id'>Testing3</tag>\n",
    "</div>\n",
    "\"\"\""
   ],
   "id": "17dea530636f8d2e",
   "outputs": [],
   "execution_count": 58
  },
  {
   "metadata": {
    "ExecuteTime": {
     "end_time": "2024-10-02T10:00:38.006232Z",
     "start_time": "2024-10-02T10:00:38.001995Z"
    }
   },
   "cell_type": "code",
   "source": "soup = BeautifulSoup(html_sting, 'html.parser')",
   "id": "4e6d919277748098",
   "outputs": [],
   "execution_count": 59
  },
  {
   "metadata": {
    "ExecuteTime": {
     "end_time": "2024-10-02T13:40:37.829988Z",
     "start_time": "2024-10-02T13:40:37.826690Z"
    }
   },
   "cell_type": "code",
   "source": "soup.find('tag', id='your_id')",
   "id": "9365f7354d804f1e",
   "outputs": [
    {
     "data": {
      "text/plain": [
       "<tag id=\"your_id\">Testing</tag>"
      ]
     },
     "execution_count": 66,
     "metadata": {},
     "output_type": "execute_result"
    }
   ],
   "execution_count": 66
  },
  {
   "metadata": {
    "ExecuteTime": {
     "end_time": "2024-10-02T13:40:50.996464Z",
     "start_time": "2024-10-02T13:40:50.992729Z"
    }
   },
   "cell_type": "code",
   "source": "soup.find('tag', {'id': 'your_id'})",
   "id": "82eb18aece09df97",
   "outputs": [
    {
     "data": {
      "text/plain": [
       "<tag id=\"your_id\">Testing</tag>"
      ]
     },
     "execution_count": 67,
     "metadata": {},
     "output_type": "execute_result"
    }
   ],
   "execution_count": 67
  },
  {
   "metadata": {
    "ExecuteTime": {
     "end_time": "2024-10-02T13:39:08.557192Z",
     "start_time": "2024-10-02T13:39:08.551657Z"
    }
   },
   "cell_type": "code",
   "source": "soup.find('tag', class_='class1')",
   "id": "a728845bb3a7f80f",
   "outputs": [
    {
     "data": {
      "text/plain": [
       "<tag class=\"class1 class2\" id=\"your_id\">Testing2</tag>"
      ]
     },
     "execution_count": 65,
     "metadata": {},
     "output_type": "execute_result"
    }
   ],
   "execution_count": 65
  },
  {
   "metadata": {
    "ExecuteTime": {
     "end_time": "2024-10-02T14:14:55.347663Z",
     "start_time": "2024-10-02T14:14:55.344079Z"
    }
   },
   "cell_type": "code",
   "source": "soup.find('tag', {'class': 'class1 class2'})",
   "id": "eb5d1984b84dae1e",
   "outputs": [
    {
     "data": {
      "text/plain": [
       "<tag class=\"class1 class2\" id=\"your_id\">Testing2</tag>"
      ]
     },
     "execution_count": 79,
     "metadata": {},
     "output_type": "execute_result"
    }
   ],
   "execution_count": 79
  },
  {
   "metadata": {
    "ExecuteTime": {
     "end_time": "2024-10-02T13:52:00.882842Z",
     "start_time": "2024-10-02T13:52:00.877581Z"
    }
   },
   "cell_type": "code",
   "source": "soup.find('tag', {'class': ['class2']})",
   "id": "40baeb1c33d47f6f",
   "outputs": [
    {
     "data": {
      "text/plain": [
       "<tag class=\"class1 class2\" id=\"your_id\">Testing2</tag>"
      ]
     },
     "execution_count": 74,
     "metadata": {},
     "output_type": "execute_result"
    }
   ],
   "execution_count": 74
  },
  {
   "metadata": {
    "ExecuteTime": {
     "end_time": "2024-10-02T13:41:58.535076Z",
     "start_time": "2024-10-02T13:41:58.529532Z"
    }
   },
   "cell_type": "code",
   "source": "soup.find('tag', {'class': ['class1', 'class2']})",
   "id": "3285686a44c9c50c",
   "outputs": [
    {
     "data": {
      "text/plain": [
       "<tag class=\"class1 class2\" id=\"your_id\">Testing2</tag>"
      ]
     },
     "execution_count": 70,
     "metadata": {},
     "output_type": "execute_result"
    }
   ],
   "execution_count": 70
  },
  {
   "metadata": {
    "ExecuteTime": {
     "end_time": "2024-10-02T14:18:25.251348Z",
     "start_time": "2024-10-02T14:18:25.247471Z"
    }
   },
   "cell_type": "code",
   "source": "soup.find(attrs={'data-attribute': 'your_id'})",
   "id": "3c93cc1398723418",
   "outputs": [
    {
     "data": {
      "text/plain": [
       "<tag data-attribute=\"your_id\">Testing3</tag>"
      ]
     },
     "execution_count": 80,
     "metadata": {},
     "output_type": "execute_result"
    }
   ],
   "execution_count": 80
  },
  {
   "metadata": {
    "ExecuteTime": {
     "end_time": "2024-10-02T14:11:14.046245Z",
     "start_time": "2024-10-02T14:11:14.043118Z"
    }
   },
   "cell_type": "code",
   "source": "soup.find({'data-attribute': 'your_id'})",
   "id": "c330b916c551ea9b",
   "outputs": [],
   "execution_count": 76
  },
  {
   "metadata": {},
   "cell_type": "code",
   "outputs": [],
   "execution_count": null,
   "source": "",
   "id": "b30a67565c5d13ba"
  }
 ],
 "metadata": {
  "kernelspec": {
   "display_name": "Python 3",
   "language": "python",
   "name": "python3"
  },
  "language_info": {
   "codemirror_mode": {
    "name": "ipython",
    "version": 2
   },
   "file_extension": ".py",
   "mimetype": "text/x-python",
   "name": "python",
   "nbconvert_exporter": "python",
   "pygments_lexer": "ipython2",
   "version": "2.7.6"
  }
 },
 "nbformat": 4,
 "nbformat_minor": 5
}
