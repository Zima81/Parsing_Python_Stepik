{
 "cells": [
  {
   "metadata": {
    "ExecuteTime": {
     "end_time": "2024-11-16T12:10:41.169779Z",
     "start_time": "2024-11-16T12:10:41.166097Z"
    }
   },
   "cell_type": "code",
   "source": "from selenium import webdriver",
   "id": "b92cb9b87e5a5d16",
   "outputs": [],
   "execution_count": 17
  },
  {
   "metadata": {
    "ExecuteTime": {
     "end_time": "2024-11-16T14:27:35.844782Z",
     "start_time": "2024-11-16T14:27:32.709109Z"
    }
   },
   "cell_type": "code",
   "source": [
    "from selenium.webdriver.firefox.service import Service as FirefoxService\n",
    "from webdriver_manager.firefox import GeckoDriverManager\n",
    "\n",
    "driver_firefox = webdriver.Firefox(service=FirefoxService(GeckoDriverManager().install()))"
   ],
   "id": "45d573efd9c5f1fa",
   "outputs": [],
   "execution_count": 24
  },
  {
   "metadata": {
    "ExecuteTime": {
     "end_time": "2024-11-16T14:27:38.010238Z",
     "start_time": "2024-11-16T14:27:35.845860Z"
    }
   },
   "cell_type": "code",
   "source": [
    "from selenium.webdriver.chrome.service import Service as ChromeService\n",
    "from webdriver_manager.chrome import ChromeDriverManager\n",
    "\n",
    "driver_chrome = webdriver.Chrome(service=ChromeService(ChromeDriverManager().install()))"
   ],
   "id": "27bfe3723aee2da0",
   "outputs": [],
   "execution_count": 25
  },
  {
   "metadata": {
    "ExecuteTime": {
     "end_time": "2024-11-16T19:56:00.944145Z",
     "start_time": "2024-11-16T19:56:00.938370Z"
    }
   },
   "cell_type": "code",
   "source": [
    "from selenium import webdriver\n",
    "from selenium.webdriver.common.keys import Keys\n",
    "from selenium.webdriver.common.by import By"
   ],
   "id": "fcb14ad91a2fabb2",
   "outputs": [],
   "execution_count": 28
  },
  {
   "metadata": {
    "ExecuteTime": {
     "end_time": "2024-11-16T19:57:00.839794Z",
     "start_time": "2024-11-16T19:56:56.540888Z"
    }
   },
   "cell_type": "code",
   "source": [
    "driver = webdriver.Firefox()\n",
    "driver.get(\"http://www.ya.ru\")"
   ],
   "id": "ac4707ef3c644991",
   "outputs": [],
   "execution_count": 31
  },
  {
   "metadata": {},
   "cell_type": "code",
   "outputs": [],
   "execution_count": null,
   "source": "elem = driver.find_element(By.NAME, \"q\")",
   "id": "15b26166199fc5eb"
  },
  {
   "metadata": {},
   "cell_type": "code",
   "outputs": [],
   "execution_count": null,
   "source": [
    "\n",
    "\n",
    "elem.clear()\n",
    "elem.send_keys(\"pycon\")\n",
    "elem.send_keys(Keys.RETURN)\n",
    "assert \"No results found.\" not in driver.page_source\n",
    "driver.close()"
   ],
   "id": "dcbe67153d536b70"
  },
  {
   "metadata": {
    "ExecuteTime": {
     "end_time": "2024-11-16T19:55:08.615597Z",
     "start_time": "2024-11-16T19:55:08.572011Z"
    }
   },
   "cell_type": "code",
   "source": [
    "import time\n",
    "from selenium import webdriver\n",
    "\n",
    "options_chrome = webdriver.ChromeOptions()\n",
    "options_chrome.add_extension('coordinates.crx')\n",
    "\n",
    "drv = webdriver.Chrome(options=options_chrome)\n",
    "url = 'https://stepik.org/course/104774'\n",
    "drv.get(url)\n",
    "time.sleep(10)\n",
    "drv.close()"
   ],
   "id": "f351910ef835f2b0",
   "outputs": [
    {
     "ename": "OSError",
     "evalue": "Path to the extension doesn't exist",
     "output_type": "error",
     "traceback": [
      "\u001B[0;31m---------------------------------------------------------------------------\u001B[0m",
      "\u001B[0;31mOSError\u001B[0m                                   Traceback (most recent call last)",
      "Cell \u001B[0;32mIn[27], line 5\u001B[0m\n\u001B[1;32m      2\u001B[0m \u001B[38;5;28;01mfrom\u001B[39;00m \u001B[38;5;21;01mselenium\u001B[39;00m \u001B[38;5;28;01mimport\u001B[39;00m webdriver\n\u001B[1;32m      4\u001B[0m options_chrome \u001B[38;5;241m=\u001B[39m webdriver\u001B[38;5;241m.\u001B[39mChromeOptions()\n\u001B[0;32m----> 5\u001B[0m \u001B[43moptions_chrome\u001B[49m\u001B[38;5;241;43m.\u001B[39;49m\u001B[43madd_extension\u001B[49m\u001B[43m(\u001B[49m\u001B[38;5;124;43m'\u001B[39;49m\u001B[38;5;124;43mcoordinates.crx\u001B[39;49m\u001B[38;5;124;43m'\u001B[39;49m\u001B[43m)\u001B[49m\n\u001B[1;32m      7\u001B[0m drv \u001B[38;5;241m=\u001B[39m webdriver\u001B[38;5;241m.\u001B[39mChrome(options\u001B[38;5;241m=\u001B[39moptions_chrome)\n\u001B[1;32m      8\u001B[0m url \u001B[38;5;241m=\u001B[39m \u001B[38;5;124m'\u001B[39m\u001B[38;5;124mhttps://stepik.org/course/104774\u001B[39m\u001B[38;5;124m'\u001B[39m\n",
      "File \u001B[0;32m~/CodingStudy/Parsing_Python_Stepik/.venv/lib/python3.12/site-packages/selenium/webdriver/chromium/options.py:103\u001B[0m, in \u001B[0;36mChromiumOptions.add_extension\u001B[0;34m(self, extension)\u001B[0m\n\u001B[1;32m    101\u001B[0m         \u001B[38;5;28mself\u001B[39m\u001B[38;5;241m.\u001B[39m_extension_files\u001B[38;5;241m.\u001B[39mappend(extension_to_add)\n\u001B[1;32m    102\u001B[0m     \u001B[38;5;28;01melse\u001B[39;00m:\n\u001B[0;32m--> 103\u001B[0m         \u001B[38;5;28;01mraise\u001B[39;00m \u001B[38;5;167;01mOSError\u001B[39;00m(\u001B[38;5;124m\"\u001B[39m\u001B[38;5;124mPath to the extension doesn\u001B[39m\u001B[38;5;124m'\u001B[39m\u001B[38;5;124mt exist\u001B[39m\u001B[38;5;124m\"\u001B[39m)\n\u001B[1;32m    104\u001B[0m \u001B[38;5;28;01melse\u001B[39;00m:\n\u001B[1;32m    105\u001B[0m     \u001B[38;5;28;01mraise\u001B[39;00m \u001B[38;5;167;01mValueError\u001B[39;00m(\u001B[38;5;124m\"\u001B[39m\u001B[38;5;124margument can not be null\u001B[39m\u001B[38;5;124m\"\u001B[39m)\n",
      "\u001B[0;31mOSError\u001B[0m: Path to the extension doesn't exist"
     ]
    }
   ],
   "execution_count": 27
  },
  {
   "metadata": {
    "ExecuteTime": {
     "end_time": "2024-11-17T17:50:24.375522Z",
     "start_time": "2024-11-17T17:50:08.376473Z"
    }
   },
   "cell_type": "code",
   "source": [
    "import time\n",
    "from selenium import webdriver\n",
    "from selenium.webdriver.common.by import By\n",
    "\n",
    "url = 'https://2ip.ru/'\n",
    "with webdriver.Chrome() as browser:\n",
    "    browser.get(url)\n",
    "    time.sleep(5)\n",
    "    print(browser.find_element(By.ID, 'd_clip_button').find_element(By.TAG_NAME, 'span').text)\n",
    "    time.sleep(5)"
   ],
   "id": "ac39e746aa52460b",
   "outputs": [
    {
     "name": "stdout",
     "output_type": "stream",
     "text": [
      "146.120.78.101\n"
     ]
    }
   ],
   "execution_count": 1
  },
  {
   "metadata": {
    "ExecuteTime": {
     "end_time": "2024-11-17T17:53:10.561853Z",
     "start_time": "2024-11-17T17:52:56.758733Z"
    }
   },
   "cell_type": "code",
   "source": [
    "from selenium import webdriver\n",
    "from selenium.webdriver.common.by import By\n",
    "\n",
    "proxy_list = ['8.210.83.33:80', '199.60.103.28:80', \n",
    "'103.151.246.38:10001', '199.60.103.228:80', \n",
    "'199.60.103.228:80', '199.60.103.28:80', ]\n",
    "\n",
    "for PROXY in proxy_list:\n",
    "    try:\n",
    "        chrome_options = webdriver.ChromeOptions()\n",
    "        chrome_options.add_argument('--proxy-server=%s' % PROXY)\n",
    "        url = 'https://2ip.ru/'\n",
    "\n",
    "        with webdriver.Chrome(options=chrome_options) as browser:\n",
    "            browser.get(url)\n",
    "            print(browser.find_element(By.ID, 'd_clip_button').find_element(By.TAG_NAME, 'span').text)\n",
    "\n",
    "            browser.set_page_load_timeout(5)\n",
    "\n",
    "            proxy_list.remove(PROXY)\n",
    "    except Exception as _ex:\n",
    "        print(f\"Превышен timeout ожидания для - {PROXY}\")\n",
    "        continue"
   ],
   "id": "c665550dfbb85cd0",
   "outputs": [
    {
     "name": "stdout",
     "output_type": "stream",
     "text": [
      "Превышен timeout ожидания для - 8.210.83.33:80\n",
      "Превышен timeout ожидания для - 199.60.103.28:80\n",
      "Превышен timeout ожидания для - 103.151.246.38:10001\n",
      "Превышен timeout ожидания для - 199.60.103.228:80\n",
      "Превышен timeout ожидания для - 199.60.103.228:80\n",
      "Превышен timeout ожидания для - 199.60.103.28:80\n"
     ]
    }
   ],
   "execution_count": 3
  },
  {
   "metadata": {},
   "cell_type": "code",
   "outputs": [],
   "execution_count": null,
   "source": "",
   "id": "6600e4d33ed0625c"
  }
 ],
 "metadata": {
  "kernelspec": {
   "display_name": "Python 3",
   "language": "python",
   "name": "python3"
  },
  "language_info": {
   "codemirror_mode": {
    "name": "ipython",
    "version": 2
   },
   "file_extension": ".py",
   "mimetype": "text/x-python",
   "name": "python",
   "nbconvert_exporter": "python",
   "pygments_lexer": "ipython2",
   "version": "2.7.6"
  }
 },
 "nbformat": 4,
 "nbformat_minor": 5
}
