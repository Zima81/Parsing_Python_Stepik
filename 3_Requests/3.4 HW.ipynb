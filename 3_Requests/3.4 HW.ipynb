{
 "cells": [
  {
   "metadata": {
    "ExecuteTime": {
     "end_time": "2024-09-13T11:21:59.441934Z",
     "start_time": "2024-09-13T11:21:59.401802Z"
    }
   },
   "cell_type": "code",
   "source": "import requests",
   "id": "ac020043c178614c",
   "outputs": [],
   "execution_count": 1
  },
  {
   "metadata": {},
   "cell_type": "markdown",
   "source": [
    "### 3. Получение и вывод HTML-кода веб-страницы\n",
    "Задача\n",
    "\n",
    "    Напишите программу которая делает GET-запрос к \n",
    "    'https://parsinger.ru/3.4/2/index.html' для получения её HTML-кода.\n",
    "\n",
    "    Выведите полученный HTML-код на экран с помощью response.text.\n",
    "\n",
    "    Используйте response.encoding = 'utf-8' чтобы починить кодировку.\n",
    "\n",
    "    Вставьте полученные HTML в поле ответа stepik."
   ],
   "id": "f4cd193cf6482196"
  },
  {
   "metadata": {
    "ExecuteTime": {
     "end_time": "2024-09-10T07:40:43.531670Z",
     "start_time": "2024-09-10T07:40:43.529479Z"
    }
   },
   "cell_type": "code",
   "source": "url = 'https://parsinger.ru/3.4/2/index.html'",
   "id": "a606e8c861d82d47",
   "outputs": [],
   "execution_count": 2
  },
  {
   "metadata": {
    "ExecuteTime": {
     "end_time": "2024-09-10T07:40:59.778784Z",
     "start_time": "2024-09-10T07:40:59.461348Z"
    }
   },
   "cell_type": "code",
   "source": [
    "r = requests.get(url)\n",
    "r.status_code"
   ],
   "id": "10963ce5562b687f",
   "outputs": [
    {
     "data": {
      "text/plain": [
       "200"
      ]
     },
     "execution_count": 3,
     "metadata": {},
     "output_type": "execute_result"
    }
   ],
   "execution_count": 3
  },
  {
   "metadata": {
    "ExecuteTime": {
     "end_time": "2024-09-10T07:41:35.800695Z",
     "start_time": "2024-09-10T07:41:35.795907Z"
    }
   },
   "cell_type": "code",
   "source": "r.encoding",
   "id": "f8dfb70bfef36526",
   "outputs": [
    {
     "data": {
      "text/plain": [
       "'ISO-8859-1'"
      ]
     },
     "execution_count": 7,
     "metadata": {},
     "output_type": "execute_result"
    }
   ],
   "execution_count": 7
  },
  {
   "metadata": {
    "ExecuteTime": {
     "end_time": "2024-09-10T07:41:15.120839Z",
     "start_time": "2024-09-10T07:41:15.117044Z"
    }
   },
   "cell_type": "code",
   "source": "print(r.text)",
   "id": "b1ebcb9afc499b6d",
   "outputs": [
    {
     "name": "stdout",
     "output_type": "stream",
     "text": [
      "<!DOCTYPE html>\n",
      "<html lang=\"ru\">\n",
      "<head>\n",
      "    <meta charset=\"UTF-8\">\n",
      "    <link rel=\"stylesheet\" type=\"text/css\" href=\"style.css\">\n",
      "    <title>WEB ÐÐ°ÑÑÐ¸Ð½Ð³ Ð½Ð° Python</title>\n",
      "</head>\n",
      "<body>\n",
      "    <div>\n",
      "        <p><a href=\"https://stepik.org/a/104774?utm_source=step_3.4 \">WEB ÐÐ°ÑÑÐ¸Ð½Ð³ Ð½Ð° Python</a></p>\n",
      "    </div>\n",
      "</body>\n",
      "</html>\n",
      "\n"
     ]
    }
   ],
   "execution_count": 5
  },
  {
   "metadata": {
    "ExecuteTime": {
     "end_time": "2024-09-10T07:41:45.333067Z",
     "start_time": "2024-09-10T07:41:45.330077Z"
    }
   },
   "cell_type": "code",
   "source": "r.encoding = 'utf-8'",
   "id": "508135dbb56aa5da",
   "outputs": [],
   "execution_count": 8
  },
  {
   "metadata": {
    "ExecuteTime": {
     "end_time": "2024-09-10T07:41:50.238221Z",
     "start_time": "2024-09-10T07:41:50.235264Z"
    }
   },
   "cell_type": "code",
   "source": "print(r.text)",
   "id": "d5f25e8e9dea77fa",
   "outputs": [
    {
     "name": "stdout",
     "output_type": "stream",
     "text": [
      "<!DOCTYPE html>\n",
      "<html lang=\"ru\">\n",
      "<head>\n",
      "    <meta charset=\"UTF-8\">\n",
      "    <link rel=\"stylesheet\" type=\"text/css\" href=\"style.css\">\n",
      "    <title>WEB Парсинг на Python</title>\n",
      "</head>\n",
      "<body>\n",
      "    <div>\n",
      "        <p><a href=\"https://stepik.org/a/104774?utm_source=step_3.4 \">WEB Парсинг на Python</a></p>\n",
      "    </div>\n",
      "</body>\n",
      "</html>\n",
      "\n"
     ]
    }
   ],
   "execution_count": 9
  },
  {
   "metadata": {},
   "cell_type": "markdown",
   "source": [
    "### 4. Поиск секретного кода на картинках\n",
    "Цель\n",
    "\n",
    "Цель данного задания — научиться работе с сетевыми запросами для скачивания файлов.\n",
    "Условия\n",
    "\n",
    "    Перейдите на заданный сайт 'http://parsinger.ru/img_download/index.html',\n",
    "     где размещено 160 картинок.\n",
    "    На одной из картинок написан секретный код.\n",
    "    Код спрятан в углу картинки.\n",
    "\n",
    "Задачи\n",
    "\n",
    "    Напишите код, который скачает все 160 картинок с указанного сайта на ваш локальный компьютер.\n",
    "\n",
    "    После скачивания, просмотрите картинки вручную и найдите на одной из них секретный код.\n"
   ],
   "id": "e5da65482751ac1b"
  },
  {
   "metadata": {
    "ExecuteTime": {
     "end_time": "2024-09-10T07:47:53.240405Z",
     "start_time": "2024-09-10T07:47:53.237634Z"
    }
   },
   "cell_type": "code",
   "source": "url = 'http://parsinger.ru/img_download/index.html'",
   "id": "3c45dd3beeeb3d6",
   "outputs": [],
   "execution_count": 10
  },
  {
   "metadata": {
    "ExecuteTime": {
     "end_time": "2024-09-10T07:48:23.312495Z",
     "start_time": "2024-09-10T07:48:08.892947Z"
    }
   },
   "cell_type": "code",
   "source": [
    "r = requests.get(url)\n",
    "r.status_code"
   ],
   "id": "d50fb1c84b17e246",
   "outputs": [
    {
     "data": {
      "text/plain": [
       "200"
      ]
     },
     "execution_count": 11,
     "metadata": {},
     "output_type": "execute_result"
    }
   ],
   "execution_count": 11
  },
  {
   "metadata": {
    "ExecuteTime": {
     "end_time": "2024-09-10T09:05:38.829588Z",
     "start_time": "2024-09-10T09:05:38.824683Z"
    }
   },
   "cell_type": "code",
   "source": [
    "test = r.text\n",
    "t = test.splitlines()\n",
    "t[11]"
   ],
   "id": "c0e333a8b549448f",
   "outputs": [
    {
     "data": {
      "text/plain": [
       "'\\t\\t\\t<div class=\"img_box\"><img src=\"img/ready/2.png\" alt=\"\"></div>'"
      ]
     },
     "execution_count": 31,
     "metadata": {},
     "output_type": "execute_result"
    }
   ],
   "execution_count": 31
  },
  {
   "metadata": {
    "ExecuteTime": {
     "end_time": "2024-09-10T09:11:57.103399Z",
     "start_time": "2024-09-10T09:11:57.099941Z"
    }
   },
   "cell_type": "code",
   "source": "find = '.png'",
   "id": "143c8b9c3a7a7501",
   "outputs": [],
   "execution_count": 39
  },
  {
   "metadata": {
    "ExecuteTime": {
     "end_time": "2024-09-10T09:32:23.057365Z",
     "start_time": "2024-09-10T09:32:23.053572Z"
    }
   },
   "cell_type": "code",
   "source": [
    "list_png = []\n",
    "for string in t:\n",
    "    if find in string:\n",
    "        index = string.index(find)\n",
    "        if string[index - 2] == '/':\n",
    "            list_png.append(string[index-1:index+4])\n",
    "        else:\n",
    "            list_png.append(string[index-2:index+4])\n",
    "print(list_png)"
   ],
   "id": "6863c325324ed37f",
   "outputs": [
    {
     "name": "stdout",
     "output_type": "stream",
     "text": [
      "['1.png', '2.png', '3.png', '4.png', '5.png', '6.png', '7.png', '8.png', '9.png', '10.png', '11.png', '12.png', '13.png', '14.png', '15.png', '16.png', '17.png', '18.png', '19.png', '20.png', '21.png', '22.png', '23.png', '24.png', '25.png', '26.png', '27.png', '28.png', '29.png', '30.png', '31.png', '32.png', '33.png', '34.png', '35.png', '36.png', '37.png', '38.png', '39.png', '40.png', '41.png', '42.png', '43.png', '44.png', '45.png', '46.png', '47.png', '48.png', '49.png', '50.png', '51.png', '52.png', '53.png', '54.png', '55.png', '56.png', '57.png', '58.png', '59.png', '60.png', '61.png', '62.png', '63.png', '64.png', '65.png', '66.png', '67.png', '68.png', '69.png', '70.png', '71.png', '72.png', '73.png', '74.png', '75.png', '76.png', '77.png', '78.png', '79.png', '80.png', '81.png', '82.png', '83.png', '84.png', '85.png', '86.png', '87.png', '88.png', '89.png', '90.png', '91.png', '92.png', '93.png', '94.png', '95.png', '96.png', '97.png', '98.png', '99.png', '00.png', '01.png', '02.png', '03.png', '04.png', '05.png', '06.png', '07.png', '08.png', '09.png', '10.png', '11.png', '12.png', '13.png', '14.png', '15.png', '16.png', '17.png', '18.png', '19.png', '20.png', '21.png', '22.png', '23.png', '24.png', '25.png', '26.png', '27.png', '28.png', '29.png', '30.png', '31.png', '32.png', '33.png', '34.png', '35.png', '36.png', '37.png', '38.png', '39.png', '40.png', '41.png', '42.png', '43.png', '44.png', '45.png', '46.png', '47.png', '48.png', '49.png', '50.png', '51.png', '52.png', '53.png', '54.png', '55.png', '56.png', '57.png', '58.png', '59.png', '60.png']\n"
     ]
    }
   ],
   "execution_count": 75
  },
  {
   "metadata": {
    "ExecuteTime": {
     "end_time": "2024-09-10T09:58:05.505754Z",
     "start_time": "2024-09-10T09:57:20.039852Z"
    }
   },
   "cell_type": "code",
   "source": [
    "n = 1\n",
    "for _ in range(len(list_png)):\n",
    "    print(f'шаг {_+1} из {len(list_png)}, \\r', end='')\n",
    "    url = f'https://parsinger.ru/img_download/img/ready/{n}.png'\n",
    "    r = requests.get(url, stream=True)\n",
    "    with open(f'{n}.png', 'wb') as f:\n",
    "        f.write(r.content)\n",
    "        n += 1"
   ],
   "id": "8971f30763dfde09",
   "outputs": [
    {
     "name": "stdout",
     "output_type": "stream",
     "text": [
      "шаг 160 из 160, \r"
     ]
    }
   ],
   "execution_count": 81
  },
  {
   "metadata": {
    "ExecuteTime": {
     "end_time": "2024-09-10T09:59:46.577248Z",
     "start_time": "2024-09-10T09:59:46.574260Z"
    }
   },
   "cell_type": "code",
   "source": "6759632",
   "id": "539e85f21e23083d",
   "outputs": [
    {
     "data": {
      "text/plain": [
       "6759632"
      ]
     },
     "execution_count": 82,
     "metadata": {},
     "output_type": "execute_result"
    }
   ],
   "execution_count": 82
  },
  {
   "metadata": {},
   "cell_type": "markdown",
   "source": [
    "### 5 Получение и анализ данных о погоде\n",
    "Цель\n",
    "\n",
    "Целью задания является закрепление навыков работы с методом response.json()\n",
    "Условия\n",
    "\n",
    "    Используйте API погодного сервиса, расположенный по адресу (https://parsinger.ru/3.4/1/json_weather.json):\n",
    "    Данный API возвращает погодные данные для заданного города в формате JSON.\n",
    "\n",
    "Задача\n",
    "\n",
    "    Напишите код, который осуществляет GET-запрос к указанному API для получения погодных данных заданного города.\n",
    "    Преобразовать полученный JSON-ответ в Python-объект с помощью метода response.json().\n",
    "    Проанализировать данные и определить дату с самой минимальной температурой.\n",
    "\n",
    "Результат\n",
    "\n",
    "В поле для ответа нужно вставить найденную дату с самой минимальной температурой. Формат даты должен быть таковым, как представлен в данных по ссылке API.\n",
    "\n",
    "Пример вывода:\n",
    "2023-10-01"
   ],
   "id": "2479ff9254094c36"
  },
  {
   "metadata": {
    "ExecuteTime": {
     "end_time": "2024-09-12T07:58:07.513685Z",
     "start_time": "2024-09-12T07:58:07.510642Z"
    }
   },
   "cell_type": "code",
   "source": [
    "import requests\n",
    "import pandas as pd"
   ],
   "id": "621b8935d37e63d1",
   "outputs": [],
   "execution_count": 7
  },
  {
   "metadata": {
    "ExecuteTime": {
     "end_time": "2024-09-12T07:56:20.885866Z",
     "start_time": "2024-09-12T07:56:20.882949Z"
    }
   },
   "cell_type": "code",
   "source": "url = 'https://parsinger.ru/3.4/1/json_weather.json'",
   "id": "d89851400cc13678",
   "outputs": [],
   "execution_count": 2
  },
  {
   "metadata": {
    "ExecuteTime": {
     "end_time": "2024-09-12T07:56:49.707422Z",
     "start_time": "2024-09-12T07:56:49.450026Z"
    }
   },
   "cell_type": "code",
   "source": [
    "r = requests.get(url)\n",
    "r.status_code"
   ],
   "id": "d191974a88b571f7",
   "outputs": [
    {
     "data": {
      "text/plain": [
       "200"
      ]
     },
     "execution_count": 4,
     "metadata": {},
     "output_type": "execute_result"
    }
   ],
   "execution_count": 4
  },
  {
   "metadata": {
    "ExecuteTime": {
     "end_time": "2024-09-12T08:43:19.045095Z",
     "start_time": "2024-09-12T08:43:19.041896Z"
    }
   },
   "cell_type": "code",
   "source": "df = pd.DataFrame(r.json())",
   "id": "2c91eb4508afde91",
   "outputs": [],
   "execution_count": 63
  },
  {
   "metadata": {
    "ExecuteTime": {
     "end_time": "2024-09-12T08:41:14.547071Z",
     "start_time": "2024-09-12T08:41:14.536938Z"
    }
   },
   "cell_type": "code",
   "source": [
    "df_d = df[['Дата', 'Температура воздуха']]\n",
    "df_d.loc[:, 'Температура воздуха'] = df_d['Температура воздуха'].str.rstrip('°C').astype(int)\n",
    "df_d"
   ],
   "id": "735b91cf090a2e93",
   "outputs": [
    {
     "data": {
      "text/plain": [
       "           Дата Температура воздуха\n",
       "0    1990-03-09                 -25\n",
       "1    1978-04-06                  30\n",
       "2    1999-01-14                  -3\n",
       "3    2007-05-27                 -10\n",
       "4    2008-09-04                  -5\n",
       "..          ...                 ...\n",
       "243  1988-09-11                  27\n",
       "244  2020-12-17                  28\n",
       "245  1996-11-23                  31\n",
       "246  1984-03-22                  29\n",
       "247  2022-06-20                  12\n",
       "\n",
       "[248 rows x 2 columns]"
      ],
      "text/html": [
       "<div>\n",
       "<style scoped>\n",
       "    .dataframe tbody tr th:only-of-type {\n",
       "        vertical-align: middle;\n",
       "    }\n",
       "\n",
       "    .dataframe tbody tr th {\n",
       "        vertical-align: top;\n",
       "    }\n",
       "\n",
       "    .dataframe thead th {\n",
       "        text-align: right;\n",
       "    }\n",
       "</style>\n",
       "<table border=\"1\" class=\"dataframe\">\n",
       "  <thead>\n",
       "    <tr style=\"text-align: right;\">\n",
       "      <th></th>\n",
       "      <th>Дата</th>\n",
       "      <th>Температура воздуха</th>\n",
       "    </tr>\n",
       "  </thead>\n",
       "  <tbody>\n",
       "    <tr>\n",
       "      <th>0</th>\n",
       "      <td>1990-03-09</td>\n",
       "      <td>-25</td>\n",
       "    </tr>\n",
       "    <tr>\n",
       "      <th>1</th>\n",
       "      <td>1978-04-06</td>\n",
       "      <td>30</td>\n",
       "    </tr>\n",
       "    <tr>\n",
       "      <th>2</th>\n",
       "      <td>1999-01-14</td>\n",
       "      <td>-3</td>\n",
       "    </tr>\n",
       "    <tr>\n",
       "      <th>3</th>\n",
       "      <td>2007-05-27</td>\n",
       "      <td>-10</td>\n",
       "    </tr>\n",
       "    <tr>\n",
       "      <th>4</th>\n",
       "      <td>2008-09-04</td>\n",
       "      <td>-5</td>\n",
       "    </tr>\n",
       "    <tr>\n",
       "      <th>...</th>\n",
       "      <td>...</td>\n",
       "      <td>...</td>\n",
       "    </tr>\n",
       "    <tr>\n",
       "      <th>243</th>\n",
       "      <td>1988-09-11</td>\n",
       "      <td>27</td>\n",
       "    </tr>\n",
       "    <tr>\n",
       "      <th>244</th>\n",
       "      <td>2020-12-17</td>\n",
       "      <td>28</td>\n",
       "    </tr>\n",
       "    <tr>\n",
       "      <th>245</th>\n",
       "      <td>1996-11-23</td>\n",
       "      <td>31</td>\n",
       "    </tr>\n",
       "    <tr>\n",
       "      <th>246</th>\n",
       "      <td>1984-03-22</td>\n",
       "      <td>29</td>\n",
       "    </tr>\n",
       "    <tr>\n",
       "      <th>247</th>\n",
       "      <td>2022-06-20</td>\n",
       "      <td>12</td>\n",
       "    </tr>\n",
       "  </tbody>\n",
       "</table>\n",
       "<p>248 rows × 2 columns</p>\n",
       "</div>"
      ]
     },
     "execution_count": 57,
     "metadata": {},
     "output_type": "execute_result"
    }
   ],
   "execution_count": 57
  },
  {
   "metadata": {
    "ExecuteTime": {
     "end_time": "2024-09-12T08:42:51.293704Z",
     "start_time": "2024-09-12T08:42:51.287197Z"
    }
   },
   "cell_type": "code",
   "source": [
    "mask = min(df_d['Температура воздуха'])\n",
    "df_d[df_d['Температура воздуха'] == mask]"
   ],
   "id": "b21cd429572d0d64",
   "outputs": [
    {
     "data": {
      "text/plain": [
       "           Дата Температура воздуха\n",
       "186  1999-10-06                 -30"
      ],
      "text/html": [
       "<div>\n",
       "<style scoped>\n",
       "    .dataframe tbody tr th:only-of-type {\n",
       "        vertical-align: middle;\n",
       "    }\n",
       "\n",
       "    .dataframe tbody tr th {\n",
       "        vertical-align: top;\n",
       "    }\n",
       "\n",
       "    .dataframe thead th {\n",
       "        text-align: right;\n",
       "    }\n",
       "</style>\n",
       "<table border=\"1\" class=\"dataframe\">\n",
       "  <thead>\n",
       "    <tr style=\"text-align: right;\">\n",
       "      <th></th>\n",
       "      <th>Дата</th>\n",
       "      <th>Температура воздуха</th>\n",
       "    </tr>\n",
       "  </thead>\n",
       "  <tbody>\n",
       "    <tr>\n",
       "      <th>186</th>\n",
       "      <td>1999-10-06</td>\n",
       "      <td>-30</td>\n",
       "    </tr>\n",
       "  </tbody>\n",
       "</table>\n",
       "</div>"
      ]
     },
     "execution_count": 62,
     "metadata": {},
     "output_type": "execute_result"
    }
   ],
   "execution_count": 62
  },
  {
   "metadata": {},
   "cell_type": "markdown",
   "source": [
    "### 6 Анализ древовидной переписки из JSON API\n",
    "Условия\n",
    "\n",
    "    Вам предоставлен доступ к API, который возвращает данные в формате JSON. Данные представляют собой древовидную структуру переписки между участниками.\n",
    "    Доступ к API (https://parsinger.ru/3.4/3/dialog.json)\n",
    "\n",
    "    Анализ данных:\n",
    "        Пройдитесь по древовидной структуре переписки.\n",
    "        Подсчитайте, сколько сообщений отправил каждый участник.\n",
    "        Участника необходимо определить по полю \"username\", поле  \"user_id\" не имеет отношения к решению данной задачи.\n",
    "\n",
    "Задача\n",
    "\n",
    "    Написать скрипт на Python, который выполнит GET-запрос к данному API для получения JSON-данных.\n",
    "\n",
    "    Преобразовать полученный JSON-ответ в Python-объект с использованием метода response.json().\n",
    "\n",
    "    Проанализировать древовидную структуру переписки и подсчитать количество сообщений, отправленных каждым участником.\n",
    "\n",
    "    Вставить полученный словарь в поле для ответа.\n",
    "\n",
    "{'Anastasia': *, 'Vladimir': *, 'Yulia': *, 'Maria': *, 'Kirill': *, 'Anton': *, 'Petr': *, 'Dmitry': *,\n",
    " 'Olga': *, 'Maxim': *, 'Elena': *, 'Alex': *, 'Natalia': *, 'Tatiana': *, 'Svetlana': *, 'Andrey': *, \n",
    " 'Sergey': *, 'Oksana': *, 'Ivan': *, 'Irina': *}"
   ],
   "id": "b2feba5ccfc725f3"
  },
  {
   "metadata": {
    "ExecuteTime": {
     "end_time": "2024-09-13T11:47:44.958477Z",
     "start_time": "2024-09-13T11:47:44.953451Z"
    }
   },
   "cell_type": "code",
   "source": "url = 'https://parsinger.ru/3.4/3/dialog.json'",
   "id": "78f6c83706f8d784",
   "outputs": [],
   "execution_count": 2
  },
  {
   "metadata": {
    "ExecuteTime": {
     "end_time": "2024-09-13T13:08:14.097200Z",
     "start_time": "2024-09-13T13:08:13.843509Z"
    }
   },
   "cell_type": "code",
   "source": [
    "r = requests.get(url)\n",
    "r.status_code"
   ],
   "id": "5917834dc07e33d8",
   "outputs": [
    {
     "data": {
      "text/plain": [
       "200"
      ]
     },
     "execution_count": 115,
     "metadata": {},
     "output_type": "execute_result"
    }
   ],
   "execution_count": 115
  },
  {
   "metadata": {
    "ExecuteTime": {
     "end_time": "2024-09-13T13:08:14.274590Z",
     "start_time": "2024-09-13T13:08:14.272114Z"
    }
   },
   "cell_type": "code",
   "source": [
    "def name_count(dic, ans_dic=None):\n",
    "    if ans_dic is None:\n",
    "        ans_dic = {}\n",
    "    \n",
    "    if dic['username'] in ans_dic:\n",
    "        ans_dic[dic['username']] += 1\n",
    "    else:\n",
    "        ans_dic[dic['username']] = 1\n",
    "        \n",
    "    if 'comments' in dic and dic['comments']:\n",
    "        for comment in dic['comments']:\n",
    "            name_count(comment, ans_dic)\n",
    "    return ans_dic"
   ],
   "id": "81da8baac8a45dce",
   "outputs": [],
   "execution_count": 116
  },
  {
   "metadata": {
    "ExecuteTime": {
     "end_time": "2024-09-13T13:08:15.051351Z",
     "start_time": "2024-09-13T13:08:15.046824Z"
    }
   },
   "cell_type": "code",
   "source": [
    "ans = name_count(r.json())\n",
    "ans = dict(sorted(ans.items(), key=lambda item: (-item[1], item[0])))"
   ],
   "id": "ca3f9f2d79841028",
   "outputs": [],
   "execution_count": 117
  },
  {
   "metadata": {},
   "cell_type": "code",
   "outputs": [
    {
     "name": "stdout",
     "output_type": "stream",
     "text": [
      "{'Anastasia': 15, 'Vladimir': 14, 'Yulia': 14, 'Maria': 13, 'Anton': 10, 'Kirill': 10, 'Petr': 10, 'Dmitry': 9, 'Elena': 9, 'Maxim': 9, 'Olga': 9, 'Alex': 8, 'Natalia': 8, 'Svetlana': 8, 'Tatiana': 8, 'Andrey': 7, 'Oksana': 6, 'Sergey': 6, 'Ivan': 4, 'Irina': 2}\n"
     ]
    }
   ],
   "execution_count": 118,
   "source": "print(ans)",
   "id": "4403fb3dd1858b6c"
  },
  {
   "metadata": {},
   "cell_type": "markdown",
   "source": "",
   "id": "ad8184fa21fb851b"
  },
  {
   "metadata": {},
   "cell_type": "code",
   "outputs": [
    {
     "data": {
      "text/plain": [
       "[('Yulia', 14),\n",
       " ('Vladimir', 14),\n",
       " ('Tatiana', 8),\n",
       " ('Svetlana', 8),\n",
       " ('Sergey', 6),\n",
       " ('Petr', 10),\n",
       " ('Olga', 9),\n",
       " ('Oksana', 6),\n",
       " ('Natalia', 8),\n",
       " ('Maxim', 9),\n",
       " ('Maria', 13),\n",
       " ('Kirill', 10),\n",
       " ('Ivan', 4),\n",
       " ('Irina', 2),\n",
       " ('Elena', 9),\n",
       " ('Dmitry', 9),\n",
       " ('Anton', 10),\n",
       " ('Andrey', 7),\n",
       " ('Anastasia', 15),\n",
       " ('Alex', 8)]"
      ]
     },
     "execution_count": 114,
     "metadata": {},
     "output_type": "execute_result"
    }
   ],
   "execution_count": 114,
   "source": "sorted(ans.items(), key=lambda item: item[1] if item[1] != item[1] else item[0], reverse=True)",
   "id": "bd69b287b4f08392"
  },
  {
   "metadata": {
    "ExecuteTime": {
     "end_time": "2024-09-13T14:03:16.848041Z",
     "start_time": "2024-09-13T14:03:16.843792Z"
    }
   },
   "cell_type": "code",
   "source": [
    "def imet(x):\n",
    "    return x * x\n",
    "\n",
    "def apply_func(func, val):    \n",
    "    return func(val) + val"
   ],
   "id": "91799be54764436c",
   "outputs": [],
   "execution_count": 148
  },
  {
   "metadata": {
    "ExecuteTime": {
     "end_time": "2024-09-13T14:03:17.055715Z",
     "start_time": "2024-09-13T14:03:17.051562Z"
    }
   },
   "cell_type": "code",
   "source": "apply_func(imet, 5)",
   "id": "c90de6ce2c5aa90b",
   "outputs": [
    {
     "data": {
      "text/plain": [
       "30"
      ]
     },
     "execution_count": 149,
     "metadata": {},
     "output_type": "execute_result"
    }
   ],
   "execution_count": 149
  },
  {
   "metadata": {
    "ExecuteTime": {
     "end_time": "2024-09-13T14:04:04.079463Z",
     "start_time": "2024-09-13T14:04:04.075727Z"
    }
   },
   "cell_type": "code",
   "source": [
    "def hello():\n",
    "    print(\"Hello\")\n",
    "\n",
    "def call_function(func):\n",
    "    func()  # Здесь мы вызываем функцию, переданную как аргумент\n",
    "\n",
    "call_function(hello)"
   ],
   "id": "236b18d361b93a80",
   "outputs": [
    {
     "name": "stdout",
     "output_type": "stream",
     "text": [
      "Hello\n"
     ]
    }
   ],
   "execution_count": 150
  },
  {
   "metadata": {},
   "cell_type": "code",
   "outputs": [],
   "execution_count": null,
   "source": "",
   "id": "96353aa29d3af466"
  }
 ],
 "metadata": {
  "kernelspec": {
   "display_name": "Python 3",
   "language": "python",
   "name": "python3"
  },
  "language_info": {
   "codemirror_mode": {
    "name": "ipython",
    "version": 2
   },
   "file_extension": ".py",
   "mimetype": "text/x-python",
   "name": "python",
   "nbconvert_exporter": "python",
   "pygments_lexer": "ipython2",
   "version": "2.7.6"
  }
 },
 "nbformat": 4,
 "nbformat_minor": 5
}
