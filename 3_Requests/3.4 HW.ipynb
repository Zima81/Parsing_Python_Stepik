{
 "cells": [
  {
   "metadata": {
    "ExecuteTime": {
     "end_time": "2024-09-10T07:40:29.250550Z",
     "start_time": "2024-09-10T07:40:29.205129Z"
    }
   },
   "cell_type": "code",
   "source": "import requests",
   "id": "ac020043c178614c",
   "outputs": [],
   "execution_count": 1
  },
  {
   "metadata": {},
   "cell_type": "markdown",
   "source": [
    "### 3. Получение и вывод HTML-кода веб-страницы\n",
    "Задача\n",
    "\n",
    "    Напишите программу которая делает GET-запрос к \n",
    "    'https://parsinger.ru/3.4/2/index.html' для получения её HTML-кода.\n",
    "\n",
    "    Выведите полученный HTML-код на экран с помощью response.text.\n",
    "\n",
    "    Используйте response.encoding = 'utf-8' чтобы починить кодировку.\n",
    "\n",
    "    Вставьте полученные HTML в поле ответа stepik."
   ],
   "id": "f4cd193cf6482196"
  },
  {
   "metadata": {
    "ExecuteTime": {
     "end_time": "2024-09-10T07:40:43.531670Z",
     "start_time": "2024-09-10T07:40:43.529479Z"
    }
   },
   "cell_type": "code",
   "source": "url = 'https://parsinger.ru/3.4/2/index.html'",
   "id": "a606e8c861d82d47",
   "outputs": [],
   "execution_count": 2
  },
  {
   "metadata": {
    "ExecuteTime": {
     "end_time": "2024-09-10T07:40:59.778784Z",
     "start_time": "2024-09-10T07:40:59.461348Z"
    }
   },
   "cell_type": "code",
   "source": [
    "r = requests.get(url)\n",
    "r.status_code"
   ],
   "id": "10963ce5562b687f",
   "outputs": [
    {
     "data": {
      "text/plain": [
       "200"
      ]
     },
     "execution_count": 3,
     "metadata": {},
     "output_type": "execute_result"
    }
   ],
   "execution_count": 3
  },
  {
   "metadata": {
    "ExecuteTime": {
     "end_time": "2024-09-10T07:41:35.800695Z",
     "start_time": "2024-09-10T07:41:35.795907Z"
    }
   },
   "cell_type": "code",
   "source": "r.encoding",
   "id": "f8dfb70bfef36526",
   "outputs": [
    {
     "data": {
      "text/plain": [
       "'ISO-8859-1'"
      ]
     },
     "execution_count": 7,
     "metadata": {},
     "output_type": "execute_result"
    }
   ],
   "execution_count": 7
  },
  {
   "metadata": {
    "ExecuteTime": {
     "end_time": "2024-09-10T07:41:15.120839Z",
     "start_time": "2024-09-10T07:41:15.117044Z"
    }
   },
   "cell_type": "code",
   "source": "print(r.text)",
   "id": "b1ebcb9afc499b6d",
   "outputs": [
    {
     "name": "stdout",
     "output_type": "stream",
     "text": [
      "<!DOCTYPE html>\n",
      "<html lang=\"ru\">\n",
      "<head>\n",
      "    <meta charset=\"UTF-8\">\n",
      "    <link rel=\"stylesheet\" type=\"text/css\" href=\"style.css\">\n",
      "    <title>WEB ÐÐ°ÑÑÐ¸Ð½Ð³ Ð½Ð° Python</title>\n",
      "</head>\n",
      "<body>\n",
      "    <div>\n",
      "        <p><a href=\"https://stepik.org/a/104774?utm_source=step_3.4 \">WEB ÐÐ°ÑÑÐ¸Ð½Ð³ Ð½Ð° Python</a></p>\n",
      "    </div>\n",
      "</body>\n",
      "</html>\n",
      "\n"
     ]
    }
   ],
   "execution_count": 5
  },
  {
   "metadata": {
    "ExecuteTime": {
     "end_time": "2024-09-10T07:41:45.333067Z",
     "start_time": "2024-09-10T07:41:45.330077Z"
    }
   },
   "cell_type": "code",
   "source": "r.encoding = 'utf-8'",
   "id": "508135dbb56aa5da",
   "outputs": [],
   "execution_count": 8
  },
  {
   "metadata": {
    "ExecuteTime": {
     "end_time": "2024-09-10T07:41:50.238221Z",
     "start_time": "2024-09-10T07:41:50.235264Z"
    }
   },
   "cell_type": "code",
   "source": "print(r.text)",
   "id": "d5f25e8e9dea77fa",
   "outputs": [
    {
     "name": "stdout",
     "output_type": "stream",
     "text": [
      "<!DOCTYPE html>\n",
      "<html lang=\"ru\">\n",
      "<head>\n",
      "    <meta charset=\"UTF-8\">\n",
      "    <link rel=\"stylesheet\" type=\"text/css\" href=\"style.css\">\n",
      "    <title>WEB Парсинг на Python</title>\n",
      "</head>\n",
      "<body>\n",
      "    <div>\n",
      "        <p><a href=\"https://stepik.org/a/104774?utm_source=step_3.4 \">WEB Парсинг на Python</a></p>\n",
      "    </div>\n",
      "</body>\n",
      "</html>\n",
      "\n"
     ]
    }
   ],
   "execution_count": 9
  },
  {
   "metadata": {},
   "cell_type": "markdown",
   "source": [
    "### 4. Поиск секретного кода на картинках\n",
    "Цель\n",
    "\n",
    "Цель данного задания — научиться работе с сетевыми запросами для скачивания файлов.\n",
    "Условия\n",
    "\n",
    "    Перейдите на заданный сайт 'http://parsinger.ru/img_download/index.html',\n",
    "     где размещено 160 картинок.\n",
    "    На одной из картинок написан секретный код.\n",
    "    Код спрятан в углу картинки.\n",
    "\n",
    "Задачи\n",
    "\n",
    "    Напишите код, который скачает все 160 картинок с указанного сайта на ваш локальный компьютер.\n",
    "\n",
    "    После скачивания, просмотрите картинки вручную и найдите на одной из них секретный код.\n"
   ],
   "id": "e5da65482751ac1b"
  },
  {
   "metadata": {
    "ExecuteTime": {
     "end_time": "2024-09-10T07:47:53.240405Z",
     "start_time": "2024-09-10T07:47:53.237634Z"
    }
   },
   "cell_type": "code",
   "source": "url = 'http://parsinger.ru/img_download/index.html'",
   "id": "3c45dd3beeeb3d6",
   "outputs": [],
   "execution_count": 10
  },
  {
   "metadata": {
    "ExecuteTime": {
     "end_time": "2024-09-10T07:48:23.312495Z",
     "start_time": "2024-09-10T07:48:08.892947Z"
    }
   },
   "cell_type": "code",
   "source": [
    "r = requests.get(url)\n",
    "r.status_code"
   ],
   "id": "d50fb1c84b17e246",
   "outputs": [
    {
     "data": {
      "text/plain": [
       "200"
      ]
     },
     "execution_count": 11,
     "metadata": {},
     "output_type": "execute_result"
    }
   ],
   "execution_count": 11
  },
  {
   "metadata": {
    "ExecuteTime": {
     "end_time": "2024-09-10T09:05:38.829588Z",
     "start_time": "2024-09-10T09:05:38.824683Z"
    }
   },
   "cell_type": "code",
   "source": [
    "test = r.text\n",
    "t = test.splitlines()\n",
    "t[11]"
   ],
   "id": "c0e333a8b549448f",
   "outputs": [
    {
     "data": {
      "text/plain": [
       "'\\t\\t\\t<div class=\"img_box\"><img src=\"img/ready/2.png\" alt=\"\"></div>'"
      ]
     },
     "execution_count": 31,
     "metadata": {},
     "output_type": "execute_result"
    }
   ],
   "execution_count": 31
  },
  {
   "metadata": {
    "ExecuteTime": {
     "end_time": "2024-09-10T09:11:57.103399Z",
     "start_time": "2024-09-10T09:11:57.099941Z"
    }
   },
   "cell_type": "code",
   "source": "find = '.png'",
   "id": "143c8b9c3a7a7501",
   "outputs": [],
   "execution_count": 39
  },
  {
   "metadata": {
    "ExecuteTime": {
     "end_time": "2024-09-10T09:32:23.057365Z",
     "start_time": "2024-09-10T09:32:23.053572Z"
    }
   },
   "cell_type": "code",
   "source": [
    "list_png = []\n",
    "for string in t:\n",
    "    if find in string:\n",
    "        index = string.index(find)\n",
    "        if string[index - 2] == '/':\n",
    "            list_png.append(string[index-1:index+4])\n",
    "        else:\n",
    "            list_png.append(string[index-2:index+4])\n",
    "print(list_png)"
   ],
   "id": "6863c325324ed37f",
   "outputs": [
    {
     "name": "stdout",
     "output_type": "stream",
     "text": [
      "['1.png', '2.png', '3.png', '4.png', '5.png', '6.png', '7.png', '8.png', '9.png', '10.png', '11.png', '12.png', '13.png', '14.png', '15.png', '16.png', '17.png', '18.png', '19.png', '20.png', '21.png', '22.png', '23.png', '24.png', '25.png', '26.png', '27.png', '28.png', '29.png', '30.png', '31.png', '32.png', '33.png', '34.png', '35.png', '36.png', '37.png', '38.png', '39.png', '40.png', '41.png', '42.png', '43.png', '44.png', '45.png', '46.png', '47.png', '48.png', '49.png', '50.png', '51.png', '52.png', '53.png', '54.png', '55.png', '56.png', '57.png', '58.png', '59.png', '60.png', '61.png', '62.png', '63.png', '64.png', '65.png', '66.png', '67.png', '68.png', '69.png', '70.png', '71.png', '72.png', '73.png', '74.png', '75.png', '76.png', '77.png', '78.png', '79.png', '80.png', '81.png', '82.png', '83.png', '84.png', '85.png', '86.png', '87.png', '88.png', '89.png', '90.png', '91.png', '92.png', '93.png', '94.png', '95.png', '96.png', '97.png', '98.png', '99.png', '00.png', '01.png', '02.png', '03.png', '04.png', '05.png', '06.png', '07.png', '08.png', '09.png', '10.png', '11.png', '12.png', '13.png', '14.png', '15.png', '16.png', '17.png', '18.png', '19.png', '20.png', '21.png', '22.png', '23.png', '24.png', '25.png', '26.png', '27.png', '28.png', '29.png', '30.png', '31.png', '32.png', '33.png', '34.png', '35.png', '36.png', '37.png', '38.png', '39.png', '40.png', '41.png', '42.png', '43.png', '44.png', '45.png', '46.png', '47.png', '48.png', '49.png', '50.png', '51.png', '52.png', '53.png', '54.png', '55.png', '56.png', '57.png', '58.png', '59.png', '60.png']\n"
     ]
    }
   ],
   "execution_count": 75
  },
  {
   "metadata": {
    "ExecuteTime": {
     "end_time": "2024-09-10T09:58:05.505754Z",
     "start_time": "2024-09-10T09:57:20.039852Z"
    }
   },
   "cell_type": "code",
   "source": [
    "n = 1\n",
    "for _ in range(len(list_png)):\n",
    "    print(f'шаг {_+1} из {len(list_png)}, \\r', end='')\n",
    "    url = f'https://parsinger.ru/img_download/img/ready/{n}.png'\n",
    "    r = requests.get(url, stream=True)\n",
    "    with open(f'{n}.png', 'wb') as f:\n",
    "        f.write(r.content)\n",
    "        n += 1"
   ],
   "id": "8971f30763dfde09",
   "outputs": [
    {
     "name": "stdout",
     "output_type": "stream",
     "text": [
      "шаг 160 из 160, \r"
     ]
    }
   ],
   "execution_count": 81
  },
  {
   "metadata": {
    "ExecuteTime": {
     "end_time": "2024-09-10T09:59:46.577248Z",
     "start_time": "2024-09-10T09:59:46.574260Z"
    }
   },
   "cell_type": "code",
   "source": "6759632",
   "id": "539e85f21e23083d",
   "outputs": [
    {
     "data": {
      "text/plain": [
       "6759632"
      ]
     },
     "execution_count": 82,
     "metadata": {},
     "output_type": "execute_result"
    }
   ],
   "execution_count": 82
  },
  {
   "metadata": {},
   "cell_type": "code",
   "outputs": [],
   "execution_count": null,
   "source": "",
   "id": "277b559115c342d1"
  }
 ],
 "metadata": {
  "kernelspec": {
   "display_name": "Python 3",
   "language": "python",
   "name": "python3"
  },
  "language_info": {
   "codemirror_mode": {
    "name": "ipython",
    "version": 2
   },
   "file_extension": ".py",
   "mimetype": "text/x-python",
   "name": "python",
   "nbconvert_exporter": "python",
   "pygments_lexer": "ipython2",
   "version": "2.7.6"
  }
 },
 "nbformat": 4,
 "nbformat_minor": 5
}
