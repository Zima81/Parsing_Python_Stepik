{
 "cells": [
  {
   "cell_type": "code",
   "id": "initial_id",
   "metadata": {
    "collapsed": true,
    "ExecuteTime": {
     "end_time": "2024-09-06T09:12:31.579826Z",
     "start_time": "2024-09-06T09:12:31.575658Z"
    }
   },
   "source": "import requests",
   "outputs": [],
   "execution_count": 14
  },
  {
   "metadata": {},
   "cell_type": "markdown",
   "source": [
    "#### 4\n",
    "Вашей задачей является написание кода, который будет выполнять сетевые запросы к указанному диапазону веб-страниц и суммировать HTTP статус-коды всех полученных ответов.\n",
    "###### От \n",
    "https://parsinger.ru/3.3/2/1.html \n",
    "\n",
    "###### До\n",
    "https://parsinger.ru/3.3/2/200.html "
   ],
   "id": "9568eaa4245f9e4d"
  },
  {
   "metadata": {
    "ExecuteTime": {
     "end_time": "2024-09-06T09:33:25.780183Z",
     "start_time": "2024-09-06T09:33:19.457573Z"
    }
   },
   "cell_type": "code",
   "source": [
    "total = 0\n",
    "with requests.session() as sess:    \n",
    "    for n in range(1, 201):        \n",
    "        url = f'https://parsinger.ru/3.3/2/{n}.html'\n",
    "        resp = sess.get(url)\n",
    "        total += resp.status_code\n",
    "        print(f'{url}, сумма статус-кодов = {total} \\r', end='')        "
   ],
   "id": "cd543bb5ce82fdb5",
   "outputs": [
    {
     "name": "stdout",
     "output_type": "stream",
     "text": [
      "https://parsinger.ru/3.3/2/200.html, сумма статус-кодов = 60400 \r"
     ]
    }
   ],
   "execution_count": 31
  },
  {
   "metadata": {
    "ExecuteTime": {
     "end_time": "2024-09-06T11:26:57.706943Z",
     "start_time": "2024-09-06T11:26:53.936246Z"
    }
   },
   "cell_type": "code",
   "source": [
    "from tqdm import tqdm\n",
    "import time\n",
    "\n",
    "for _ in tqdm(range(100)):\n",
    "    time.sleep(0.1)  # эмуляция выполнения работы "
   ],
   "id": "6fbf3b2fc7ee8d6d",
   "outputs": [
    {
     "name": "stderr",
     "output_type": "stream",
     "text": [
      " 36%|███▌      | 36/100 [00:03<00:06,  9.59it/s]\n"
     ]
    },
    {
     "ename": "KeyboardInterrupt",
     "evalue": "",
     "output_type": "error",
     "traceback": [
      "\u001B[1;31m---------------------------------------------------------------------------\u001B[0m",
      "\u001B[1;31mKeyboardInterrupt\u001B[0m                         Traceback (most recent call last)",
      "Cell \u001B[1;32mIn[55], line 5\u001B[0m\n\u001B[0;32m      2\u001B[0m \u001B[38;5;28;01mimport\u001B[39;00m \u001B[38;5;21;01mtime\u001B[39;00m\n\u001B[0;32m      4\u001B[0m \u001B[38;5;28;01mfor\u001B[39;00m _ \u001B[38;5;129;01min\u001B[39;00m tqdm(\u001B[38;5;28mrange\u001B[39m(\u001B[38;5;241m100\u001B[39m)):\n\u001B[1;32m----> 5\u001B[0m     \u001B[43mtime\u001B[49m\u001B[38;5;241;43m.\u001B[39;49m\u001B[43msleep\u001B[49m\u001B[43m(\u001B[49m\u001B[38;5;241;43m0.1\u001B[39;49m\u001B[43m)\u001B[49m  \u001B[38;5;66;03m# эмуляция выполнения работы \u001B[39;00m\n",
      "\u001B[1;31mKeyboardInterrupt\u001B[0m: "
     ]
    }
   ],
   "execution_count": 55
  },
  {
   "metadata": {},
   "cell_type": "code",
   "outputs": [],
   "execution_count": null,
   "source": "",
   "id": "69a13ec806895b87"
  },
  {
   "metadata": {},
   "cell_type": "markdown",
   "source": "#### 5",
   "id": "fa9e21f5fa1f2898"
  },
  {
   "metadata": {},
   "cell_type": "markdown",
   "source": [
    "Цель:\n",
    "\n",
    "Вашей задачей является создание скрипта, который делает сетевые запросы к указанному диапазону ссылок для выявления единственной рабочей страницы и поиска кода на ней. Для этого необходимо считывать HTTP статус-код каждой страницы.\n",
    "Диапазон ссылок:\n",
    "\n",
    "###### От \n",
    "https://parsinger.ru/3.3/1/1.html\n",
    "\n",
    "###### До\n",
    "https://parsinger.ru/3.3/1/200.html\n",
    "\n",
    "Детали:\n",
    "\n",
    "    В указанном диапазоне существует только одна рабочая страница с HTTP статус-кодом 200 (OK).\n",
    "    Все остальные страницы возвращают HTTP статус-код 404 (Not Found).\n",
    "\n",
    "Задание:\n",
    "\n",
    "    Выполните HTTP запрос к каждой ссылке в заданном диапазоне.\n",
    "    Считывайте HTTP статус-код каждой страницы.\n",
    "    Определите, какая именно ссылка является рабочей, то есть возвращает HTTP статус-код 200 (OK).\n",
    "    Перейдите по рабочей ссылке вручную, или получите данные с помощью response.text для извлечения числа на этой странице.\n",
    "    Вставьте число в поле ответа Cтепик.\n"
   ],
   "id": "5f6d38e4b5ab6ebd"
  },
  {
   "metadata": {
    "ExecuteTime": {
     "end_time": "2024-09-06T09:50:38.407911Z",
     "start_time": "2024-09-06T09:50:38.404443Z"
    }
   },
   "cell_type": "code",
   "source": "import requests",
   "id": "1d0e87424db03f5f",
   "outputs": [],
   "execution_count": 32
  },
  {
   "metadata": {
    "ExecuteTime": {
     "end_time": "2024-09-06T09:56:22.655014Z",
     "start_time": "2024-09-06T09:56:15.729516Z"
    }
   },
   "cell_type": "code",
   "source": [
    "with requests.session() as sess:    \n",
    "    for n in range(1, 201): \n",
    "        print(n, '\\r', end='')\n",
    "        url = f'https://parsinger.ru/3.3/1/{n}.html'\n",
    "        resp = sess.get(url)\n",
    "        if resp.status_code == 200:\n",
    "            break\n",
    "resp.text"
   ],
   "id": "47f705ff3c746557",
   "outputs": [
    {
     "name": "stdout",
     "output_type": "stream",
     "text": [
      "187 \r"
     ]
    },
    {
     "data": {
      "text/plain": [
       "'<!DOCTYPE html>\\n<html lang=\"en\">\\n<head>\\n\\t<meta charset=\"UTF-8\">\\n\\t<meta name=\"viewport\" content=\"width=device-width, initial-scale=1.0\">\\n\\t<title>Document</title>\\n</head>\\n<body>\\n\\t9876316843187416358741341687416874165432\\n</body>\\n</html>'"
      ]
     },
     "execution_count": 36,
     "metadata": {},
     "output_type": "execute_result"
    }
   ],
   "execution_count": 36
  },
  {
   "metadata": {
    "ExecuteTime": {
     "end_time": "2024-09-06T09:56:39.830342Z",
     "start_time": "2024-09-06T09:56:39.824924Z"
    }
   },
   "cell_type": "code",
   "source": "resp.url",
   "id": "a35c505d80ffa75a",
   "outputs": [
    {
     "data": {
      "text/plain": [
       "'https://parsinger.ru/3.3/1/187.html'"
      ]
     },
     "execution_count": 37,
     "metadata": {},
     "output_type": "execute_result"
    }
   ],
   "execution_count": 37
  },
  {
   "metadata": {},
   "cell_type": "markdown",
   "source": "#### 5",
   "id": "72f10102c89f6f70"
  },
  {
   "metadata": {},
   "cell_type": "code",
   "outputs": [],
   "execution_count": null,
   "source": "",
   "id": "a98b4c3e71459d08"
  },
  {
   "metadata": {},
   "cell_type": "code",
   "outputs": [],
   "execution_count": 38,
   "source": [
    "name_img= ['1663231240183817644.jpg',\n",
    " '1663231245165469794.jpg',\n",
    " '1663231252148267596.jpg',\n",
    " '16632460271311817.jpg',\n",
    " '1663260860165832550.jpg',\n",
    " '1663260862112644405.jpg',\n",
    " '1663260864114071369.jpg',\n",
    " '1663260869127473152.jpg',\n",
    " '1663260874115452216.jpg',\n",
    " '1663260877136512181.jpg',\n",
    " '1663260878140464277.jpg',\n",
    " '1663267600193799276.jpg',\n",
    " '1663267613117130673.jpg',\n",
    " '1663267619197170483.jpg',\n",
    " '1663267626154597739.jpg',\n",
    " '1663267648135114690.jpg',\n",
    " '166326765416196421.jpg',\n",
    " '1663267662118079649.jpg',\n",
    " '1663267668165066872.jpg',\n",
    " '1663267878176341940.jpg',\n",
    " '166326990115068678.jpg',\n",
    " '1663269922185881885.jpg',\n",
    " '1663269927127433209.jpg',\n",
    " '1663269942143420441.jpg',\n",
    " '1663269946174943071.jpg',\n",
    " '1663269964195277579.jpg',\n",
    " '1663269970148058649.jpg',\n",
    " '1663269974197750992.jpg',\n",
    " '166326997917397750.jpg',\n",
    " '1663270039138442380.jpg',\n",
    " '1663388012194470737.jpg',\n",
    " '166342371029995280.jpg',\n",
    " '1663423712288242036.jpg',\n",
    " '1663423715255612089.jpg',\n",
    " '1663423720221155166.jpg',\n",
    " '1663423722211139858.jpg',\n",
    " '1663423724211218483.jpg',\n",
    " '1663423728215479371.jpg',\n",
    " '1663423729298828299.jpg',\n",
    " '1663423732225964403.jpg',\n",
    " '1663424198111663025.jpg',\n",
    " '1663424199157537861.jpg',\n",
    " '1663424200184778832.jpg',\n",
    " '166342420214123494.jpg',\n",
    " '166342420317539591.jpg',\n",
    " '1663424204161674559.jpg',\n",
    " '1663424206188873432.jpg',\n",
    " '166342420813193185.jpg',\n",
    " '1663424209187179962.jpg',\n",
    " '1663424212162573102.jpg']"
   ],
   "id": "fd8a070d46a8bbe6"
  },
  {
   "metadata": {
    "ExecuteTime": {
     "end_time": "2024-09-06T11:16:00.607733Z",
     "start_time": "2024-09-06T11:16:00.603927Z"
    }
   },
   "cell_type": "code",
   "source": "url = 'https://parsinger.ru/3.3/3/img/'",
   "id": "c25120e81b215577",
   "outputs": [],
   "execution_count": 39
  },
  {
   "metadata": {
    "ExecuteTime": {
     "end_time": "2024-09-06T11:34:42.200230Z",
     "start_time": "2024-09-06T11:34:37.305092Z"
    }
   },
   "cell_type": "code",
   "source": [
    "size = 0\n",
    "ans = ''\n",
    "now = 1\n",
    "total = len(name_img)\n",
    "with requests.session() as sess:\n",
    " for i in name_img:\n",
    "  print(f'Выполняется {now} из {total}, \\r', end='')\n",
    "  now += 1\n",
    "  r = sess.get(url + i)\n",
    "  if r.status_code != 200:\n",
    "   print(r.status_code, '\\n', r.text)\n",
    "  if int(r.headers.get('Content-Length')) > size:\n",
    "   size = int(r.headers.get('Content-Length'))\n",
    "   ans = r.url\n",
    "print()\n",
    "print(f'Наибольший размер - {size} \\nurl изображения - {ans}')"
   ],
   "id": "10e0c821840719b6",
   "outputs": [
    {
     "name": "stdout",
     "output_type": "stream",
     "text": [
      "Выполняется 50 из 50, \r\n",
      "Наибольший размер - 1038682 \n",
      "url изображения - https://parsinger.ru/3.3/3/img/1663267662118079649.jpg\n"
     ]
    }
   ],
   "execution_count": 63
  },
  {
   "metadata": {
    "ExecuteTime": {
     "end_time": "2024-09-06T11:22:53.329499Z",
     "start_time": "2024-09-06T11:22:53.321879Z"
    }
   },
   "cell_type": "code",
   "source": "int(r.headers.get('Content-Length'))",
   "id": "1c60f1bbe38819e2",
   "outputs": [
    {
     "data": {
      "text/plain": [
       "692579"
      ]
     },
     "execution_count": 50,
     "metadata": {},
     "output_type": "execute_result"
    }
   ],
   "execution_count": 50
  },
  {
   "metadata": {
    "ExecuteTime": {
     "end_time": "2024-09-06T11:32:47.132220Z",
     "start_time": "2024-09-06T11:32:47.128297Z"
    }
   },
   "cell_type": "code",
   "source": "size",
   "id": "4dcaf302d08a0273",
   "outputs": [
    {
     "data": {
      "text/plain": [
       "1038682"
      ]
     },
     "execution_count": 59,
     "metadata": {},
     "output_type": "execute_result"
    }
   ],
   "execution_count": 59
  },
  {
   "metadata": {},
   "cell_type": "markdown",
   "source": "#### 6",
   "id": "c238982143dfab41"
  },
  {
   "metadata": {
    "ExecuteTime": {
     "end_time": "2024-09-06T12:10:12.121795Z",
     "start_time": "2024-09-06T12:10:11.260222Z"
    }
   },
   "cell_type": "code",
   "source": [
    "first = ''\n",
    "last = ''\n",
    "with requests.session() as sess:\n",
    " for n in range(1, 101): \n",
    "  url = f'https://parsinger.ru/3.3/4/{n}.html'\n",
    "  r = sess.get(url)\n",
    "  if r.status_code == 200:\n",
    "   first = url\n",
    "   break\n",
    " for n in range(101, -1, -1):\n",
    "  url = f'https://parsinger.ru/3.3/4/{n}.html'\n",
    "  r = sess.get(url)\n",
    "  if r.status_code == 200:\n",
    "   last = url\n",
    "   break\n",
    "print(f\"Первая доступная страница: {first}\")\n",
    "print(f\"Последняя доступная страница: {last}\")"
   ],
   "id": "428ef77526ac2798",
   "outputs": [
    {
     "name": "stdout",
     "output_type": "stream",
     "text": [
      "Первая доступная страница: https://parsinger.ru/3.3/4/9.html\n",
      "Последняя доступная страница: https://parsinger.ru/3.3/4/89.html\n"
     ]
    }
   ],
   "execution_count": 90
  },
  {
   "metadata": {},
   "cell_type": "code",
   "outputs": [],
   "execution_count": null,
   "source": "",
   "id": "a2a11cb40dd95a85"
  }
 ],
 "metadata": {
  "kernelspec": {
   "display_name": "Python 3",
   "language": "python",
   "name": "python3"
  },
  "language_info": {
   "codemirror_mode": {
    "name": "ipython",
    "version": 2
   },
   "file_extension": ".py",
   "mimetype": "text/x-python",
   "name": "python",
   "nbconvert_exporter": "python",
   "pygments_lexer": "ipython2",
   "version": "2.7.6"
  }
 },
 "nbformat": 4,
 "nbformat_minor": 5
}
