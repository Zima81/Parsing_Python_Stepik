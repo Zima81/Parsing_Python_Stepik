{
 "cells": [
  {
   "metadata": {
    "ExecuteTime": {
     "end_time": "2024-09-09T08:20:14.958174Z",
     "start_time": "2024-09-09T08:20:14.915849Z"
    }
   },
   "cell_type": "code",
   "source": "import requests",
   "id": "a0ef021a9131a4a7",
   "outputs": [],
   "execution_count": 1
  },
  {
   "metadata": {
    "ExecuteTime": {
     "end_time": "2024-08-14T19:23:27.958038Z",
     "start_time": "2024-08-14T19:23:26.939753Z"
    }
   },
   "cell_type": "code",
   "source": "r = requests.get('https://www.example.com')",
   "id": "3f603a2f56d2b1a7",
   "outputs": [],
   "execution_count": 2
  },
  {
   "metadata": {
    "ExecuteTime": {
     "end_time": "2024-08-14T19:23:27.971824Z",
     "start_time": "2024-08-14T19:23:27.960745Z"
    }
   },
   "cell_type": "code",
   "source": "r.status_code",
   "id": "259b835db35de19c",
   "outputs": [
    {
     "data": {
      "text/plain": [
       "200"
      ]
     },
     "execution_count": 3,
     "metadata": {},
     "output_type": "execute_result"
    }
   ],
   "execution_count": 3
  },
  {
   "metadata": {
    "ExecuteTime": {
     "end_time": "2024-08-14T19:24:00.667629Z",
     "start_time": "2024-08-14T19:24:00.660210Z"
    }
   },
   "cell_type": "code",
   "source": "r.headers",
   "id": "5ffe784b234316b3",
   "outputs": [
    {
     "data": {
      "text/plain": [
       "{'Content-Encoding': 'gzip', 'Accept-Ranges': 'bytes', 'Age': '133852', 'Cache-Control': 'max-age=604800', 'Content-Type': 'text/html; charset=UTF-8', 'Date': 'Wed, 14 Aug 2024 19:23:27 GMT', 'Etag': '\"3147526947+gzip\"', 'Expires': 'Wed, 21 Aug 2024 19:23:27 GMT', 'Last-Modified': 'Thu, 17 Oct 2019 07:18:26 GMT', 'Server': 'ECAcc (nyd/D135)', 'Vary': 'Accept-Encoding', 'X-Cache': 'HIT', 'Content-Length': '648'}"
      ]
     },
     "execution_count": 5,
     "metadata": {},
     "output_type": "execute_result"
    }
   ],
   "execution_count": 5
  },
  {
   "metadata": {},
   "cell_type": "markdown",
   "source": "## 3.2 Методы requests.get()",
   "id": "fb228c8e9e58c177"
  },
  {
   "metadata": {
    "ExecuteTime": {
     "end_time": "2024-08-16T11:30:59.277817Z",
     "start_time": "2024-08-16T11:30:58.671906Z"
    }
   },
   "cell_type": "code",
   "source": [
    "url = 'http://httpbin.org/'\n",
    "response = requests.get(url=url)\n",
    "type(response)"
   ],
   "id": "d0b43ad5e11aae0b",
   "outputs": [
    {
     "data": {
      "text/plain": [
       "requests.models.Response"
      ]
     },
     "execution_count": 2,
     "metadata": {},
     "output_type": "execute_result"
    }
   ],
   "execution_count": 2
  },
  {
   "metadata": {
    "ExecuteTime": {
     "end_time": "2024-08-16T16:03:56.285691Z",
     "start_time": "2024-08-16T16:03:55.227771Z"
    }
   },
   "cell_type": "code",
   "source": [
    "import requests\n",
    "\n",
    "# URL для примеров\n",
    "url = \"https://httpbin.org/user-agent\"\n",
    "\n",
    "# Выполняем GET-запрос\n",
    "response = requests.get(url)\n",
    "\n",
    "# status_code: HTTP-код статуса ответа.\n",
    "print(\"HTTP-код статуса ответа:\", response.status_code)\n",
    "\n",
    "# text: Текстовое представление содержимого ответа.\n",
    "print(\"Текстовое содержимое ответа:\", response.text)\n",
    "\n",
    "# content: Содержимое ответа в виде байтов.\n",
    "print(\"Содержимое ответа в виде байтов:\", response.content)\n",
    "\n",
    "# json: Метод для десериализации JSON-ответа.\n",
    "json_response = response.json()\n",
    "print(\"Десериализованный JSON-ответ:\", json_response)\n",
    "\n",
    "# headers: Заголовки HTTP, возвращаемые сервером.\n",
    "print(\"Заголовки HTTP:\", response.headers)\n",
    "\n",
    "# url: Исходный URL-адрес, на который был выполнен запрос.\n",
    "print(\"Исходный URL-адрес запроса:\", response.url)\n",
    "\n",
    "# encoding: Кодировка ответа.\n",
    "print(\"Кодировка ответа:\", response.encoding)\n",
    "\n",
    "# elapsed: Время, затраченное на выполнение запроса.\n",
    "print(\"Время выполнения запроса:\", response.elapsed)\n",
    "\n",
    "# cookies: Куки, возвращаемые сервером.\n",
    "print(\"Куки, возвращаемые сервером:\", response.cookies)\n",
    "\n",
    "# history: Список объектов Response, представляющих историю перенаправлений.\n",
    "print(\"История перенаправлений:\", response.history)\n",
    "\n",
    "# ok: Логический атрибут, указывающий, был ли запрос успешным (коды 2xx).\n",
    "print(\"Запрос успешен (коды 2xx):\", response.ok)\n",
    "\n",
    "# reason: Сообщение статуса HTTP (например, \"OK\", \"Not Found\").\n",
    "print(\"Сообщение статуса HTTP:\", response.reason)"
   ],
   "id": "ac2677f706a297e7",
   "outputs": [
    {
     "name": "stdout",
     "output_type": "stream",
     "text": [
      "HTTP-код статуса ответа: 200\n",
      "Текстовое содержимое ответа: {\n",
      "  \"user-agent\": \"python-requests/2.31.0\"\n",
      "}\n",
      "\n",
      "Содержимое ответа в виде байтов: b'{\\n  \"user-agent\": \"python-requests/2.31.0\"\\n}\\n'\n",
      "Десериализованный JSON-ответ: {'user-agent': 'python-requests/2.31.0'}\n",
      "Заголовки HTTP: {'Date': 'Fri, 16 Aug 2024 16:03:56 GMT', 'Content-Type': 'application/json', 'Content-Length': '45', 'Connection': 'keep-alive', 'Server': 'gunicorn/19.9.0', 'Access-Control-Allow-Origin': '*', 'Access-Control-Allow-Credentials': 'true'}\n",
      "Исходный URL-адрес запроса: https://httpbin.org/user-agent\n",
      "Кодировка ответа: utf-8\n",
      "Время выполнения запроса: 0:00:01.043459\n",
      "Куки, возвращаемые сервером: <RequestsCookieJar[]>\n",
      "История перенаправлений: []\n",
      "Запрос успешен (коды 2xx): True\n",
      "Сообщение статуса HTTP: OK\n"
     ]
    }
   ],
   "execution_count": 3
  },
  {
   "metadata": {
    "ExecuteTime": {
     "end_time": "2024-08-16T16:29:08.863773Z",
     "start_time": "2024-08-16T16:29:07.989522Z"
    }
   },
   "cell_type": "code",
   "source": [
    "# Определение заголовков, которые будут отправлены с запросом\n",
    "headers = {\n",
    "    'User-Agent': 'Mozilla/4.0',                  # Идентификация типа браузера, который отправляет запрос\n",
    "    'Accept': 'text/html,application/xhtml+xml',  # Типы контента, которые клиент может обработать\n",
    "    'Connection': 'keep-alive'                    # Указание на необходимость использования постоянного соединения\n",
    "}\n",
    "\n",
    "# Выполнение GET-запроса с установленными заголовками\n",
    "response = requests.get('http://httpbin.org/user-agent', headers=headers)"
   ],
   "id": "a9ba9796604762f9",
   "outputs": [],
   "execution_count": 4
  },
  {
   "metadata": {
    "ExecuteTime": {
     "end_time": "2024-08-16T16:29:16.244175Z",
     "start_time": "2024-08-16T16:29:16.238509Z"
    }
   },
   "cell_type": "code",
   "source": "response.status_code",
   "id": "d4872ef7bdda7849",
   "outputs": [
    {
     "data": {
      "text/plain": [
       "200"
      ]
     },
     "execution_count": 5,
     "metadata": {},
     "output_type": "execute_result"
    }
   ],
   "execution_count": 5
  },
  {
   "metadata": {
    "ExecuteTime": {
     "end_time": "2024-08-16T16:29:24.198084Z",
     "start_time": "2024-08-16T16:29:24.188471Z"
    }
   },
   "cell_type": "code",
   "source": "response.text",
   "id": "ae0f42bd318ba44d",
   "outputs": [
    {
     "data": {
      "text/plain": [
       "'{\\n  \"user-agent\": \"Mozilla/4.0\"\\n}\\n'"
      ]
     },
     "execution_count": 6,
     "metadata": {},
     "output_type": "execute_result"
    }
   ],
   "execution_count": 6
  },
  {
   "metadata": {},
   "cell_type": "code",
   "outputs": [],
   "execution_count": null,
   "source": "r = requests.post(url=url, data=body, headers={'Connection':'close'})",
   "id": "fb0b025ff5e0a154"
  },
  {
   "metadata": {
    "ExecuteTime": {
     "end_time": "2024-08-16T16:32:15.955491Z",
     "start_time": "2024-08-16T16:32:15.403815Z"
    }
   },
   "cell_type": "code",
   "source": "response = requests.get('http://httpbin.org/user-agent', headers={'Connection':'close'})",
   "id": "d1e16d5e02939944",
   "outputs": [],
   "execution_count": 7
  },
  {
   "metadata": {
    "ExecuteTime": {
     "end_time": "2024-08-16T16:32:29.233886Z",
     "start_time": "2024-08-16T16:32:29.227946Z"
    }
   },
   "cell_type": "code",
   "source": "response.status_code",
   "id": "acf26c3734fac606",
   "outputs": [
    {
     "data": {
      "text/plain": [
       "200"
      ]
     },
     "execution_count": 8,
     "metadata": {},
     "output_type": "execute_result"
    }
   ],
   "execution_count": 8
  },
  {
   "metadata": {
    "ExecuteTime": {
     "end_time": "2024-08-16T16:32:35.793291Z",
     "start_time": "2024-08-16T16:32:35.786850Z"
    }
   },
   "cell_type": "code",
   "source": "response.text",
   "id": "be095dd948229e6a",
   "outputs": [
    {
     "data": {
      "text/plain": [
       "'{\\n  \"user-agent\": \"python-requests/2.31.0\"\\n}\\n'"
      ]
     },
     "execution_count": 9,
     "metadata": {},
     "output_type": "execute_result"
    }
   ],
   "execution_count": 9
  },
  {
   "metadata": {
    "ExecuteTime": {
     "end_time": "2024-08-17T18:13:04.919144Z",
     "start_time": "2024-08-17T18:13:04.914894Z"
    }
   },
   "cell_type": "code",
   "source": [
    "url ='https://yandex.ru/serch/'\n",
    "param = {'text': 'WEB Парсинг на python'}"
   ],
   "id": "40ae3dab018f20fe",
   "outputs": [],
   "execution_count": 10
  },
  {
   "metadata": {
    "ExecuteTime": {
     "end_time": "2024-08-17T18:13:16.419232Z",
     "start_time": "2024-08-17T18:13:14.804563Z"
    }
   },
   "cell_type": "code",
   "source": "r = requests.get(url, params=param)",
   "id": "e4d6f954b0e3f351",
   "outputs": [],
   "execution_count": 11
  },
  {
   "metadata": {
    "ExecuteTime": {
     "end_time": "2024-08-17T18:13:18.457265Z",
     "start_time": "2024-08-17T18:13:18.449384Z"
    }
   },
   "cell_type": "code",
   "source": "r.status_code",
   "id": "84964075ff50e750",
   "outputs": [
    {
     "data": {
      "text/plain": [
       "200"
      ]
     },
     "execution_count": 12,
     "metadata": {},
     "output_type": "execute_result"
    }
   ],
   "execution_count": 12
  },
  {
   "metadata": {
    "ExecuteTime": {
     "end_time": "2024-08-17T18:13:24.112483Z",
     "start_time": "2024-08-17T18:13:24.105346Z"
    }
   },
   "cell_type": "code",
   "source": "r.text",
   "id": "496303e8976a5f1e",
   "outputs": [
    {
     "data": {
      "text/plain": [
       "'<!doctype html><html prefix=\"og: http://ogp.me/ns#\" lang=\"ru\"><meta http-equiv=\"X-UA-Compatible\" content=\"IE=edge\"><meta charset=\"utf-8\"><meta name=\"viewport\" content=\"width=device-width,initial-scale=1\">\\n    <link rel=\"icon\" href=\"https://yastatic.net/s3/home-static/_/a6/a6a296b741b51880ae8a9b04a67cfe3f.png\" sizes=\"16x16\">\\n    <link rel=\"icon\" href=\"https://yastatic.net/s3/home-static/_/f4/f47b1b3d8194c36ce660324ab55a04fe.png\" sizes=\"32x32\">\\n    <link rel=\"icon\" href=\"https://yastatic.net/s3/home-static/_/f0/f0597b6727cc67dceebc4e3a87caf571.png\" sizes=\"192x192\">\\n    <link rel=\"apple-touch-icon\" href=\"https://yastatic.net/s3/home-static/_/a7/a79b81aa025e9edb2244e38581c868ad.png\" sizes=\"152x152\">\\n    <link rel=\"apple-touch-icon\" href=\"https://yastatic.net/s3/home-static/_/46/462e92b9e3792be37a1c3fdefb26af28.png\" sizes=\"180x180\">\\n<title data-react-helmet=\"true\">Ð\\x92Ñ\\x8b Ð½Ðµ Ñ\\x80Ð¾Ð±Ð¾Ñ\\x82?</title><meta data-react-helmet=\"true\" property=\"og:title\" content=\"Ð¯Ð½Ð´ÐµÐºÑ\\x81\"><meta data-react-helmet=\"true\" property=\"og:description\" content=\"Ð\\x9dÐ°Ð¹Ð´Ñ\\x91Ñ\\x82Ñ\\x81Ñ\\x8f Ð²Ñ\\x81Ñ\\x91\"><meta data-react-helmet=\"true\" property=\"og:image\" content=\"https://yastatic.net/s3/home-static/_/37/37a02b5dc7a51abac55d8a5b6c865f0e.png\"><link rel=\"stylesheet\" href=\"/captcha_smart.6cc652f47f189d2b7807.min.css?k=1720005905713\"><style>@media only screen and (min-width:651px) and (prefers-color-scheme:dark){.Theme_root_default{--smart-captcha-background-color:#313036;--checkbox-captcha-error-color:#f33;--checkbox-captcha-border:1px solid #d9d9d9;--checkbox-captcha-border-radius:11px;--anchor-background-color:#313036;--anchor-background-color-error:rgba(255, 51, 51, 0.12);--anchor-background-color-checked:#5c81d1;--anchor-check-mark-color:#fff;--anchor-border:2px solid #6b6b72;--spin-view-captcha-border-color:#5c81d1;--advanced-captcha-border-radius:24px;--advanced-captcha-image-preview-background-color:#414148;--textinput-border:2px solid #95969a;--textinput-border-focused:2px solid #adafb6;--textinput-view-default-fill-color-base:#6e6e73;--advanced-captcha-tooltip-background-color:#adafb6;--link-view-default-typo-color-base:red;--color-typo-ghost:var(--color-typo-primary);--color-base:#dfdfe0;--color-typo-primary:var(--color-base);--button-view-action-typo-color-base:#fff;--button-view-action-fill-color-base:#6b94f7;--button-view-action-fill-color-hovered:#5c81d1}body{background-image:url(\\'https://captcha-backgrounds.s3.yandex.net/static/dark-background.jpg\\')}.LogoLink{background-image:url(\\'data:image/svg+xml;base64,PHN2ZyB3aWR0aD0iODYiIGhlaWdodD0iMzYiIHZpZXdCb3g9IjAgMCAzNzggOTEiIHhtbG5zPSJodHRwOi8vd3d3LnczLm9yZy8yMDAwL3N2ZyIgZmlsbD0ibm9uZSI+PHBhdGggZD0iTTI0OS43ODkgODQuODY4OVY3Mi40MTQ2QzI0NSA3NS42MjQ1IDIzNi45NzYgNzguNDQ5MiAyMjkuNDY5IDc4LjQ0OTJDMjE4LjIxIDc4LjQ0OTIgMjEzLjkzOSA3My4xODUgMjEzLjI5MSA2Mi4zOTk4SDI1MC40MzZWNTQuMzEwOUMyNTAuNDM2IDMxLjg0MTcgMjQwLjQ3MSAyMy4zNjc3IDIyNS4wNjkgMjMuMzY3N0MyMDYuMzAzIDIzLjM2NzcgMTk3LjM3MiAzNy42MTk1IDE5Ny4zNzIgNTcuMTM1NkMxOTcuMzcyIDc5LjYwNDcgMjA4LjUwMyA5MC41MTgzIDIyOC4xNzUgOTAuNTE4M0MyMzguMDExIDkwLjUxODMgMjQ1LjI1OSA4Ny45NTA0IDI0OS43ODkgODQuODY4OVpNMzQ2LjA4MSA5MC41MTgzQzM1My4xOTkgOTAuNTE4MyAzNTguMjQ3IDg5LjIzNDMgMzYyIDg2LjUzOFY3NC4wODM3QzM1OC4xMTcgNzYuNzggMzUzLjQ1OCA3OC40NDkyIDM0Ni45ODcgNzguNDQ5MkMzMzUuOTg2IDc4LjQ0OTIgMzMxLjQ1NiA2OS45NzUxIDMzMS40NTYgNTYuNjIyQzMzMS40NTYgNDIuNjI2OSAzMzcuMDIxIDM1LjQzNjggMzQ3LjExNiAzNS40MzY4QzM1My4wNyAzNS40MzY4IDM1OC44OTQgMzcuNDkxMSAzNjIgMzkuNDE3MVYyNi40NDkyQzM1OC43NjQgMjQuNjUxNiAzNTMuMDcgMjMuMzY3NyAzNDUuNDM0IDIzLjM2NzdDMzI1Ljc2MSAyMy4zNjc3IDMxNS41MzcgMzcuMzYyNyAzMTUuNTM3IDU3LjAwNzJDMzE1LjUzNyA3OC41Nzc2IDMyNS41MDIgOTAuNTE4MyAzNDYuMDgxIDkwLjUxODNaTTEwOC43MTcgMjQuNjUxNlY1MC4yMDIySDg4LjEzODJWMjQuNjUxNkg3Mi43MzY3Vjg5LjIzNDNIODguMTM4MlY2Mi4yNzE0SDEwOC43MTdWODkuMjM0M0gxMjQuMTE4VjI0LjY1MTZIMTA4LjcxN1pNMTkzLjYxOSA3Ny4xNjUySDE4Ni43NTlWMjQuNjUxNkgxNDEuODQ5VjMwLjE3MjZDMTQxLjg0OSA0NS45NjUyIDE0MC44MTQgNjYuMzggMTM1LjM3OCA3Ny4xNjUySDEzMC41ODlWMTA0SDE0NC44MjZWODkuMjM0M0gxNzkuMzgyVjEwNEgxOTMuNjE5Vjc3LjE2NTJaTTI5OC45NyA4OS4yMzQzSDMxNi40NDNMMjkxLjcyMyA1NC40MzkzTDMxMy40NjYgMjQuNjUxNkgyOTcuOTM1TDI3Ni4xOTIgNTQuNDM5M1YyNC42NTE2SDI2MC43OVY4OS4yMzQzSDI3Ni4xOTJWNTcuNTIwOEwyOTguOTcgODkuMjM0M1pNMjI0LjgxIDM1LjQzNjhDMjMyLjQ0NiAzNS40MzY4IDIzNC43NzYgNDEuNzI4MiAyMzQuNzc2IDQ5LjgxNzFWNTEuMTAxSDIxMy4yOTFDMjEzLjY4IDQwLjgyOTQgMjE3LjQzMyAzNS40MzY4IDIyNC44MSAzNS40MzY4Wk0xNzEuMzU4IDc3LjE2NTJIMTQ5LjYxNUMxNTMuODg2IDY3LjQwNzIgMTU1LjA1MSA0OS44MTcxIDE1NS4wNTEgMzguNjQ2N1YzNi43MjA4SDE3MS4zNThWNzcuMTY1MloiIGZpbGw9ImJsYWNrIj48L3BhdGg+CiAgICAgICAgPHBhdGggZD0iTTQ0LjEzMzcgODkuMjM0Nkg1OS43OTRWMEgzNy4wMTUzQzE0LjEwNzIgMCAyLjA3MDc5IDExLjY4NCAyLjA3MDc5IDI4Ljg4ODlDMi4wNzA3OSA0Mi42MjcyIDguNjcxNDMgNTAuNzE2IDIwLjQ0OSA1OS4wNjE3TDAgODkuMjM0NkgxNi45NTQ2TDM5LjczMzMgNTUuNDY2N0wzMS44Mzg0IDUwLjIwMjVDMjIuMjYxIDQzLjc4MjcgMTcuNjAxNyAzOC43NzUzIDE3LjYwMTcgMjcuOTkwMUMxNy42MDE3IDE4LjQ4ODkgMjQuMzMxOCAxMi4wNjkxIDM3LjE0NDggMTIuMDY5MUg0NC4xMzM3Vjg5LjIzNDZaIiBmaWxsPSIjRkMzRjFEIj48L3BhdGg+PC9zdmc+\\')}}@media only screen and (min-width:651px) and (prefers-color-scheme:light){.Theme_root_default{--smart-captcha-background-color:#fff;--checkbox-captcha-error-color:#f33;--checkbox-captcha-border:1px solid rgba(0,0,0,0.15);--checkbox-captcha-border-radius:11px;--anchor-background-color:#fff;--anchor-background-color-error:rgba(255,51,51,0.12);--anchor-background-color-checked:#5282ff;--anchor-check-mark-color:#fff;--anchor-border:2px solid #ccc;--spin-view-captcha-border-color:#5c81d1;--advanced-captcha-border-radius:11px;--advanced-captcha-image-preview-background-color:rgba(0,0,0,0.05);--textinput-border:2px solid rgba(0,0,0,0.1);--textinput-border-focused:2px solid rgba(0,0,0,0.3);--textinput-view-default-fill-color-base:#fff;--advanced-captcha-tooltip-background-color:#adafb6;--link-view-default-typo-color-base:#04b;--color-typo-ghost:rgba(0,0,0,0.3);--color-base:#000;--color-typo-primary:var(--color-base);--button-view-action-typo-color-base:#fff;--button-view-action-fill-color-base:#6b94f7;--button-view-action-fill-color-hovered:#5c81d1}body{background-image:url(\\'https://captcha-backgrounds.s3.yandex.net/static/default-background.jpg\\')}.LogoLink{background-image:url(\\'data:image/svg+xml;base64,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\\')}}</style><div id=\"root\"><div class=\"Theme Theme_color_yandex-default Theme_root_default\"><main><div class=\"Container\"><div class=\"Spacer\" style=\"padding-bottom:40px\"><a href=\"https://www.ya.ru\" aria-label=\"Yandex\" class=\"Link Link_view_default LogoLink\"></a></div><form method=\"POST\" action=\"/checkcaptcha?key=3fbed87-cd70625f-6e291928-91803f43_2/1723918395/0d85d280900367be88806e855530ffff_4c43a121ff471aa9be00b37a67798c00&mt=5FF923B9D0CDAF4F1ECB42A863D21538296033443934137B9146F358B9EB5DD283F2E165885491E5266EC51B4CFB0F5DEA576950A66BC733A1D804AF147D550054C97EC90FD05D67F48C285DC9F83345AE7E943FC2B3C6AD4D33D7EBC85723F306E801EAA1EB6B87088FD1C069A68F38E593E213DC42070DF706502096CE8AF212B4B936D34DB1BAD21BE31B134EB2299210A58C132ACF139B50412E030295FEAE900BCB1DD5A01442D69AD675D1CD60E93235B71FF240679D1E225E0795CCDB478337052716CE368030F07B6FBCA2D4BBCE5BB0FD10A3BB8C0BCCB55B&retpath=aHR0cHM6Ly95YW5kZXgucnUvc2VhcmNoP2xyPTEwMzkzJnJlZGlyY250PTE3MjM5MTgzOTUuMQ%2C%2C_41e8bb522417f5bc08485fe88b8af263&u=c9c3dce7-a64971f3-3287a99a-379079f0&s=91b299115d686139db37f28a00c5a2fa\" id=\"checkbox-captcha-form\"><div class=\"Spacer\" style=\"padding-bottom:16px\"><h1 class=\"Text Text_weight_medium Text_typography_headline-s\">Ð\\x9fÐ¾Ð´Ñ\\x82Ð²ÐµÑ\\x80Ð´Ð¸Ñ\\x82Ðµ, Ñ\\x87Ñ\\x82Ð¾ Ð·Ð°Ð¿Ñ\\x80Ð¾Ñ\\x81Ñ\\x8b Ð¾Ñ\\x82Ð¿Ñ\\x80Ð°Ð²Ð»Ñ\\x8fÐ»Ð¸ Ð²Ñ\\x8b, Ð° Ð½Ðµ Ñ\\x80Ð¾Ð±Ð¾Ñ\\x82</h1></div><div class=\"Spacer\" style=\"padding-bottom:16px\"><span class=\"Text Text_weight_regular Text_typography_body-long-m\">Ð\\x9dÐ°Ð¼ Ð¾Ñ\\x87ÐµÐ½Ñ\\x8c Ð¶Ð°Ð»Ñ\\x8c, Ð½Ð¾ Ð·Ð°Ð¿Ñ\\x80Ð¾Ñ\\x81Ñ\\x8b Ñ\\x81 Ð²Ð°Ñ\\x88ÐµÐ³Ð¾ Ñ\\x83Ñ\\x81Ñ\\x82Ñ\\x80Ð¾Ð¹Ñ\\x81Ñ\\x82Ð²Ð° Ð¿Ð¾Ñ\\x85Ð¾Ð¶Ð¸ Ð½Ð° Ð°Ð²Ñ\\x82Ð¾Ð¼Ð°Ñ\\x82Ð¸Ñ\\x87ÐµÑ\\x81ÐºÐ¸Ðµ.Â\\xa0 Â\\xa0<a href=\"https://yandex.ru/support/smart-captcha/problems.html?form-unique_key=c9c3dce7-a64971f3-3287a99a-379079f0\" target=\"_blank\" class=\"Link Link_view_default\">Ð\\x9fÐ¾Ñ\\x87ÐµÐ¼Ñ\\x83 Ñ\\x8dÑ\\x82Ð¾ Ð¼Ð¾Ð³Ð»Ð¾ Ð¿Ñ\\x80Ð¾Ð¸Ð·Ð¾Ð¹Ñ\\x82Ð¸?</a></span></div><noscript><span class=\"Text Text_color_alert Text_weight_medium Text_typography_body-long-m\">Ð£ Ð²Ð°Ñ\\x81 Ð¾Ñ\\x82ÐºÐ»Ñ\\x8eÑ\\x87ÐµÐ½Ð¾ Ð¸Ñ\\x81Ð¿Ð¾Ð»Ð½ÐµÐ½Ð¸Ðµ JavaScript. Ð\\x9fÐ¾ Ð½Ð°Ð¶Ð°Ñ\\x82Ð¸Ñ\\x8e Ð²Ñ\\x8b Ð±Ñ\\x83Ð´ÐµÑ\\x82Ðµ Ð½Ð°Ð¿Ñ\\x80Ð°Ð²Ð»ÐµÐ½Ñ\\x8b Ð½Ð° Ð´Ð¾Ð¿Ð¾Ð»Ð½Ð¸Ñ\\x82ÐµÐ»Ñ\\x8cÐ½Ñ\\x83Ñ\\x8e Ð¿Ñ\\x80Ð¾Ð²ÐµÑ\\x80ÐºÑ\\x83.Â\\xa0<a href=\"https://yandex.ru/support/common/browsers-settings/browsers-java-js-settings.html\" target=\"_blank\" class=\"Link Link_view_default\">Ð\\x9aÐ°Ðº Ð²ÐºÐ»Ñ\\x8eÑ\\x87Ð¸Ñ\\x82Ñ\\x8c JavaScript?</a></span></noscript><div class=\"Spacer Spacer_auto-gap_bottom\" style=\"padding-top:40px;padding-bottom:40px\"><div class=\"CheckboxCaptcha\" data-testid=\"checkbox-captcha\"><div class=\"CheckboxCaptcha-Inner\"><div class=\"CheckboxCaptcha-Anchor\"><input type=\"button\" id=\"js-button\" class=\"CheckboxCaptcha-Button\" aria-checked=\"false\" aria-labelledby=\"checkbox-label\" aria-describedby=\"checkbox-description\" role=\"checkbox\"><noscript><input type=\"submit\" class=\"CheckboxCaptcha-Button\" aria-checked=\"false\" aria-labelledby=\"checkbox-label\" aria-describedby=\"checkbox-description\" role=\"checkbox\"></noscript><div class=\"CheckboxCaptcha-Checkbox\" data-checked=\"false\"><svg class=\"SvgIcon CheckIcon\" width=\"24\" height=\"24\" viewBox=\"0 0 24 25\" fill=\"none\"><path d=\"M4 12.5L9.5 18.5L20 6.5\" stroke=\"currentColor\" stroke-width=\"3\" stroke-linecap=\"round\" stroke-linejoin=\"round\"></path></svg></div></div><div class=\"CheckboxCaptcha-Label\"><span class=\"Text Text_weight_regular Text_typography_control-xxl CheckboxCaptcha-LabelText\"><span id=\"checkbox-label\">Ð¯ Ð½Ðµ Ñ\\x80Ð¾Ð±Ð¾Ñ\\x82Â\\xa0</span></span><span class=\"Text Text_weight_regular Text_typography_control-l CheckboxCaptcha-SecondaryText\"><span id=\"checkbox-description\">Ð\\x9dÐ°Ð¶Ð¼Ð¸Ñ\\x82Ðµ, Ñ\\x87Ñ\\x82Ð¾Ð±Ñ\\x8b Ð¿Ñ\\x80Ð¾Ð´Ð¾Ð»Ð¶Ð¸Ñ\\x82Ñ\\x8c</span></span></div></div><div class=\"Text Text_color_ghost Text_weight_regular Text_typography_control-s CaptchaLinks CheckboxCaptcha-Links\"><button aria-label=\"Ð\\x9fÐ¾ÐºÐ°Ð·Ð°Ñ\\x82Ñ\\x8c Ñ\\x81Ñ\\x81Ñ\\x8bÐ»ÐºÐ¸\" aria-pressed=\"false\" type=\"button\" class=\"CaptchaButton CaptchaButton_view_clear CaptchaButton_size_m CaptchaLinks-ToggleButton CaptchaLinks-ToggleButton_checkbox\"><svg class=\"SvgIcon\" xmlns=\"http://www.w3.org/2000/svg\" width=\"22\" height=\"22\" viewBox=\"0 0 22 22\" fill=\"none\"><path fill-rule=\"evenodd\" clip-rule=\"evenodd\" d=\"M11 18.5625C15.1766 18.5625 18.5625 15.1766 18.5625 11C18.5625 6.82334 15.1766 3.4375 11 3.4375C6.82334 3.4375 3.4375 6.82334 3.4375 11C3.4375 15.1766 6.82334 18.5625 11 18.5625ZM11 20.625C16.3157 20.625 20.625 16.3157 20.625 11C20.625 5.68426 16.3157 1.375 11 1.375C5.68426 1.375 1.375 5.68426 1.375 11C1.375 16.3157 5.68426 20.625 11 20.625ZM8.85528 6.24171C9.44645 5.75611 10.2222 5.46546 11 5.46546C12.6736 5.46546 14.2167 6.59336 14.2167 8.409C14.2167 8.92624 14.1095 9.43266 13.8078 9.92185C13.5213 10.3865 13.1023 10.7646 12.6048 11.1132C12.3057 11.3227 12.1569 11.4663 12.0839 11.5642C12.0312 11.6348 12.0312 11.661 12.0313 11.686L12.0313 11.6872C12.0313 12.2567 11.5695 12.7185 11 12.7185C10.4305 12.7185 9.96876 12.2567 9.96876 11.6872C9.96876 10.5945 10.7163 9.9179 11.4214 9.42397C11.806 9.15451 11.9732 8.9675 12.0523 8.83924C12.1163 8.73548 12.1542 8.62111 12.1542 8.409C12.1542 7.9976 11.8192 7.52796 11 7.52796C10.718 7.52796 10.401 7.6411 10.1644 7.83546C9.9342 8.02457 9.84579 8.22978 9.84579 8.409C9.84579 8.97854 9.38408 9.44025 8.81454 9.44025C8.24499 9.44025 7.78329 8.97854 7.78329 8.409C7.78329 7.48351 8.25771 6.73257 8.85528 6.24171ZM11 16.5C11.7594 16.5 12.375 15.8844 12.375 15.125C12.375 14.3656 11.7594 13.75 11 13.75C10.2406 13.75 9.625 14.3656 9.625 15.125C9.625 15.8844 10.2406 16.5 11 16.5Z\" fill=\"currentColor\"></path></svg></button><div class=\"CaptchaLinks-Links\"><a color=\"secondary\" target=\"_blank\" href=\"https://cloud.yandex.ru/services/smartcaptcha?utm_source=captcha&amp;utm_medium=chbx&amp;utm_campaign=security\" class=\"Link Link_color_secondary Link_view_captcha\">SmartCaptcha by Yandex Cloud</a></div></div></div></div><input type=\"hidden\" name=\"rdata\"><input type=\"hidden\" name=\"pdata\" value=\"eyJwb3dDYWxjVGltZSI6LTEsInBvd05vbmNlIjoiIiwicG93UHJlZml4IjoiIn0=\"><input type=\"hidden\" name=\"tdata\"><input type=\"hidden\" name=\"picasso\"></form><span class=\"Text Text_color_ghost Text_weight_regular Text_typography_control-xs\">Ð\\x95Ñ\\x81Ð»Ð¸ Ñ\\x83 Ð²Ð°Ñ\\x81 Ð²Ð¾Ð·Ð½Ð¸ÐºÐ»Ð¸ Ð¿Ñ\\x80Ð¾Ð±Ð»ÐµÐ¼Ñ\\x8b, Ð¿Ð¾Ð¶Ð°Ð»Ñ\\x83Ð¹Ñ\\x81Ñ\\x82Ð°, Ð²Ð¾Ñ\\x81Ð¿Ð¾Ð»Ñ\\x8cÐ·Ñ\\x83Ð¹Ñ\\x82ÐµÑ\\x81Ñ\\x8cÂ\\xa0<a href=\"https://yandex.ru/support/smart-captcha/problems.html?form-unique_key=c9c3dce7-a64971f3-3287a99a-379079f0\" target=\"_blank\" class=\"Link Link_view_default\">Ñ\\x84Ð¾Ñ\\x80Ð¼Ð¾Ð¹ Ð¾Ð±Ñ\\x80Ð°Ñ\\x82Ð½Ð¾Ð¹ Ñ\\x81Ð²Ñ\\x8fÐ·Ð¸</a></span><div class=\"Spacer\" style=\"padding-top:10px\"><span class=\"Text Text_color_ghost Text_weight_light Text_typography_control-xxs\">c9c3dce7-a64971f3-3287a99a-379079f0:1723918396</span></div></div></main></div></div><script>const button=document.getElementById(\"js-button\");button.addEventListener(\"click\",function n(t){window.__JS_BUTTON_CLICKED__=!0,this.removeEventListener(\"click\",n,!1)},!1),window.onerror=function(n,t){0===t.indexOf(window.location.origin+\"/captcha_smart.6cc652f47f189d2b7807.min.js\")&&(button.type=\"submit\",window.Ya&&window.Ya.Rum&&window.Ya.Rum.logEventString&&window.Ya.Rum.logEventString(\"js_fail_force_submit_type\",n,{page:\"checkbox\"}))}</script> <script>window.__SSR_DATA__={url:\"/ru/checkbox\",invalid:\"no\",formAction:\"/checkcaptcha?key=3fbed87-cd70625f-6e291928-91803f43_2/1723918395/0d85d280900367be88806e855530ffff_4c43a121ff471aa9be00b37a67798c00&mt=5FF923B9D0CDAF4F1ECB42A863D21538296033443934137B9146F358B9EB5DD283F2E165885491E5266EC51B4CFB0F5DEA576950A66BC733A1D804AF147D550054C97EC90FD05D67F48C285DC9F83345AE7E943FC2B3C6AD4D33D7EBC85723F306E801EAA1EB6B87088FD1C069A68F38E593E213DC42070DF706502096CE8AF212B4B936D34DB1BAD21BE31B134EB2299210A58C132ACF139B50412E030295FEAE900BCB1DD5A01442D69AD675D1CD60E93235B71FF240679D1E225E0795CCDB478337052716CE368030F07B6FBCA2D4BBCE5BB0FD10A3BB8C0BCCB55B&retpath=aHR0cHM6Ly95YW5kZXgucnUvc2VhcmNoP2xyPTEwMzkzJnJlZGlyY250PTE3MjM5MTgzOTUuMQ%2C%2C_41e8bb522417f5bc08485fe88b8af263&u=c9c3dce7-a64971f3-3287a99a-379079f0&s=91b299115d686139db37f28a00c5a2fa\",captchaKey:\"3fbed87-cd70625f-6e291928-91803f43_2/1723918395/0d85d280900367be88806e855530ffff_4c43a121ff471aa9be00b37a67798c00\",imageSrc:\"\",taskImageSrc:\"\",task:\"\",voiceSrc:\"\",introSrc:\"\",aesKey:\"P8eOUwLKlRPjE1gE9sllslicN6uk8Kglwi33KUkC4oQ=\",aesSign:\"1_1723918396_10129177567953031769_34c9501d460dfa278e2644e63326f2b5\",reqId:\"1723918396205335-5012874910375631034-balancer-l7leveler-kubr-yp-sas-107-BAL\",uniqueKey:\"c9c3dce7-a64971f3-3287a99a-379079f0\",powPrefix:\"743D313732333931383339363B703D36633135646333312D37613630663062302D38383638663930382D63393234633961363B633D32333B643D34464143343442363130333132444543333844374646353039363939364335433B\",powComplexity:\"23\",sitekey:\"\",smartCaptchaHost:\"\",timestamp:\"1723918396\"}</script><script src=\"/captcha_smart_error.6cc652f47f189d2b7807.min.js?k=1720005905713\" crossorigin=\"\"></script><script src=\"/captcha_smart_react.min.js?k=1720005905713\" crossorigin=\"\"></script><script src=\"/captcha_smart.6cc652f47f189d2b7807.min.js?k=1720005905713\" crossorigin=\"\"></script><script>!function(e,n,t,a,c){e.ym=e.ym||function(){(e.ym.a=e.ym.a||[]).push(arguments)},e.ym.l=+new Date,a=n.createElement(t),c=n.getElementsByTagName(t)[0],a.async=1,a.src=\"https://mc.yandex.ru/metrika/tag.js\",c.parentNode.insertBefore(a,c)}(window,document,\"script\"),ym(10630330,\"init\",{clickmap:!0,trackLinks:!0,accurateTrackBounce:!0,webvisor:!0,ut:\"noindex\",params:{req_id:\"1723918396205335-5012874910375631034-balancer-l7leveler-kubr-yp-sas-107-BAL\",unique_key:\"c9c3dce7-a64971f3-3287a99a-379079f0\"}})</script><noscript><div><img src=\"https://mc.yandex.ru/watch/10630330?ut=noindex\" style=\"position:absolute;left:-9999px\" alt=\"\"></div></noscript><div><img src=\"https://adfstat.yandex.ru/captcha?req_id=1723918396205335-5012874910375631034-balancer-l7leveler-kubr-yp-sas-107-BAL&unique_key=c9c3dce7-a64971f3-3287a99a-379079f0\" style=\"position:absolute;left:-9999px\" alt=\"\"></div>'"
      ]
     },
     "execution_count": 13,
     "metadata": {},
     "output_type": "execute_result"
    }
   ],
   "execution_count": 13
  },
  {
   "metadata": {},
   "cell_type": "markdown",
   "source": [
    "#### Прокси proxies=\n",
    "Библиотека Requests предоставляет возможность отправлять запросы, скрывая свой реальный IP-адрес. Зачем скрывать его? Например, при высокочастотных запросах есть риск получить бан."
   ],
   "id": "59fefa450943aceb"
  },
  {
   "metadata": {
    "ExecuteTime": {
     "end_time": "2024-08-18T09:28:02.941156Z",
     "start_time": "2024-08-18T09:28:02.936203Z"
    }
   },
   "cell_type": "code",
   "source": [
    "url = 'http://httpbin.org/ip'\n",
    "proxy = {'http': 'http://51.89.255.67:80'}"
   ],
   "id": "11b38d92d2d73703",
   "outputs": [],
   "execution_count": 3
  },
  {
   "metadata": {
    "ExecuteTime": {
     "end_time": "2024-08-18T09:28:26.145266Z",
     "start_time": "2024-08-18T09:28:25.355888Z"
    }
   },
   "cell_type": "code",
   "source": "r = requests.get(url, proxies=proxy)",
   "id": "ad42c14de95ec134",
   "outputs": [],
   "execution_count": 4
  },
  {
   "metadata": {
    "ExecuteTime": {
     "end_time": "2024-08-18T09:28:28.773141Z",
     "start_time": "2024-08-18T09:28:28.764407Z"
    }
   },
   "cell_type": "code",
   "source": "r.status_code",
   "id": "73c08642f052b3df",
   "outputs": [
    {
     "data": {
      "text/plain": [
       "200"
      ]
     },
     "execution_count": 5,
     "metadata": {},
     "output_type": "execute_result"
    }
   ],
   "execution_count": 5
  },
  {
   "metadata": {
    "ExecuteTime": {
     "end_time": "2024-08-18T09:28:32.644978Z",
     "start_time": "2024-08-18T09:28:32.636960Z"
    }
   },
   "cell_type": "code",
   "source": "r.text",
   "id": "36ae95cc4a43478d",
   "outputs": [
    {
     "data": {
      "text/plain": [
       "'{\\n  \"origin\": \"51.89.255.67\"\\n}\\n'"
      ]
     },
     "execution_count": 6,
     "metadata": {},
     "output_type": "execute_result"
    }
   ],
   "execution_count": 6
  },
  {
   "metadata": {},
   "cell_type": "markdown",
   "source": [
    "### Библиотека fake_useragent\n",
    "Библиотека fake_useragent предоставляет удобный и эффективный способ для генерации фейковых значений User-Agent, что особенно полезно в задачах веб-скрапинга и автоматизации. Она облегчает процесс маскировки вашего скрипта под обычного пользователя, минимизируя риск блокировки со стороны сервера."
   ],
   "id": "4d4351dc5e4893aa"
  },
  {
   "metadata": {
    "ExecuteTime": {
     "end_time": "2024-08-18T13:21:06.604630Z",
     "start_time": "2024-08-18T13:21:06.583349Z"
    }
   },
   "cell_type": "code",
   "source": "from fake_useragent import UserAgent",
   "id": "ebe8de286dc983d9",
   "outputs": [],
   "execution_count": 7
  },
  {
   "metadata": {
    "ExecuteTime": {
     "end_time": "2024-08-18T13:21:18.055631Z",
     "start_time": "2024-08-18T13:21:18.049867Z"
    }
   },
   "cell_type": "code",
   "source": "ua = UserAgent()",
   "id": "61f7361f5f4e6375",
   "outputs": [],
   "execution_count": 8
  },
  {
   "metadata": {
    "ExecuteTime": {
     "end_time": "2024-08-18T13:21:53.422341Z",
     "start_time": "2024-08-18T13:21:53.416604Z"
    }
   },
   "cell_type": "code",
   "source": "ua.random",
   "id": "8d186d1f2a40962e",
   "outputs": [
    {
     "data": {
      "text/plain": [
       "'Mozilla/5.0 (Windows NT 10.0; Win64; x64) AppleWebKit/537.36 (KHTML, like Gecko) Chrome/121.0.0.0 Safari/537.36 Edg/121.0.0.0'"
      ]
     },
     "execution_count": 11,
     "metadata": {},
     "output_type": "execute_result"
    }
   ],
   "execution_count": 11
  },
  {
   "metadata": {
    "ExecuteTime": {
     "end_time": "2024-08-18T13:31:56.694580Z",
     "start_time": "2024-08-18T13:31:56.688559Z"
    }
   },
   "cell_type": "code",
   "source": "dir(ua)  # посмотреть аргументы экземпляра класса ()",
   "id": "8a5a2f9b5908f31f",
   "outputs": [
    {
     "data": {
      "text/plain": [
       "['__class__',\n",
       " '__delattr__',\n",
       " '__dict__',\n",
       " '__dir__',\n",
       " '__doc__',\n",
       " '__eq__',\n",
       " '__format__',\n",
       " '__ge__',\n",
       " '__getattr__',\n",
       " '__getattribute__',\n",
       " '__getitem__',\n",
       " '__gt__',\n",
       " '__hash__',\n",
       " '__init__',\n",
       " '__init_subclass__',\n",
       " '__le__',\n",
       " '__lt__',\n",
       " '__module__',\n",
       " '__ne__',\n",
       " '__new__',\n",
       " '__reduce__',\n",
       " '__reduce_ex__',\n",
       " '__repr__',\n",
       " '__setattr__',\n",
       " '__sizeof__',\n",
       " '__str__',\n",
       " '__subclasshook__',\n",
       " '__weakref__',\n",
       " '_filter_useragents',\n",
       " 'browsers',\n",
       " 'chrome',\n",
       " 'data_browsers',\n",
       " 'edge',\n",
       " 'fallback',\n",
       " 'ff',\n",
       " 'firefox',\n",
       " 'getBrowser',\n",
       " 'getChrome',\n",
       " 'getEdge',\n",
       " 'getFirefox',\n",
       " 'getRandom',\n",
       " 'getSafari',\n",
       " 'googlechrome',\n",
       " 'min_percentage',\n",
       " 'min_version',\n",
       " 'os',\n",
       " 'platforms',\n",
       " 'random',\n",
       " 'safari',\n",
       " 'safe_attrs']"
      ]
     },
     "execution_count": 15,
     "metadata": {},
     "output_type": "execute_result"
    }
   ],
   "execution_count": 15
  },
  {
   "metadata": {},
   "cell_type": "markdown",
   "source": "### Загрузка видео с помощью библиотеки requests",
   "id": "932d6f757cdea75"
  },
  {
   "metadata": {
    "ExecuteTime": {
     "end_time": "2024-08-18T19:15:28.163040Z",
     "start_time": "2024-08-18T19:15:28.160291Z"
    }
   },
   "cell_type": "code",
   "source": "url = 'https://parsinger.ru/video_downloads/videoplayback.mp4'",
   "id": "1b28e75c6113f65e",
   "outputs": [],
   "execution_count": 22
  },
  {
   "metadata": {
    "ExecuteTime": {
     "end_time": "2024-08-18T19:15:30.618718Z",
     "start_time": "2024-08-18T19:15:29.554809Z"
    }
   },
   "cell_type": "code",
   "source": "r = requests.get(url, stream=True)",
   "id": "3a6f858f42ad165f",
   "outputs": [],
   "execution_count": 23
  },
  {
   "metadata": {
    "ExecuteTime": {
     "end_time": "2024-08-18T19:15:31.535879Z",
     "start_time": "2024-08-18T19:15:31.528185Z"
    }
   },
   "cell_type": "code",
   "source": "r.status_code",
   "id": "baee4b876c064b48",
   "outputs": [
    {
     "data": {
      "text/plain": [
       "200"
      ]
     },
     "execution_count": 24,
     "metadata": {},
     "output_type": "execute_result"
    }
   ],
   "execution_count": 24
  },
  {
   "metadata": {
    "ExecuteTime": {
     "end_time": "2024-08-18T19:18:14.945381Z",
     "start_time": "2024-08-18T19:18:14.917308Z"
    }
   },
   "cell_type": "code",
   "source": [
    "with open('file.mp4', 'wb') as f:\n",
    "    f.write(r.content)"
   ],
   "id": "edd87be6adb34aff",
   "outputs": [],
   "execution_count": 26
  },
  {
   "metadata": {},
   "cell_type": "markdown",
   "source": [
    "## 3.4\n",
    "Содержимое ответа  response  .json() .text .content"
   ],
   "id": "9502208a76a0f5cd"
  },
  {
   "metadata": {
    "ExecuteTime": {
     "end_time": "2024-09-10T07:53:27.956567Z",
     "start_time": "2024-09-10T07:53:27.913888Z"
    }
   },
   "cell_type": "code",
   "source": "import requests",
   "id": "b1319ab43726ccb4",
   "outputs": [],
   "execution_count": 1
  },
  {
   "metadata": {
    "ExecuteTime": {
     "end_time": "2024-09-09T08:21:57.280577Z",
     "start_time": "2024-09-09T08:21:56.954263Z"
    }
   },
   "cell_type": "code",
   "source": [
    "# JSON\n",
    "r = requests.get(url='https://jsonplaceholder.typicode.com/todos/')"
   ],
   "id": "207e543b437de316",
   "outputs": [],
   "execution_count": 4
  },
  {
   "metadata": {
    "ExecuteTime": {
     "end_time": "2024-09-09T08:22:45.708073Z",
     "start_time": "2024-09-09T08:22:45.705211Z"
    }
   },
   "cell_type": "code",
   "source": [
    "print(type(r.text))\n",
    "print(type(r.json()))"
   ],
   "id": "2c0fdfbd681c98db",
   "outputs": [
    {
     "name": "stdout",
     "output_type": "stream",
     "text": [
      "<class 'str'>\n",
      "<class 'list'>\n"
     ]
    }
   ],
   "execution_count": 9
  },
  {
   "metadata": {
    "jupyter": {
     "is_executing": true
    },
    "ExecuteTime": {
     "start_time": "2024-09-09T08:28:47.810455Z"
    }
   },
   "cell_type": "code",
   "source": [
    "# CONTENT\n",
    "'''\n",
    "Свойство response.content предоставляет ответ сервера в виде байтовой строки. В отличие от response.text, который возвращает строку, и response.json(), который возвращает объект словарь или список, response.content предоставляет \"сырые\" байты ответа.\n",
    "'''\n",
    "response = requests.get(url='http://httpbin.org/image/jpeg')\n",
    "with open('image.jpeg', 'wb') as file:\n",
    "    file.write(response.content)"
   ],
   "id": "d8ea63af857b0aad",
   "outputs": [],
   "execution_count": null
  },
  {
   "metadata": {
    "ExecuteTime": {
     "end_time": "2024-09-10T07:53:53.356147Z",
     "start_time": "2024-09-10T07:53:53.352797Z"
    }
   },
   "cell_type": "code",
   "source": "url='http://httpbin.org/image/jpeg'",
   "id": "9da859a781d0c5a4",
   "outputs": [],
   "execution_count": 2
  },
  {
   "metadata": {
    "ExecuteTime": {
     "end_time": "2024-09-10T07:56:01.549237Z",
     "start_time": "2024-09-10T07:54:18.599186Z"
    }
   },
   "cell_type": "code",
   "source": [
    "r = requests.get(url)\n",
    "r.status_code"
   ],
   "id": "152a130eca5b6188",
   "outputs": [
    {
     "data": {
      "text/plain": [
       "200"
      ]
     },
     "execution_count": 3,
     "metadata": {},
     "output_type": "execute_result"
    }
   ],
   "execution_count": 3
  },
  {
   "metadata": {},
   "cell_type": "markdown",
   "source": [
    "Когда использовать response.content?\n",
    "\n",
    "    Бинарные файлы: Если вам нужно скачать или обработать бинарные файлы (изображения, аудио, видео и т. д.), \n",
    "    response.content будет оптимальным выбором.\n",
    "    Специфическая обработка данных: Если вы хотите самостоятельно обработать \"сырые\" байты, например, для \n",
    "    кастомной декодировки или преобразования.\n",
    "    Дебаггинг: Когда важно увидеть \"сырой\" ответ от сервера без какой-либо обработки.\n"
   ],
   "id": "1715894250b849d"
  },
  {
   "metadata": {},
   "cell_type": "code",
   "outputs": [],
   "execution_count": null,
   "source": "",
   "id": "1876f0f6ecc6b7e9"
  }
 ],
 "metadata": {
  "kernelspec": {
   "display_name": "Python 3",
   "language": "python",
   "name": "python3"
  },
  "language_info": {
   "codemirror_mode": {
    "name": "ipython",
    "version": 2
   },
   "file_extension": ".py",
   "mimetype": "text/x-python",
   "name": "python",
   "nbconvert_exporter": "python",
   "pygments_lexer": "ipython2",
   "version": "2.7.6"
  }
 },
 "nbformat": 4,
 "nbformat_minor": 5
}
