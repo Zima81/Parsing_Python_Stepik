{
 "cells": [
  {
   "metadata": {
    "ExecuteTime": {
     "end_time": "2024-09-09T08:20:14.958174Z",
     "start_time": "2024-09-09T08:20:14.915849Z"
    }
   },
   "cell_type": "code",
   "source": "import requests",
   "id": "a0ef021a9131a4a7",
   "execution_count": 1,
   "outputs": []
  },
  {
   "metadata": {
    "ExecuteTime": {
     "end_time": "2024-08-14T19:23:27.958038Z",
     "start_time": "2024-08-14T19:23:26.939753Z"
    }
   },
   "cell_type": "code",
   "source": "r = requests.get('https://www.example.com')",
   "id": "3f603a2f56d2b1a7",
   "execution_count": 2,
   "outputs": []
  },
  {
   "metadata": {
    "ExecuteTime": {
     "end_time": "2024-08-14T19:23:27.971824Z",
     "start_time": "2024-08-14T19:23:27.960745Z"
    }
   },
   "cell_type": "code",
   "source": "r.status_code",
   "id": "259b835db35de19c",
   "execution_count": 3,
   "outputs": []
  },
  {
   "metadata": {
    "ExecuteTime": {
     "end_time": "2024-08-14T19:24:00.667629Z",
     "start_time": "2024-08-14T19:24:00.660210Z"
    }
   },
   "cell_type": "code",
   "source": "r.headers",
   "id": "5ffe784b234316b3",
   "execution_count": 5,
   "outputs": []
  },
  {
   "metadata": {},
   "cell_type": "markdown",
   "source": "## 3.2 Методы requests.get()",
   "id": "fb228c8e9e58c177"
  },
  {
   "metadata": {
    "ExecuteTime": {
     "end_time": "2024-08-16T11:30:59.277817Z",
     "start_time": "2024-08-16T11:30:58.671906Z"
    }
   },
   "cell_type": "code",
   "source": [
    "url = 'http://httpbin.org/'\n",
    "response = requests.get(url=url)\n",
    "type(response)"
   ],
   "id": "d0b43ad5e11aae0b",
   "execution_count": 2,
   "outputs": []
  },
  {
   "metadata": {
    "ExecuteTime": {
     "end_time": "2024-08-16T16:03:56.285691Z",
     "start_time": "2024-08-16T16:03:55.227771Z"
    }
   },
   "cell_type": "code",
   "source": [
    "import requests\n",
    "\n",
    "# URL для примеров\n",
    "url = \"https://httpbin.org/user-agent\"\n",
    "\n",
    "# Выполняем GET-запрос\n",
    "response = requests.get(url)\n",
    "\n",
    "# status_code: HTTP-код статуса ответа.\n",
    "print(\"HTTP-код статуса ответа:\", response.status_code)\n",
    "\n",
    "# text: Текстовое представление содержимого ответа.\n",
    "print(\"Текстовое содержимое ответа:\", response.text)\n",
    "\n",
    "# content: Содержимое ответа в виде байтов.\n",
    "print(\"Содержимое ответа в виде байтов:\", response.content)\n",
    "\n",
    "# json: Метод для десериализации JSON-ответа.\n",
    "json_response = response.json()\n",
    "print(\"Десериализованный JSON-ответ:\", json_response)\n",
    "\n",
    "# headers: Заголовки HTTP, возвращаемые сервером.\n",
    "print(\"Заголовки HTTP:\", response.headers)\n",
    "\n",
    "# url: Исходный URL-адрес, на который был выполнен запрос.\n",
    "print(\"Исходный URL-адрес запроса:\", response.url)\n",
    "\n",
    "# encoding: Кодировка ответа.\n",
    "print(\"Кодировка ответа:\", response.encoding)\n",
    "\n",
    "# elapsed: Время, затраченное на выполнение запроса.\n",
    "print(\"Время выполнения запроса:\", response.elapsed)\n",
    "\n",
    "# cookies: Куки, возвращаемые сервером.\n",
    "print(\"Куки, возвращаемые сервером:\", response.cookies)\n",
    "\n",
    "# history: Список объектов Response, представляющих историю перенаправлений.\n",
    "print(\"История перенаправлений:\", response.history)\n",
    "\n",
    "# ok: Логический атрибут, указывающий, был ли запрос успешным (коды 2xx).\n",
    "print(\"Запрос успешен (коды 2xx):\", response.ok)\n",
    "\n",
    "# reason: Сообщение статуса HTTP (например, \"OK\", \"Not Found\").\n",
    "print(\"Сообщение статуса HTTP:\", response.reason)"
   ],
   "id": "ac2677f706a297e7",
   "execution_count": 3,
   "outputs": []
  },
  {
   "metadata": {
    "ExecuteTime": {
     "end_time": "2024-08-16T16:29:08.863773Z",
     "start_time": "2024-08-16T16:29:07.989522Z"
    }
   },
   "cell_type": "code",
   "source": [
    "# Определение заголовков, которые будут отправлены с запросом\n",
    "headers = {\n",
    "    'User-Agent': 'Mozilla/4.0',                  # Идентификация типа браузера, который отправляет запрос\n",
    "    'Accept': 'text/html,application/xhtml+xml',  # Типы контента, которые клиент может обработать\n",
    "    'Connection': 'keep-alive'                    # Указание на необходимость использования постоянного соединения\n",
    "}\n",
    "\n",
    "# Выполнение GET-запроса с установленными заголовками\n",
    "response = requests.get('http://httpbin.org/user-agent', headers=headers)"
   ],
   "id": "a9ba9796604762f9",
   "execution_count": 4,
   "outputs": []
  },
  {
   "metadata": {
    "ExecuteTime": {
     "end_time": "2024-08-16T16:29:16.244175Z",
     "start_time": "2024-08-16T16:29:16.238509Z"
    }
   },
   "cell_type": "code",
   "source": "response.status_code",
   "id": "d4872ef7bdda7849",
   "execution_count": 5,
   "outputs": []
  },
  {
   "metadata": {
    "ExecuteTime": {
     "end_time": "2024-08-16T16:29:24.198084Z",
     "start_time": "2024-08-16T16:29:24.188471Z"
    }
   },
   "cell_type": "code",
   "source": "response.text",
   "id": "ae0f42bd318ba44d",
   "execution_count": 6,
   "outputs": []
  },
  {
   "metadata": {},
   "cell_type": "code",
   "execution_count": null,
   "source": "r = requests.post(url=url, data=body, headers={'Connection':'close'})",
   "id": "fb0b025ff5e0a154",
   "outputs": []
  },
  {
   "metadata": {
    "ExecuteTime": {
     "end_time": "2024-08-16T16:32:15.955491Z",
     "start_time": "2024-08-16T16:32:15.403815Z"
    }
   },
   "cell_type": "code",
   "source": "response = requests.get('http://httpbin.org/user-agent', headers={'Connection':'close'})",
   "id": "d1e16d5e02939944",
   "execution_count": 7,
   "outputs": []
  },
  {
   "metadata": {
    "ExecuteTime": {
     "end_time": "2024-08-16T16:32:29.233886Z",
     "start_time": "2024-08-16T16:32:29.227946Z"
    }
   },
   "cell_type": "code",
   "source": "response.status_code",
   "id": "acf26c3734fac606",
   "execution_count": 8,
   "outputs": []
  },
  {
   "metadata": {
    "ExecuteTime": {
     "end_time": "2024-08-16T16:32:35.793291Z",
     "start_time": "2024-08-16T16:32:35.786850Z"
    }
   },
   "cell_type": "code",
   "source": "response.text",
   "id": "be095dd948229e6a",
   "execution_count": 9,
   "outputs": []
  },
  {
   "metadata": {
    "ExecuteTime": {
     "end_time": "2024-08-17T18:13:04.919144Z",
     "start_time": "2024-08-17T18:13:04.914894Z"
    }
   },
   "cell_type": "code",
   "source": [
    "url ='https://yandex.ru/serch/'\n",
    "param = {'text': 'WEB Парсинг на python'}"
   ],
   "id": "40ae3dab018f20fe",
   "execution_count": 10,
   "outputs": []
  },
  {
   "metadata": {
    "ExecuteTime": {
     "end_time": "2024-08-17T18:13:16.419232Z",
     "start_time": "2024-08-17T18:13:14.804563Z"
    }
   },
   "cell_type": "code",
   "source": "r = requests.get(url, params=param)",
   "id": "e4d6f954b0e3f351",
   "execution_count": 11,
   "outputs": []
  },
  {
   "metadata": {
    "ExecuteTime": {
     "end_time": "2024-08-17T18:13:18.457265Z",
     "start_time": "2024-08-17T18:13:18.449384Z"
    }
   },
   "cell_type": "code",
   "source": "r.status_code",
   "id": "84964075ff50e750",
   "execution_count": 12,
   "outputs": []
  },
  {
   "metadata": {
    "ExecuteTime": {
     "end_time": "2024-08-17T18:13:24.112483Z",
     "start_time": "2024-08-17T18:13:24.105346Z"
    }
   },
   "cell_type": "code",
   "source": "r.text",
   "id": "496303e8976a5f1e",
   "execution_count": 13,
   "outputs": []
  },
  {
   "metadata": {},
   "cell_type": "markdown",
   "source": [
    "#### Прокси proxies=\n",
    "Библиотека Requests предоставляет возможность отправлять запросы, скрывая свой реальный IP-адрес. Зачем скрывать его? Например, при высокочастотных запросах есть риск получить бан."
   ],
   "id": "59fefa450943aceb"
  },
  {
   "metadata": {
    "ExecuteTime": {
     "end_time": "2024-08-18T09:28:02.941156Z",
     "start_time": "2024-08-18T09:28:02.936203Z"
    }
   },
   "cell_type": "code",
   "source": [
    "url = 'http://httpbin.org/ip'\n",
    "proxy = {'http': 'http://51.89.255.67:80'}"
   ],
   "id": "11b38d92d2d73703",
   "execution_count": 3,
   "outputs": []
  },
  {
   "metadata": {
    "ExecuteTime": {
     "end_time": "2024-08-18T09:28:26.145266Z",
     "start_time": "2024-08-18T09:28:25.355888Z"
    }
   },
   "cell_type": "code",
   "source": "r = requests.get(url, proxies=proxy)",
   "id": "ad42c14de95ec134",
   "execution_count": 4,
   "outputs": []
  },
  {
   "metadata": {
    "ExecuteTime": {
     "end_time": "2024-08-18T09:28:28.773141Z",
     "start_time": "2024-08-18T09:28:28.764407Z"
    }
   },
   "cell_type": "code",
   "source": "r.status_code",
   "id": "73c08642f052b3df",
   "execution_count": 5,
   "outputs": []
  },
  {
   "metadata": {
    "ExecuteTime": {
     "end_time": "2024-08-18T09:28:32.644978Z",
     "start_time": "2024-08-18T09:28:32.636960Z"
    }
   },
   "cell_type": "code",
   "source": "r.text",
   "id": "36ae95cc4a43478d",
   "execution_count": 6,
   "outputs": []
  },
  {
   "metadata": {},
   "cell_type": "markdown",
   "source": [
    "### Библиотека fake_useragent\n",
    "Библиотека fake_useragent предоставляет удобный и эффективный способ для генерации фейковых значений User-Agent, что особенно полезно в задачах веб-скрапинга и автоматизации. Она облегчает процесс маскировки вашего скрипта под обычного пользователя, минимизируя риск блокировки со стороны сервера."
   ],
   "id": "4d4351dc5e4893aa"
  },
  {
   "metadata": {
    "ExecuteTime": {
     "end_time": "2024-08-18T13:21:06.604630Z",
     "start_time": "2024-08-18T13:21:06.583349Z"
    }
   },
   "cell_type": "code",
   "source": "from fake_useragent import UserAgent",
   "id": "ebe8de286dc983d9",
   "execution_count": 7,
   "outputs": []
  },
  {
   "metadata": {
    "ExecuteTime": {
     "end_time": "2024-08-18T13:21:18.055631Z",
     "start_time": "2024-08-18T13:21:18.049867Z"
    }
   },
   "cell_type": "code",
   "source": "ua = UserAgent()",
   "id": "61f7361f5f4e6375",
   "execution_count": 8,
   "outputs": []
  },
  {
   "metadata": {
    "ExecuteTime": {
     "end_time": "2024-08-18T13:21:53.422341Z",
     "start_time": "2024-08-18T13:21:53.416604Z"
    }
   },
   "cell_type": "code",
   "source": "ua.random",
   "id": "8d186d1f2a40962e",
   "execution_count": 11,
   "outputs": []
  },
  {
   "metadata": {
    "ExecuteTime": {
     "end_time": "2024-08-18T13:31:56.694580Z",
     "start_time": "2024-08-18T13:31:56.688559Z"
    }
   },
   "cell_type": "code",
   "source": "dir(ua)  # посмотреть аргументы экземпляра класса ()",
   "id": "8a5a2f9b5908f31f",
   "execution_count": 15,
   "outputs": []
  },
  {
   "metadata": {},
   "cell_type": "markdown",
   "source": "### Загрузка видео с помощью библиотеки requests",
   "id": "932d6f757cdea75"
  },
  {
   "metadata": {
    "ExecuteTime": {
     "end_time": "2024-08-18T19:15:28.163040Z",
     "start_time": "2024-08-18T19:15:28.160291Z"
    }
   },
   "cell_type": "code",
   "source": "url = 'https://parsinger.ru/video_downloads/videoplayback.mp4'",
   "id": "1b28e75c6113f65e",
   "execution_count": 22,
   "outputs": []
  },
  {
   "metadata": {
    "ExecuteTime": {
     "end_time": "2024-08-18T19:15:30.618718Z",
     "start_time": "2024-08-18T19:15:29.554809Z"
    }
   },
   "cell_type": "code",
   "source": "r = requests.get(url, stream=True)",
   "id": "3a6f858f42ad165f",
   "execution_count": 23,
   "outputs": []
  },
  {
   "metadata": {
    "ExecuteTime": {
     "end_time": "2024-08-18T19:15:31.535879Z",
     "start_time": "2024-08-18T19:15:31.528185Z"
    }
   },
   "cell_type": "code",
   "source": "r.status_code",
   "id": "baee4b876c064b48",
   "execution_count": 24,
   "outputs": []
  },
  {
   "metadata": {
    "ExecuteTime": {
     "end_time": "2024-08-18T19:18:14.945381Z",
     "start_time": "2024-08-18T19:18:14.917308Z"
    }
   },
   "cell_type": "code",
   "source": [
    "with open('file.mp4', 'wb') as f:\n",
    "    f.write(r.content)"
   ],
   "id": "edd87be6adb34aff",
   "execution_count": 26,
   "outputs": []
  },
  {
   "metadata": {},
   "cell_type": "markdown",
   "source": [
    "## 3.4\n",
    "Содержимое ответа  response  .json() .text .content"
   ],
   "id": "9502208a76a0f5cd"
  },
  {
   "metadata": {
    "ExecuteTime": {
     "end_time": "2024-09-10T07:53:27.956567Z",
     "start_time": "2024-09-10T07:53:27.913888Z"
    }
   },
   "cell_type": "code",
   "source": "import requests",
   "id": "b1319ab43726ccb4",
   "execution_count": 1,
   "outputs": []
  },
  {
   "metadata": {
    "ExecuteTime": {
     "end_time": "2024-09-09T08:21:57.280577Z",
     "start_time": "2024-09-09T08:21:56.954263Z"
    }
   },
   "cell_type": "code",
   "source": [
    "# JSON\n",
    "r = requests.get(url='https://jsonplaceholder.typicode.com/todos/')"
   ],
   "id": "207e543b437de316",
   "execution_count": 4,
   "outputs": []
  },
  {
   "metadata": {
    "ExecuteTime": {
     "end_time": "2024-09-09T08:22:45.708073Z",
     "start_time": "2024-09-09T08:22:45.705211Z"
    }
   },
   "cell_type": "code",
   "source": [
    "print(type(r.text))\n",
    "print(type(r.json()))"
   ],
   "id": "2c0fdfbd681c98db",
   "execution_count": 9,
   "outputs": []
  },
  {
   "metadata": {
    "jupyter": {
     "is_executing": true
    },
    "ExecuteTime": {
     "start_time": "2024-09-09T08:28:47.810455Z"
    }
   },
   "cell_type": "code",
   "source": [
    "# CONTENT\n",
    "'''\n",
    "Свойство response.content предоставляет ответ сервера в виде байтовой строки. В отличие от response.text, который возвращает строку, и response.json(), который возвращает объект словарь или список, response.content предоставляет \"сырые\" байты ответа.\n",
    "'''\n",
    "response = requests.get(url='http://httpbin.org/image/jpeg')\n",
    "with open('image.jpeg', 'wb') as file:\n",
    "    file.write(response.content)"
   ],
   "id": "d8ea63af857b0aad",
   "execution_count": null,
   "outputs": []
  },
  {
   "metadata": {
    "ExecuteTime": {
     "end_time": "2024-09-10T07:53:53.356147Z",
     "start_time": "2024-09-10T07:53:53.352797Z"
    }
   },
   "cell_type": "code",
   "source": "url='http://httpbin.org/image/jpeg'",
   "id": "9da859a781d0c5a4",
   "execution_count": 2,
   "outputs": []
  },
  {
   "metadata": {
    "ExecuteTime": {
     "end_time": "2024-09-10T07:56:01.549237Z",
     "start_time": "2024-09-10T07:54:18.599186Z"
    }
   },
   "cell_type": "code",
   "source": [
    "r = requests.get(url)\n",
    "r.status_code"
   ],
   "id": "152a130eca5b6188",
   "execution_count": 3,
   "outputs": []
  },
  {
   "metadata": {},
   "cell_type": "markdown",
   "source": [
    "Когда использовать response.content?\n",
    "\n",
    "    Бинарные файлы: Если вам нужно скачать или обработать бинарные файлы (изображения, аудио, видео и т. д.), \n",
    "    response.content будет оптимальным выбором.\n",
    "    Специфическая обработка данных: Если вы хотите самостоятельно обработать \"сырые\" байты, например, для \n",
    "    кастомной декодировки или преобразования.\n",
    "    Дебаггинг: Когда важно увидеть \"сырой\" ответ от сервера без какой-либо обработки.\n"
   ],
   "id": "1715894250b849d"
  },
  {
   "metadata": {},
   "cell_type": "code",
   "execution_count": null,
   "source": "",
   "id": "1876f0f6ecc6b7e9",
   "outputs": []
  }
 ],
 "metadata": {
  "kernelspec": {
   "display_name": "Python 3",
   "language": "python",
   "name": "python3"
  },
  "language_info": {
   "codemirror_mode": {
    "name": "ipython",
    "version": 2
   },
   "file_extension": ".py",
   "mimetype": "text/x-python",
   "name": "python",
   "nbconvert_exporter": "python",
   "pygments_lexer": "ipython2",
   "version": "2.7.6"
  }
 },
 "nbformat": 4,
 "nbformat_minor": 5
}
